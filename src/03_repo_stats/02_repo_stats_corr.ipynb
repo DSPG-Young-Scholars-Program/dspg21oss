{
 "cells": [
  {
   "cell_type": "markdown",
   "metadata": {},
   "source": [
    "# Repo stats correlation"
   ]
  },
  {
   "cell_type": "markdown",
   "metadata": {},
   "source": [
    "Crystal"
   ]
  },
  {
   "cell_type": "code",
   "execution_count": 9,
   "metadata": {},
   "outputs": [],
   "source": [
    "import pandas as pd\n",
    "import numpy as np\n",
    "# generate related variables\n",
    "from numpy import mean\n",
    "from numpy import std\n",
    "from numpy.random import randn\n",
    "from numpy.random import seed\n",
    "from matplotlib import pyplot"
   ]
  },
  {
   "cell_type": "code",
   "execution_count": 3,
   "metadata": {},
   "outputs": [],
   "source": [
    "df = pd.read_csv('/home/zz3hs/git/dspg21oss/data/dspg21oss/repo_stats_0707.csv') #import csv\n"
   ]
  },
  {
   "cell_type": "code",
   "execution_count": 4,
   "metadata": {},
   "outputs": [
    {
     "data": {
      "text/html": [
       "<div>\n",
       "<style scoped>\n",
       "    .dataframe tbody tr th:only-of-type {\n",
       "        vertical-align: middle;\n",
       "    }\n",
       "\n",
       "    .dataframe tbody tr th {\n",
       "        vertical-align: top;\n",
       "    }\n",
       "\n",
       "    .dataframe thead th {\n",
       "        text-align: right;\n",
       "    }\n",
       "</style>\n",
       "<table border=\"1\" class=\"dataframe\">\n",
       "  <thead>\n",
       "    <tr style=\"text-align: right;\">\n",
       "      <th></th>\n",
       "      <th>forks</th>\n",
       "      <th>slug</th>\n",
       "      <th>stars</th>\n",
       "      <th>topics</th>\n",
       "      <th>watchers</th>\n",
       "    </tr>\n",
       "  </thead>\n",
       "  <tbody>\n",
       "    <tr>\n",
       "      <th>0</th>\n",
       "      <td>0.0</td>\n",
       "      <td>eevvnnxx/catuserbot</td>\n",
       "      <td>0.0</td>\n",
       "      <td>[]</td>\n",
       "      <td>1.0</td>\n",
       "    </tr>\n",
       "    <tr>\n",
       "      <th>1</th>\n",
       "      <td>0.0</td>\n",
       "      <td>voxsim/badook</td>\n",
       "      <td>1.0</td>\n",
       "      <td>[]</td>\n",
       "      <td>0.0</td>\n",
       "    </tr>\n",
       "    <tr>\n",
       "      <th>2</th>\n",
       "      <td>0.0</td>\n",
       "      <td>ProofPilot/PP-Frontend</td>\n",
       "      <td>0.0</td>\n",
       "      <td>[]</td>\n",
       "      <td>6.0</td>\n",
       "    </tr>\n",
       "    <tr>\n",
       "      <th>3</th>\n",
       "      <td>2.0</td>\n",
       "      <td>TransComics/TransBubbles</td>\n",
       "      <td>1.0</td>\n",
       "      <td>[]</td>\n",
       "      <td>4.0</td>\n",
       "    </tr>\n",
       "    <tr>\n",
       "      <th>4</th>\n",
       "      <td>88.0</td>\n",
       "      <td>Astrotomic/laravel-translatable</td>\n",
       "      <td>712.0</td>\n",
       "      <td>['laravel', 'translation', 'eloquent', 'databa...</td>\n",
       "      <td>14.0</td>\n",
       "    </tr>\n",
       "    <tr>\n",
       "      <th>...</th>\n",
       "      <td>...</td>\n",
       "      <td>...</td>\n",
       "      <td>...</td>\n",
       "      <td>...</td>\n",
       "      <td>...</td>\n",
       "    </tr>\n",
       "    <tr>\n",
       "      <th>217307</th>\n",
       "      <td>2.0</td>\n",
       "      <td>grendio/XBottomSheet</td>\n",
       "      <td>32.0</td>\n",
       "      <td>['xamarin', 'xamarin-android', 'mvvmcross', 'x...</td>\n",
       "      <td>3.0</td>\n",
       "    </tr>\n",
       "    <tr>\n",
       "      <th>217308</th>\n",
       "      <td>0.0</td>\n",
       "      <td>tempio-della-grande-madre/grande-madre</td>\n",
       "      <td>0.0</td>\n",
       "      <td>[]</td>\n",
       "      <td>1.0</td>\n",
       "    </tr>\n",
       "    <tr>\n",
       "      <th>217309</th>\n",
       "      <td>3.0</td>\n",
       "      <td>dirkdeyne/zk-spring-boot-starter</td>\n",
       "      <td>4.0</td>\n",
       "      <td>['spring-boot', 'zk-framework', 'demo']</td>\n",
       "      <td>1.0</td>\n",
       "    </tr>\n",
       "    <tr>\n",
       "      <th>217310</th>\n",
       "      <td>4.0</td>\n",
       "      <td>spider-gazelle/bindata</td>\n",
       "      <td>35.0</td>\n",
       "      <td>[]</td>\n",
       "      <td>7.0</td>\n",
       "    </tr>\n",
       "    <tr>\n",
       "      <th>217311</th>\n",
       "      <td>1.0</td>\n",
       "      <td>jenkinsci/osf-builder-suite-for-sfcc-deploy-pl...</td>\n",
       "      <td>13.0</td>\n",
       "      <td>['jenkins', 'jenkins-ci', 'jenkins-plugin', 'j...</td>\n",
       "      <td>5.0</td>\n",
       "    </tr>\n",
       "  </tbody>\n",
       "</table>\n",
       "<p>217312 rows × 5 columns</p>\n",
       "</div>"
      ],
      "text/plain": [
       "        forks                                               slug  stars  \\\n",
       "0         0.0                                eevvnnxx/catuserbot    0.0   \n",
       "1         0.0                                      voxsim/badook    1.0   \n",
       "2         0.0                             ProofPilot/PP-Frontend    0.0   \n",
       "3         2.0                           TransComics/TransBubbles    1.0   \n",
       "4        88.0                    Astrotomic/laravel-translatable  712.0   \n",
       "...       ...                                                ...    ...   \n",
       "217307    2.0                               grendio/XBottomSheet   32.0   \n",
       "217308    0.0             tempio-della-grande-madre/grande-madre    0.0   \n",
       "217309    3.0                   dirkdeyne/zk-spring-boot-starter    4.0   \n",
       "217310    4.0                             spider-gazelle/bindata   35.0   \n",
       "217311    1.0  jenkinsci/osf-builder-suite-for-sfcc-deploy-pl...   13.0   \n",
       "\n",
       "                                                   topics  watchers  \n",
       "0                                                      []       1.0  \n",
       "1                                                      []       0.0  \n",
       "2                                                      []       6.0  \n",
       "3                                                      []       4.0  \n",
       "4       ['laravel', 'translation', 'eloquent', 'databa...      14.0  \n",
       "...                                                   ...       ...  \n",
       "217307  ['xamarin', 'xamarin-android', 'mvvmcross', 'x...       3.0  \n",
       "217308                                                 []       1.0  \n",
       "217309            ['spring-boot', 'zk-framework', 'demo']       1.0  \n",
       "217310                                                 []       7.0  \n",
       "217311  ['jenkins', 'jenkins-ci', 'jenkins-plugin', 'j...       5.0  \n",
       "\n",
       "[217312 rows x 5 columns]"
      ]
     },
     "execution_count": 4,
     "metadata": {},
     "output_type": "execute_result"
    }
   ],
   "source": [
    "df"
   ]
  },
  {
   "cell_type": "code",
   "execution_count": 13,
   "metadata": {},
   "outputs": [
    {
     "name": "stdout",
     "output_type": "stream",
     "text": [
      "Peason's correlation: 0.8167458201003595\n"
     ]
    },
    {
     "data": {
      "image/png": "[encoded data removed]",
      "text/plain": [
       "<Figure size 432x288 with 1 Axes>"
      ]
     },
     "metadata": {
      "needs_background": "light"
     },
     "output_type": "display_data"
    }
   ],
   "source": [
    "# Forks vs stars\n",
    "r = np.corrcoef(df[\"forks\"], df[\"stars\"])\n",
    "print(\"Peason's correlation:\", r[0,1])\n",
    "pyplot.scatter(df[\"forks\"], df[\"stars\"])\n",
    "pyplot.xlabel(\"forks\")\n",
    "pyplot.ylabel(\"stars\")\n",
    "pyplot.show()"
   ]
  },
  {
   "cell_type": "code",
   "execution_count": 15,
   "metadata": {},
   "outputs": [
    {
     "name": "stdout",
     "output_type": "stream",
     "text": [
      "Peason's correlation between stars and watchers: 0.8541447058342763\n"
     ]
    },
    {
     "data": {
      "image/png": "[encoded data removed]",
      "text/plain": [
       "<Figure size 432x288 with 1 Axes>"
      ]
     },
     "metadata": {
      "needs_background": "light"
     },
     "output_type": "display_data"
    }
   ],
   "source": [
    "# stars vs watchers\n",
    "r = np.corrcoef(df[\"stars\"], df[\"watchers\"])\n",
    "print(\"Peason's correlation between stars and watchers:\", r[0,1])\n",
    "pyplot.scatter(df[\"stars\"], df[\"watchers\"])\n",
    "pyplot.xlabel(\"stars\")\n",
    "pyplot.ylabel(\"watchers\")\n",
    "pyplot.show()"
   ]
  },
  {
   "cell_type": "code",
   "execution_count": 16,
   "metadata": {},
   "outputs": [
    {
     "name": "stdout",
     "output_type": "stream",
     "text": [
      "Peason's correlation between watchers and forks: 0.8394335455138852\n"
     ]
    },
    {
     "data": {
      "image/png": "[encoded data removed]",
      "text/plain": [
       "<Figure size 432x288 with 1 Axes>"
      ]
     },
     "metadata": {
      "needs_background": "light"
     },
     "output_type": "display_data"
    }
   ],
   "source": [
    "# watchers vs forks\n",
    "r = np.corrcoef(df[\"watchers\"], df[\"forks\"])\n",
    "print(\"Peason's correlation between watchers and forks:\", r[0,1])\n",
    "pyplot.scatter(df[\"watchers\"], df[\"forks\"])\n",
    "pyplot.xlabel(\"watchers\")\n",
    "pyplot.ylabel(\"forks\")\n",
    "pyplot.show()"
   ]
  }
 ],
 "metadata": {
  "kernelspec": {
   "display_name": "Python [conda env:.conda-crystal]",
   "language": "python",
   "name": "conda-env-.conda-crystal-py"
  },
  "language_info": {
   "codemirror_mode": {
    "name": "ipython",
    "version": 3
   },
   "file_extension": ".py",
   "mimetype": "text/x-python",
   "name": "python",
   "nbconvert_exporter": "python",
   "pygments_lexer": "ipython3",
   "version": "3.7.9"
  }
 },
 "nbformat": 4,
 "nbformat_minor": 4
}
