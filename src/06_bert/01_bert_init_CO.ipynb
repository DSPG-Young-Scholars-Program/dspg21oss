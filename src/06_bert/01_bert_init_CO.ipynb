{
 "cells": [
  {
   "cell_type": "markdown",
   "metadata": {},
   "source": [
    "# BERT on Repo Description"
   ]
  },
  {
   "cell_type": "markdown",
   "metadata": {},
   "source": [
    "1. Construct a sentence corpus for each software type using labeled/manually validated repo descriptions\n",
    "2. Calculate embeddingfor each corpus\n",
    "3. Compare all repo description with each software type corpus using cosine-similarity score\n",
    "    - It took about 1.5 hrs to run the embedding on repo data"
   ]
  },
  {
   "cell_type": "markdown",
   "metadata": {},
   "source": [
    "Author: Cierra and Crystal"
   ]
  },
  {
   "cell_type": "code",
   "execution_count": null,
   "metadata": {},
   "outputs": [],
   "source": [
    "%reset"
   ]
  },
  {
   "cell_type": "code",
   "execution_count": 1,
   "metadata": {},
   "outputs": [
    {
     "name": "stderr",
     "output_type": "stream",
     "text": [
      "[nltk_data] Downloading package punkt to /home/dab3dj/nltk_data...\n",
      "[nltk_data]   Package punkt is already up-to-date!\n"
     ]
    }
   ],
   "source": [
    "#pgadmin\n",
    "import os\n",
    "import psycopg2 as pg\n",
    "\n",
    "\n",
    "#bert\n",
    "from sentence_transformers import SentenceTransformer, util\n",
    "import torch\n",
    "\n",
    "import pandas as pd\n",
    "\n",
    "import re\n",
    "\n",
    "import nltk\n",
    "nltk.download(\"punkt\")\n",
    "\n",
    "from nltk import tokenize\n",
    "\n",
    "import scipy\n",
    "\n",
    "import datetime\n",
    "\n",
    "import math"
   ]
  },
  {
   "cell_type": "markdown",
   "metadata": {},
   "source": [
    "# Embedding Model"
   ]
  },
  {
   "cell_type": "code",
   "execution_count": 7,
   "metadata": {},
   "outputs": [
    {
     "data": {
      "text/plain": [
       "1"
      ]
     },
     "execution_count": 7,
     "metadata": {},
     "output_type": "execute_result"
    }
   ],
   "source": [
    "# test cuda set up\n",
    "\n",
    "import torch\n",
    "torch.cuda.is_available()\n",
    "#This should return True\n",
    "torch.cuda.current_device()\n",
    "# #There should be a number here\n",
    "torch.cuda.device(0)\n",
    "# #There should be <torch.cuda.device at 0x7efce0b03be0>\n",
    "torch.cuda.device_count()\n",
    "# #This should be 2 I guess"
   ]
  },
  {
   "cell_type": "code",
   "execution_count": 20,
   "metadata": {},
   "outputs": [],
   "source": [
    "#embedder = SentenceTransformer('paraphrase-MiniLM-L6-v2') #quicker model\n",
    "embedder = SentenceTransformer('paraphrase-mpnet-base-v2', device='cpu') #most accurate, long run time"
   ]
  },
  {
   "cell_type": "markdown",
   "metadata": {},
   "source": [
    "# Data"
   ]
  },
  {
   "cell_type": "markdown",
   "metadata": {},
   "source": [
    "## I. Unlabelled Repo Data"
   ]
  },
  {
   "cell_type": "code",
   "execution_count": 11,
   "metadata": {},
   "outputs": [],
   "source": [
    "repo_data = pd.read_csv(\"~/git/dspg21oss/data/dspg21oss/clean_eng_github_repos_157k.csv\")"
   ]
  },
  {
   "cell_type": "code",
   "execution_count": 12,
   "metadata": {},
   "outputs": [],
   "source": [
    "# get a list of repo descriptions\n",
    "repo_description = repo_data[\"description\"].tolist()"
   ]
  },
  {
   "cell_type": "markdown",
   "metadata": {},
   "source": [
    "## II. Labelled Repo Data -- Software Type Corpus"
   ]
  },
  {
   "cell_type": "code",
   "execution_count": 13,
   "metadata": {},
   "outputs": [],
   "source": [
    "python_data = pd.read_excel('~/git/dspg21oss/data/dspg21oss/labelled_repo/oss_software_labelled_python_sz.xlsx') #import csv\n",
    "c_data = pd.read_excel('~/git/dspg21oss/data/dspg21oss/labelled_repo/oss_software_labelled_c_sz.xlsx')\n",
    "java_data = pd.read_excel('~/git/dspg21oss/data/dspg21oss/labelled_repo/oss_software_labelled_java_sz.xlsx')"
   ]
  },
  {
   "cell_type": "code",
   "execution_count": 14,
   "metadata": {},
   "outputs": [],
   "source": [
    "# software type\n",
    "type_name =  \"python_label\"\n",
    "# filter 500 validated repos that are labelled 1 (numeric)\n",
    "corpus_type_i = python_data[python_data[type_name] ==1][[\"slug\",type_name]]\n",
    "\n",
    "# perform a left merge to get cleaned repo description\n",
    "corpus_type_i = corpus_type_i.merge(repo_data, on='slug', how='left')\n",
    "# get just the description\n",
    "corpus_type_i = corpus_type_i[\"description\"].tolist()"
   ]
  },
  {
   "cell_type": "code",
   "execution_count": 38,
   "metadata": {},
   "outputs": [],
   "source": [
    "validated_data = pd.read_csv('~/git/dspg21oss/data/dspg21oss/oss_software_labelled.csv') #import csv"
   ]
  },
  {
   "cell_type": "markdown",
   "metadata": {},
   "source": [
    "# Embedding "
   ]
  },
  {
   "cell_type": "code",
   "execution_count": 73,
   "metadata": {},
   "outputs": [],
   "source": [
    "# get embeddings for full list of unvalidated repo descriptions\n",
    "\n",
    "queries = repo_description\n",
    "\n",
    "query_embeddings = []\n",
    "\n",
    "for query in queries: \n",
    "    #Compute embeddings\n",
    "    embedding = embedder.encode(query, show_progress_bar=False, convert_to_tensor=True) \n",
    "    query_embeddings.append(embedding)\n"
   ]
  },
  {
   "cell_type": "code",
   "execution_count": null,
   "metadata": {},
   "outputs": [
    {
     "name": "stdout",
     "output_type": "stream",
     "text": [
      "Start: 2021-07-26 17:09:26.684372\n",
      "type  ai_label :  2021-07-26 17:09:27.225207\n"
     ]
    }
   ],
   "source": [
    "types = ['ai_label', 'blockchain_label','clang_label', 'database_label',\n",
    "         'dataviz_label','java_label','javascript_label','php_label','python_label']\n",
    "\n",
    "# pre-specified number of sentences\n",
    "num_sentences = 10 #find 10 most similar sentences from the corpus\n",
    "\n",
    "# print start time\n",
    "t1 = datetime.datetime.now()\n",
    "print(\"Start:\", t1)\n",
    "\n",
    "# for each software type\n",
    "for sw in types:\n",
    "    # init a result list for scores\n",
    "    result = []\n",
    "    \n",
    "    # grab the repos validated as sw type\n",
    "    corpus_type = validated_data[validated_data[sw]==1][[\"slug\",sw]]\n",
    "    # left merge to get clean repo\n",
    "    corpus_type = corpus_type.merge(repo_data, on='slug', how='left')\n",
    "    # get just the description\n",
    "    corpus_type = corpus_type[\"description\"].tolist()\n",
    "    # get rid of floats\n",
    "    corpus_type = [x for x in corpus_type if type(x) == str]\n",
    "    \n",
    "    corpus_type_embeddings = embedder.encode(corpus_type, show_progress_bar=False)\n",
    "    \n",
    "    # print time for each type\n",
    "    t2 = datetime.datetime.now()\n",
    "    print(\"type \", sw,\": \", t2)\n",
    "    \n",
    "    # for each unvalided repo query embedding \n",
    "    for query_embedding in query_embeddings:\n",
    "        # use cosine-similarity and torch.topk to find the highest k scores\n",
    "        cos_scores = util.pytorch_cos_sim(query_embedding, corpus_type_embeddings)[0]\n",
    "\n",
    "        top_results = torch.topk(cos_scores, k=num_sentences)   #get the top k scores\n",
    "        result.append(top_results.values.tolist()) #unlist the top result list\n",
    "    \n",
    "    # add results to repo_data\n",
    "    result_col = sw.replace(\"label\",\"sim_score\")\n",
    "    repo_data[result_col] = result\n",
    "    \n",
    "t3 =  datetime.datetime.now()\n",
    "print(\"Finished\", len(result), \"descriptions at\", t3)\n",
    "print(\"It took\", t3-t1, \"to run.\")"
   ]
  },
  {
   "cell_type": "code",
   "execution_count": null,
   "metadata": {},
   "outputs": [],
   "source": [
    "#save csv\n",
    "repo_data.to_csv(r'/home/dab3dj/git/dspg21oss/data/dspg21oss/full_repo_sim_scores_co.csv', index = False)   \n"
   ]
  },
  {
   "cell_type": "markdown",
   "metadata": {},
   "source": [
    "# Similarity Score Analysis"
   ]
  },
  {
   "cell_type": "code",
   "execution_count": 7,
   "metadata": {},
   "outputs": [],
   "source": [
    "from scipy import stats\n",
    "from scipy.stats import skew\n",
    "import statistics #calculate mean and others"
   ]
  },
  {
   "cell_type": "code",
   "execution_count": 3,
   "metadata": {},
   "outputs": [],
   "source": [
    "#read in data\n",
    "repo_data = pd.read_csv('/home/dab3dj/git/dspg21oss/data/dspg21oss/full_repo_sim_scores_co.csv')   \n"
   ]
  },
  {
   "cell_type": "code",
   "execution_count": null,
   "metadata": {},
   "outputs": [],
   "source": [
    "repo_data.head()"
   ]
  },
  {
   "cell_type": "code",
   "execution_count": 8,
   "metadata": {},
   "outputs": [],
   "source": [
    "# save copy of original j in case\n",
    "repo_data_copy = repo_data\n",
    "\n",
    "# list of sim score columns\n",
    "score_cols = [\"ai_sim_score\", \"blockchain_sim_score\", 'clang_sim_score', 'database_sim_score', 'dataviz_sim_score',\n",
    "       'java_sim_score', 'javascript_sim_score', 'php_sim_score','python_sim_score']"
   ]
  },
  {
   "cell_type": "code",
   "execution_count": 9,
   "metadata": {},
   "outputs": [],
   "source": [
    "# change string of scores to list of scores\n",
    "for col in score_cols:\n",
    "    #score is in a string, convert to a list, also make sure the numbers are float\n",
    "    score_ls = repo_data[col]\n",
    "\n",
    "    score_ls_float = []\n",
    "    for sentence_score in score_ls:\n",
    "        sentence_score = str(sentence_score)[1:-1]\n",
    "        sentence_score = sentence_score.split(\",\")\n",
    "        item_float= []\n",
    "        for item in sentence_score:\n",
    "            item_float.append(float(item))\n",
    "        score_ls_float.append(item_float)\n",
    "\n",
    "    #new_col = col + \"_float\"\n",
    "    repo_data[col] = score_ls_float"
   ]
  },
  {
   "cell_type": "code",
   "execution_count": 10,
   "metadata": {},
   "outputs": [],
   "source": [
    "# score stats\n",
    "\n",
    "# for each col\n",
    "for col in score_cols:\n",
    "    \n",
    "    score_ls = repo_data[col]\n",
    "    \n",
    "    # get stats\n",
    "    mean_score= []\n",
    "    range_score = []\n",
    "    max_score = []\n",
    "    median_score = []\n",
    "    skewness_score = []\n",
    "    for sentence_score in score_ls:\n",
    "        mean_score.append(statistics.mean(sentence_score))\n",
    "        range_score.append(max(sentence_score)- min(sentence_score))\n",
    "        max_score.append(max(sentence_score))\n",
    "        median_score.append(statistics.median(sentence_score))\n",
    "        skewness_score.append(stats.skew(sentence_score))\n",
    "    \n",
    "    # save stat columns\n",
    "    col_name = col.replace(\"sim_score\",\"\")\n",
    "    repo_data[col_name+\"_mean_score\"]=mean_score\n",
    "    repo_data[col_name+\"range_score\"]=range_score\n",
    "    repo_data[col_name+\"max_score\"]=max_score\n",
    "    repo_data[col_name+\"median_score\"]=median_score\n",
    "    repo_data[col_name+\"skewness_score\"]=skewness_score"
   ]
  },
  {
   "cell_type": "code",
   "execution_count": 11,
   "metadata": {},
   "outputs": [
    {
     "data": {
      "text/html": [
       "<div>\n",
       "<style scoped>\n",
       "    .dataframe tbody tr th:only-of-type {\n",
       "        vertical-align: middle;\n",
       "    }\n",
       "\n",
       "    .dataframe tbody tr th {\n",
       "        vertical-align: top;\n",
       "    }\n",
       "\n",
       "    .dataframe thead th {\n",
       "        text-align: right;\n",
       "    }\n",
       "</style>\n",
       "<table border=\"1\" class=\"dataframe\">\n",
       "  <thead>\n",
       "    <tr style=\"text-align: right;\">\n",
       "      <th></th>\n",
       "      <th>slug</th>\n",
       "      <th>description</th>\n",
       "      <th>ai_sim_score</th>\n",
       "      <th>blockchain_sim_score</th>\n",
       "      <th>clang_sim_score</th>\n",
       "      <th>database_sim_score</th>\n",
       "      <th>dataviz_sim_score</th>\n",
       "      <th>java_sim_score</th>\n",
       "      <th>javascript_sim_score</th>\n",
       "      <th>php_sim_score</th>\n",
       "      <th>...</th>\n",
       "      <th>php__mean_score</th>\n",
       "      <th>php_range_score</th>\n",
       "      <th>php_max_score</th>\n",
       "      <th>php_median_score</th>\n",
       "      <th>php_skewness_score</th>\n",
       "      <th>python__mean_score</th>\n",
       "      <th>python_range_score</th>\n",
       "      <th>python_max_score</th>\n",
       "      <th>python_median_score</th>\n",
       "      <th>python_skewness_score</th>\n",
       "    </tr>\n",
       "  </thead>\n",
       "  <tbody>\n",
       "    <tr>\n",
       "      <th>0</th>\n",
       "      <td>vuejs/vue</td>\n",
       "      <td>Vue js is a progressive  incrementally adopt...</td>\n",
       "      <td>[0.38483116030693054, 0.34321022033691406, 0.3...</td>\n",
       "      <td>[0.3770439028739929, 0.37109243869781494, 0.36...</td>\n",
       "      <td>[0.4809216260910034, 0.42691099643707275, 0.42...</td>\n",
       "      <td>[0.3832893371582031, 0.38218772411346436, 0.38...</td>\n",
       "      <td>[0.6460678577423096, 0.47009673714637756, 0.46...</td>\n",
       "      <td>[0.45489370822906494, 0.3935528099536896, 0.37...</td>\n",
       "      <td>[0.6812090873718262, 0.5953835844993591, 0.560...</td>\n",
       "      <td>[0.43424174189567566, 0.43411487340927124, 0.4...</td>\n",
       "      <td>...</td>\n",
       "      <td>0.376956</td>\n",
       "      <td>0.113091</td>\n",
       "      <td>0.434242</td>\n",
       "      <td>0.388413</td>\n",
       "      <td>-0.080969</td>\n",
       "      <td>0.402169</td>\n",
       "      <td>0.091767</td>\n",
       "      <td>0.453040</td>\n",
       "      <td>0.402336</td>\n",
       "      <td>0.328891</td>\n",
       "    </tr>\n",
       "    <tr>\n",
       "      <th>1</th>\n",
       "      <td>facebook/react</td>\n",
       "      <td>A declarative  efficient  and flexible JavaScr...</td>\n",
       "      <td>[0.40412580966949463, 0.40174245834350586, 0.3...</td>\n",
       "      <td>[0.4677104353904724, 0.4392547011375427, 0.383...</td>\n",
       "      <td>[0.5760725140571594, 0.5097417235374451, 0.488...</td>\n",
       "      <td>[0.49702656269073486, 0.45085686445236206, 0.4...</td>\n",
       "      <td>[0.5633409023284912, 0.5507672429084778, 0.506...</td>\n",
       "      <td>[0.5418217182159424, 0.5393773317337036, 0.452...</td>\n",
       "      <td>[1.0000003576278687, 0.763877272605896, 0.6752...</td>\n",
       "      <td>[0.5178160071372986, 0.48840513825416565, 0.47...</td>\n",
       "      <td>...</td>\n",
       "      <td>0.420226</td>\n",
       "      <td>0.176267</td>\n",
       "      <td>0.517816</td>\n",
       "      <td>0.425113</td>\n",
       "      <td>0.077832</td>\n",
       "      <td>0.510649</td>\n",
       "      <td>0.108225</td>\n",
       "      <td>0.589151</td>\n",
       "      <td>0.498362</td>\n",
       "      <td>1.435497</td>\n",
       "    </tr>\n",
       "    <tr>\n",
       "      <th>2</th>\n",
       "      <td>tensorflow/tensorflow</td>\n",
       "      <td>An Open Source Machine Learning Framework for ...</td>\n",
       "      <td>[0.6374237537384033, 0.5639429092407227, 0.554...</td>\n",
       "      <td>[0.4424801468849182, 0.4372060000896454, 0.425...</td>\n",
       "      <td>[0.47011685371398926, 0.42693886160850525, 0.4...</td>\n",
       "      <td>[0.49735206365585327, 0.48971667885780334, 0.4...</td>\n",
       "      <td>[0.616600513458252, 0.5324415564537048, 0.4950...</td>\n",
       "      <td>[0.5114375352859497, 0.40726539492607117, 0.40...</td>\n",
       "      <td>[0.5229647755622864, 0.4638928174972534, 0.430...</td>\n",
       "      <td>[0.4243718385696411, 0.36536622047424316, 0.36...</td>\n",
       "      <td>...</td>\n",
       "      <td>0.342346</td>\n",
       "      <td>0.114485</td>\n",
       "      <td>0.424372</td>\n",
       "      <td>0.328773</td>\n",
       "      <td>1.296752</td>\n",
       "      <td>0.598564</td>\n",
       "      <td>0.087771</td>\n",
       "      <td>0.643442</td>\n",
       "      <td>0.586319</td>\n",
       "      <td>0.330979</td>\n",
       "    </tr>\n",
       "    <tr>\n",
       "      <th>3</th>\n",
       "      <td>twbs/bootstrap</td>\n",
       "      <td>The most popular HTML  CSS  and JavaScript fra...</td>\n",
       "      <td>[0.34504151344299316, 0.2958582937717438, 0.27...</td>\n",
       "      <td>[0.3497481048107147, 0.34957581758499146, 0.33...</td>\n",
       "      <td>[0.49070748686790466, 0.47657108306884766, 0.4...</td>\n",
       "      <td>[0.372490257024765, 0.3629458248615265, 0.3476...</td>\n",
       "      <td>[0.40439078211784363, 0.3792816698551178, 0.35...</td>\n",
       "      <td>[0.38311436772346497, 0.3724273443222046, 0.36...</td>\n",
       "      <td>[1.0000003576278687, 0.6907554864883423, 0.591...</td>\n",
       "      <td>[0.42142561078071594, 0.3685976564884186, 0.36...</td>\n",
       "      <td>...</td>\n",
       "      <td>0.350699</td>\n",
       "      <td>0.115130</td>\n",
       "      <td>0.421426</td>\n",
       "      <td>0.346910</td>\n",
       "      <td>0.833566</td>\n",
       "      <td>0.403796</td>\n",
       "      <td>0.123711</td>\n",
       "      <td>0.476278</td>\n",
       "      <td>0.387911</td>\n",
       "      <td>0.533113</td>\n",
       "    </tr>\n",
       "    <tr>\n",
       "      <th>4</th>\n",
       "      <td>ohmyzsh/ohmyzsh</td>\n",
       "      <td>A delightful community driven  with 1700  c...</td>\n",
       "      <td>[0.35356998443603516, 0.3418255150318146, 0.32...</td>\n",
       "      <td>[0.43588021397590637, 0.3517952263355255, 0.34...</td>\n",
       "      <td>[0.38053128123283386, 0.340486079454422, 0.331...</td>\n",
       "      <td>[0.4280346632003784, 0.4265906810760498, 0.423...</td>\n",
       "      <td>[0.47275614738464355, 0.42588570713996887, 0.4...</td>\n",
       "      <td>[0.3862834870815277, 0.3327464759349823, 0.326...</td>\n",
       "      <td>[0.3588447570800781, 0.332401305437088, 0.3097...</td>\n",
       "      <td>[0.42803463339805603, 0.399021178483963, 0.363...</td>\n",
       "      <td>...</td>\n",
       "      <td>0.362576</td>\n",
       "      <td>0.096991</td>\n",
       "      <td>0.428035</td>\n",
       "      <td>0.356334</td>\n",
       "      <td>1.179895</td>\n",
       "      <td>0.423431</td>\n",
       "      <td>0.086344</td>\n",
       "      <td>0.483283</td>\n",
       "      <td>0.412352</td>\n",
       "      <td>1.354862</td>\n",
       "    </tr>\n",
       "  </tbody>\n",
       "</table>\n",
       "<p>5 rows × 56 columns</p>\n",
       "</div>"
      ],
      "text/plain": [
       "                    slug                                        description  \\\n",
       "0              vuejs/vue    Vue js is a progressive  incrementally adopt...   \n",
       "1         facebook/react  A declarative  efficient  and flexible JavaScr...   \n",
       "2  tensorflow/tensorflow  An Open Source Machine Learning Framework for ...   \n",
       "3         twbs/bootstrap  The most popular HTML  CSS  and JavaScript fra...   \n",
       "4        ohmyzsh/ohmyzsh     A delightful community driven  with 1700  c...   \n",
       "\n",
       "                                        ai_sim_score  \\\n",
       "0  [0.38483116030693054, 0.34321022033691406, 0.3...   \n",
       "1  [0.40412580966949463, 0.40174245834350586, 0.3...   \n",
       "2  [0.6374237537384033, 0.5639429092407227, 0.554...   \n",
       "3  [0.34504151344299316, 0.2958582937717438, 0.27...   \n",
       "4  [0.35356998443603516, 0.3418255150318146, 0.32...   \n",
       "\n",
       "                                blockchain_sim_score  \\\n",
       "0  [0.3770439028739929, 0.37109243869781494, 0.36...   \n",
       "1  [0.4677104353904724, 0.4392547011375427, 0.383...   \n",
       "2  [0.4424801468849182, 0.4372060000896454, 0.425...   \n",
       "3  [0.3497481048107147, 0.34957581758499146, 0.33...   \n",
       "4  [0.43588021397590637, 0.3517952263355255, 0.34...   \n",
       "\n",
       "                                     clang_sim_score  \\\n",
       "0  [0.4809216260910034, 0.42691099643707275, 0.42...   \n",
       "1  [0.5760725140571594, 0.5097417235374451, 0.488...   \n",
       "2  [0.47011685371398926, 0.42693886160850525, 0.4...   \n",
       "3  [0.49070748686790466, 0.47657108306884766, 0.4...   \n",
       "4  [0.38053128123283386, 0.340486079454422, 0.331...   \n",
       "\n",
       "                                  database_sim_score  \\\n",
       "0  [0.3832893371582031, 0.38218772411346436, 0.38...   \n",
       "1  [0.49702656269073486, 0.45085686445236206, 0.4...   \n",
       "2  [0.49735206365585327, 0.48971667885780334, 0.4...   \n",
       "3  [0.372490257024765, 0.3629458248615265, 0.3476...   \n",
       "4  [0.4280346632003784, 0.4265906810760498, 0.423...   \n",
       "\n",
       "                                   dataviz_sim_score  \\\n",
       "0  [0.6460678577423096, 0.47009673714637756, 0.46...   \n",
       "1  [0.5633409023284912, 0.5507672429084778, 0.506...   \n",
       "2  [0.616600513458252, 0.5324415564537048, 0.4950...   \n",
       "3  [0.40439078211784363, 0.3792816698551178, 0.35...   \n",
       "4  [0.47275614738464355, 0.42588570713996887, 0.4...   \n",
       "\n",
       "                                      java_sim_score  \\\n",
       "0  [0.45489370822906494, 0.3935528099536896, 0.37...   \n",
       "1  [0.5418217182159424, 0.5393773317337036, 0.452...   \n",
       "2  [0.5114375352859497, 0.40726539492607117, 0.40...   \n",
       "3  [0.38311436772346497, 0.3724273443222046, 0.36...   \n",
       "4  [0.3862834870815277, 0.3327464759349823, 0.326...   \n",
       "\n",
       "                                javascript_sim_score  \\\n",
       "0  [0.6812090873718262, 0.5953835844993591, 0.560...   \n",
       "1  [1.0000003576278687, 0.763877272605896, 0.6752...   \n",
       "2  [0.5229647755622864, 0.4638928174972534, 0.430...   \n",
       "3  [1.0000003576278687, 0.6907554864883423, 0.591...   \n",
       "4  [0.3588447570800781, 0.332401305437088, 0.3097...   \n",
       "\n",
       "                                       php_sim_score  ... php__mean_score  \\\n",
       "0  [0.43424174189567566, 0.43411487340927124, 0.4...  ...        0.376956   \n",
       "1  [0.5178160071372986, 0.48840513825416565, 0.47...  ...        0.420226   \n",
       "2  [0.4243718385696411, 0.36536622047424316, 0.36...  ...        0.342346   \n",
       "3  [0.42142561078071594, 0.3685976564884186, 0.36...  ...        0.350699   \n",
       "4  [0.42803463339805603, 0.399021178483963, 0.363...  ...        0.362576   \n",
       "\n",
       "   php_range_score  php_max_score  php_median_score  php_skewness_score  \\\n",
       "0         0.113091       0.434242          0.388413           -0.080969   \n",
       "1         0.176267       0.517816          0.425113            0.077832   \n",
       "2         0.114485       0.424372          0.328773            1.296752   \n",
       "3         0.115130       0.421426          0.346910            0.833566   \n",
       "4         0.096991       0.428035          0.356334            1.179895   \n",
       "\n",
       "   python__mean_score  python_range_score  python_max_score  \\\n",
       "0            0.402169            0.091767          0.453040   \n",
       "1            0.510649            0.108225          0.589151   \n",
       "2            0.598564            0.087771          0.643442   \n",
       "3            0.403796            0.123711          0.476278   \n",
       "4            0.423431            0.086344          0.483283   \n",
       "\n",
       "   python_median_score  python_skewness_score  \n",
       "0             0.402336               0.328891  \n",
       "1             0.498362               1.435497  \n",
       "2             0.586319               0.330979  \n",
       "3             0.387911               0.533113  \n",
       "4             0.412352               1.354862  \n",
       "\n",
       "[5 rows x 56 columns]"
      ]
     },
     "execution_count": 11,
     "metadata": {},
     "output_type": "execute_result"
    }
   ],
   "source": [
    "repo_data.head()"
   ]
  },
  {
   "cell_type": "code",
   "execution_count": 13,
   "metadata": {},
   "outputs": [],
   "source": [
    "import csv"
   ]
  },
  {
   "cell_type": "code",
   "execution_count": 15,
   "metadata": {},
   "outputs": [],
   "source": [
    "# save csv \n",
    "repo_data.to_csv('/home/dab3dj/git/dspg21oss/data/dspg21oss/repo_sim_scores_stats_co.csv', index = False)"
   ]
  },
  {
   "cell_type": "code",
   "execution_count": 18,
   "metadata": {},
   "outputs": [
    {
     "data": {
      "text/plain": [
       "'[0.38483116030693054, 0.34321022033691406, 0.34321022033691406, 0.3432101905345917, 0.3432101905345917, 0.3432101905345917, 0.3432101905345917, 0.3432101905345917, 0.3432101905345917, 0.31159618496894836]'"
      ]
     },
     "execution_count": 18,
     "metadata": {},
     "output_type": "execute_result"
    }
   ],
   "source": [
    "a = pd.read_csv('/home/dab3dj/git/dspg21oss/data/dspg21oss/repo_sim_scores_stats_co.csv') \n",
    "a['ai_sim_score'][0]"
   ]
  },
  {
   "cell_type": "code",
   "execution_count": 19,
   "metadata": {},
   "outputs": [
    {
     "data": {
      "text/plain": [
       "'['"
      ]
     },
     "execution_count": 19,
     "metadata": {},
     "output_type": "execute_result"
    }
   ],
   "source": [
    "a['ai_sim_score'][0][0]"
   ]
  },
  {
   "cell_type": "code",
   "execution_count": null,
   "metadata": {},
   "outputs": [],
   "source": []
  }
 ],
 "metadata": {
  "kernelspec": {
   "display_name": "Python [conda env:.conda-CO_BERT]",
   "language": "python",
   "name": "conda-env-.conda-CO_BERT-py"
  },
  "language_info": {
   "codemirror_mode": {
    "name": "ipython",
    "version": 3
   },
   "file_extension": ".py",
   "mimetype": "text/x-python",
   "name": "python",
   "nbconvert_exporter": "python",
   "pygments_lexer": "ipython3",
   "version": "3.8.10"
  }
 },
 "nbformat": 4,
 "nbformat_minor": 4
}
