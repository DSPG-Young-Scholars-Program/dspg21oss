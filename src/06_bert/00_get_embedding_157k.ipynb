{
 "cells": [
  {
   "cell_type": "markdown",
   "metadata": {},
   "source": [
    "# Embedding of 157k repo description"
   ]
  },
  {
   "cell_type": "code",
   "execution_count": 1,
   "metadata": {},
   "outputs": [
    {
     "name": "stderr",
     "output_type": "stream",
     "text": [
      "[nltk_data] Downloading package punkt to /home/zz3hs/nltk_data...\n",
      "[nltk_data]   Package punkt is already up-to-date!\n"
     ]
    }
   ],
   "source": [
    "#pgadmin\n",
    "import os\n",
    "import psycopg2 as pg\n",
    "\n",
    "\n",
    "#bert\n",
    "from sentence_transformers import SentenceTransformer, util\n",
    "import torch\n",
    "\n",
    "import pandas as pd\n",
    "import numpy as np\n",
    "\n",
    "import re\n",
    "\n",
    "import nltk\n",
    "nltk.download(\"punkt\")\n",
    "\n",
    "from nltk import tokenize\n",
    "\n",
    "import scipy\n",
    "\n",
    "import datetime"
   ]
  },
  {
   "cell_type": "code",
   "execution_count": null,
   "metadata": {},
   "outputs": [],
   "source": [
    "#embedder = SentenceTransformer('paraphrase-MiniLM-L6-v2') #quicker model\n",
    "embedder = SentenceTransformer('paraphrase-mpnet-base-v2') #most accurate, long run time"
   ]
  },
  {
   "cell_type": "code",
   "execution_count": 2,
   "metadata": {},
   "outputs": [
    {
     "data": {
      "text/plain": [
       "157538"
      ]
     },
     "execution_count": 2,
     "metadata": {},
     "output_type": "execute_result"
    }
   ],
   "source": [
    "repo_data = pd.read_csv(\"/home/zz3hs/git/dspg21oss/data/dspg21oss/clean_github_repos_157k.csv\")\n",
    "len(repo_data)"
   ]
  },
  {
   "cell_type": "code",
   "execution_count": 3,
   "metadata": {},
   "outputs": [
    {
     "name": "stdout",
     "output_type": "stream",
     "text": [
      "['  Vue js is a progressive  incrementally adoptable JavaScript framework for building UI on the web ', 'A declarative  efficient  and flexible JavaScript library for building user interfaces ', 'An Open Source Machine Learning Framework for Everyone', 'The most popular HTML  CSS  and JavaScript framework for developing responsive  mobile first projects on the web ', '   A delightful community driven  with 1700  contributors  framework for managing your zsh configuration  Includes nearly 300 optional plugins  rails  git  OSX  hub  capistrano  brew  ant  php  python  etc   over 140 themes to spice up your morning  and an auto update tool so that makes it easy to keep up with the latest updates from the community ', 'Flutter makes it easy and fast to build beautiful apps for mobile and beyond ', '  Algorithms and data structures implemented in JavaScript with explanations and links to further readings', 'JavaScript Style Guide', 'All Algorithms implemented in Python', ' Java   Java   Java   JavaGuide ']\n"
     ]
    },
    {
     "data": {
      "text/plain": [
       "157538"
      ]
     },
     "execution_count": 3,
     "metadata": {},
     "output_type": "execute_result"
    }
   ],
   "source": [
    "# get a list of repo descriptions\n",
    "repo_description = repo_data[\"description\"].tolist()\n",
    "\n",
    "print(repo_description[0:10])\n",
    "len(repo_description)"
   ]
  },
  {
   "cell_type": "code",
   "execution_count": 4,
   "metadata": {},
   "outputs": [
    {
     "data": {
      "text/plain": [
       "155811"
      ]
     },
     "execution_count": 4,
     "metadata": {},
     "output_type": "execute_result"
    }
   ],
   "source": [
    "repo_description = [x for x in repo_description if type(x) != float]\n",
    "len(repo_description)"
   ]
  },
  {
   "cell_type": "code",
   "execution_count": null,
   "metadata": {},
   "outputs": [],
   "source": [
    "#15 cores, max memory\n",
    "t1 = datetime.datetime.now()\n",
    "print(t1)\n",
    "repo_embedding = embedder.encode(repo_description, show_progress_bar=True, convert_to_tensor=True) \n",
    "\n",
    "t2 = datetime.datetime.now()\n",
    "print(t2)\n",
    "print(t2-t1)"
   ]
  },
  {
   "cell_type": "code",
   "execution_count": null,
   "metadata": {},
   "outputs": [],
   "source": [
    "repo_embedding"
   ]
  },
  {
   "cell_type": "code",
   "execution_count": null,
   "metadata": {},
   "outputs": [],
   "source": [
    "np_repo_embedding = np.array(repo_embedding)"
   ]
  },
  {
   "cell_type": "code",
   "execution_count": null,
   "metadata": {},
   "outputs": [],
   "source": [
    "np_repo_embedding"
   ]
  },
  {
   "cell_type": "code",
   "execution_count": null,
   "metadata": {},
   "outputs": [],
   "source": [
    "#np.save('/home/zz3hs/git/dspg21oss/data/dspg21oss/repo_description_embeddingsXXX.npy', np_repo_embedding)"
   ]
  }
 ],
 "metadata": {
  "kernelspec": {
   "display_name": "Python [conda env:.conda-crystal_bert]",
   "language": "python",
   "name": "conda-env-.conda-crystal_bert-py"
  },
  "language_info": {
   "codemirror_mode": {
    "name": "ipython",
    "version": 3
   },
   "file_extension": ".py",
   "mimetype": "text/x-python",
   "name": "python",
   "nbconvert_exporter": "python",
   "pygments_lexer": "ipython3",
   "version": "3.8.10"
  }
 },
 "nbformat": 4,
 "nbformat_minor": 4
}
