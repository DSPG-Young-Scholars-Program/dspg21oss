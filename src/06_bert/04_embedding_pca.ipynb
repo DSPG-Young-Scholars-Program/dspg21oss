{
 "cells": [
  {
   "cell_type": "markdown",
   "metadata": {},
   "source": [
    "# PCA on embeddings\n"
   ]
  },
  {
   "cell_type": "code",
   "execution_count": 1,
   "metadata": {},
   "outputs": [
    {
     "name": "stdin",
     "output_type": "stream",
     "text": [
      "Once deleted, variables cannot be recovered. Proceed (y/[n])?  y\n"
     ]
    }
   ],
   "source": [
    "%reset"
   ]
  },
  {
   "cell_type": "code",
   "execution_count": 2,
   "metadata": {},
   "outputs": [],
   "source": [
    "#pgadmin\n",
    "import os\n",
    "\n",
    "import pandas as pd\n",
    "import numpy as np\n",
    "\n",
    "from sklearn.decomposition import PCA\n",
    "from sklearn.manifold import TSNE\n",
    "\n",
    "import datetime"
   ]
  },
  {
   "cell_type": "markdown",
   "metadata": {},
   "source": [
    "## Get id, which is used to match with the embedding array's index"
   ]
  },
  {
   "cell_type": "code",
   "execution_count": 4,
   "metadata": {},
   "outputs": [],
   "source": [
    "repo_data_key = pd.read_csv(\"/home/zz3hs/git/dspg21oss/data/dspg21oss/clean_github_repos_157k.csv\")\n",
    "repo_data_key = repo_data_key[repo_data_key.description.notnull()]"
   ]
  },
  {
   "cell_type": "code",
   "execution_count": 5,
   "metadata": {},
   "outputs": [
    {
     "name": "stdout",
     "output_type": "stream",
     "text": [
      "                                slug      id\n",
      "0                          vuejs/vue       0\n",
      "1                     facebook/react       1\n",
      "2              tensorflow/tensorflow       2\n",
      "3                     twbs/bootstrap       3\n",
      "4                    ohmyzsh/ohmyzsh       4\n",
      "...                              ...     ...\n",
      "157533    VeryLittleGravitas/CDTADPQ  155806\n",
      "157534  dajinchu/kde-connect-android  155807\n",
      "157535   LibrinnoTeam/LibraryHelpBot  155808\n",
      "157536               Twissi/Animator  155809\n",
      "157537    WisapeAgency/WisapeAndroid  155810\n",
      "\n",
      "[155811 rows x 2 columns]\n",
      "                    slug  id\n",
      "2  tensorflow/tensorflow   2\n"
     ]
    }
   ],
   "source": [
    "repo_data_key[\"id\"] = range(len(repo_data_key))\n",
    "\n",
    "repo_data_key = repo_data_key[[\"slug\", \"id\"]]\n",
    "print(repo_data_key)\n",
    "\n",
    "print(repo_data_key[repo_data_key.slug == \"tensorflow/tensorflow\"])"
   ]
  },
  {
   "cell_type": "markdown",
   "metadata": {},
   "source": [
    "## Get Embeddings as array on 155,811 english repo description"
   ]
  },
  {
   "cell_type": "code",
   "execution_count": 6,
   "metadata": {},
   "outputs": [],
   "source": [
    "embeddings = np.load('/home/zz3hs/git/dspg21oss/data/dspg21oss/repo_description_embeddings.npy')"
   ]
  },
  {
   "cell_type": "code",
   "execution_count": 7,
   "metadata": {},
   "outputs": [
    {
     "data": {
      "text/plain": [
       "(155811, 768)"
      ]
     },
     "execution_count": 7,
     "metadata": {},
     "output_type": "execute_result"
    }
   ],
   "source": [
    "embeddings.shape"
   ]
  },
  {
   "cell_type": "markdown",
   "metadata": {},
   "source": [
    "# PCA on bert classified repo description embeddings"
   ]
  },
  {
   "cell_type": "markdown",
   "metadata": {},
   "source": [
    "We just want to get a list of repo (slugs) that are classified into a software type. We don't need to know which software type they are classified into. "
   ]
  },
  {
   "cell_type": "code",
   "execution_count": 8,
   "metadata": {},
   "outputs": [],
   "source": [
    "repo_label= pd.read_csv(\"/home/zz3hs/git/dspg21oss/data/dspg21oss/github_repos_157k_label.csv\")\n",
    "repo_label = repo_label[repo_label.bert == True]\n",
    "repo_label = repo_label[[\"slug\", \"bert\"]]"
   ]
  },
  {
   "cell_type": "code",
   "execution_count": 10,
   "metadata": {},
   "outputs": [],
   "source": [
    "repo_label = repo_label.drop_duplicates(subset=\"slug\") #de-duplicate by name—> unique names in the data\n"
   ]
  },
  {
   "cell_type": "code",
   "execution_count": 11,
   "metadata": {},
   "outputs": [
    {
     "data": {
      "text/html": [
       "<div>\n",
       "<style scoped>\n",
       "    .dataframe tbody tr th:only-of-type {\n",
       "        vertical-align: middle;\n",
       "    }\n",
       "\n",
       "    .dataframe tbody tr th {\n",
       "        vertical-align: top;\n",
       "    }\n",
       "\n",
       "    .dataframe thead th {\n",
       "        text-align: right;\n",
       "    }\n",
       "</style>\n",
       "<table border=\"1\" class=\"dataframe\">\n",
       "  <thead>\n",
       "    <tr style=\"text-align: right;\">\n",
       "      <th></th>\n",
       "      <th>slug</th>\n",
       "      <th>bert</th>\n",
       "    </tr>\n",
       "  </thead>\n",
       "  <tbody>\n",
       "    <tr>\n",
       "      <th>2</th>\n",
       "      <td>tensorflow/tensorflow</td>\n",
       "      <td>True</td>\n",
       "    </tr>\n",
       "  </tbody>\n",
       "</table>\n",
       "</div>"
      ],
      "text/plain": [
       "                    slug  bert\n",
       "2  tensorflow/tensorflow  True"
      ]
     },
     "execution_count": 11,
     "metadata": {},
     "output_type": "execute_result"
    }
   ],
   "source": [
    "repo_label[repo_label.slug == \"tensorflow/tensorflow\"]"
   ]
  },
  {
   "cell_type": "code",
   "execution_count": 12,
   "metadata": {},
   "outputs": [
    {
     "name": "stdout",
     "output_type": "stream",
     "text": [
      "22466\n"
     ]
    },
    {
     "data": {
      "text/html": [
       "<div>\n",
       "<style scoped>\n",
       "    .dataframe tbody tr th:only-of-type {\n",
       "        vertical-align: middle;\n",
       "    }\n",
       "\n",
       "    .dataframe tbody tr th {\n",
       "        vertical-align: top;\n",
       "    }\n",
       "\n",
       "    .dataframe thead th {\n",
       "        text-align: right;\n",
       "    }\n",
       "</style>\n",
       "<table border=\"1\" class=\"dataframe\">\n",
       "  <thead>\n",
       "    <tr style=\"text-align: right;\">\n",
       "      <th></th>\n",
       "      <th>slug</th>\n",
       "      <th>bert</th>\n",
       "      <th>id</th>\n",
       "    </tr>\n",
       "  </thead>\n",
       "  <tbody>\n",
       "    <tr>\n",
       "      <th>0</th>\n",
       "      <td>tensorflow/tensorflow</td>\n",
       "      <td>True</td>\n",
       "      <td>2</td>\n",
       "    </tr>\n",
       "  </tbody>\n",
       "</table>\n",
       "</div>"
      ],
      "text/plain": [
       "                    slug  bert  id\n",
       "0  tensorflow/tensorflow  True   2"
      ]
     },
     "execution_count": 12,
     "metadata": {},
     "output_type": "execute_result"
    }
   ],
   "source": [
    "# get the array id\n",
    "repo_label_id = pd.merge(repo_label, repo_data_key, on = \"slug\", how = \"left\")\n",
    "\n",
    "print(len(repo_label_id))\n",
    "repo_label_id[repo_label_id.slug == \"tensorflow/tensorflow\"]\n"
   ]
  },
  {
   "cell_type": "code",
   "execution_count": 13,
   "metadata": {},
   "outputs": [
    {
     "data": {
      "text/plain": [
       "22466"
      ]
     },
     "execution_count": 13,
     "metadata": {},
     "output_type": "execute_result"
    }
   ],
   "source": [
    "repo_ids = repo_label_id[\"id\"].tolist()\n",
    "len(repo_ids)"
   ]
  },
  {
   "cell_type": "code",
   "execution_count": 14,
   "metadata": {},
   "outputs": [
    {
     "data": {
      "text/plain": [
       "22466"
      ]
     },
     "execution_count": 14,
     "metadata": {},
     "output_type": "execute_result"
    }
   ],
   "source": [
    "repo_label_embeddings = []\n",
    "for repo_id in repo_ids:\n",
    "    embedding = embeddings[repo_id]\n",
    "    repo_label_embeddings.append(embedding)\n",
    "len(repo_label_embeddings)   "
   ]
  },
  {
   "cell_type": "markdown",
   "metadata": {},
   "source": [
    "### check variance explained for top 20 pc's"
   ]
  },
  {
   "cell_type": "code",
   "execution_count": 16,
   "metadata": {},
   "outputs": [
    {
     "data": {
      "text/plain": [
       "array([0.59182804, 0.44056011, 0.35276217, 0.25366339, 0.24145401,\n",
       "       0.20515416, 0.18419258, 0.16567654, 0.14366009, 0.12460496])"
      ]
     },
     "execution_count": 16,
     "metadata": {},
     "output_type": "execute_result"
    }
   ],
   "source": [
    "pca = PCA(n_components=10)\n",
    "pca.fit(repo_label_embeddings)\n",
    "#percent of variance explained in each pc\n",
    "pca.explained_variance_"
   ]
  },
  {
   "cell_type": "code",
   "execution_count": 17,
   "metadata": {},
   "outputs": [],
   "source": [
    "pca = PCA(n_components=3)\n",
    "pca_embedding = pca.fit_transform(repo_label_embeddings)"
   ]
  },
  {
   "cell_type": "code",
   "execution_count": 18,
   "metadata": {},
   "outputs": [
    {
     "data": {
      "text/plain": [
       "(22466, 3)"
      ]
     },
     "execution_count": 18,
     "metadata": {},
     "output_type": "execute_result"
    }
   ],
   "source": [
    "pca_embedding.shape"
   ]
  },
  {
   "cell_type": "code",
   "execution_count": 19,
   "metadata": {},
   "outputs": [],
   "source": [
    "embedding_df = pd.DataFrame({'x': pca_embedding[:, 0], 'y': pca_embedding[:, 1], 'z' : pca_embedding[:,2]})"
   ]
  },
  {
   "cell_type": "code",
   "execution_count": 20,
   "metadata": {},
   "outputs": [
    {
     "data": {
      "text/html": [
       "<div>\n",
       "<style scoped>\n",
       "    .dataframe tbody tr th:only-of-type {\n",
       "        vertical-align: middle;\n",
       "    }\n",
       "\n",
       "    .dataframe tbody tr th {\n",
       "        vertical-align: top;\n",
       "    }\n",
       "\n",
       "    .dataframe thead th {\n",
       "        text-align: right;\n",
       "    }\n",
       "</style>\n",
       "<table border=\"1\" class=\"dataframe\">\n",
       "  <thead>\n",
       "    <tr style=\"text-align: right;\">\n",
       "      <th></th>\n",
       "      <th>x</th>\n",
       "      <th>y</th>\n",
       "      <th>z</th>\n",
       "    </tr>\n",
       "  </thead>\n",
       "  <tbody>\n",
       "    <tr>\n",
       "      <th>0</th>\n",
       "      <td>-0.302585</td>\n",
       "      <td>0.542825</td>\n",
       "      <td>0.254508</td>\n",
       "    </tr>\n",
       "    <tr>\n",
       "      <th>1</th>\n",
       "      <td>-0.067079</td>\n",
       "      <td>1.128374</td>\n",
       "      <td>0.166578</td>\n",
       "    </tr>\n",
       "    <tr>\n",
       "      <th>2</th>\n",
       "      <td>-0.180961</td>\n",
       "      <td>1.030554</td>\n",
       "      <td>0.416845</td>\n",
       "    </tr>\n",
       "    <tr>\n",
       "      <th>3</th>\n",
       "      <td>-0.577798</td>\n",
       "      <td>0.474864</td>\n",
       "      <td>-0.327835</td>\n",
       "    </tr>\n",
       "    <tr>\n",
       "      <th>4</th>\n",
       "      <td>-0.732955</td>\n",
       "      <td>1.453041</td>\n",
       "      <td>0.172779</td>\n",
       "    </tr>\n",
       "    <tr>\n",
       "      <th>...</th>\n",
       "      <td>...</td>\n",
       "      <td>...</td>\n",
       "      <td>...</td>\n",
       "    </tr>\n",
       "    <tr>\n",
       "      <th>22461</th>\n",
       "      <td>-0.349324</td>\n",
       "      <td>0.720493</td>\n",
       "      <td>0.400368</td>\n",
       "    </tr>\n",
       "    <tr>\n",
       "      <th>22462</th>\n",
       "      <td>0.045109</td>\n",
       "      <td>1.148794</td>\n",
       "      <td>-0.086775</td>\n",
       "    </tr>\n",
       "    <tr>\n",
       "      <th>22463</th>\n",
       "      <td>-0.492608</td>\n",
       "      <td>0.567995</td>\n",
       "      <td>0.216712</td>\n",
       "    </tr>\n",
       "    <tr>\n",
       "      <th>22464</th>\n",
       "      <td>0.368163</td>\n",
       "      <td>0.493885</td>\n",
       "      <td>0.198109</td>\n",
       "    </tr>\n",
       "    <tr>\n",
       "      <th>22465</th>\n",
       "      <td>0.039158</td>\n",
       "      <td>0.356097</td>\n",
       "      <td>0.249960</td>\n",
       "    </tr>\n",
       "  </tbody>\n",
       "</table>\n",
       "<p>22466 rows × 3 columns</p>\n",
       "</div>"
      ],
      "text/plain": [
       "              x         y         z\n",
       "0     -0.302585  0.542825  0.254508\n",
       "1     -0.067079  1.128374  0.166578\n",
       "2     -0.180961  1.030554  0.416845\n",
       "3     -0.577798  0.474864 -0.327835\n",
       "4     -0.732955  1.453041  0.172779\n",
       "...         ...       ...       ...\n",
       "22461 -0.349324  0.720493  0.400368\n",
       "22462  0.045109  1.148794 -0.086775\n",
       "22463 -0.492608  0.567995  0.216712\n",
       "22464  0.368163  0.493885  0.198109\n",
       "22465  0.039158  0.356097  0.249960\n",
       "\n",
       "[22466 rows x 3 columns]"
      ]
     },
     "execution_count": 20,
     "metadata": {},
     "output_type": "execute_result"
    }
   ],
   "source": [
    "embedding_df"
   ]
  },
  {
   "cell_type": "code",
   "execution_count": 21,
   "metadata": {},
   "outputs": [],
   "source": [
    "repo_label_id[\"x\"] = embedding_df.x\n",
    "repo_label_id[\"y\"] = embedding_df.y\n",
    "repo_label_id[\"z\"] = embedding_df.z"
   ]
  },
  {
   "cell_type": "code",
   "execution_count": 22,
   "metadata": {},
   "outputs": [
    {
     "data": {
      "text/html": [
       "<div>\n",
       "<style scoped>\n",
       "    .dataframe tbody tr th:only-of-type {\n",
       "        vertical-align: middle;\n",
       "    }\n",
       "\n",
       "    .dataframe tbody tr th {\n",
       "        vertical-align: top;\n",
       "    }\n",
       "\n",
       "    .dataframe thead th {\n",
       "        text-align: right;\n",
       "    }\n",
       "</style>\n",
       "<table border=\"1\" class=\"dataframe\">\n",
       "  <thead>\n",
       "    <tr style=\"text-align: right;\">\n",
       "      <th></th>\n",
       "      <th>slug</th>\n",
       "      <th>bert</th>\n",
       "      <th>id</th>\n",
       "      <th>x</th>\n",
       "      <th>y</th>\n",
       "      <th>z</th>\n",
       "    </tr>\n",
       "  </thead>\n",
       "  <tbody>\n",
       "    <tr>\n",
       "      <th>0</th>\n",
       "      <td>tensorflow/tensorflow</td>\n",
       "      <td>True</td>\n",
       "      <td>2</td>\n",
       "      <td>-0.302585</td>\n",
       "      <td>0.542825</td>\n",
       "      <td>0.254508</td>\n",
       "    </tr>\n",
       "    <tr>\n",
       "      <th>1</th>\n",
       "      <td>tensorflow/models</td>\n",
       "      <td>True</td>\n",
       "      <td>25</td>\n",
       "      <td>-0.067079</td>\n",
       "      <td>1.128374</td>\n",
       "      <td>0.166578</td>\n",
       "    </tr>\n",
       "    <tr>\n",
       "      <th>2</th>\n",
       "      <td>huggingface/transformers</td>\n",
       "      <td>True</td>\n",
       "      <td>68</td>\n",
       "      <td>-0.180961</td>\n",
       "      <td>1.030554</td>\n",
       "      <td>0.416845</td>\n",
       "    </tr>\n",
       "    <tr>\n",
       "      <th>3</th>\n",
       "      <td>tiangolo/fastapi</td>\n",
       "      <td>True</td>\n",
       "      <td>134</td>\n",
       "      <td>-0.577798</td>\n",
       "      <td>0.474864</td>\n",
       "      <td>-0.327835</td>\n",
       "    </tr>\n",
       "    <tr>\n",
       "      <th>4</th>\n",
       "      <td>pandas-dev/pandas</td>\n",
       "      <td>True</td>\n",
       "      <td>159</td>\n",
       "      <td>-0.732955</td>\n",
       "      <td>1.453041</td>\n",
       "      <td>0.172779</td>\n",
       "    </tr>\n",
       "    <tr>\n",
       "      <th>...</th>\n",
       "      <td>...</td>\n",
       "      <td>...</td>\n",
       "      <td>...</td>\n",
       "      <td>...</td>\n",
       "      <td>...</td>\n",
       "      <td>...</td>\n",
       "    </tr>\n",
       "    <tr>\n",
       "      <th>22461</th>\n",
       "      <td>eric-erki/python-openid</td>\n",
       "      <td>True</td>\n",
       "      <td>153090</td>\n",
       "      <td>-0.349324</td>\n",
       "      <td>0.720493</td>\n",
       "      <td>0.400368</td>\n",
       "    </tr>\n",
       "    <tr>\n",
       "      <th>22462</th>\n",
       "      <td>cerha/pytis</td>\n",
       "      <td>True</td>\n",
       "      <td>153596</td>\n",
       "      <td>0.045109</td>\n",
       "      <td>1.148794</td>\n",
       "      <td>-0.086775</td>\n",
       "    </tr>\n",
       "    <tr>\n",
       "      <th>22463</th>\n",
       "      <td>maximilianduell/poppler</td>\n",
       "      <td>True</td>\n",
       "      <td>154290</td>\n",
       "      <td>-0.492608</td>\n",
       "      <td>0.567995</td>\n",
       "      <td>0.216712</td>\n",
       "    </tr>\n",
       "    <tr>\n",
       "      <th>22464</th>\n",
       "      <td>xieta/dev</td>\n",
       "      <td>True</td>\n",
       "      <td>154744</td>\n",
       "      <td>0.368163</td>\n",
       "      <td>0.493885</td>\n",
       "      <td>0.198109</td>\n",
       "    </tr>\n",
       "    <tr>\n",
       "      <th>22465</th>\n",
       "      <td>vinu5/vinu5</td>\n",
       "      <td>True</td>\n",
       "      <td>155667</td>\n",
       "      <td>0.039158</td>\n",
       "      <td>0.356097</td>\n",
       "      <td>0.249960</td>\n",
       "    </tr>\n",
       "  </tbody>\n",
       "</table>\n",
       "<p>22466 rows × 6 columns</p>\n",
       "</div>"
      ],
      "text/plain": [
       "                           slug  bert      id         x         y         z\n",
       "0         tensorflow/tensorflow  True       2 -0.302585  0.542825  0.254508\n",
       "1             tensorflow/models  True      25 -0.067079  1.128374  0.166578\n",
       "2      huggingface/transformers  True      68 -0.180961  1.030554  0.416845\n",
       "3              tiangolo/fastapi  True     134 -0.577798  0.474864 -0.327835\n",
       "4             pandas-dev/pandas  True     159 -0.732955  1.453041  0.172779\n",
       "...                         ...   ...     ...       ...       ...       ...\n",
       "22461   eric-erki/python-openid  True  153090 -0.349324  0.720493  0.400368\n",
       "22462               cerha/pytis  True  153596  0.045109  1.148794 -0.086775\n",
       "22463   maximilianduell/poppler  True  154290 -0.492608  0.567995  0.216712\n",
       "22464                 xieta/dev  True  154744  0.368163  0.493885  0.198109\n",
       "22465               vinu5/vinu5  True  155667  0.039158  0.356097  0.249960\n",
       "\n",
       "[22466 rows x 6 columns]"
      ]
     },
     "execution_count": 22,
     "metadata": {},
     "output_type": "execute_result"
    }
   ],
   "source": [
    "repo_label_id"
   ]
  },
  {
   "cell_type": "code",
   "execution_count": 27,
   "metadata": {},
   "outputs": [
    {
     "data": {
      "text/html": [
       "<div>\n",
       "<style scoped>\n",
       "    .dataframe tbody tr th:only-of-type {\n",
       "        vertical-align: middle;\n",
       "    }\n",
       "\n",
       "    .dataframe tbody tr th {\n",
       "        vertical-align: top;\n",
       "    }\n",
       "\n",
       "    .dataframe thead th {\n",
       "        text-align: right;\n",
       "    }\n",
       "</style>\n",
       "<table border=\"1\" class=\"dataframe\">\n",
       "  <thead>\n",
       "    <tr style=\"text-align: right;\">\n",
       "      <th></th>\n",
       "      <th>slug</th>\n",
       "      <th>x</th>\n",
       "      <th>y</th>\n",
       "      <th>z</th>\n",
       "    </tr>\n",
       "  </thead>\n",
       "  <tbody>\n",
       "    <tr>\n",
       "      <th>0</th>\n",
       "      <td>tensorflow/tensorflow</td>\n",
       "      <td>-0.302585</td>\n",
       "      <td>0.542825</td>\n",
       "      <td>0.254508</td>\n",
       "    </tr>\n",
       "    <tr>\n",
       "      <th>1</th>\n",
       "      <td>tensorflow/models</td>\n",
       "      <td>-0.067079</td>\n",
       "      <td>1.128374</td>\n",
       "      <td>0.166578</td>\n",
       "    </tr>\n",
       "    <tr>\n",
       "      <th>2</th>\n",
       "      <td>huggingface/transformers</td>\n",
       "      <td>-0.180961</td>\n",
       "      <td>1.030554</td>\n",
       "      <td>0.416845</td>\n",
       "    </tr>\n",
       "    <tr>\n",
       "      <th>3</th>\n",
       "      <td>tiangolo/fastapi</td>\n",
       "      <td>-0.577798</td>\n",
       "      <td>0.474864</td>\n",
       "      <td>-0.327835</td>\n",
       "    </tr>\n",
       "    <tr>\n",
       "      <th>4</th>\n",
       "      <td>pandas-dev/pandas</td>\n",
       "      <td>-0.732955</td>\n",
       "      <td>1.453041</td>\n",
       "      <td>0.172779</td>\n",
       "    </tr>\n",
       "    <tr>\n",
       "      <th>...</th>\n",
       "      <td>...</td>\n",
       "      <td>...</td>\n",
       "      <td>...</td>\n",
       "      <td>...</td>\n",
       "    </tr>\n",
       "    <tr>\n",
       "      <th>22461</th>\n",
       "      <td>eric-erki/python-openid</td>\n",
       "      <td>-0.349324</td>\n",
       "      <td>0.720493</td>\n",
       "      <td>0.400368</td>\n",
       "    </tr>\n",
       "    <tr>\n",
       "      <th>22462</th>\n",
       "      <td>cerha/pytis</td>\n",
       "      <td>0.045109</td>\n",
       "      <td>1.148794</td>\n",
       "      <td>-0.086775</td>\n",
       "    </tr>\n",
       "    <tr>\n",
       "      <th>22463</th>\n",
       "      <td>maximilianduell/poppler</td>\n",
       "      <td>-0.492608</td>\n",
       "      <td>0.567995</td>\n",
       "      <td>0.216712</td>\n",
       "    </tr>\n",
       "    <tr>\n",
       "      <th>22464</th>\n",
       "      <td>xieta/dev</td>\n",
       "      <td>0.368163</td>\n",
       "      <td>0.493885</td>\n",
       "      <td>0.198109</td>\n",
       "    </tr>\n",
       "    <tr>\n",
       "      <th>22465</th>\n",
       "      <td>vinu5/vinu5</td>\n",
       "      <td>0.039158</td>\n",
       "      <td>0.356097</td>\n",
       "      <td>0.249960</td>\n",
       "    </tr>\n",
       "  </tbody>\n",
       "</table>\n",
       "<p>22466 rows × 4 columns</p>\n",
       "</div>"
      ],
      "text/plain": [
       "                           slug         x         y         z\n",
       "0         tensorflow/tensorflow -0.302585  0.542825  0.254508\n",
       "1             tensorflow/models -0.067079  1.128374  0.166578\n",
       "2      huggingface/transformers -0.180961  1.030554  0.416845\n",
       "3              tiangolo/fastapi -0.577798  0.474864 -0.327835\n",
       "4             pandas-dev/pandas -0.732955  1.453041  0.172779\n",
       "...                         ...       ...       ...       ...\n",
       "22461   eric-erki/python-openid -0.349324  0.720493  0.400368\n",
       "22462               cerha/pytis  0.045109  1.148794 -0.086775\n",
       "22463   maximilianduell/poppler -0.492608  0.567995  0.216712\n",
       "22464                 xieta/dev  0.368163  0.493885  0.198109\n",
       "22465               vinu5/vinu5  0.039158  0.356097  0.249960\n",
       "\n",
       "[22466 rows x 4 columns]"
      ]
     },
     "execution_count": 27,
     "metadata": {},
     "output_type": "execute_result"
    }
   ],
   "source": [
    "repo_data_out = repo_label_id[repo_label_id.x.notnull()]\n",
    "repo_data_out = repo_data_out[[\"slug\", \"x\", \"y\", \"z\"]]\n",
    "repo_data_out"
   ]
  },
  {
   "cell_type": "code",
   "execution_count": 28,
   "metadata": {},
   "outputs": [],
   "source": [
    "#repo_data_out.to_csv(\"/home/zz3hs/git/dspg21oss/data/dspg21oss/repo_classified_embedding_3d_pca.csv\", index = False)"
   ]
  },
  {
   "cell_type": "markdown",
   "metadata": {},
   "source": [
    "# PCA on blockchain/dataviz repo description embeddings"
   ]
  },
  {
   "cell_type": "code",
   "execution_count": 6,
   "metadata": {},
   "outputs": [
    {
     "data": {
      "text/html": [
       "<div>\n",
       "<style scoped>\n",
       "    .dataframe tbody tr th:only-of-type {\n",
       "        vertical-align: middle;\n",
       "    }\n",
       "\n",
       "    .dataframe tbody tr th {\n",
       "        vertical-align: top;\n",
       "    }\n",
       "\n",
       "    .dataframe thead th {\n",
       "        text-align: right;\n",
       "    }\n",
       "</style>\n",
       "<table border=\"1\" class=\"dataframe\">\n",
       "  <thead>\n",
       "    <tr style=\"text-align: right;\">\n",
       "      <th></th>\n",
       "      <th>slug</th>\n",
       "      <th>software_type</th>\n",
       "    </tr>\n",
       "  </thead>\n",
       "  <tbody>\n",
       "    <tr>\n",
       "      <th>0</th>\n",
       "      <td>ethereum/go-ethereum</td>\n",
       "      <td>is_blockchain</td>\n",
       "    </tr>\n",
       "    <tr>\n",
       "      <th>1</th>\n",
       "      <td>freqtrade/freqtrade</td>\n",
       "      <td>is_blockchain</td>\n",
       "    </tr>\n",
       "    <tr>\n",
       "      <th>2</th>\n",
       "      <td>btcsuite/btcd</td>\n",
       "      <td>is_blockchain</td>\n",
       "    </tr>\n",
       "    <tr>\n",
       "      <th>3</th>\n",
       "      <td>bitpay/bitcore</td>\n",
       "      <td>is_blockchain</td>\n",
       "    </tr>\n",
       "    <tr>\n",
       "      <th>4</th>\n",
       "      <td>bitcoinj/bitcoinj</td>\n",
       "      <td>is_blockchain</td>\n",
       "    </tr>\n",
       "    <tr>\n",
       "      <th>...</th>\n",
       "      <td>...</td>\n",
       "      <td>...</td>\n",
       "    </tr>\n",
       "    <tr>\n",
       "      <th>246</th>\n",
       "      <td>theJensenLab/phylogician</td>\n",
       "      <td>is_dataviz</td>\n",
       "    </tr>\n",
       "    <tr>\n",
       "      <th>247</th>\n",
       "      <td>davidmtech/old-browser-backup</td>\n",
       "      <td>is_dataviz</td>\n",
       "    </tr>\n",
       "    <tr>\n",
       "      <th>248</th>\n",
       "      <td>ajoposor/aoPlotlyAddOn</td>\n",
       "      <td>is_dataviz</td>\n",
       "    </tr>\n",
       "    <tr>\n",
       "      <th>249</th>\n",
       "      <td>saramic/data-fe</td>\n",
       "      <td>is_dataviz</td>\n",
       "    </tr>\n",
       "    <tr>\n",
       "      <th>250</th>\n",
       "      <td>Christoph-D/gravi</td>\n",
       "      <td>is_dataviz</td>\n",
       "    </tr>\n",
       "  </tbody>\n",
       "</table>\n",
       "<p>251 rows × 2 columns</p>\n",
       "</div>"
      ],
      "text/plain": [
       "                              slug  software_type\n",
       "0             ethereum/go-ethereum  is_blockchain\n",
       "1              freqtrade/freqtrade  is_blockchain\n",
       "2                    btcsuite/btcd  is_blockchain\n",
       "3                   bitpay/bitcore  is_blockchain\n",
       "4                bitcoinj/bitcoinj  is_blockchain\n",
       "..                             ...            ...\n",
       "246       theJensenLab/phylogician     is_dataviz\n",
       "247  davidmtech/old-browser-backup     is_dataviz\n",
       "248         ajoposor/aoPlotlyAddOn     is_dataviz\n",
       "249                saramic/data-fe     is_dataviz\n",
       "250              Christoph-D/gravi     is_dataviz\n",
       "\n",
       "[251 rows x 2 columns]"
      ]
     },
     "execution_count": 6,
     "metadata": {},
     "output_type": "execute_result"
    }
   ],
   "source": [
    "repo_blockchain_dataviz = pd.read_csv(\"/home/zz3hs/git/dspg21oss/data/dspg21oss/repo_blockchain_dataviz.csv\")\n",
    "repo_blockchain_dataviz"
   ]
  },
  {
   "cell_type": "code",
   "execution_count": 17,
   "metadata": {},
   "outputs": [
    {
     "data": {
      "text/html": [
       "<div>\n",
       "<style scoped>\n",
       "    .dataframe tbody tr th:only-of-type {\n",
       "        vertical-align: middle;\n",
       "    }\n",
       "\n",
       "    .dataframe tbody tr th {\n",
       "        vertical-align: top;\n",
       "    }\n",
       "\n",
       "    .dataframe thead th {\n",
       "        text-align: right;\n",
       "    }\n",
       "</style>\n",
       "<table border=\"1\" class=\"dataframe\">\n",
       "  <thead>\n",
       "    <tr style=\"text-align: right;\">\n",
       "      <th></th>\n",
       "      <th>slug</th>\n",
       "      <th>software_type</th>\n",
       "      <th>description</th>\n",
       "      <th>id</th>\n",
       "    </tr>\n",
       "  </thead>\n",
       "  <tbody>\n",
       "    <tr>\n",
       "      <th>0</th>\n",
       "      <td>ethereum/go-ethereum</td>\n",
       "      <td>is_blockchain</td>\n",
       "      <td>Official Go implementation of the Ethereum pro...</td>\n",
       "      <td>151</td>\n",
       "    </tr>\n",
       "    <tr>\n",
       "      <th>1</th>\n",
       "      <td>freqtrade/freqtrade</td>\n",
       "      <td>is_blockchain</td>\n",
       "      <td>Free  open source crypto trading bot</td>\n",
       "      <td>1080</td>\n",
       "    </tr>\n",
       "    <tr>\n",
       "      <th>2</th>\n",
       "      <td>btcsuite/btcd</td>\n",
       "      <td>is_blockchain</td>\n",
       "      <td>An alternative full node bitcoin implementatio...</td>\n",
       "      <td>2664</td>\n",
       "    </tr>\n",
       "    <tr>\n",
       "      <th>3</th>\n",
       "      <td>bitpay/bitcore</td>\n",
       "      <td>is_blockchain</td>\n",
       "      <td>A full stack for bitcoin and blockchain based ...</td>\n",
       "      <td>2854</td>\n",
       "    </tr>\n",
       "    <tr>\n",
       "      <th>4</th>\n",
       "      <td>bitcoinj/bitcoinj</td>\n",
       "      <td>is_blockchain</td>\n",
       "      <td>A library for working with Bitcoin</td>\n",
       "      <td>2876</td>\n",
       "    </tr>\n",
       "    <tr>\n",
       "      <th>...</th>\n",
       "      <td>...</td>\n",
       "      <td>...</td>\n",
       "      <td>...</td>\n",
       "      <td>...</td>\n",
       "    </tr>\n",
       "    <tr>\n",
       "      <th>246</th>\n",
       "      <td>theJensenLab/phylogician</td>\n",
       "      <td>is_dataviz</td>\n",
       "      <td>Our approach to visualization</td>\n",
       "      <td>123665</td>\n",
       "    </tr>\n",
       "    <tr>\n",
       "      <th>247</th>\n",
       "      <td>davidmtech/old-browser-backup</td>\n",
       "      <td>is_dataviz</td>\n",
       "      <td>JavaScript WebGL 3D maps rendering engine</td>\n",
       "      <td>125701</td>\n",
       "    </tr>\n",
       "    <tr>\n",
       "      <th>248</th>\n",
       "      <td>ajoposor/aoPlotlyAddOn</td>\n",
       "      <td>is_dataviz</td>\n",
       "      <td>a Library of functions to be used to add funct...</td>\n",
       "      <td>126660</td>\n",
       "    </tr>\n",
       "    <tr>\n",
       "      <th>249</th>\n",
       "      <td>saramic/data-fe</td>\n",
       "      <td>is_dataviz</td>\n",
       "      <td>a front end for data visualisation experiments</td>\n",
       "      <td>131080</td>\n",
       "    </tr>\n",
       "    <tr>\n",
       "      <th>250</th>\n",
       "      <td>Christoph-D/gravi</td>\n",
       "      <td>is_dataviz</td>\n",
       "      <td>Online graph algorithm visualizer</td>\n",
       "      <td>136442</td>\n",
       "    </tr>\n",
       "  </tbody>\n",
       "</table>\n",
       "<p>251 rows × 4 columns</p>\n",
       "</div>"
      ],
      "text/plain": [
       "                              slug  software_type  \\\n",
       "0             ethereum/go-ethereum  is_blockchain   \n",
       "1              freqtrade/freqtrade  is_blockchain   \n",
       "2                    btcsuite/btcd  is_blockchain   \n",
       "3                   bitpay/bitcore  is_blockchain   \n",
       "4                bitcoinj/bitcoinj  is_blockchain   \n",
       "..                             ...            ...   \n",
       "246       theJensenLab/phylogician     is_dataviz   \n",
       "247  davidmtech/old-browser-backup     is_dataviz   \n",
       "248         ajoposor/aoPlotlyAddOn     is_dataviz   \n",
       "249                saramic/data-fe     is_dataviz   \n",
       "250              Christoph-D/gravi     is_dataviz   \n",
       "\n",
       "                                           description      id  \n",
       "0    Official Go implementation of the Ethereum pro...     151  \n",
       "1                 Free  open source crypto trading bot    1080  \n",
       "2    An alternative full node bitcoin implementatio...    2664  \n",
       "3    A full stack for bitcoin and blockchain based ...    2854  \n",
       "4                   A library for working with Bitcoin    2876  \n",
       "..                                                 ...     ...  \n",
       "246                      Our approach to visualization  123665  \n",
       "247          JavaScript WebGL 3D maps rendering engine  125701  \n",
       "248  a Library of functions to be used to add funct...  126660  \n",
       "249     a front end for data visualisation experiments  131080  \n",
       "250                  Online graph algorithm visualizer  136442  \n",
       "\n",
       "[251 rows x 4 columns]"
      ]
     },
     "execution_count": 17,
     "metadata": {},
     "output_type": "execute_result"
    }
   ],
   "source": [
    "repo_blockchain_dataviz_id = pd.merge(repo_blockchain_dataviz, repo_data, on = \"slug\")\n",
    "repo_ids = repo_blockchain_dataviz_id[\"id\"]\n",
    "repo_ids"
   ]
  },
  {
   "cell_type": "raw",
   "metadata": {},
   "source": [
    "repo_blockchain_dataviz_id = repo_blockchain_dataviz_id.set_index('id')\n",
    "repo_blockchain_dataviz_id"
   ]
  },
  {
   "cell_type": "code",
   "execution_count": 20,
   "metadata": {},
   "outputs": [
    {
     "name": "stdout",
     "output_type": "stream",
     "text": [
      "slug                                        ethereum/go-ethereum\n",
      "description    Official Go implementation of the Ethereum pro...\n",
      "id                                                           151\n",
      "Name: 151, dtype: object\n"
     ]
    }
   ],
   "source": [
    "print(repo_data.iloc[151])"
   ]
  },
  {
   "cell_type": "code",
   "execution_count": 15,
   "metadata": {},
   "outputs": [],
   "source": [
    "repo_blockchain_dataviz_embeddings = []\n",
    "for repo_id in repo_ids:\n",
    "    embedding = embeddings[repo_id]\n",
    "    repo_blockchain_dataviz_embeddings.append(embedding)\n",
    "    "
   ]
  },
  {
   "cell_type": "code",
   "execution_count": 21,
   "metadata": {},
   "outputs": [],
   "source": [
    "\n",
    "pca = PCA(n_components=3)\n",
    "pca_embedding = pca.fit_transform(repo_blockchain_dataviz_embeddings)"
   ]
  },
  {
   "cell_type": "code",
   "execution_count": 22,
   "metadata": {},
   "outputs": [],
   "source": [
    "embedding_df = pd.DataFrame({'x': pca_embedding[:, 0], 'y': pca_embedding[:, 1], 'z' : pca_embedding[:,2]})"
   ]
  },
  {
   "cell_type": "code",
   "execution_count": 23,
   "metadata": {},
   "outputs": [],
   "source": [
    "repo_blockchain_dataviz_id[\"x\"] = embedding_df.x\n",
    "repo_blockchain_dataviz_id[\"y\"] = embedding_df.y\n",
    "repo_blockchain_dataviz_id[\"z\"] = embedding_df.z"
   ]
  },
  {
   "cell_type": "code",
   "execution_count": 24,
   "metadata": {},
   "outputs": [
    {
     "data": {
      "text/html": [
       "<div>\n",
       "<style scoped>\n",
       "    .dataframe tbody tr th:only-of-type {\n",
       "        vertical-align: middle;\n",
       "    }\n",
       "\n",
       "    .dataframe tbody tr th {\n",
       "        vertical-align: top;\n",
       "    }\n",
       "\n",
       "    .dataframe thead th {\n",
       "        text-align: right;\n",
       "    }\n",
       "</style>\n",
       "<table border=\"1\" class=\"dataframe\">\n",
       "  <thead>\n",
       "    <tr style=\"text-align: right;\">\n",
       "      <th></th>\n",
       "      <th>slug</th>\n",
       "      <th>software_type</th>\n",
       "      <th>description</th>\n",
       "      <th>id</th>\n",
       "      <th>x</th>\n",
       "      <th>y</th>\n",
       "      <th>z</th>\n",
       "    </tr>\n",
       "  </thead>\n",
       "  <tbody>\n",
       "    <tr>\n",
       "      <th>0</th>\n",
       "      <td>ethereum/go-ethereum</td>\n",
       "      <td>is_blockchain</td>\n",
       "      <td>Official Go implementation of the Ethereum pro...</td>\n",
       "      <td>151</td>\n",
       "      <td>-0.693368</td>\n",
       "      <td>-0.639979</td>\n",
       "      <td>1.830060</td>\n",
       "    </tr>\n",
       "    <tr>\n",
       "      <th>1</th>\n",
       "      <td>freqtrade/freqtrade</td>\n",
       "      <td>is_blockchain</td>\n",
       "      <td>Free  open source crypto trading bot</td>\n",
       "      <td>1080</td>\n",
       "      <td>-0.805343</td>\n",
       "      <td>0.576429</td>\n",
       "      <td>0.123971</td>\n",
       "    </tr>\n",
       "    <tr>\n",
       "      <th>2</th>\n",
       "      <td>btcsuite/btcd</td>\n",
       "      <td>is_blockchain</td>\n",
       "      <td>An alternative full node bitcoin implementatio...</td>\n",
       "      <td>2664</td>\n",
       "      <td>-0.427841</td>\n",
       "      <td>0.247167</td>\n",
       "      <td>0.741495</td>\n",
       "    </tr>\n",
       "    <tr>\n",
       "      <th>3</th>\n",
       "      <td>bitpay/bitcore</td>\n",
       "      <td>is_blockchain</td>\n",
       "      <td>A full stack for bitcoin and blockchain based ...</td>\n",
       "      <td>2854</td>\n",
       "      <td>-0.587301</td>\n",
       "      <td>-0.037816</td>\n",
       "      <td>-0.225613</td>\n",
       "    </tr>\n",
       "    <tr>\n",
       "      <th>4</th>\n",
       "      <td>bitcoinj/bitcoinj</td>\n",
       "      <td>is_blockchain</td>\n",
       "      <td>A library for working with Bitcoin</td>\n",
       "      <td>2876</td>\n",
       "      <td>-0.659194</td>\n",
       "      <td>0.993647</td>\n",
       "      <td>0.135701</td>\n",
       "    </tr>\n",
       "    <tr>\n",
       "      <th>...</th>\n",
       "      <td>...</td>\n",
       "      <td>...</td>\n",
       "      <td>...</td>\n",
       "      <td>...</td>\n",
       "      <td>...</td>\n",
       "      <td>...</td>\n",
       "      <td>...</td>\n",
       "    </tr>\n",
       "    <tr>\n",
       "      <th>246</th>\n",
       "      <td>theJensenLab/phylogician</td>\n",
       "      <td>is_dataviz</td>\n",
       "      <td>Our approach to visualization</td>\n",
       "      <td>123665</td>\n",
       "      <td>2.546024</td>\n",
       "      <td>0.173432</td>\n",
       "      <td>-0.148362</td>\n",
       "    </tr>\n",
       "    <tr>\n",
       "      <th>247</th>\n",
       "      <td>davidmtech/old-browser-backup</td>\n",
       "      <td>is_dataviz</td>\n",
       "      <td>JavaScript WebGL 3D maps rendering engine</td>\n",
       "      <td>125701</td>\n",
       "      <td>1.653764</td>\n",
       "      <td>-0.037136</td>\n",
       "      <td>0.333621</td>\n",
       "    </tr>\n",
       "    <tr>\n",
       "      <th>248</th>\n",
       "      <td>ajoposor/aoPlotlyAddOn</td>\n",
       "      <td>is_dataviz</td>\n",
       "      <td>a Library of functions to be used to add funct...</td>\n",
       "      <td>126660</td>\n",
       "      <td>2.039129</td>\n",
       "      <td>0.084007</td>\n",
       "      <td>0.445821</td>\n",
       "    </tr>\n",
       "    <tr>\n",
       "      <th>249</th>\n",
       "      <td>saramic/data-fe</td>\n",
       "      <td>is_dataviz</td>\n",
       "      <td>a front end for data visualisation experiments</td>\n",
       "      <td>131080</td>\n",
       "      <td>2.137306</td>\n",
       "      <td>0.093315</td>\n",
       "      <td>-0.292292</td>\n",
       "    </tr>\n",
       "    <tr>\n",
       "      <th>250</th>\n",
       "      <td>Christoph-D/gravi</td>\n",
       "      <td>is_dataviz</td>\n",
       "      <td>Online graph algorithm visualizer</td>\n",
       "      <td>136442</td>\n",
       "      <td>1.991432</td>\n",
       "      <td>-0.000220</td>\n",
       "      <td>0.003621</td>\n",
       "    </tr>\n",
       "  </tbody>\n",
       "</table>\n",
       "<p>251 rows × 7 columns</p>\n",
       "</div>"
      ],
      "text/plain": [
       "                              slug  software_type  \\\n",
       "0             ethereum/go-ethereum  is_blockchain   \n",
       "1              freqtrade/freqtrade  is_blockchain   \n",
       "2                    btcsuite/btcd  is_blockchain   \n",
       "3                   bitpay/bitcore  is_blockchain   \n",
       "4                bitcoinj/bitcoinj  is_blockchain   \n",
       "..                             ...            ...   \n",
       "246       theJensenLab/phylogician     is_dataviz   \n",
       "247  davidmtech/old-browser-backup     is_dataviz   \n",
       "248         ajoposor/aoPlotlyAddOn     is_dataviz   \n",
       "249                saramic/data-fe     is_dataviz   \n",
       "250              Christoph-D/gravi     is_dataviz   \n",
       "\n",
       "                                           description      id         x  \\\n",
       "0    Official Go implementation of the Ethereum pro...     151 -0.693368   \n",
       "1                 Free  open source crypto trading bot    1080 -0.805343   \n",
       "2    An alternative full node bitcoin implementatio...    2664 -0.427841   \n",
       "3    A full stack for bitcoin and blockchain based ...    2854 -0.587301   \n",
       "4                   A library for working with Bitcoin    2876 -0.659194   \n",
       "..                                                 ...     ...       ...   \n",
       "246                      Our approach to visualization  123665  2.546024   \n",
       "247          JavaScript WebGL 3D maps rendering engine  125701  1.653764   \n",
       "248  a Library of functions to be used to add funct...  126660  2.039129   \n",
       "249     a front end for data visualisation experiments  131080  2.137306   \n",
       "250                  Online graph algorithm visualizer  136442  1.991432   \n",
       "\n",
       "            y         z  \n",
       "0   -0.639979  1.830060  \n",
       "1    0.576429  0.123971  \n",
       "2    0.247167  0.741495  \n",
       "3   -0.037816 -0.225613  \n",
       "4    0.993647  0.135701  \n",
       "..        ...       ...  \n",
       "246  0.173432 -0.148362  \n",
       "247 -0.037136  0.333621  \n",
       "248  0.084007  0.445821  \n",
       "249  0.093315 -0.292292  \n",
       "250 -0.000220  0.003621  \n",
       "\n",
       "[251 rows x 7 columns]"
      ]
     },
     "execution_count": 24,
     "metadata": {},
     "output_type": "execute_result"
    }
   ],
   "source": [
    "repo_blockchain_dataviz_id"
   ]
  },
  {
   "cell_type": "code",
   "execution_count": 25,
   "metadata": {},
   "outputs": [],
   "source": [
    "#repo_blockchain_dataviz_id.to_csv(\"/home/zz3hs/git/dspg21oss/data/dspg21oss/repo_blockchain_dataviz_embedding_3d_pca.csv\", index = False)"
   ]
  },
  {
   "cell_type": "code",
   "execution_count": null,
   "metadata": {},
   "outputs": [],
   "source": []
  }
 ],
 "metadata": {
  "kernelspec": {
   "display_name": "Python [conda env:.conda-crystal_bert]",
   "language": "python",
   "name": "conda-env-.conda-crystal_bert-py"
  },
  "language_info": {
   "codemirror_mode": {
    "name": "ipython",
    "version": 3
   },
   "file_extension": ".py",
   "mimetype": "text/x-python",
   "name": "python",
   "nbconvert_exporter": "python",
   "pygments_lexer": "ipython3",
   "version": "3.8.10"
  }
 },
 "nbformat": 4,
 "nbformat_minor": 4
}
