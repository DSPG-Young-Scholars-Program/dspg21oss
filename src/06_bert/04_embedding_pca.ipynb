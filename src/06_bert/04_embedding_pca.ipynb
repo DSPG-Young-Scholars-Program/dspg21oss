{
 "cells": [
  {
   "cell_type": "markdown",
   "metadata": {},
   "source": [
    "# PCA on embeddings\n"
   ]
  },
  {
   "cell_type": "code",
   "execution_count": 25,
   "metadata": {},
   "outputs": [
    {
     "name": "stdin",
     "output_type": "stream",
     "text": [
      "Once deleted, variables cannot be recovered. Proceed (y/[n])?  y\n"
     ]
    }
   ],
   "source": [
    "%reset"
   ]
  },
  {
   "cell_type": "code",
   "execution_count": 1,
   "metadata": {},
   "outputs": [],
   "source": [
    "#pgadmin\n",
    "import os\n",
    "\n",
    "import pandas as pd\n",
    "import numpy as np\n",
    "\n",
    "from sklearn.decomposition import PCA\n",
    "from sklearn.manifold import TSNE\n",
    "\n",
    "import datetime"
   ]
  },
  {
   "cell_type": "code",
   "execution_count": 2,
   "metadata": {},
   "outputs": [
    {
     "data": {
      "text/html": [
       "<div>\n",
       "<style scoped>\n",
       "    .dataframe tbody tr th:only-of-type {\n",
       "        vertical-align: middle;\n",
       "    }\n",
       "\n",
       "    .dataframe tbody tr th {\n",
       "        vertical-align: top;\n",
       "    }\n",
       "\n",
       "    .dataframe thead th {\n",
       "        text-align: right;\n",
       "    }\n",
       "</style>\n",
       "<table border=\"1\" class=\"dataframe\">\n",
       "  <thead>\n",
       "    <tr style=\"text-align: right;\">\n",
       "      <th></th>\n",
       "      <th>slug</th>\n",
       "      <th>description</th>\n",
       "    </tr>\n",
       "  </thead>\n",
       "  <tbody>\n",
       "    <tr>\n",
       "      <th>0</th>\n",
       "      <td>vuejs/vue</td>\n",
       "      <td>Vue js is a progressive  incrementally adopt...</td>\n",
       "    </tr>\n",
       "    <tr>\n",
       "      <th>1</th>\n",
       "      <td>facebook/react</td>\n",
       "      <td>A declarative  efficient  and flexible JavaScr...</td>\n",
       "    </tr>\n",
       "    <tr>\n",
       "      <th>2</th>\n",
       "      <td>tensorflow/tensorflow</td>\n",
       "      <td>An Open Source Machine Learning Framework for ...</td>\n",
       "    </tr>\n",
       "    <tr>\n",
       "      <th>3</th>\n",
       "      <td>twbs/bootstrap</td>\n",
       "      <td>The most popular HTML  CSS  and JavaScript fra...</td>\n",
       "    </tr>\n",
       "    <tr>\n",
       "      <th>4</th>\n",
       "      <td>ohmyzsh/ohmyzsh</td>\n",
       "      <td>A delightful community driven  with 1700  c...</td>\n",
       "    </tr>\n",
       "    <tr>\n",
       "      <th>...</th>\n",
       "      <td>...</td>\n",
       "      <td>...</td>\n",
       "    </tr>\n",
       "    <tr>\n",
       "      <th>157533</th>\n",
       "      <td>VeryLittleGravitas/CDTADPQ</td>\n",
       "      <td>Very Little Gravitas implementation of Prototy...</td>\n",
       "    </tr>\n",
       "    <tr>\n",
       "      <th>157534</th>\n",
       "      <td>dajinchu/kde-connect-android</td>\n",
       "      <td>For Google Code In</td>\n",
       "    </tr>\n",
       "    <tr>\n",
       "      <th>157535</th>\n",
       "      <td>LibrinnoTeam/LibraryHelpBot</td>\n",
       "      <td>Library Management System  ITP2 project</td>\n",
       "    </tr>\n",
       "    <tr>\n",
       "      <th>157536</th>\n",
       "      <td>Twissi/Animator</td>\n",
       "      <td>Animator for hacklace  See hacklace org for fu...</td>\n",
       "    </tr>\n",
       "    <tr>\n",
       "      <th>157537</th>\n",
       "      <td>WisapeAgency/WisapeAndroid</td>\n",
       "      <td>Wisape Android</td>\n",
       "    </tr>\n",
       "  </tbody>\n",
       "</table>\n",
       "<p>155811 rows × 2 columns</p>\n",
       "</div>"
      ],
      "text/plain": [
       "                                slug  \\\n",
       "0                          vuejs/vue   \n",
       "1                     facebook/react   \n",
       "2              tensorflow/tensorflow   \n",
       "3                     twbs/bootstrap   \n",
       "4                    ohmyzsh/ohmyzsh   \n",
       "...                              ...   \n",
       "157533    VeryLittleGravitas/CDTADPQ   \n",
       "157534  dajinchu/kde-connect-android   \n",
       "157535   LibrinnoTeam/LibraryHelpBot   \n",
       "157536               Twissi/Animator   \n",
       "157537    WisapeAgency/WisapeAndroid   \n",
       "\n",
       "                                              description  \n",
       "0         Vue js is a progressive  incrementally adopt...  \n",
       "1       A declarative  efficient  and flexible JavaScr...  \n",
       "2       An Open Source Machine Learning Framework for ...  \n",
       "3       The most popular HTML  CSS  and JavaScript fra...  \n",
       "4          A delightful community driven  with 1700  c...  \n",
       "...                                                   ...  \n",
       "157533  Very Little Gravitas implementation of Prototy...  \n",
       "157534                                 For Google Code In  \n",
       "157535            Library Management System  ITP2 project  \n",
       "157536  Animator for hacklace  See hacklace org for fu...  \n",
       "157537                                     Wisape Android  \n",
       "\n",
       "[155811 rows x 2 columns]"
      ]
     },
     "execution_count": 2,
     "metadata": {},
     "output_type": "execute_result"
    }
   ],
   "source": [
    "repo_data = pd.read_csv(\"/home/zz3hs/git/dspg21oss/data/dspg21oss/clean_github_repos_157k.csv\")\n",
    "repo_data = repo_data[repo_data.description.notnull()]\n",
    "repo_data"
   ]
  },
  {
   "cell_type": "code",
   "execution_count": 4,
   "metadata": {},
   "outputs": [],
   "source": [
    "data = np.load('/home/zz3hs/git/dspg21oss/data/dspg21oss/repo_description_embeddings.npy')"
   ]
  },
  {
   "cell_type": "code",
   "execution_count": 5,
   "metadata": {},
   "outputs": [
    {
     "data": {
      "text/plain": [
       "(155811, 768)"
      ]
     },
     "execution_count": 5,
     "metadata": {},
     "output_type": "execute_result"
    }
   ],
   "source": [
    "data.shape"
   ]
  },
  {
   "cell_type": "markdown",
   "metadata": {},
   "source": [
    "# PCA"
   ]
  },
  {
   "cell_type": "markdown",
   "metadata": {},
   "source": [
    "### check variance explained for top 20 pc's"
   ]
  },
  {
   "cell_type": "code",
   "execution_count": 21,
   "metadata": {},
   "outputs": [
    {
     "data": {
      "text/plain": [
       "array([0.33285487, 0.26511757, 0.24698927, 0.21594197, 0.18811499,\n",
       "       0.17245241, 0.15826706, 0.15050639, 0.14303957, 0.12796993,\n",
       "       0.12371226, 0.11889426, 0.11134151, 0.11020864, 0.1072681 ,\n",
       "       0.10011314, 0.09795838, 0.09118546, 0.08878484, 0.08507572])"
      ]
     },
     "execution_count": 21,
     "metadata": {},
     "output_type": "execute_result"
    }
   ],
   "source": [
    "pca = PCA(n_components=20)\n",
    "pca.fit(data)\n",
    "#percent of variance explained in each pc\n",
    "pca.explained_variance_"
   ]
  },
  {
   "cell_type": "markdown",
   "metadata": {},
   "source": [
    "### Fit pca with 3 pc's"
   ]
  },
  {
   "cell_type": "code",
   "execution_count": 22,
   "metadata": {},
   "outputs": [
    {
     "data": {
      "text/plain": [
       "PCA(n_components=3)"
      ]
     },
     "execution_count": 22,
     "metadata": {},
     "output_type": "execute_result"
    }
   ],
   "source": [
    "pca = PCA(n_components=3)\n",
    "pca.fit(data)"
   ]
  },
  {
   "cell_type": "code",
   "execution_count": 23,
   "metadata": {},
   "outputs": [],
   "source": [
    "pca_embedding = pca.fit_transform(data)"
   ]
  },
  {
   "cell_type": "code",
   "execution_count": 24,
   "metadata": {},
   "outputs": [
    {
     "data": {
      "text/plain": [
       "(155811, 3)"
      ]
     },
     "execution_count": 24,
     "metadata": {},
     "output_type": "execute_result"
    }
   ],
   "source": [
    "pca_embedding.shape"
   ]
  },
  {
   "cell_type": "code",
   "execution_count": 25,
   "metadata": {},
   "outputs": [],
   "source": [
    "embedding_df = pd.DataFrame({'x': pca_embedding[:, 0], 'y': pca_embedding[:, 1], 'z' : pca_embedding[:,2]})"
   ]
  },
  {
   "cell_type": "code",
   "execution_count": 26,
   "metadata": {},
   "outputs": [],
   "source": [
    "repo_data[\"x\"] = embedding_df.x\n",
    "repo_data[\"y\"] = embedding_df.y\n",
    "repo_data[\"z\"] = embedding_df.z"
   ]
  },
  {
   "cell_type": "code",
   "execution_count": 27,
   "metadata": {},
   "outputs": [],
   "source": [
    "repo_data_out = repo_data[repo_data.x.notnull()]"
   ]
  },
  {
   "cell_type": "code",
   "execution_count": 28,
   "metadata": {},
   "outputs": [
    {
     "data": {
      "text/html": [
       "<div>\n",
       "<style scoped>\n",
       "    .dataframe tbody tr th:only-of-type {\n",
       "        vertical-align: middle;\n",
       "    }\n",
       "\n",
       "    .dataframe tbody tr th {\n",
       "        vertical-align: top;\n",
       "    }\n",
       "\n",
       "    .dataframe thead th {\n",
       "        text-align: right;\n",
       "    }\n",
       "</style>\n",
       "<table border=\"1\" class=\"dataframe\">\n",
       "  <thead>\n",
       "    <tr style=\"text-align: right;\">\n",
       "      <th></th>\n",
       "      <th>slug</th>\n",
       "      <th>description</th>\n",
       "      <th>x</th>\n",
       "      <th>y</th>\n",
       "      <th>z</th>\n",
       "    </tr>\n",
       "  </thead>\n",
       "  <tbody>\n",
       "    <tr>\n",
       "      <th>0</th>\n",
       "      <td>vuejs/vue</td>\n",
       "      <td>Vue js is a progressive  incrementally adopt...</td>\n",
       "      <td>0.782883</td>\n",
       "      <td>-0.229398</td>\n",
       "      <td>-0.745730</td>\n",
       "    </tr>\n",
       "    <tr>\n",
       "      <th>1</th>\n",
       "      <td>facebook/react</td>\n",
       "      <td>A declarative  efficient  and flexible JavaScr...</td>\n",
       "      <td>1.023074</td>\n",
       "      <td>0.233249</td>\n",
       "      <td>-1.382094</td>\n",
       "    </tr>\n",
       "    <tr>\n",
       "      <th>2</th>\n",
       "      <td>tensorflow/tensorflow</td>\n",
       "      <td>An Open Source Machine Learning Framework for ...</td>\n",
       "      <td>0.265099</td>\n",
       "      <td>-0.131261</td>\n",
       "      <td>-0.691105</td>\n",
       "    </tr>\n",
       "    <tr>\n",
       "      <th>3</th>\n",
       "      <td>twbs/bootstrap</td>\n",
       "      <td>The most popular HTML  CSS  and JavaScript fra...</td>\n",
       "      <td>0.987022</td>\n",
       "      <td>0.125709</td>\n",
       "      <td>-0.895561</td>\n",
       "    </tr>\n",
       "    <tr>\n",
       "      <th>4</th>\n",
       "      <td>ohmyzsh/ohmyzsh</td>\n",
       "      <td>A delightful community driven  with 1700  c...</td>\n",
       "      <td>-0.089751</td>\n",
       "      <td>-0.601699</td>\n",
       "      <td>0.125315</td>\n",
       "    </tr>\n",
       "    <tr>\n",
       "      <th>...</th>\n",
       "      <td>...</td>\n",
       "      <td>...</td>\n",
       "      <td>...</td>\n",
       "      <td>...</td>\n",
       "      <td>...</td>\n",
       "    </tr>\n",
       "    <tr>\n",
       "      <th>155806</th>\n",
       "      <td>dreiger/Old-ServeUO-Source</td>\n",
       "      <td>ServUO source clone</td>\n",
       "      <td>-0.683399</td>\n",
       "      <td>0.142939</td>\n",
       "      <td>-0.039945</td>\n",
       "    </tr>\n",
       "    <tr>\n",
       "      <th>155807</th>\n",
       "      <td>XD3sign/angular.js</td>\n",
       "      <td>My Angular learning copy</td>\n",
       "      <td>1.141060</td>\n",
       "      <td>1.593671</td>\n",
       "      <td>0.602081</td>\n",
       "    </tr>\n",
       "    <tr>\n",
       "      <th>155808</th>\n",
       "      <td>marklai9999/Taiwancoin</td>\n",
       "      <td>New Era for 2049</td>\n",
       "      <td>-0.015166</td>\n",
       "      <td>-0.805603</td>\n",
       "      <td>-0.168817</td>\n",
       "    </tr>\n",
       "    <tr>\n",
       "      <th>155809</th>\n",
       "      <td>nbaiot/depot_tools</td>\n",
       "      <td>webrtc</td>\n",
       "      <td>-0.205521</td>\n",
       "      <td>0.425312</td>\n",
       "      <td>-0.596839</td>\n",
       "    </tr>\n",
       "    <tr>\n",
       "      <th>155810</th>\n",
       "      <td>xieguanglei/chromium-depot-tools</td>\n",
       "      <td>Mirror of</td>\n",
       "      <td>0.434604</td>\n",
       "      <td>-0.287686</td>\n",
       "      <td>0.162404</td>\n",
       "    </tr>\n",
       "  </tbody>\n",
       "</table>\n",
       "<p>154120 rows × 5 columns</p>\n",
       "</div>"
      ],
      "text/plain": [
       "                                    slug  \\\n",
       "0                              vuejs/vue   \n",
       "1                         facebook/react   \n",
       "2                  tensorflow/tensorflow   \n",
       "3                         twbs/bootstrap   \n",
       "4                        ohmyzsh/ohmyzsh   \n",
       "...                                  ...   \n",
       "155806        dreiger/Old-ServeUO-Source   \n",
       "155807                XD3sign/angular.js   \n",
       "155808            marklai9999/Taiwancoin   \n",
       "155809                nbaiot/depot_tools   \n",
       "155810  xieguanglei/chromium-depot-tools   \n",
       "\n",
       "                                              description         x         y  \\\n",
       "0         Vue js is a progressive  incrementally adopt...  0.782883 -0.229398   \n",
       "1       A declarative  efficient  and flexible JavaScr...  1.023074  0.233249   \n",
       "2       An Open Source Machine Learning Framework for ...  0.265099 -0.131261   \n",
       "3       The most popular HTML  CSS  and JavaScript fra...  0.987022  0.125709   \n",
       "4          A delightful community driven  with 1700  c... -0.089751 -0.601699   \n",
       "...                                                   ...       ...       ...   \n",
       "155806                                ServUO source clone -0.683399  0.142939   \n",
       "155807                           My Angular learning copy  1.141060  1.593671   \n",
       "155808                                   New Era for 2049 -0.015166 -0.805603   \n",
       "155809                                             webrtc -0.205521  0.425312   \n",
       "155810                                         Mirror of   0.434604 -0.287686   \n",
       "\n",
       "               z  \n",
       "0      -0.745730  \n",
       "1      -1.382094  \n",
       "2      -0.691105  \n",
       "3      -0.895561  \n",
       "4       0.125315  \n",
       "...          ...  \n",
       "155806 -0.039945  \n",
       "155807  0.602081  \n",
       "155808 -0.168817  \n",
       "155809 -0.596839  \n",
       "155810  0.162404  \n",
       "\n",
       "[154120 rows x 5 columns]"
      ]
     },
     "execution_count": 28,
     "metadata": {},
     "output_type": "execute_result"
    }
   ],
   "source": [
    "repo_data_out"
   ]
  },
  {
   "cell_type": "code",
   "execution_count": 43,
   "metadata": {},
   "outputs": [],
   "source": [
    "#repo_data_out.to_csv(\"/home/zz3hs/git/dspg21oss/data/dspg21oss/repo_embedding_3d_pca.csv\", index = False)"
   ]
  }
 ],
 "metadata": {
  "kernelspec": {
   "display_name": "Python [conda env:.conda-crystal_bert]",
   "language": "python",
   "name": "conda-env-.conda-crystal_bert-py"
  },
  "language_info": {
   "codemirror_mode": {
    "name": "ipython",
    "version": 3
   },
   "file_extension": ".py",
   "mimetype": "text/x-python",
   "name": "python",
   "nbconvert_exporter": "python",
   "pygments_lexer": "ipython3",
   "version": "3.8.10"
  }
 },
 "nbformat": 4,
 "nbformat_minor": 4
}
