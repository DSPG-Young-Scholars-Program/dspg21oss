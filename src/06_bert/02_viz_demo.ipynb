{
 "cells": [
  {
   "cell_type": "markdown",
   "metadata": {},
   "source": [
    "# BERT Viz"
   ]
  },
  {
   "cell_type": "code",
   "execution_count": 2,
   "metadata": {},
   "outputs": [],
   "source": [
    "#pgadmin\n",
    "import os\n",
    "import psycopg2 as pg\n",
    "\n",
    "\n",
    "# For BERT\n",
    "from transformers import DistilBertTokenizerFast, DistilBertModel\n",
    "\n",
    "# For data manipulation and analysis\n",
    "import pandas as pd\n",
    "pd.options.display.max_colwidth = 200\n",
    "import numpy as np\n",
    "from sklearn.decomposition import PCA\n",
    "\n",
    "# For interactive data visualization\n",
    "import altair as alt\n",
    "\n",
    "\n",
    "import re"
   ]
  },
  {
   "cell_type": "markdown",
   "metadata": {},
   "source": [
    "# Data"
   ]
  },
  {
   "cell_type": "code",
   "execution_count": 22,
   "metadata": {},
   "outputs": [],
   "source": [
    "repo_data = pd.read_csv(\"/home/zz3hs/git/dspg21oss/data/dspg21oss/github_repos_157k.csv\")"
   ]
  },
  {
   "cell_type": "code",
   "execution_count": 23,
   "metadata": {},
   "outputs": [
    {
     "data": {
      "text/html": [
       "<div>\n",
       "<style scoped>\n",
       "    .dataframe tbody tr th:only-of-type {\n",
       "        vertical-align: middle;\n",
       "    }\n",
       "\n",
       "    .dataframe tbody tr th {\n",
       "        vertical-align: top;\n",
       "    }\n",
       "\n",
       "    .dataframe thead th {\n",
       "        text-align: right;\n",
       "    }\n",
       "</style>\n",
       "<table border=\"1\" class=\"dataframe\">\n",
       "  <thead>\n",
       "    <tr style=\"text-align: right;\">\n",
       "      <th></th>\n",
       "      <th>slug</th>\n",
       "      <th>description</th>\n",
       "      <th>readme</th>\n",
       "      <th>language</th>\n",
       "      <th>topics</th>\n",
       "      <th>commits</th>\n",
       "      <th>forks</th>\n",
       "      <th>stars</th>\n",
       "      <th>watchers</th>\n",
       "    </tr>\n",
       "  </thead>\n",
       "  <tbody>\n",
       "    <tr>\n",
       "      <th>0</th>\n",
       "      <td>vuejs/vue</td>\n",
       "      <td>🖖 Vue.js is a progressive, incrementally-adoptable JavaScript framework for building UI on the web.</td>\n",
       "      <td>&lt;p align=\"center\"&gt;&lt;a href=\"https://vuejs.org\" rel=\"noopener noreferrer\" target=\"_blank\"&gt;&lt;img alt=\"Vue logo\" src=\"https://vuejs.org/images/logo.png\" width=\"100\"/&gt;&lt;/a&gt;&lt;/p&gt;\\n&lt;p align=\"center\"&gt;\\n&lt;a hr...</td>\n",
       "      <td>JavaScript</td>\n",
       "      <td>['vue', 'javascript', 'frontend', 'framework']</td>\n",
       "      <td>3070</td>\n",
       "      <td>29611</td>\n",
       "      <td>185611</td>\n",
       "      <td>6250</td>\n",
       "    </tr>\n",
       "    <tr>\n",
       "      <th>1</th>\n",
       "      <td>facebook/react</td>\n",
       "      <td>A declarative, efficient, and flexible JavaScript library for building user interfaces.</td>\n",
       "      <td># [React](https://reactjs.org/) · [![GitHub license](https://img.shields.io/badge/license-MIT-blue.svg)](https://github.com/facebook/react/blob/main/LICENSE) [![npm version](https://img.shields.io...</td>\n",
       "      <td>JavaScript</td>\n",
       "      <td>['javascript', 'react', 'frontend', 'declarative', 'ui', 'library']</td>\n",
       "      <td>12695</td>\n",
       "      <td>34352</td>\n",
       "      <td>171327</td>\n",
       "      <td>6718</td>\n",
       "    </tr>\n",
       "    <tr>\n",
       "      <th>2</th>\n",
       "      <td>tensorflow/tensorflow</td>\n",
       "      <td>An Open Source Machine Learning Framework for Everyone</td>\n",
       "      <td>&lt;div align=\"center\"&gt;\\n&lt;img src=\"https://www.tensorflow.org/images/tf_logo_social.png\"/&gt;\\n&lt;/div&gt;\\n\\n[![Python](https://img.shields.io/pypi/pyversions/tensorflow.svg?style=plastic)](https://badge.fu...</td>\n",
       "      <td>C++</td>\n",
       "      <td>['tensorflow', 'machine-learning', 'python', 'deep-learning', 'deep-neural-networks', 'neural-network', 'ml', 'distributed']</td>\n",
       "      <td>75671</td>\n",
       "      <td>84937</td>\n",
       "      <td>156754</td>\n",
       "      <td>8092</td>\n",
       "    </tr>\n",
       "    <tr>\n",
       "      <th>3</th>\n",
       "      <td>twbs/bootstrap</td>\n",
       "      <td>The most popular HTML, CSS, and JavaScript framework for developing responsive, mobile first projects on the web.</td>\n",
       "      <td>&lt;p align=\"center\"&gt;\\n&lt;a href=\"https://getbootstrap.com/\"&gt;\\n&lt;img alt=\"Bootstrap logo\" height=\"165\" src=\"https://getbootstrap.com/docs/5.0/assets/brand/bootstrap-logo-shadow.png\" width=\"200\"/&gt;\\n&lt;/a&gt;\\...</td>\n",
       "      <td>JavaScript</td>\n",
       "      <td>['css', 'bootstrap', 'javascript', 'html', 'scss', 'css-framework', 'sass']</td>\n",
       "      <td>19228</td>\n",
       "      <td>73981</td>\n",
       "      <td>151778</td>\n",
       "      <td>7079</td>\n",
       "    </tr>\n",
       "    <tr>\n",
       "      <th>4</th>\n",
       "      <td>ohmyzsh/ohmyzsh</td>\n",
       "      <td>🙃  A delightful community-driven (with 1700+ contributors) framework for managing your zsh configuration. Includes nearly 300 optional plugins (rails, git, OSX, hub, capistrano, brew, ant, php, py...</td>\n",
       "      <td>&lt;p align=\"center\"&gt;&lt;img alt=\"Oh My Zsh\" src=\"https://s3.amazonaws.com/ohmyzsh/oh-my-zsh-logo.png\"/&gt;&lt;/p&gt;\\n\\nOh My Zsh is an open source, community-driven framework for managing your [zsh](https://ww...</td>\n",
       "      <td>Shell</td>\n",
       "      <td>['shell', 'zsh-configuration', 'theme', 'terminal', 'productivity', 'hacktoberfest']</td>\n",
       "      <td>5447</td>\n",
       "      <td>22232</td>\n",
       "      <td>129314</td>\n",
       "      <td>2678</td>\n",
       "    </tr>\n",
       "    <tr>\n",
       "      <th>...</th>\n",
       "      <td>...</td>\n",
       "      <td>...</td>\n",
       "      <td>...</td>\n",
       "      <td>...</td>\n",
       "      <td>...</td>\n",
       "      <td>...</td>\n",
       "      <td>...</td>\n",
       "      <td>...</td>\n",
       "      <td>...</td>\n",
       "    </tr>\n",
       "    <tr>\n",
       "      <th>157533</th>\n",
       "      <td>VeryLittleGravitas/CDTADPQ</td>\n",
       "      <td>Very Little Gravitas implementation of Prototype B for RFI # CDT-ADPQ-0117</td>\n",
       "      <td># CA Alerts, made with Very Little Gravitas for CDT RFI # CDT-ADPQ-0117\\n\\n[CA Alerts](https://alerts-ca.herokuapp.com) ([https://alerts-ca.herokuapp.com](https://alerts-ca.herokuapp.com)), submit...</td>\n",
       "      <td>CSS</td>\n",
       "      <td>['prototype', 'messaging', 'emergency', 'govtech']</td>\n",
       "      <td>414</td>\n",
       "      <td>1</td>\n",
       "      <td>0</td>\n",
       "      <td>2</td>\n",
       "    </tr>\n",
       "    <tr>\n",
       "      <th>157534</th>\n",
       "      <td>dajinchu/kde-connect-android</td>\n",
       "      <td>For Google Code-In</td>\n",
       "      <td>NaN</td>\n",
       "      <td>Java</td>\n",
       "      <td>[]</td>\n",
       "      <td>414</td>\n",
       "      <td>0</td>\n",
       "      <td>0</td>\n",
       "      <td>1</td>\n",
       "    </tr>\n",
       "    <tr>\n",
       "      <th>157535</th>\n",
       "      <td>LibrinnoTeam/LibraryHelpBot</td>\n",
       "      <td>Library Management System. ITP2 project</td>\n",
       "      <td># Library Help Bot\\r\\n\\r\\n## Purpose of the application\\r\\n\\r\\nThis is the implementation of Library Management System (LMS). LMSs are used in libraries to track the different items in the library...</td>\n",
       "      <td>Python</td>\n",
       "      <td>['telegram-bot', 'mariadb', 'python', 'flask']</td>\n",
       "      <td>415</td>\n",
       "      <td>2</td>\n",
       "      <td>0</td>\n",
       "      <td>2</td>\n",
       "    </tr>\n",
       "    <tr>\n",
       "      <th>157536</th>\n",
       "      <td>Twissi/Animator</td>\n",
       "      <td>Animator for hacklace. See hacklace.org for further information.</td>\n",
       "      <td>Animator\\n========\\n\\nAnimator for hacklace. See hacklace.org for further information.\\n\\nInstallation steps\\n==================\\n\\n1. Install and setup [maven](http://maven.apache.org/).\\n2. Clon...</td>\n",
       "      <td>Java</td>\n",
       "      <td>[]</td>\n",
       "      <td>415</td>\n",
       "      <td>0</td>\n",
       "      <td>0</td>\n",
       "      <td>0</td>\n",
       "    </tr>\n",
       "    <tr>\n",
       "      <th>157537</th>\n",
       "      <td>WisapeAgency/WisapeAndroid</td>\n",
       "      <td>Wisape Android</td>\n",
       "      <td>Wisape\\n=========\\n\\n###API for JS\\n[Android API for Cordova JS](docs/android_js_api.md)\\n\\n###LICENSE\\n[License](LICENSE)\\n\\n###VERSION\\n[Version](VERSION.md)</td>\n",
       "      <td>Java</td>\n",
       "      <td>[]</td>\n",
       "      <td>415</td>\n",
       "      <td>0</td>\n",
       "      <td>0</td>\n",
       "      <td>11</td>\n",
       "    </tr>\n",
       "  </tbody>\n",
       "</table>\n",
       "<p>157538 rows × 9 columns</p>\n",
       "</div>"
      ],
      "text/plain": [
       "                                slug  \\\n",
       "0                          vuejs/vue   \n",
       "1                     facebook/react   \n",
       "2              tensorflow/tensorflow   \n",
       "3                     twbs/bootstrap   \n",
       "4                    ohmyzsh/ohmyzsh   \n",
       "...                              ...   \n",
       "157533    VeryLittleGravitas/CDTADPQ   \n",
       "157534  dajinchu/kde-connect-android   \n",
       "157535   LibrinnoTeam/LibraryHelpBot   \n",
       "157536               Twissi/Animator   \n",
       "157537    WisapeAgency/WisapeAndroid   \n",
       "\n",
       "                                                                                                                                                                                                    description  \\\n",
       "0                                                                                                           🖖 Vue.js is a progressive, incrementally-adoptable JavaScript framework for building UI on the web.   \n",
       "1                                                                                                                       A declarative, efficient, and flexible JavaScript library for building user interfaces.   \n",
       "2                                                                                                                                                        An Open Source Machine Learning Framework for Everyone   \n",
       "3                                                                                             The most popular HTML, CSS, and JavaScript framework for developing responsive, mobile first projects on the web.   \n",
       "4       🙃  A delightful community-driven (with 1700+ contributors) framework for managing your zsh configuration. Includes nearly 300 optional plugins (rails, git, OSX, hub, capistrano, brew, ant, php, py...   \n",
       "...                                                                                                                                                                                                         ...   \n",
       "157533                                                                                                                               Very Little Gravitas implementation of Prototype B for RFI # CDT-ADPQ-0117   \n",
       "157534                                                                                                                                                                                       For Google Code-In   \n",
       "157535                                                                                                                                                                  Library Management System. ITP2 project   \n",
       "157536                                                                                                                                         Animator for hacklace. See hacklace.org for further information.   \n",
       "157537                                                                                                                                                                                           Wisape Android   \n",
       "\n",
       "                                                                                                                                                                                                         readme  \\\n",
       "0       <p align=\"center\"><a href=\"https://vuejs.org\" rel=\"noopener noreferrer\" target=\"_blank\"><img alt=\"Vue logo\" src=\"https://vuejs.org/images/logo.png\" width=\"100\"/></a></p>\\n<p align=\"center\">\\n<a hr...   \n",
       "1       # [React](https://reactjs.org/) · [![GitHub license](https://img.shields.io/badge/license-MIT-blue.svg)](https://github.com/facebook/react/blob/main/LICENSE) [![npm version](https://img.shields.io...   \n",
       "2       <div align=\"center\">\\n<img src=\"https://www.tensorflow.org/images/tf_logo_social.png\"/>\\n</div>\\n\\n[![Python](https://img.shields.io/pypi/pyversions/tensorflow.svg?style=plastic)](https://badge.fu...   \n",
       "3       <p align=\"center\">\\n<a href=\"https://getbootstrap.com/\">\\n<img alt=\"Bootstrap logo\" height=\"165\" src=\"https://getbootstrap.com/docs/5.0/assets/brand/bootstrap-logo-shadow.png\" width=\"200\"/>\\n</a>\\...   \n",
       "4       <p align=\"center\"><img alt=\"Oh My Zsh\" src=\"https://s3.amazonaws.com/ohmyzsh/oh-my-zsh-logo.png\"/></p>\\n\\nOh My Zsh is an open source, community-driven framework for managing your [zsh](https://ww...   \n",
       "...                                                                                                                                                                                                         ...   \n",
       "157533  # CA Alerts, made with Very Little Gravitas for CDT RFI # CDT-ADPQ-0117\\n\\n[CA Alerts](https://alerts-ca.herokuapp.com) ([https://alerts-ca.herokuapp.com](https://alerts-ca.herokuapp.com)), submit...   \n",
       "157534                                                                                                                                                                                                      NaN   \n",
       "157535  # Library Help Bot\\r\\n\\r\\n## Purpose of the application\\r\\n\\r\\nThis is the implementation of Library Management System (LMS). LMSs are used in libraries to track the different items in the library...   \n",
       "157536  Animator\\n========\\n\\nAnimator for hacklace. See hacklace.org for further information.\\n\\nInstallation steps\\n==================\\n\\n1. Install and setup [maven](http://maven.apache.org/).\\n2. Clon...   \n",
       "157537                                          Wisape\\n=========\\n\\n###API for JS\\n[Android API for Cordova JS](docs/android_js_api.md)\\n\\n###LICENSE\\n[License](LICENSE)\\n\\n###VERSION\\n[Version](VERSION.md)   \n",
       "\n",
       "          language  \\\n",
       "0       JavaScript   \n",
       "1       JavaScript   \n",
       "2              C++   \n",
       "3       JavaScript   \n",
       "4            Shell   \n",
       "...            ...   \n",
       "157533         CSS   \n",
       "157534        Java   \n",
       "157535      Python   \n",
       "157536        Java   \n",
       "157537        Java   \n",
       "\n",
       "                                                                                                                              topics  \\\n",
       "0                                                                                     ['vue', 'javascript', 'frontend', 'framework']   \n",
       "1                                                                ['javascript', 'react', 'frontend', 'declarative', 'ui', 'library']   \n",
       "2       ['tensorflow', 'machine-learning', 'python', 'deep-learning', 'deep-neural-networks', 'neural-network', 'ml', 'distributed']   \n",
       "3                                                        ['css', 'bootstrap', 'javascript', 'html', 'scss', 'css-framework', 'sass']   \n",
       "4                                               ['shell', 'zsh-configuration', 'theme', 'terminal', 'productivity', 'hacktoberfest']   \n",
       "...                                                                                                                              ...   \n",
       "157533                                                                            ['prototype', 'messaging', 'emergency', 'govtech']   \n",
       "157534                                                                                                                            []   \n",
       "157535                                                                                ['telegram-bot', 'mariadb', 'python', 'flask']   \n",
       "157536                                                                                                                            []   \n",
       "157537                                                                                                                            []   \n",
       "\n",
       "        commits  forks   stars  watchers  \n",
       "0          3070  29611  185611      6250  \n",
       "1         12695  34352  171327      6718  \n",
       "2         75671  84937  156754      8092  \n",
       "3         19228  73981  151778      7079  \n",
       "4          5447  22232  129314      2678  \n",
       "...         ...    ...     ...       ...  \n",
       "157533      414      1       0         2  \n",
       "157534      414      0       0         1  \n",
       "157535      415      2       0         2  \n",
       "157536      415      0       0         0  \n",
       "157537      415      0       0        11  \n",
       "\n",
       "[157538 rows x 9 columns]"
      ]
     },
     "execution_count": 23,
     "metadata": {},
     "output_type": "execute_result"
    }
   ],
   "source": [
    "repo_data"
   ]
  },
  {
   "cell_type": "code",
   "execution_count": 24,
   "metadata": {},
   "outputs": [],
   "source": [
    "# randomly select a subset\n",
    "repo_data = repo_data.sample(2000)"
   ]
  },
  {
   "cell_type": "code",
   "execution_count": 25,
   "metadata": {},
   "outputs": [],
   "source": [
    "# create a list of description text\n",
    "python_description_text = repo_data[\"description\"].tolist()\n"
   ]
  },
  {
   "cell_type": "code",
   "execution_count": 26,
   "metadata": {},
   "outputs": [
    {
     "data": {
      "text/plain": [
       "2000"
      ]
     },
     "execution_count": 26,
     "metadata": {},
     "output_type": "execute_result"
    }
   ],
   "source": [
    "len(python_description_text)"
   ]
  },
  {
   "cell_type": "code",
   "execution_count": 27,
   "metadata": {},
   "outputs": [
    {
     "data": {
      "text/plain": [
       "str"
      ]
     },
     "execution_count": 27,
     "metadata": {},
     "output_type": "execute_result"
    }
   ],
   "source": [
    "type(python_description_text[0])"
   ]
  },
  {
   "cell_type": "markdown",
   "metadata": {},
   "source": [
    "# Encode/tokenize text data for BERT"
   ]
  },
  {
   "cell_type": "code",
   "execution_count": 28,
   "metadata": {},
   "outputs": [],
   "source": [
    "from transformers import DistilBertTokenizerFast"
   ]
  },
  {
   "cell_type": "code",
   "execution_count": 29,
   "metadata": {},
   "outputs": [],
   "source": [
    "tokenizer = DistilBertTokenizerFast.from_pretrained('distilbert-base-uncased')"
   ]
  },
  {
   "cell_type": "markdown",
   "metadata": {},
   "source": [
    "The `tokenizer()` will break word tokens into word pieces, truncate to 312 tokens, and add padding and special BERT tokens."
   ]
  },
  {
   "cell_type": "code",
   "execution_count": 30,
   "metadata": {},
   "outputs": [],
   "source": [
    "tokenized_description = tokenizer(python_description_text, truncation=True, padding=True, return_tensors=\"pt\")"
   ]
  },
  {
   "cell_type": "code",
   "execution_count": 57,
   "metadata": {},
   "outputs": [
    {
     "data": {
      "text/plain": [
       "'Common source code used by MonTransit Android apps.'"
      ]
     },
     "execution_count": 57,
     "metadata": {},
     "output_type": "execute_result"
    }
   ],
   "source": [
    "python_description_text[7]"
   ]
  },
  {
   "cell_type": "code",
   "execution_count": 56,
   "metadata": {},
   "outputs": [
    {
     "data": {
      "text/plain": [
       "'[CLS] common source code used by mont ##ran ##sit android apps . [SEP] [PAD] [PAD] [PAD] [PAD] [PAD] [PAD] [PAD] [PAD] [PAD] [PAD] [PAD] [PAD] [PAD] [PAD] [PAD] [PAD] [PAD] [PAD] [PAD] [PAD] [PAD] [PAD] [PAD] [PAD] [PAD] [PAD] [PAD] [PAD] [PAD] [PAD] [PAD] [PAD] [PAD] [PAD] [PAD] [PAD] [PAD] [PAD] [PAD] [PAD] [PAD] [PAD] [PAD] [PAD] [PAD] [PAD] [PAD] [PAD] [PAD] [PAD] [PAD] [PAD] [PAD] [PAD] [PAD] [PAD] [PAD] [PAD] [PAD] [PAD] [PAD] [PAD] [PAD] [PAD] [PAD] [PAD] [PAD] [PAD] [PAD] [PAD] [PAD] [PAD] [PAD] [PAD] [PAD] [PAD] [PAD] [PAD] [PAD] [PAD] [PAD] [PAD] [PAD] [PAD] [PAD] [PAD] [PAD] [PAD] [PAD] [PAD] [PAD] [PAD] [PAD] [PAD] [PAD] [PAD] [PAD] [PAD] [PAD] [PAD] [PAD] [PAD] [PAD] [PAD] [PAD] [PAD] [PAD] [PAD] [PAD] [PAD] [PAD] [PAD] [PAD] [PAD] [PAD] [PAD] [PAD] [PAD] [PAD] [PAD] [PAD] [PAD] [PAD] [PAD] [PAD] [PAD] [PAD] [PAD] [PAD] [PAD] [PAD] [PAD] [PAD] [PAD] [PAD] [PAD] [PAD] [PAD] [PAD] [PAD] [PAD] [PAD] [PAD] [PAD] [PAD] [PAD] [PAD] [PAD] [PAD] [PAD] [PAD] [PAD] [PAD] [PAD] [PAD] [PAD] [PAD] [PAD] [PAD] [PAD] [PAD] [PAD] [PAD] [PAD] [PAD] [PAD] [PAD] [PAD] [PAD] [PAD] [PAD] [PAD] [PAD] [PAD] [PAD] [PAD] [PAD] [PAD] [PAD] [PAD] [PAD] [PAD] [PAD] [PAD] [PAD] [PAD] [PAD] [PAD] [PAD] [PAD] [PAD] [PAD] [PAD] [PAD] [PAD] [PAD] [PAD] [PAD] [PAD] [PAD] [PAD] [PAD] [PAD] [PAD] [PAD] [PAD] [PAD] [PAD] [PAD] [PAD] [PAD] [PAD] [PAD] [PAD] [PAD] [PAD] [PAD] [PAD] [PAD] [PAD] [PAD] [PAD] [PAD] [PAD] [PAD] [PAD] [PAD] [PAD] [PAD] [PAD] [PAD] [PAD] [PAD] [PAD] [PAD] [PAD] [PAD] [PAD] [PAD] [PAD] [PAD] [PAD] [PAD] [PAD] [PAD] [PAD] [PAD] [PAD] [PAD] [PAD] [PAD] [PAD] [PAD] [PAD] [PAD] [PAD] [PAD] [PAD] [PAD] [PAD] [PAD] [PAD] [PAD] [PAD] [PAD] [PAD] [PAD] [PAD] [PAD] [PAD] [PAD] [PAD] [PAD] [PAD] [PAD] [PAD] [PAD] [PAD] [PAD] [PAD] [PAD] [PAD] [PAD] [PAD] [PAD] [PAD] [PAD] [PAD] [PAD] [PAD] [PAD] [PAD] [PAD] [PAD] [PAD] [PAD] [PAD] [PAD] [PAD]'"
      ]
     },
     "execution_count": 56,
     "metadata": {},
     "output_type": "execute_result"
    }
   ],
   "source": [
    "' '.join(tokenized_description[7].tokens)"
   ]
  },
  {
   "cell_type": "markdown",
   "metadata": {},
   "source": [
    "## Load pre-trained BERT model"
   ]
  },
  {
   "cell_type": "code",
   "execution_count": 58,
   "metadata": {},
   "outputs": [],
   "source": [
    "from transformers import DistilBertModel"
   ]
  },
  {
   "cell_type": "code",
   "execution_count": 35,
   "metadata": {},
   "outputs": [
    {
     "name": "stderr",
     "output_type": "stream",
     "text": [
      "Some weights of the model checkpoint at distilbert-base-uncased were not used when initializing DistilBertModel: ['vocab_layer_norm.weight', 'vocab_projector.weight', 'vocab_transform.bias', 'vocab_transform.weight', 'vocab_layer_norm.bias', 'vocab_projector.bias']\n",
      "- This IS expected if you are initializing DistilBertModel from the checkpoint of a model trained on another task or with another architecture (e.g. initializing a BertForSequenceClassification model from a BertForPreTraining model).\n",
      "- This IS NOT expected if you are initializing DistilBertModel from the checkpoint of a model that you expect to be exactly identical (initializing a BertForSequenceClassification model from a BertForSequenceClassification model).\n"
     ]
    }
   ],
   "source": [
    "#model = DistilBertModel.from_pretrained('distilbert-base-uncased').to(\"cuda\")\n",
    "model = DistilBertModel.from_pretrained('distilbert-base-uncased')"
   ]
  },
  {
   "cell_type": "code",
   "execution_count": 36,
   "metadata": {},
   "outputs": [],
   "source": [
    "# List of vocabulary word IDs for all the words in each document (aka each repo description)\n",
    "doc_word_ids = []\n",
    "# List of word vectors for all the words in each document (aka each repo description)\n",
    "doc_word_vectors = []\n",
    "\n",
    "# Below we will slice our repo description to ignore the first (0th) and last (-1) special BERT tokens\n",
    "start_of_words = 1\n",
    "end_of_words = -1\n",
    "\n",
    "# Below we will index the 0th or first document, which will be the only document, since we're analzying one repo description at a time\n",
    "first_document = 0\n",
    "\n",
    "for i, description in enumerate(python_description_text):\n",
    "  \n",
    "    # Here we tokenize each poem with the DistilBERT Tokenizer\n",
    "    inputs = tokenizer(description, return_tensors=\"pt\", truncation=True, padding=True)\n",
    "\n",
    "    # Here we extract the vocabulary word ids for all the words in the poem (the first or 0th document, since we only have one document)\n",
    "    # We ignore the first and last special BERT tokens\n",
    "    # We also convert from a Pytorch tensor to a numpy array\n",
    "    doc_word_ids.append(inputs.input_ids[first_document].numpy()[start_of_words:end_of_words])\n",
    "\n",
    "    # Here we send the tokenized poems to the GPU\n",
    "    # The model is already on the GPU, but this poem isn't, so we send it to the GPU\n",
    "    #inputs.to(\"cuda\")\n",
    "    \n",
    "    # Here we run the tokenized poem through the DistilBERT model\n",
    "    outputs = model(**inputs)\n",
    "\n",
    "    # We take every element from the first or 0th document, from the 2nd to the 2nd to last position\n",
    "    # Grabbing the last layer is one way of getting token vectors. There are different ways to get vectors with different pros and cons\n",
    "    doc_word_vectors.append(outputs.last_hidden_state[first_document,start_of_words:end_of_words,:].detach().cpu().numpy())\n"
   ]
  },
  {
   "cell_type": "code",
   "execution_count": null,
   "metadata": {},
   "outputs": [],
   "source": [
    "#Confirm that we have the same number of documents for both the tokens and the vectors:\n",
    "len(doc_word_ids), len(doc_word_vectors)"
   ]
  },
  {
   "cell_type": "code",
   "execution_count": null,
   "metadata": {},
   "outputs": [],
   "source": [
    "doc_word_ids[0], doc_word_vectors[0]"
   ]
  },
  {
   "cell_type": "markdown",
   "metadata": {},
   "source": [
    "### Concatenate all word IDs/vectors for all doc"
   ]
  },
  {
   "cell_type": "code",
   "execution_count": 38,
   "metadata": {},
   "outputs": [],
   "source": [
    "all_word_ids = np.concatenate(doc_word_ids)\n",
    "all_word_vectors = np.concatenate(doc_word_vectors, axis=0)"
   ]
  },
  {
   "cell_type": "code",
   "execution_count": 39,
   "metadata": {},
   "outputs": [],
   "source": [
    "# Calculating the length of each vector (Pythagorean theorem)\n",
    "row_norms = np.sqrt(np.sum(all_word_vectors ** 2, axis=1))\n",
    "# Dividing every vector by its length\n",
    "all_word_vectors /= row_norms[:,np.newaxis]"
   ]
  },
  {
   "cell_type": "markdown",
   "metadata": {},
   "source": [
    "## Find all word positions in a collection"
   ]
  },
  {
   "cell_type": "code",
   "execution_count": 43,
   "metadata": {},
   "outputs": [],
   "source": [
    "def get_word_positions(words):\n",
    "  \n",
    "    \"\"\"This function accepts a list of words, rather than a single word\"\"\"\n",
    "\n",
    "    # Get word/vocabulary ID from BERT for each word\n",
    "    word_ids = [tokenizer.vocab[word] for word in words]\n",
    "\n",
    "    # Find all the positions where the words occur in the collection\n",
    "    word_positions = np.where(np.isin(all_word_ids, word_ids))[0]\n",
    "\n",
    "    return word_positions"
   ]
  },
  {
   "cell_type": "code",
   "execution_count": 44,
   "metadata": {},
   "outputs": [
    {
     "data": {
      "text/plain": [
       "array([   12,   215,   504,   707,   721,  1107,  1704,  2135,  2162,\n",
       "        2187,  2446,  3496,  5657,  5945,  6609,  8765,  8833,  8930,\n",
       "        9118,  9598,  9697, 10029, 10110, 10116, 10383, 10510, 11123,\n",
       "       12531, 12989, 13292, 13361, 14381, 14565, 14747, 14867, 15121,\n",
       "       15815, 16271, 16524, 17881, 17958, 19027, 20373, 20743, 21471,\n",
       "       23056, 23887, 24366, 24392, 24967, 25111, 25297, 25335, 25973,\n",
       "       27070, 27262, 27590, 28263, 28393, 28818, 29288, 29294, 29404,\n",
       "       29407, 29474, 29555, 30304, 30574, 30648, 30741, 30748, 31073,\n",
       "       31532, 31654, 32045, 35154, 35158, 35993, 36313, 36426, 37179,\n",
       "       37199, 39013, 39257, 39292, 39425, 41444, 41889, 42258, 43252,\n",
       "       43413, 43427, 43436, 43556, 44650, 44723, 44734, 45446, 45679,\n",
       "       46372, 46514, 46942, 47310, 48745, 49880, 51481, 51593, 52164,\n",
       "       52550, 52608, 52925, 53099, 53158, 53248, 54266, 56008, 57112,\n",
       "       57917, 58551, 58715, 58998, 59657, 59672, 60601, 62693, 64363,\n",
       "       64388, 65035, 65245, 65570, 66073, 66143, 66252, 66442, 66704,\n",
       "       67548, 68097, 68607, 68617, 69670, 70292, 70305, 70818, 70829,\n",
       "       71057, 71221, 71308, 71537, 71720, 71950, 72152, 72458, 72840,\n",
       "       73857])"
      ]
     },
     "execution_count": 44,
     "metadata": {},
     "output_type": "execute_result"
    }
   ],
   "source": [
    "get_word_positions([\"python\"])"
   ]
  },
  {
   "cell_type": "code",
   "execution_count": 45,
   "metadata": {},
   "outputs": [],
   "source": [
    "word_positions = get_word_positions([\"python\"])"
   ]
  },
  {
   "cell_type": "markdown",
   "metadata": {},
   "source": [
    "## Find word from word position"
   ]
  },
  {
   "cell_type": "code",
   "execution_count": 47,
   "metadata": {},
   "outputs": [],
   "source": [
    "# Here we create an array so that we can go backwards from numeric token IDs to words\n",
    "word_lookup = np.empty(tokenizer.vocab_size, dtype=\"O\")\n",
    "\n",
    "for word, index in tokenizer.vocab.items():\n",
    "    word_lookup[index] = word"
   ]
  },
  {
   "cell_type": "code",
   "execution_count": 48,
   "metadata": {},
   "outputs": [
    {
     "name": "stdout",
     "output_type": "stream",
     "text": [
      "12 python\n",
      "215 python\n",
      "504 python\n",
      "707 python\n",
      "721 python\n",
      "1107 python\n",
      "1704 python\n",
      "2135 python\n",
      "2162 python\n",
      "2187 python\n",
      "2446 python\n",
      "3496 python\n",
      "5657 python\n",
      "5945 python\n",
      "6609 python\n",
      "8765 python\n",
      "8833 python\n",
      "8930 python\n",
      "9118 python\n",
      "9598 python\n",
      "9697 python\n",
      "10029 python\n",
      "10110 python\n",
      "10116 python\n",
      "10383 python\n",
      "10510 python\n",
      "11123 python\n",
      "12531 python\n",
      "12989 python\n",
      "13292 python\n",
      "13361 python\n",
      "14381 python\n",
      "14565 python\n",
      "14747 python\n",
      "14867 python\n",
      "15121 python\n",
      "15815 python\n",
      "16271 python\n",
      "16524 python\n",
      "17881 python\n",
      "17958 python\n",
      "19027 python\n",
      "20373 python\n",
      "20743 python\n",
      "21471 python\n",
      "23056 python\n",
      "23887 python\n",
      "24366 python\n",
      "24392 python\n",
      "24967 python\n",
      "25111 python\n",
      "25297 python\n",
      "25335 python\n",
      "25973 python\n",
      "27070 python\n",
      "27262 python\n",
      "27590 python\n",
      "28263 python\n",
      "28393 python\n",
      "28818 python\n",
      "29288 python\n",
      "29294 python\n",
      "29404 python\n",
      "29407 python\n",
      "29474 python\n",
      "29555 python\n",
      "30304 python\n",
      "30574 python\n",
      "30648 python\n",
      "30741 python\n",
      "30748 python\n",
      "31073 python\n",
      "31532 python\n",
      "31654 python\n",
      "32045 python\n",
      "35154 python\n",
      "35158 python\n",
      "35993 python\n",
      "36313 python\n",
      "36426 python\n",
      "37179 python\n",
      "37199 python\n",
      "39013 python\n",
      "39257 python\n",
      "39292 python\n",
      "39425 python\n",
      "41444 python\n",
      "41889 python\n",
      "42258 python\n",
      "43252 python\n",
      "43413 python\n",
      "43427 python\n",
      "43436 python\n",
      "43556 python\n",
      "44650 python\n",
      "44723 python\n",
      "44734 python\n",
      "45446 python\n",
      "45679 python\n",
      "46372 python\n",
      "46514 python\n",
      "46942 python\n",
      "47310 python\n",
      "48745 python\n",
      "49880 python\n",
      "51481 python\n",
      "51593 python\n",
      "52164 python\n",
      "52550 python\n",
      "52608 python\n",
      "52925 python\n",
      "53099 python\n",
      "53158 python\n",
      "53248 python\n",
      "54266 python\n",
      "56008 python\n",
      "57112 python\n",
      "57917 python\n",
      "58551 python\n",
      "58715 python\n",
      "58998 python\n",
      "59657 python\n",
      "59672 python\n",
      "60601 python\n",
      "62693 python\n",
      "64363 python\n",
      "64388 python\n",
      "65035 python\n",
      "65245 python\n",
      "65570 python\n",
      "66073 python\n",
      "66143 python\n",
      "66252 python\n",
      "66442 python\n",
      "66704 python\n",
      "67548 python\n",
      "68097 python\n",
      "68607 python\n",
      "68617 python\n",
      "69670 python\n",
      "70292 python\n",
      "70305 python\n",
      "70818 python\n",
      "70829 python\n",
      "71057 python\n",
      "71221 python\n",
      "71308 python\n",
      "71537 python\n",
      "71720 python\n",
      "71950 python\n",
      "72152 python\n",
      "72458 python\n",
      "72840 python\n",
      "73857 python\n"
     ]
    }
   ],
   "source": [
    "word_positions = get_word_positions([\"python\"])\n",
    "\n",
    "for word_position in word_positions:\n",
    "    print(word_position, word_lookup[all_word_ids[word_position]])"
   ]
  },
  {
   "cell_type": "markdown",
   "metadata": {},
   "source": [
    "### We can also look for the 3 words that come before \"python\" and the 3 words that come after it."
   ]
  },
  {
   "cell_type": "code",
   "execution_count": 50,
   "metadata": {},
   "outputs": [
    {
     "name": "stdout",
     "output_type": "stream",
     "text": [
      "12 ##logy data in python , together with\n",
      "215 old repository a python api for fra\n",
      "504 storm architecture the python sd ##k for\n",
      "707 licensed , unofficial python client for the\n",
      "721 agent written in python a humble project\n",
      "1107 for bell media python tiny approx ##ima\n",
      "1704 - virus checking python - su ##sea\n",
      "2135 b ##x - python imported with h\n",
      "2162 b ##x - python / with missing\n",
      "2187 b ##x - python added [UNK] [UNK]\n",
      "2446 ##cion ##al a python implementation of the\n",
      "3496 server written in python a validation plug\n",
      "5657 . org . python ##ic task management\n",
      "5945 code generation . python ##ic wrap ##per\n",
      "6609 ' s ecosystem python core package that\n",
      "8765 ##ur ##ren ##cy python measurement platform for\n",
      "8833 _ rep ##o python server utilities fork\n",
      "8930 our api . python library for knowledge\n",
      "9118 web server in python mo ##s ##n\n",
      "9598 definitely not an python exploit . react\n",
      "9697 64 - bit python ) quick ##fo\n",
      "10029 all platforms . python 3 version of\n",
      "10110 implementing binding for python ##2 . 7\n",
      "10116 7 and allowing python script ##ing from\n",
      "10383 tool ##kit for python installation tool to\n",
      "10510 linux hearth ##stone python library ( card\n",
      "11123 ##bian packaging of python - j ##sons\n",
      "12531 replicate ##d by python ##3 word ##press\n",
      "12989 and open source python library to access\n",
      "13292 ua library for python > 3 .\n",
      "13361 body code in python basic help ##ers\n",
      "14381 tool written in python that doesn '\n",
      "14565 management platform . python automated testing on\n",
      "14747 gs ##t - python automatically exported from\n",
      "14867 program which checks python source files for\n",
      "15121 plug ##in a python 2 . 7\n",
      "15815 robot framework & python z ##ope ##ske\n",
      "16271 da ##pp ) python - based tools\n",
      "16524 francais . a python library for knitting\n",
      "17881 ##ride mechanism for python . a modular\n",
      "17958 an open source python library for automatic\n",
      "19027 . google sheets python api multi ##co\n",
      "20373 pull requests . python 3d mesh processing\n",
      "20743 io solutions in python and swift gui\n",
      "21471 ##le plug ##ins python micro - framework\n",
      "23056 - south a python tool ##box to\n",
      "23887 comprehension engine in python gen ##to ##o\n",
      "24366 lean and efficient python implementation for open\n",
      "24392 and your favourite python web framework .\n",
      "24967 pic ##n : python ic ##n and\n",
      "25111 a fork of python - r ##p\n",
      "25297 ) is a python software library for\n",
      "25335 , automatically parallel python for data science\n",
      "25973 spring boot . python client for the\n",
      "27070 survival analysis in python a line based\n",
      "27262 abc learn java python library for working\n",
      "27590 + + and python . 123 ##23\n",
      "28263 a module for python 3 . 6\n",
      "28393 / p / python - mp ##layer\n",
      "28818 soccer playing ai python tools for visual\n",
      "29288 im ##db ##py python package , still\n",
      "29294 still compatible with python 2 . 7\n",
      "29404 database connector for python ( with python\n",
      "29407 python ( with python 3 support )\n",
      "29474 community - driven python package for anal\n",
      "29555 public packages a python api and b\n",
      "30304 on top of python . fork from\n",
      "30574 con ##fi ##g python 3 library for\n",
      "30648 holders of mice python growth and yield\n",
      "30741 . bay ##esian python : bay ##esian\n",
      "30748 inference tools for python um ##i .\n",
      "31073 for visual programming python library to load\n",
      "31532 things communications a python simulator for ashby\n",
      "31654 18 ] [ python ] [ dj\n",
      "32045 ##w ##m configuration python ant download ##er\n",
      "35154 ad ##b and python | [UNK] [UNK]\n",
      "35158 | [UNK] [UNK] python 的 明 日\n",
      "35993 cad written in python + t ##kin\n",
      "36313 . 3 + python framework https :\n",
      "36426 gram all in python and still more\n",
      "37179 server technology . python tool designed to\n",
      "37199 arc ##py and python 2 . 7\n",
      "39013 ##y : a python ##ic wrap ##per\n",
      "39257 a collection of python bulk import scripts\n",
      "39292 ##i utility and python module for analyzing\n",
      "39425 ##xi ##r . python port of shadows\n",
      "41444 written in pure python this is the\n",
      "41889 ui development a python library and tools\n",
      "42258 - cn code python [UNK] [UNK] [UNK]\n",
      "43252 ##ac ##ut a python package with tools\n",
      "43413 yi editor clone python binding to tango\n",
      "43427 ##lo ##cat ##able python virtual ##en ##vs\n",
      "43436 a boss . python package for commonly\n",
      "43556 ##l gui generate python ct ##ype ##s\n",
      "44650 reviews . a python module provides a\n",
      "44723 ##ta ##ck compute python domain specific language\n",
      "44734 http client for python . [UNK] [UNK]\n",
      "45446 agent [UNK] [UNK] python [UNK] [UNK] 的\n",
      "45679 的 web ##pack python - based bit\n",
      "46372 storage device using python 2 & 3\n",
      "46514 ##r for a python like language to\n",
      "46942 em ##pl ##oi python pour le marche\n",
      "47310 or 3d using python social listening for\n",
      "48745 tracing framework for python on windows .\n",
      "49880 ##tock android app python sd ##k for\n",
      "51481 ##eve implementation simple python tool to create\n",
      "51593 stem , a python controller library for\n",
      "52164 is a pure python implementation of hd\n",
      "52550 scout ##ap ##m python agent . supports\n",
      "52608 ##pl ##o em python technical indicators rep\n",
      "52925 platform . official python agent for au\n",
      "53099 automated system for python - based experiments\n",
      "53158 sd ##ks . python module containing system\n",
      "53248 port of the python based hosting scripts\n",
      "54266 app for community python wrap ##per for\n",
      "56008 super ##ma ##p python sd ##k for\n",
      "57112 ##d is a python library for working\n",
      "57917 ##nst ##ap support python module for creating\n",
      "58551 tool and a python package to manipulate\n",
      "58715 application persistence service python wa ##pi client\n",
      "58998 dj ##ango and python . no code\n",
      "59657 on red ##ux python framework for processing\n",
      "59672 script written in python 3 . #\n",
      "60601 application written in python , with a\n",
      "62693 here maps . python gui library device\n",
      "64363 data processing - python package tod ##o\n",
      "64388 public ##aca ##o python tutor ##ial to\n",
      "65035 2015 on why python is awesome -\n",
      "65245 bot written in python , designed with\n",
      "65570 ##ggle cart ##o python package for data\n",
      "66073 ad ##min / python ji ##ra library\n",
      "66143 ##m rep ##o python sd ##k for\n",
      "66252 sun ##py - python for solar physics\n",
      "66442 network analysis using python [UNK] app ##end\n",
      "66704 migration ##s a python library for quantum\n",
      "67548 [UNK] [UNK] [UNK] python [UNK] [UNK] ，\n",
      "68097 ， [UNK] [UNK] python 、 node ##js\n",
      "68607 . gi ##t python package for digit\n",
      "68617 mu ##jin controller python client em ##bed\n",
      "69670 tool ##box for python automatically exported from\n",
      "70292 net ##till ##ing python as ##n .\n",
      "70305 performance and a python ##ic api event\n",
      "70818 a set of python tools for building\n",
      "70829 delivery apps ( python port of loop\n",
      "71057 to work with python ##3 . automatically\n",
      "71221 pipeline services for python and c /\n",
      "71308 dj ##ango + python + my ##s\n",
      "71537 evolution platform . python logging handler for\n",
      "71720 ui ##s for python scripts . vt\n",
      "71950 game engine for python a word ##press\n",
      "72152 ) system in python . a scratch\n",
      "72458 ##x is a python object - oriented\n",
      "72840 binding ##s for python and c #\n",
      "73857 data generator for python , which provides\n"
     ]
    }
   ],
   "source": [
    "word_positions = get_word_positions([\"python\"])\n",
    "\n",
    "for word_position in word_positions:\n",
    "\n",
    "    # Slice 3 words before \"bank\"\n",
    "    start_pos = word_position - 3\n",
    "    # Slice 3 words after \"bank\"\n",
    "    end_pos = word_position + 4\n",
    "    context_words = word_lookup[all_word_ids[start_pos:end_pos]]\n",
    "    # Join the words together\n",
    "    context_words = ' '.join(context_words)\n",
    "    print(word_position, context_words)"
   ]
  },
  {
   "cell_type": "code",
   "execution_count": 54,
   "metadata": {},
   "outputs": [],
   "source": [
    "def get_context(word_id, window_size=10):\n",
    "  \n",
    "    \"\"\"Simply get the tokens that occur before and after word position\"\"\"\n",
    "\n",
    "    start_pos = max(0, word_id - window_size) # The token where we will start the context view\n",
    "    end_pos = min(word_id + window_size + 1, len(all_word_ids)) # The token where we will end the context view\n",
    "\n",
    "    # Make a list called tokens and use word_lookup to get the words for given token IDs from starting position up to the keyword\n",
    "    tokens = [word_lookup[word] for word in all_word_ids[start_pos:end_pos] ]\n",
    "\n",
    "    context_words = \" \".join(tokens)\n",
    "\n",
    "    return context_words"
   ]
  },
  {
   "cell_type": "code",
   "execution_count": 61,
   "metadata": {},
   "outputs": [],
   "source": [
    "def get_context_clean(word_id, window_size=10):\n",
    "  \n",
    "    \"\"\"Get the tokens that occur before and after word position AND make them more readable\"\"\"\n",
    "\n",
    "    keyword = word_lookup[all_word_ids[word_id]]\n",
    "    start_pos = max(0, word_id - window_size) # The token where we will start the context view\n",
    "    end_pos = min(word_id + window_size + 1, len(all_word_ids)) # The token where we will end the context view\n",
    "\n",
    "    # Make a list called tokens and use word_lookup to get the words for given token IDs from starting position up to the keyword\n",
    "    tokens = [word_lookup[word] for word in all_word_ids[start_pos:end_pos] ]\n",
    "\n",
    "    # Make wordpieces slightly more readable\n",
    "    # This is probably not the most efficient way to clean and correct for weird spacing\n",
    "    context_words = \" \".join(tokens)\n",
    "    context_words = re.sub(r'\\s+([##])', r'\\1', context_words)\n",
    "    context_words = re.sub(r'##', r'', context_words)\n",
    "    context_words = re.sub('\\s+\\'s', '\\'s', context_words)\n",
    "    context_words = re.sub('\\s+\\'d', '\\'d', context_words)\n",
    "    context_words = re.sub('\\s\\'er', '\\'er', context_words)\n",
    "    context_words = re.sub(r'\\s+([-,:?.!;])', r'\\1', context_words)\n",
    "    context_words = re.sub(r'([-\\'\"])\\s+', r'\\1', context_words)\n",
    "    context_words = re.sub('\\s+\\'s', '\\'s', context_words)\n",
    "    context_words = re.sub('\\s+\\'d', '\\'d', context_words)\n",
    "\n",
    "    # Bold the keyword by putting asterisks around it\n",
    "    if keyword in context_words:\n",
    "        context_words = re.sub(f\"\\\\b{keyword}\\\\b\", f\"**{keyword}**\", context_words)\n",
    "        context_words = re.sub(f\"\\\\b({keyword}[esdtrlying]+)\\\\b\", fr\"**\\1**\", context_words)\n",
    "\n",
    "    return context_words"
   ]
  },
  {
   "cell_type": "markdown",
   "metadata": {},
   "source": [
    "## Viz"
   ]
  },
  {
   "cell_type": "code",
   "execution_count": 62,
   "metadata": {},
   "outputs": [],
   "source": [
    "from IPython.display import Markdown, display\n",
    "\n",
    "def print_md(string):\n",
    "    display(Markdown(string))"
   ]
  },
  {
   "cell_type": "code",
   "execution_count": 63,
   "metadata": {},
   "outputs": [
    {
     "data": {
      "text/markdown": [
       "<br> 12:  a package for representing electrophysiology data in **python**, together with support for reading a wide range of <br>"
      ],
      "text/plain": [
       "<IPython.core.display.Markdown object>"
      ]
     },
     "metadata": {},
     "output_type": "display_data"
    },
    {
     "data": {
      "text/markdown": [
       "<br> 215:  . distributed systems emulator--old repository a **python** api for fragalysis ( fragalysis. <br>"
      ],
      "text/plain": [
       "<IPython.core.display.Markdown object>"
      ]
     },
     "metadata": {},
     "output_type": "display_data"
    },
    {
     "data": {
      "text/markdown": [
       "<br> 504:  . streaming processing system designed like apache storm architecture the **python** sdk for the rackspace cloud braintree drop <br>"
      ],
      "text/plain": [
       "<IPython.core.display.Markdown object>"
      ]
     },
     "metadata": {},
     "output_type": "display_data"
    },
    {
     "data": {
      "text/markdown": [
       "<br> 707:  p2p framework an apache2 licensed, unofficial **python** client for the mygeotab api. linux <br>"
      ],
      "text/plain": [
       "<IPython.core.display.Markdown object>"
      ]
     },
     "metadata": {},
     "output_type": "display_data"
    },
    {
     "data": {
      "text/markdown": [
       "<br> 721:  mygeotab api. linux agent written in **python** a humble project to tackle the hardest problem in society <br>"
      ],
      "text/plain": [
       "<IPython.core.display.Markdown object>"
      ]
     },
     "metadata": {},
     "output_type": "display_data"
    },
    {
     "data": {
      "text/markdown": [
       "<br> 1107:  ce repair dec 2015 wp site for bell media **python** tiny approximative virtual stage light apresenta <br>"
      ],
      "text/plain": [
       "<IPython.core.display.Markdown object>"
      ]
     },
     "metadata": {},
     "output_type": "display_data"
    },
    {
     "data": {
      "text/markdown": [
       "<br> 1704:  network file service with replication and anti-virus checking **python**-suseapi is set of helpers to <br>"
      ],
      "text/plain": [
       "<IPython.core.display.Markdown object>"
      ]
     },
     "metadata": {},
     "output_type": "display_data"
    },
    {
     "data": {
      "text/markdown": [
       "<br> 2135:  -toolbox-for-mac bx-**python** imported with hg-fast-export from https <br>"
      ],
      "text/plain": [
       "<IPython.core.display.Markdown object>"
      ]
     },
     "metadata": {},
     "output_type": "display_data"
    },
    {
     "data": {
      "text/markdown": [
       "<br> 2162:  . org / james _ taylor / bx-**python** / with missing patched available in https: / <br>"
      ],
      "text/plain": [
       "<IPython.core.display.Markdown object>"
      ]
     },
     "metadata": {},
     "output_type": "display_data"
    },
    {
     "data": {
      "text/markdown": [
       "<br> 2187:  . com / bxlab / bx-**python** added [UNK] [UNK] iview-admin [UNK] <br>"
      ],
      "text/plain": [
       "<IPython.core.display.Markdown object>"
      ]
     },
     "metadata": {},
     "output_type": "display_data"
    },
    {
     "data": {
      "text/markdown": [
       "<br> 2446:  ciones de logica ecuacional a **python** implementation of the msn protocol devise module for <br>"
      ],
      "text/plain": [
       "<IPython.core.display.Markdown object>"
      ]
     },
     "metadata": {},
     "output_type": "display_data"
    },
    {
     "data": {
      "text/markdown": [
       "<br> 3496:  mac address aware dhcpv6 server written in **python** a validation plugin for backbone. js that <br>"
      ],
      "text/plain": [
       "<IPython.core.display.Markdown object>"
      ]
     },
     "metadata": {},
     "output_type": "display_data"
    },
    {
     "data": {
      "text/markdown": [
       "<br> 5657:  mirror of code maintained at opendev. org. pythonic task management & command execution. backup for work <br>"
      ],
      "text/plain": [
       "<IPython.core.display.Markdown object>"
      ]
     },
     "metadata": {},
     "output_type": "display_data"
    },
    {
     "data": {
      "text/markdown": [
       "<br> 5945:  a fast scala generic library based on code generation. pythonic wrapper for r's ggplot <br>"
      ],
      "text/plain": [
       "<IPython.core.display.Markdown object>"
      ]
     },
     "metadata": {},
     "output_type": "display_data"
    },
    {
     "data": {
      "text/markdown": [
       "<br> 6609:  chain highly compatible with ethereum's ecosystem **python** core package that collects various software for track co- <br>"
      ],
      "text/plain": [
       "<IPython.core.display.Markdown object>"
      ]
     },
     "metadata": {},
     "output_type": "display_data"
    },
    {
     "data": {
      "text/markdown": [
       "<br> 8765:  censorship-free data storage cryptocurrency **python** measurement platform for the nanoelectronics group <br>"
      ],
      "text/plain": [
       "<IPython.core.display.Markdown object>"
      ]
     },
     "metadata": {},
     "output_type": "display_data"
    },
    {
     "data": {
      "text/markdown": [
       "<br> 8833:  support, written in typescript fusion _ repo **python** server utilities fork of https: / / gith <br>"
      ],
      "text/plain": [
       "<IPython.core.display.Markdown object>"
      ]
     },
     "metadata": {},
     "output_type": "display_data"
    },
    {
     "data": {
      "text/markdown": [
       "<br> 8930:  visualize density data fetched from our api. **python** library for knowledge graph embedding and representation learning <br>"
      ],
      "text/plain": [
       "<IPython.core.display.Markdown object>"
      ]
     },
     "metadata": {},
     "output_type": "display_data"
    },
    {
     "data": {
      "text/markdown": [
       "<br> 9118:  a small, process-pooled web server in **python** mosn is a powerful cloud-native proxy <br>"
      ],
      "text/plain": [
       "<IPython.core.display.Markdown object>"
      ]
     },
     "metadata": {},
     "output_type": "display_data"
    },
    {
     "data": {
      "text/markdown": [
       "<br> 9598:  library using glib and gtk definitely not an **python** exploit. react native app project manager for the atom <br>"
      ],
      "text/plain": [
       "<IPython.core.display.Markdown object>"
      ]
     },
     "metadata": {},
     "output_type": "display_data"
    },
    {
     "data": {
      "text/markdown": [
       "<br> 9697:  access a 32-bit library from 64-bit **python** ) quickfox simple one cms alpha automatically <br>"
      ],
      "text/plain": [
       "<IPython.core.display.Markdown object>"
      ]
     },
     "metadata": {},
     "output_type": "display_data"
    },
    {
     "data": {
      "text/markdown": [
       "<br> 10029:  elegant photos & wallpaper app for all platforms. **python** 3 version of quantipy like kafkaca <br>"
      ],
      "text/plain": [
       "<IPython.core.display.Markdown object>"
      ]
     },
     "metadata": {},
     "output_type": "display_data"
    },
    {
     "data": {
      "text/markdown": [
       "<br> 10110:  data, or system. plugin implementing binding for python2. 7 and allowing **python** scripting from sofa <br>"
      ],
      "text/plain": [
       "<IPython.core.display.Markdown object>"
      ]
     },
     "metadata": {},
     "output_type": "display_data"
    },
    {
     "data": {
      "text/markdown": [
       "<br> 10116:  in implementing binding for python2. 7 and allowing **python** scripting from sofa context. note: this plug <br>"
      ],
      "text/plain": [
       "<IPython.core.display.Markdown object>"
      ]
     },
     "metadata": {},
     "output_type": "display_data"
    },
    {
     "data": {
      "text/markdown": [
       "<br> 10383:  cornerstone of uapi framework the database toolkit for **python** installation tool to install kubernetes on a <br>"
      ],
      "text/plain": [
       "<IPython.core.display.Markdown object>"
      ]
     },
     "metadata": {},
     "output_type": "display_data"
    },
    {
     "data": {
      "text/markdown": [
       "<br> 10510:  us-south winlink client for linux hearthstone **python** library ( carddefs, dbf, en <br>"
      ],
      "text/plain": [
       "<IPython.core.display.Markdown object>"
      ]
     },
     "metadata": {},
     "output_type": "display_data"
    },
    {
     "data": {
      "text/markdown": [
       "<br> 11123:  models of molecular potential energy surfaces debian packaging of **python**-jsonschema v3. 0. <br>"
      ],
      "text/plain": [
       "<IPython.core.display.Markdown object>"
      ]
     },
     "metadata": {},
     "output_type": "display_data"
    },
    {
     "data": {
      "text/markdown": [
       "<br> 12531:  bench [UNK] ctfd is replicated by python3 wordpress theme for pickupmydonation. <br>"
      ],
      "text/plain": [
       "<IPython.core.display.Markdown object>"
      ]
     },
     "metadata": {},
     "output_type": "display_data"
    },
    {
     "data": {
      "text/markdown": [
       "<br> 12989:  streams poio api is a free and open source **python** library to access and search data from language documentation in <br>"
      ],
      "text/plain": [
       "<IPython.core.display.Markdown object>"
      ]
     },
     "metadata": {},
     "output_type": "display_data"
    },
    {
     "data": {
      "text/markdown": [
       "<br> 13292:  amsterdam content analysis toolkit opc ua library for **python** > 3. 6 asyncio battle-hardened <br>"
      ],
      "text/plain": [
       "<IPython.core.display.Markdown object>"
      ]
     },
     "metadata": {},
     "output_type": "display_data"
    },
    {
     "data": {
      "text/markdown": [
       "<br> 13361:  up tool cosmological n-body code in **python** basic helpers for asp. net core framework <br>"
      ],
      "text/plain": [
       "<IPython.core.display.Markdown object>"
      ]
     },
     "metadata": {},
     "output_type": "display_data"
    },
    {
     "data": {
      "text/markdown": [
       "<br> 14381:  an advanced twitter scraping & osint tool written in **python** that doesn 't use twitter's api, <br>"
      ],
      "text/plain": [
       "<IPython.core.display.Markdown object>"
      ]
     },
     "metadata": {},
     "output_type": "display_data"
    },
    {
     "data": {
      "text/markdown": [
       "<br> 14565:  fork of the opus open source services management platform. **python** automated testing on mac automatically exported from code. google <br>"
      ],
      "text/plain": [
       "<IPython.core.display.Markdown object>"
      ]
     },
     "metadata": {},
     "output_type": "display_data"
    },
    {
     "data": {
      "text/markdown": [
       "<br> 14747:  css. platform 4 branch for gst-**python** automatically exported from code. google. com / p <br>"
      ],
      "text/plain": [
       "<IPython.core.display.Markdown object>"
      ]
     },
     "metadata": {},
     "output_type": "display_data"
    },
    {
     "data": {
      "text/markdown": [
       "<br> 14867:  i edc learning platform a simple program which checks **python** source files for errors gnu r mirror with rir <br>"
      ],
      "text/plain": [
       "<IPython.core.display.Markdown object>"
      ]
     },
     "metadata": {},
     "output_type": "display_data"
    },
    {
     "data": {
      "text/markdown": [
       "<br> 15121:  dependency-free javascript html table plugin a **python** 2. 7 / 3. x module for amc <br>"
      ],
      "text/plain": [
       "<IPython.core.display.Markdown object>"
      ]
     },
     "metadata": {},
     "output_type": "display_data"
    },
    {
     "data": {
      "text/markdown": [
       "<br> 15815:  t create tests for auctions via robot framework & **python** zopeskel provides a collection of project template <br>"
      ],
      "text/plain": [
       "<IPython.core.display.Markdown object>"
      ]
     },
     "metadata": {},
     "output_type": "display_data"
    },
    {
     "data": {
      "text/markdown": [
       "<br> 16271:  originprotocol / demo-dapp ) **python**-based tools for document analysis and ocr copy <br>"
      ],
      "text/plain": [
       "<IPython.core.display.Markdown object>"
      ]
     },
     "metadata": {},
     "output_type": "display_data"
    },
    {
     "data": {
      "text/markdown": [
       "<br> 16524:  a de jeunes collegiens francais. a **python** library for knitting patterns this module allows to alloca <br>"
      ],
      "text/plain": [
       "<IPython.core.display.Markdown object>"
      ]
     },
     "metadata": {},
     "output_type": "display_data"
    },
    {
     "data": {
      "text/markdown": [
       "<br> 17881:  source code a general dispatch and override mechanism for **python**. a modular synth tracker workgroups2- <br>"
      ],
      "text/plain": [
       "<IPython.core.display.Markdown object>"
      ]
     },
     "metadata": {},
     "output_type": "display_data"
    },
    {
     "data": {
      "text/markdown": [
       "<br> 17958:  isive eater pyaf is an open source **python** library for automatic time series forecasting built on top <br>"
      ],
      "text/plain": [
       "<IPython.core.display.Markdown object>"
      ]
     },
     "metadata": {},
     "output_type": "display_data"
    },
    {
     "data": {
      "text/markdown": [
       "<br> 19027:  framework for runtime auto-tuning. google sheets **python** api multicoin cryptocurrency wallet <br>"
      ],
      "text/plain": [
       "<IPython.core.display.Markdown object>"
      ]
     },
     "metadata": {},
     "output_type": "display_data"
    },
    {
     "data": {
      "text/markdown": [
       "<br> 20373:  main labscript _ suite repository via pull requests. **python** 3d mesh processing toolkit twitter bootstrap t <br>"
      ],
      "text/plain": [
       "<IPython.core.display.Markdown object>"
      ]
     },
     "metadata": {},
     "output_type": "display_data"
    },
    {
     "data": {
      "text/markdown": [
       "<br> 20743:  , algoexpert. io solutions in **python** and swift gui for thze testautomation <br>"
      ],
      "text/plain": [
       "<IPython.core.display.Markdown object>"
      ]
     },
     "metadata": {},
     "output_type": "display_data"
    },
    {
     "data": {
      "text/markdown": [
       "<br> 21471:  statistical computing a collection of gradle plugins **python** micro-framework open source etl designed for and <br>"
      ],
      "text/plain": [
       "<IPython.core.display.Markdown object>"
      ]
     },
     "metadata": {},
     "output_type": "display_data"
    },
    {
     "data": {
      "text/markdown": [
       "<br> 23056:  ibm % 3ayp % 3aus-south a **python** toolbox to create adversarial examples that <br>"
      ],
      "text/plain": [
       "<IPython.core.display.Markdown object>"
      ]
     },
     "metadata": {},
     "output_type": "display_data"
    },
    {
     "data": {
      "text/markdown": [
       "<br> 23887:  ble learning analytics environment. a text comprehension engine in **python** gentoo overlay for deepin desktop environment <br>"
      ],
      "text/plain": [
       "<IPython.core.display.Markdown object>"
      ]
     },
     "metadata": {},
     "output_type": "display_data"
    },
    {
     "data": {
      "text/markdown": [
       "<br> 24366:  l micropython-a lean and efficient **python** implementation for open-isa's vega board odin <br>"
      ],
      "text/plain": [
       "<IPython.core.display.Markdown object>"
      ]
     },
     "metadata": {},
     "output_type": "display_data"
    },
    {
     "data": {
      "text/markdown": [
       "<br> 24392:  building restful apis using odin and your favourite **python** web framework. blogs. a frontend framework that <br>"
      ],
      "text/plain": [
       "<IPython.core.display.Markdown object>"
      ]
     },
     "metadata": {},
     "output_type": "display_data"
    },
    {
     "data": {
      "text/markdown": [
       "<br> 24967:  bee front-admin javascript picn: **python** icn and nfn by university of basel <br>"
      ],
      "text/plain": [
       "<IPython.core.display.Markdown object>"
      ]
     },
     "metadata": {},
     "output_type": "display_data"
    },
    {
     "data": {
      "text/markdown": [
       "<br> 25111:  afiliacion this is totally not a fork of **python**-rpn, and i 'm totally <br>"
      ],
      "text/plain": [
       "<IPython.core.display.Markdown object>"
      ]
     },
     "metadata": {},
     "output_type": "display_data"
    },
    {
     "data": {
      "text/markdown": [
       "<br> 25297:  xrt ( xraytracer ) is a **python** software library for ray tracing and wave propagation in x <br>"
      ],
      "text/plain": [
       "<IPython.core.display.Markdown object>"
      ]
     },
     "metadata": {},
     "output_type": "display_data"
    },
    {
     "data": {
      "text/markdown": [
       "<br> 25335:  lines and beamline elements. compiled, automatically parallel **python** for data science holarse frisch und ne <br>"
      ],
      "text/plain": [
       "<IPython.core.display.Markdown object>"
      ]
     },
     "metadata": {},
     "output_type": "display_data"
    },
    {
     "data": {
      "text/markdown": [
       "<br> 25973:  linck dating application, based on spring boot. **python** client for the dci control server for codefell <br>"
      ],
      "text/plain": [
       "<IPython.core.display.Markdown object>"
      ]
     },
     "metadata": {},
     "output_type": "display_data"
    },
    {
     "data": {
      "text/markdown": [
       "<br> 27070:  application framework for blazor survival analysis in **python** a line based text user interface framework for scripts terra <br>"
      ],
      "text/plain": [
       "<IPython.core.display.Markdown object>"
      ]
     },
     "metadata": {},
     "output_type": "display_data"
    },
    {
     "data": {
      "text/markdown": [
       "<br> 27262:  my experiments with the package manager. abc learn java **python** library for working with ontologies and ontology associations <br>"
      ],
      "text/plain": [
       "<IPython.core.display.Markdown object>"
      ]
     },
     "metadata": {},
     "output_type": "display_data"
    },
    {
     "data": {
      "text/markdown": [
       "<br> 27590:  robotic development with ros in c + + and **python**. 1232322 my fork and configuration of d <br>"
      ],
      "text/plain": [
       "<IPython.core.display.Markdown object>"
      ]
     },
     "metadata": {},
     "output_type": "display_data"
    },
    {
     "data": {
      "text/markdown": [
       "<br> 28263:  ]: pysam2 is a module for **python** 3. 6 or newer for reading and manipulating sam <br>"
      ],
      "text/plain": [
       "<IPython.core.display.Markdown object>"
      ]
     },
     "metadata": {},
     "output_type": "display_data"
    },
    {
     "data": {
      "text/markdown": [
       "<br> 28393:  exported from code. google. com / p / **python**-mplayer performance profiler plugin for sa <br>"
      ],
      "text/plain": [
       "<IPython.core.display.Markdown object>"
      ]
     },
     "metadata": {},
     "output_type": "display_data"
    },
    {
     "data": {
      "text/markdown": [
       "<br> 28818:  ak, provide basic functionalities robot soccer playing ai **python** tools for visual studio fork of http: / / <br>"
      ],
      "text/plain": [
       "<IPython.core.display.Markdown object>"
      ]
     },
     "metadata": {},
     "output_type": "display_data"
    },
    {
     "data": {
      "text/markdown": [
       "<br> 29288:  imdbpy-legacy branch of imdbpy **python** package, still compatible with **python** 2. 7. <br>"
      ],
      "text/plain": [
       "<IPython.core.display.Markdown object>"
      ]
     },
     "metadata": {},
     "output_type": "display_data"
    },
    {
     "data": {
      "text/markdown": [
       "<br> 29294:  of imdbpy **python** package, still compatible with **python** 2. 7. ansible modules for palo alto <br>"
      ],
      "text/plain": [
       "<IPython.core.display.Markdown object>"
      ]
     },
     "metadata": {},
     "output_type": "display_data"
    },
    {
     "data": {
      "text/markdown": [
       "<br> 29404:  gendata mysql database connector for **python** ( with **python** 3 support ) ballerina file module <br>"
      ],
      "text/plain": [
       "<IPython.core.display.Markdown object>"
      ]
     },
     "metadata": {},
     "output_type": "display_data"
    },
    {
     "data": {
      "text/markdown": [
       "<br> 29407:  mysql database connector for **python** ( with **python** 3 support ) ballerina file module learn janus <br>"
      ],
      "text/plain": [
       "<IPython.core.display.Markdown object>"
      ]
     },
     "metadata": {},
     "output_type": "display_data"
    },
    {
     "data": {
      "text/markdown": [
       "<br> 29474:  , format-agnostic, and community-driven **python** package for analysing and visualising earth science <br>"
      ],
      "text/plain": [
       "<IPython.core.display.Markdown object>"
      ]
     },
     "metadata": {},
     "output_type": "display_data"
    },
    {
     "data": {
      "text/markdown": [
       "<br> 29555:  app goldwasser exchange's public packages a **python** api and bmi for the dakota iterative systems <br>"
      ],
      "text/plain": [
       "<IPython.core.display.Markdown object>"
      ]
     },
     "metadata": {},
     "output_type": "display_data"
    },
    {
     "data": {
      "text/markdown": [
       "<br> 30304:  object-relational mapper, implemented on top of **python**. fork from lsst / obs _ <br>"
      ],
      "text/plain": [
       "<IPython.core.display.Markdown object>"
      ]
     },
     "metadata": {},
     "output_type": "display_data"
    },
    {
     "data": {
      "text/markdown": [
       "<br> 30574:  . suckless terminal + patches + config **python** 3 library for isogeometric analysis http: / <br>"
      ],
      "text/plain": [
       "<IPython.core.display.Markdown object>"
      ]
     },
     "metadata": {},
     "output_type": "display_data"
    },
    {
     "data": {
      "text/markdown": [
       "<br> 30648:  a system for research institutions to track holders of mice **python** growth and yield projection system llvm-based <br>"
      ],
      "text/plain": [
       "<IPython.core.display.Markdown object>"
      ]
     },
     "metadata": {},
     "output_type": "display_data"
    },
    {
     "data": {
      "text/markdown": [
       "<br> 30741:  es in a rich and dynamic environment. bayesian **python**: bayesian inference tools for **python** umi. <br>"
      ],
      "text/plain": [
       "<IPython.core.display.Markdown object>"
      ]
     },
     "metadata": {},
     "output_type": "display_data"
    },
    {
     "data": {
      "text/markdown": [
       "<br> 30748:  . bayesian **python**: bayesian inference tools for **python** umi. framework version 1 ( read only sub <br>"
      ],
      "text/plain": [
       "<IPython.core.display.Markdown object>"
      ]
     },
     "metadata": {},
     "output_type": "display_data"
    },
    {
     "data": {
      "text/markdown": [
       "<br> 31073:  project for demo purpose javascript framework for visual programming **python** library to load dynamically typed data into statically <br>"
      ],
      "text/plain": [
       "<IPython.core.display.Markdown object>"
      ]
     },
     "metadata": {},
     "output_type": "display_data"
    },
    {
     "data": {
      "text/markdown": [
       "<br> 31532:  openjdk project internet of things communications a **python** simulator for ashby-like homeostats with robotics <br>"
      ],
      "text/plain": [
       "<IPython.core.display.Markdown object>"
      ]
     },
     "metadata": {},
     "output_type": "display_data"
    },
    {
     "data": {
      "text/markdown": [
       "<br> 31654:  . [ retired 3. 26. 18 ] [ **python** ] [ django ] core api for strand, <br>"
      ],
      "text/plain": [
       "<IPython.core.display.Markdown object>"
      ]
     },
     "metadata": {},
     "output_type": "display_data"
    },
    {
     "data": {
      "text/markdown": [
       "<br> 32045:  al docker container image my dwm configuration **python** ant downloader-tools for download from garmin <br>"
      ],
      "text/plain": [
       "<IPython.core.display.Markdown object>"
      ]
     },
     "metadata": {},
     "output_type": "display_data"
    },
    {
     "data": {
      "text/markdown": [
       "<br> 35154:  nights auto helper based on adb and **python** | [UNK] [UNK] **python** 的 明 日 方 [UNK] [UNK] <br>"
      ],
      "text/plain": [
       "<IPython.core.display.Markdown object>"
      ]
     },
     "metadata": {},
     "output_type": "display_data"
    },
    {
     "data": {
      "text/markdown": [
       "<br> 35158:  er based on adb and **python** | [UNK] [UNK] **python** 的 明 日 方 [UNK] [UNK] [UNK] [UNK] 手 bird <br>"
      ],
      "text/plain": [
       "<IPython.core.display.Markdown object>"
      ]
     },
     "metadata": {},
     "output_type": "display_data"
    },
    {
     "data": {
      "text/markdown": [
       "<br> 35993:  / refactor / cleanup simple cad written in **python** + tkinter combination with remote storage support g <br>"
      ],
      "text/plain": [
       "<IPython.core.display.Markdown object>"
      ]
     },
     "metadata": {},
     "output_type": "display_data"
    },
    {
     "data": {
      "text/markdown": [
       "<br> 36313:  light high performance modern opengl 3. 3 + **python** framework https: / / demosys-py <br>"
      ],
      "text/plain": [
       "<IPython.core.display.Markdown object>"
      ]
     },
     "metadata": {},
     "output_type": "display_data"
    },
    {
     "data": {
      "text/markdown": [
       "<br> 36426:  ( psg ) with skip-gram all in **python** and still more features will be added. the website <br>"
      ],
      "text/plain": [
       "<IPython.core.display.Markdown object>"
      ]
     },
     "metadata": {},
     "output_type": "display_data"
    },
    {
     "data": {
      "text/markdown": [
       "<br> 37179:  emir is the next-generation display server technology. **python** tool designed to validate searchable format parcel submissions <br>"
      ],
      "text/plain": [
       "<IPython.core.display.Markdown object>"
      ]
     },
     "metadata": {},
     "output_type": "display_data"
    },
    {
     "data": {
      "text/markdown": [
       "<br> 37199:  submissions to the wisconsin parcel initiative ( arcpy and **python** 2. 7 dependencies ) mstar hbase <br>"
      ],
      "text/plain": [
       "<IPython.core.display.Markdown object>"
      ]
     },
     "metadata": {},
     "output_type": "display_data"
    },
    {
     "data": {
      "text/markdown": [
       "<br> 39013:  block explorer of nebulas spiceypy: a pythonic wrapper for the spice toolkit. a <br>"
      ],
      "text/plain": [
       "<IPython.core.display.Markdown object>"
      ]
     },
     "metadata": {},
     "output_type": "display_data"
    },
    {
     "data": {
      "text/markdown": [
       "<br> 39257:  p / openid4java a collection of **python** bulk import scripts for various data sources removes repetitive work <br>"
      ],
      "text/plain": [
       "<IPython.core.display.Markdown object>"
      ]
     },
     "metadata": {},
     "output_type": "display_data"
    },
    {
     "data": {
      "text/markdown": [
       "<br> 39292:  unit test framework for java 8 cli utility and **python** module for analyzing log files and other data. ju <br>"
      ],
      "text/plain": [
       "<IPython.core.display.Markdown object>"
      ]
     },
     "metadata": {},
     "output_type": "display_data"
    },
    {
     "data": {
      "text/markdown": [
       "<br> 39425:  and erlang, written in elixir. **python** port of shadowsocksr arm builds of https: <br>"
      ],
      "text/plain": [
       "<IPython.core.display.Markdown object>"
      ]
     },
     "metadata": {},
     "output_type": "display_data"
    },
    {
     "data": {
      "text/markdown": [
       "<br> 41444:  ( ruth ) japanese morphological analysis engine written in pure **python** this is the fork of bft-smart project <br>"
      ],
      "text/plain": [
       "<IPython.core.display.Markdown object>"
      ]
     },
     "metadata": {},
     "output_type": "display_data"
    },
    {
     "data": {
      "text/markdown": [
       "<br> 41889:  r project [UNK] style props for rapid ui development a **python** library and tools providing easy access to the ret <br>"
      ],
      "text/plain": [
       "<IPython.core.display.Markdown object>"
      ]
     },
     "metadata": {},
     "output_type": "display_data"
    },
    {
     "data": {
      "text/markdown": [
       "<br> 42258:  eurecom's openair-cn code **python** [UNK] [UNK] [UNK] 法 [UNK] 人 博 [UNK] sspan <br>"
      ],
      "text/plain": [
       "<IPython.core.display.Markdown object>"
      ]
     },
     "metadata": {},
     "output_type": "display_data"
    },
    {
     "data": {
      "text/markdown": [
       "<br> 43252:  apping library my patches for dracut a **python** package with tools for scientific data management, evaluation, <br>"
      ],
      "text/plain": [
       "<IPython.core.display.Markdown object>"
      ]
     },
     "metadata": {},
     "output_type": "display_data"
    },
    {
     "data": {
      "text/markdown": [
       "<br> 43413:  repo clone of the darcs yi editor clone **python** binding to tango c + + package and ship re <br>"
      ],
      "text/plain": [
       "<IPython.core.display.Markdown object>"
      ]
     },
     "metadata": {},
     "output_type": "display_data"
    },
    {
     "data": {
      "text/markdown": [
       "<br> 43427:  c + + package and ship relocatable **python** virtualenvs, like a boss. **python** package <br>"
      ],
      "text/plain": [
       "<IPython.core.display.Markdown object>"
      ]
     },
     "metadata": {},
     "output_type": "display_data"
    },
    {
     "data": {
      "text/markdown": [
       "<br> 43436:  able **python** virtualenvs, like a boss. **python** package for commonly used tools at olc. [UNK] <br>"
      ],
      "text/plain": [
       "<IPython.core.display.Markdown object>"
      ]
     },
     "metadata": {},
     "output_type": "display_data"
    },
    {
     "data": {
      "text/markdown": [
       "<br> 43556:  loader yet another sparql gui generate **python** ctypes classes from c headers. requires <br>"
      ],
      "text/plain": [
       "<IPython.core.display.Markdown object>"
      ]
     },
     "metadata": {},
     "output_type": "display_data"
    },
    {
     "data": {
      "text/markdown": [
       "<br> 44650:  paradigm hardware construction framework statistics of steam reviews. a **python** module provides a consistent interface to multiple dcc application <br>"
      ],
      "text/plain": [
       "<IPython.core.display.Markdown object>"
      ]
     },
     "metadata": {},
     "output_type": "display_data"
    },
    {
     "data": {
      "text/markdown": [
       "<br> 44723:  ! metering and monitoring for openstack compute **python** domain specific language tools a next generation http client for <br>"
      ],
      "text/plain": [
       "<IPython.core.display.Markdown object>"
      ]
     },
     "metadata": {},
     "output_type": "display_data"
    },
    {
     "data": {
      "text/markdown": [
       "<br> 44734:  domain specific language tools a next generation http client for **python**. [UNK] [UNK] configure webpack using <br>"
      ],
      "text/plain": [
       "<IPython.core.display.Markdown object>"
      ]
     },
     "metadata": {},
     "output_type": "display_data"
    },
    {
     "data": {
      "text/markdown": [
       "<br> 45446:  10 ( aka rightlinklite ) agent [UNK] [UNK] **python** [UNK] [UNK] 的 mysql web 版 本 <br>"
      ],
      "text/plain": [
       "<IPython.core.display.Markdown object>"
      ]
     },
     "metadata": {},
     "output_type": "display_data"
    },
    {
     "data": {
      "text/markdown": [
       "<br> 45679:  morelinq html 加 [UNK] [UNK] 的 webpack **python**-based bitcoin and alt-coin utility <br>"
      ],
      "text/plain": [
       "<IPython.core.display.Markdown object>"
      ]
     },
     "metadata": {},
     "output_type": "display_data"
    },
    {
     "data": {
      "text/markdown": [
       "<br> 46372:  xbot securely wipe the contents of storage device using **python** 2 & 3. project needs to be refact <br>"
      ],
      "text/plain": [
       "<IPython.core.display.Markdown object>"
      ]
     },
     "metadata": {},
     "output_type": "display_data"
    },
    {
     "data": {
      "text/markdown": [
       "<br> 46514:  understanding natural language. a transpiler for a **python** like language to javascript a softlayer client api <br>"
      ],
      "text/plain": [
       "<IPython.core.display.Markdown object>"
      ]
     },
     "metadata": {},
     "output_type": "display_data"
    },
    {
     "data": {
      "text/markdown": [
       "<br> 46942:  project management app offres d 'emploi **python** pour le marche francais loopback-react-starter <br>"
      ],
      "text/plain": [
       "<IPython.core.display.Markdown object>"
      ]
     },
     "metadata": {},
     "output_type": "display_data"
    },
    {
     "data": {
      "text/markdown": [
       "<br> 47310:  representations of position and orientation in 2d or 3d using **python** social listening for spotify-music sounds better together <br>"
      ],
      "text/plain": [
       "<IPython.core.display.Markdown object>"
      ]
     },
     "metadata": {},
     "output_type": "display_data"
    },
    {
     "data": {
      "text/markdown": [
       "<br> 48745:  p / sshtunnel experimental tracing framework for **python** on windows. cratedb is a distributed sql database <br>"
      ],
      "text/plain": [
       "<IPython.core.display.Markdown object>"
      ]
     },
     "metadata": {},
     "output_type": "display_data"
    },
    {
     "data": {
      "text/markdown": [
       "<br> 49880:  mean example app for continuous integration praisestock android app **python** sdk for accessing qubole data service <br>"
      ],
      "text/plain": [
       "<IPython.core.display.Markdown object>"
      ]
     },
     "metadata": {},
     "output_type": "display_data"
    },
    {
     "data": {
      "text/markdown": [
       "<br> 51481:  * * gpl number field sieve implementation simple **python** tool to create dataset for arrps. <br>"
      ],
      "text/plain": [
       "<IPython.core.display.Markdown object>"
      ]
     },
     "metadata": {},
     "output_type": "display_data"
    },
    {
     "data": {
      "text/markdown": [
       "<br> 51593:  x. com ) my fork of stem, a **python** controller library for tor. ( old ) [ de <br>"
      ],
      "text/plain": [
       "<IPython.core.display.Markdown object>"
      ]
     },
     "metadata": {},
     "output_type": "display_data"
    },
    {
     "data": {
      "text/markdown": [
       "<br> 52164:  restful rmr framework hdpy is a pure **python** implementation of hdp profile and mcap protocol. <br>"
      ],
      "text/plain": [
       "<IPython.core.display.Markdown object>"
      ]
     },
     "metadata": {},
     "output_type": "display_data"
    },
    {
     "data": {
      "text/markdown": [
       "<br> 52550:  for noob in this area. scoutapm **python** agent. supports django, flask, and <br>"
      ],
      "text/plain": [
       "<IPython.core.display.Markdown object>"
      ]
     },
     "metadata": {},
     "output_type": "display_data"
    },
    {
     "data": {
      "text/markdown": [
       "<br> 52608:  licacao veja este exemplo em **python** technical indicators repositorio de front-end <br>"
      ],
      "text/plain": [
       "<IPython.core.display.Markdown object>"
      ]
     },
     "metadata": {},
     "output_type": "display_data"
    },
    {
     "data": {
      "text/markdown": [
       "<br> 52925:  7366 a simple business application platform. official **python** agent for auklet go mysql <br>"
      ],
      "text/plain": [
       "<IPython.core.display.Markdown object>"
      ]
     },
     "metadata": {},
     "output_type": "display_data"
    },
    {
     "data": {
      "text/markdown": [
       "<br> 53099:  integration with several webtools services automated system for **python**-based experiments amkecpak, a make <br>"
      ],
      "text/plain": [
       "<IPython.core.display.Markdown object>"
      ]
     },
     "metadata": {},
     "output_type": "display_data"
    },
    {
     "data": {
      "text/markdown": [
       "<br> 53158:  source code for all playfab sdks. **python** module containing system _ verilog files for black <br>"
      ],
      "text/plain": [
       "<IPython.core.display.Markdown object>"
      ]
     },
     "metadata": {},
     "output_type": "display_data"
    },
    {
     "data": {
      "text/markdown": [
       "<br> 53248:  is a 100 % backwards compatible php port of the **python** based hosting scripts used at kunstmaan. by <br>"
      ],
      "text/plain": [
       "<IPython.core.display.Markdown object>"
      ]
     },
     "metadata": {},
     "output_type": "display_data"
    },
    {
     "data": {
      "text/markdown": [
       "<br> 54266:  donations application for tracking donations. the app for community **python** wrapper for the mastodon ( https: / <br>"
      ],
      "text/plain": [
       "<IPython.core.display.Markdown object>"
      ]
     },
     "metadata": {},
     "output_type": "display_data"
    },
    {
     "data": {
      "text/markdown": [
       "<br> 56008:  luster. org currently rewriting supermap **python** sdk for cloud gis ( supermap <br>"
      ],
      "text/plain": [
       "<IPython.core.display.Markdown object>"
      ]
     },
     "metadata": {},
     "output_type": "display_data"
    },
    {
     "data": {
      "text/markdown": [
       "<br> 57112:  namebench pyntcloud is a **python** library for working with 3d point clouds. [UNK] [UNK] <br>"
      ],
      "text/plain": [
       "<IPython.core.display.Markdown object>"
      ]
     },
     "metadata": {},
     "output_type": "display_data"
    },
    {
     "data": {
      "text/markdown": [
       "<br> 57917:  box localisation unbound with dnstap support **python** module for creating gdsii stream files, usually <br>"
      ],
      "text/plain": [
       "<IPython.core.display.Markdown object>"
      ]
     },
     "metadata": {},
     "output_type": "display_data"
    },
    {
     "data": {
      "text/markdown": [
       "<br> 58551:  . git test a command line tool and a **python** package to manipulate hydrodynamics meshes simple <br>"
      ],
      "text/plain": [
       "<IPython.core.display.Markdown object>"
      ]
     },
     "metadata": {},
     "output_type": "display_data"
    },
    {
     "data": {
      "text/markdown": [
       "<br> 58715:  's mousetrap cross-application persistence service **python** wapi client [UNK] apache parquet for modern. <br>"
      ],
      "text/plain": [
       "<IPython.core.display.Markdown object>"
      ]
     },
     "metadata": {},
     "output_type": "display_data"
    },
    {
     "data": {
      "text/markdown": [
       "<br> 58998:  site, based on pinax, django and **python**. no code yet, take a look at the <br>"
      ],
      "text/plain": [
       "<IPython.core.display.Markdown object>"
      ]
     },
     "metadata": {},
     "output_type": "display_data"
    },
    {
     "data": {
      "text/markdown": [
       "<br> 59657:  span support a lightweight state container based on redux **python** framework for processing universal dependencies data the core as <br>"
      ],
      "text/plain": [
       "<IPython.core.display.Markdown object>"
      ]
     },
     "metadata": {},
     "output_type": "display_data"
    },
    {
     "data": {
      "text/markdown": [
       "<br> 59672:  dependencies data the core asrt script written in **python** 3.# 35 semantico spring security oau <br>"
      ],
      "text/plain": [
       "<IPython.core.display.Markdown object>"
      ]
     },
     "metadata": {},
     "output_type": "display_data"
    },
    {
     "data": {
      "text/markdown": [
       "<br> 60601:  sass at build time image processing application written in **python**, with a web ui written in flask [UNK] <br>"
      ],
      "text/plain": [
       "<IPython.core.display.Markdown object>"
      ]
     },
     "metadata": {},
     "output_type": "display_data"
    },
    {
     "data": {
      "text/markdown": [
       "<br> 62693:  of the typescript type definitions for here maps. **python** gui library devicehive java client library alsap <br>"
      ],
      "text/plain": [
       "<IPython.core.display.Markdown object>"
      ]
     },
     "metadata": {},
     "output_type": "display_data"
    },
    {
     "data": {
      "text/markdown": [
       "<br> 64363:  -ruby timezone library weather radar data processing-**python** package todo: back up songary / fire <br>"
      ],
      "text/plain": [
       "<IPython.core.display.Markdown object>"
      ]
     },
     "metadata": {},
     "output_type": "display_data"
    },
    {
     "data": {
      "text/markdown": [
       "<br> 64388:  js release em testes para publicacao **python** tutorial to be given at ocnc re <br>"
      ],
      "text/plain": [
       "<IPython.core.display.Markdown object>"
      ]
     },
     "metadata": {},
     "output_type": "display_data"
    },
    {
     "data": {
      "text/markdown": [
       "<br> 65035:  talk from kiwi pycon 2015 on why **python** is awesome-and some other languages are cool too <br>"
      ],
      "text/plain": [
       "<IPython.core.display.Markdown object>"
      ]
     },
     "metadata": {},
     "output_type": "display_data"
    },
    {
     "data": {
      "text/markdown": [
       "<br> 65245:  s is a multi-protocol chat bot written in **python**, designed with both the user and developer in mind <br>"
      ],
      "text/plain": [
       "<IPython.core.display.Markdown object>"
      ]
     },
     "metadata": {},
     "output_type": "display_data"
    },
    {
     "data": {
      "text/markdown": [
       "<br> 65570:  t cervical cancer screening competition on kaggle carto **python** package for data scientists yet another new parser for <br>"
      ],
      "text/plain": [
       "<IPython.core.display.Markdown object>"
      ]
     },
     "metadata": {},
     "output_type": "display_data"
    },
    {
     "data": {
      "text/markdown": [
       "<br> 66073:  consultorio-sistema-admin / **python** jira library is the easiest way to automate <br>"
      ],
      "text/plain": [
       "<IPython.core.display.Markdown object>"
      ]
     },
     "metadata": {},
     "output_type": "display_data"
    },
    {
     "data": {
      "text/markdown": [
       "<br> 66143:  nmt models suckless dwm repo **python** sdk for using gbdx. es un <br>"
      ],
      "text/plain": [
       "<IPython.core.display.Markdown object>"
      ]
     },
     "metadata": {},
     "output_type": "display_data"
    },
    {
     "data": {
      "text/markdown": [
       "<br> 66252:  b ( ruby ) template expressiveness sunpy-**python** for solar physics mirror of the official jsbsi <br>"
      ],
      "text/plain": [
       "<IPython.core.display.Markdown object>"
      ]
     },
     "metadata": {},
     "output_type": "display_data"
    },
    {
     "data": {
      "text/markdown": [
       "<br> 66442:  no longer in development ) public transport network analysis using **python** [UNK] append-only log crdt on ip <br>"
      ],
      "text/plain": [
       "<IPython.core.display.Markdown object>"
      ]
     },
     "metadata": {},
     "output_type": "display_data"
    },
    {
     "data": {
      "text/markdown": [
       "<br> 66704:  for hack with linting and code migrations a **python** library for quantum programming using quil. an es <br>"
      ],
      "text/plain": [
       "<IPython.core.display.Markdown object>"
      ]
     },
     "metadata": {},
     "output_type": "display_data"
    },
    {
     "data": {
      "text/markdown": [
       "<br> 67548:  [UNK] [UNK] [UNK] ， [UNK] [UNK] [UNK] [UNK] [UNK] [UNK] **python** [UNK] [UNK] ， [UNK] [UNK] [UNK] [UNK] [UNK] [UNK] java <br>"
      ],
      "text/plain": [
       "<IPython.core.display.Markdown object>"
      ]
     },
     "metadata": {},
     "output_type": "display_data"
    },
    {
     "data": {
      "text/markdown": [
       "<br> 68097:  [UNK] [UNK] [UNK] [UNK] [UNK] 平 [UNK] ， [UNK] [UNK] **python** 、 nodejs 、 go 、 java 、 php [UNK] <br>"
      ],
      "text/plain": [
       "<IPython.core.display.Markdown object>"
      ]
     },
     "metadata": {},
     "output_type": "display_data"
    },
    {
     "data": {
      "text/markdown": [
       "<br> 68607:  85856 / leetcode. git **python** package for digitizing pollen diagrams mujin controller **python** <br>"
      ],
      "text/plain": [
       "<IPython.core.display.Markdown object>"
      ]
     },
     "metadata": {},
     "output_type": "display_data"
    },
    {
     "data": {
      "text/markdown": [
       "<br> 68617:  **python** package for digitizing pollen diagrams mujin controller **python** client embed player eagleeye web client a mood <br>"
      ],
      "text/plain": [
       "<IPython.core.display.Markdown object>"
      ]
     },
     "metadata": {},
     "output_type": "display_data"
    },
    {
     "data": {
      "text/markdown": [
       "<br> 69670:  against corruption. time-resolved spectroscopy toolbox for **python** automatically exported from code. google. com / p <br>"
      ],
      "text/plain": [
       "<IPython.core.display.Markdown object>"
      ]
     },
     "metadata": {},
     "output_type": "display_data"
    },
    {
     "data": {
      "text/markdown": [
       "<br> 70292:  east scarborough storefront calendar by team nettilling **python** asn. 1 library with a focus on performance <br>"
      ],
      "text/plain": [
       "<IPython.core.display.Markdown object>"
      ]
     },
     "metadata": {},
     "output_type": "display_data"
    },
    {
     "data": {
      "text/markdown": [
       "<br> 70305:  . 1 library with a focus on performance and a pythonic api event base activity coordinator website for twr <br>"
      ],
      "text/plain": [
       "<IPython.core.display.Markdown object>"
      ]
     },
     "metadata": {},
     "output_type": "display_data"
    },
    {
     "data": {
      "text/markdown": [
       "<br> 70818:  restful, audiovisual api a set of **python** tools for building closed-loop insulin delivery apps ( <br>"
      ],
      "text/plain": [
       "<IPython.core.display.Markdown object>"
      ]
     },
     "metadata": {},
     "output_type": "display_data"
    },
    {
     "data": {
      "text/markdown": [
       "<br> 70829:  tools for building closed-loop insulin delivery apps ( **python** port of loopkit ) c + + simulation airline <br>"
      ],
      "text/plain": [
       "<IPython.core.display.Markdown object>"
      ]
     },
     "metadata": {},
     "output_type": "display_data"
    },
    {
     "data": {
      "text/markdown": [
       "<br> 71057:  a hacked up version of suds to work with python3. automatically exported from code. google. com <br>"
      ],
      "text/plain": [
       "<IPython.core.display.Markdown object>"
      ]
     },
     "metadata": {},
     "output_type": "display_data"
    },
    {
     "data": {
      "text/markdown": [
       "<br> 71221:  library of on-demand deepstream pipeline services for **python** and c / c + + automatically exported from code <br>"
      ],
      "text/plain": [
       "<IPython.core.display.Markdown object>"
      ]
     },
     "metadata": {},
     "output_type": "display_data"
    },
    {
     "data": {
      "text/markdown": [
       "<br> 71308:  post-apocalyptic earth indx server django + **python** + mysql + redis + dock <br>"
      ],
      "text/plain": [
       "<IPython.core.display.Markdown object>"
      ]
     },
     "metadata": {},
     "output_type": "display_data"
    },
    {
     "data": {
      "text/markdown": [
       "<br> 71537:  otypes using the avida digital evolution platform. **python** logging handler for graylog that sends messages in gel <br>"
      ],
      "text/plain": [
       "<IPython.core.display.Markdown object>"
      ]
     },
     "metadata": {},
     "output_type": "display_data"
    },
    {
     "data": {
      "text/markdown": [
       "<br> 71720:  django app that creates automatic web uis for **python** scripts. vts registry. ma presentation \"j <br>"
      ],
      "text/plain": [
       "<IPython.core.display.Markdown object>"
      ]
     },
     "metadata": {},
     "output_type": "display_data"
    },
    {
     "data": {
      "text/markdown": [
       "<br> 71950:  swift binary protocol client libraries a retro game engine for **python** a wordpress plugin to parse gutenberg <br>"
      ],
      "text/plain": [
       "<IPython.core.display.Markdown object>"
      ]
     },
     "metadata": {},
     "output_type": "display_data"
    },
    {
     "data": {
      "text/markdown": [
       "<br> 72152:  a powerful spider ( web crawler ) system in **python**. a scratch pad repository to track efforts to produce <br>"
      ],
      "text/plain": [
       "<IPython.core.display.Markdown object>"
      ]
     },
     "metadata": {},
     "output_type": "display_data"
    },
    {
     "data": {
      "text/markdown": [
       "<br> 72458:  qp data; pytrx is a **python** object-oriented programme created for the purpose of calculating <br>"
      ],
      "text/plain": [
       "<IPython.core.display.Markdown object>"
      ]
     },
     "metadata": {},
     "output_type": "display_data"
    },
    {
     "data": {
      "text/markdown": [
       "<br> 72840:  library a c + + library ( bindings for **python** and c# ) for interfacing with the <br>"
      ],
      "text/plain": [
       "<IPython.core.display.Markdown object>"
      ]
     },
     "metadata": {},
     "output_type": "display_data"
    },
    {
     "data": {
      "text/markdown": [
       "<br> 73857:  is is a high-performance fake data generator for **python**, which provides data for a variety of purposes in <br>"
      ],
      "text/plain": [
       "<IPython.core.display.Markdown object>"
      ]
     },
     "metadata": {},
     "output_type": "display_data"
    }
   ],
   "source": [
    "word_positions = get_word_positions([\"python\"])\n",
    "\n",
    "for word_position in word_positions:\n",
    "    print_md(f\"<br> {word_position}:  {get_context_clean(word_position)} <br>\")"
   ]
  },
  {
   "cell_type": "code",
   "execution_count": 64,
   "metadata": {},
   "outputs": [],
   "source": [
    "word_positions = get_word_positions([\"python\"])\n",
    "\n",
    "keyword_contexts = []\n",
    "keyword_contexts_tokens = []\n",
    "\n",
    "for position in word_positions:\n",
    "    keyword_contexts.append(get_context_clean(position))\n",
    "    keyword_contexts_tokens.append(get_context(position))"
   ]
  },
  {
   "cell_type": "markdown",
   "metadata": {},
   "source": [
    "## PCA"
   ]
  },
  {
   "cell_type": "code",
   "execution_count": 66,
   "metadata": {},
   "outputs": [
    {
     "data": {
      "text/plain": [
       "PCA(n_components=2)"
      ]
     },
     "execution_count": 66,
     "metadata": {},
     "output_type": "execute_result"
    }
   ],
   "source": [
    "from sklearn.decomposition import PCA\n",
    "\n",
    "word_positions = get_word_positions([\"python\"])\n",
    "\n",
    "pca = PCA(n_components=2)\n",
    "\n",
    "pca.fit(all_word_vectors[word_positions,:].T)"
   ]
  },
  {
   "cell_type": "code",
   "execution_count": 72,
   "metadata": {},
   "outputs": [
    {
     "data": {
      "text/html": [
       "<div>\n",
       "<style scoped>\n",
       "    .dataframe tbody tr th:only-of-type {\n",
       "        vertical-align: middle;\n",
       "    }\n",
       "\n",
       "    .dataframe tbody tr th {\n",
       "        vertical-align: top;\n",
       "    }\n",
       "\n",
       "    .dataframe thead th {\n",
       "        text-align: right;\n",
       "    }\n",
       "</style>\n",
       "<table border=\"1\" class=\"dataframe\">\n",
       "  <thead>\n",
       "    <tr style=\"text-align: right;\">\n",
       "      <th></th>\n",
       "      <th>x</th>\n",
       "      <th>y</th>\n",
       "      <th>context</th>\n",
       "      <th>tokens</th>\n",
       "    </tr>\n",
       "  </thead>\n",
       "  <tbody>\n",
       "    <tr>\n",
       "      <th>0</th>\n",
       "      <td>-0.082029</td>\n",
       "      <td>0.028445</td>\n",
       "      <td>a package for representing electrophysiology data in **python**, together with support for reading a wide range of</td>\n",
       "      <td>a package for representing electro ##phy ##sio ##logy data in python , together with support for reading a wide range of</td>\n",
       "    </tr>\n",
       "    <tr>\n",
       "      <th>1</th>\n",
       "      <td>-0.075349</td>\n",
       "      <td>-0.056566</td>\n",
       "      <td>. distributed systems emulator--old repository a **python** api for fragalysis ( fragalysis.</td>\n",
       "      <td>. distributed systems em ##ulator - - old repository a python api for fra ##gal ##ysis ( fra ##gal ##ysis .</td>\n",
       "    </tr>\n",
       "    <tr>\n",
       "      <th>2</th>\n",
       "      <td>-0.084960</td>\n",
       "      <td>0.013573</td>\n",
       "      <td>. streaming processing system designed like apache storm architecture the **python** sdk for the rackspace cloud braintree drop</td>\n",
       "      <td>. streaming processing system designed like apache storm architecture the python sd ##k for the racks ##pace cloud brain ##tree drop</td>\n",
       "    </tr>\n",
       "    <tr>\n",
       "      <th>3</th>\n",
       "      <td>-0.084530</td>\n",
       "      <td>0.008823</td>\n",
       "      <td>p2p framework an apache2 licensed, unofficial **python** client for the mygeotab api. linux</td>\n",
       "      <td>p ##2 ##p framework an apache ##2 licensed , unofficial python client for the my ##ge ##ota ##b api . linux</td>\n",
       "    </tr>\n",
       "    <tr>\n",
       "      <th>4</th>\n",
       "      <td>-0.081456</td>\n",
       "      <td>0.007989</td>\n",
       "      <td>mygeotab api. linux agent written in **python** a humble project to tackle the hardest problem in society</td>\n",
       "      <td>my ##ge ##ota ##b api . linux agent written in python a humble project to tackle the hardest problem in society</td>\n",
       "    </tr>\n",
       "  </tbody>\n",
       "</table>\n",
       "</div>"
      ],
      "text/plain": [
       "          x         y  \\\n",
       "0 -0.082029  0.028445   \n",
       "1 -0.075349 -0.056566   \n",
       "2 -0.084960  0.013573   \n",
       "3 -0.084530  0.008823   \n",
       "4 -0.081456  0.007989   \n",
       "\n",
       "                                                                                                                           context  \\\n",
       "0               a package for representing electrophysiology data in **python**, together with support for reading a wide range of   \n",
       "1                                     . distributed systems emulator--old repository a **python** api for fragalysis ( fragalysis.   \n",
       "2  . streaming processing system designed like apache storm architecture the **python** sdk for the rackspace cloud braintree drop   \n",
       "3                                      p2p framework an apache2 licensed, unofficial **python** client for the mygeotab api. linux   \n",
       "4                        mygeotab api. linux agent written in **python** a humble project to tackle the hardest problem in society   \n",
       "\n",
       "                                                                                                                                 tokens  \n",
       "0              a package for representing electro ##phy ##sio ##logy data in python , together with support for reading a wide range of  \n",
       "1                           . distributed systems em ##ulator - - old repository a python api for fra ##gal ##ysis ( fra ##gal ##ysis .  \n",
       "2  . streaming processing system designed like apache storm architecture the python sd ##k for the racks ##pace cloud brain ##tree drop  \n",
       "3                           p ##2 ##p framework an apache ##2 licensed , unofficial python client for the my ##ge ##ota ##b api . linux  \n",
       "4                       my ##ge ##ota ##b api . linux agent written in python a humble project to tackle the hardest problem in society  "
      ]
     },
     "execution_count": 72,
     "metadata": {},
     "output_type": "execute_result"
    }
   ],
   "source": [
    "df = pd.DataFrame({\"x\": pca.components_[0,:], \"y\": pca.components_[1,:],\n",
    "                   \"context\": keyword_contexts, \"tokens\": keyword_contexts_tokens})\n",
    "df.head()"
   ]
  },
  {
   "cell_type": "markdown",
   "metadata": {},
   "source": [
    "### Merge with original data"
   ]
  },
  {
   "cell_type": "markdown",
   "metadata": {},
   "source": [
    "## Plot embeddings"
   ]
  },
  {
   "cell_type": "code",
   "execution_count": 68,
   "metadata": {},
   "outputs": [],
   "source": [
    "import altair as alt"
   ]
  },
  {
   "cell_type": "code",
   "execution_count": 73,
   "metadata": {},
   "outputs": [
    {
     "data": {
      "text/html": [
       "\n",
       "<div id=\"altair-viz-b067d22131de4c1f8490584713f7847a\"></div>\n",
       "<script type=\"text/javascript\">\n",
       "  (function(spec, embedOpt){\n",
       "    let outputDiv = document.currentScript.previousElementSibling;\n",
       "    if (outputDiv.id !== \"altair-viz-b067d22131de4c1f8490584713f7847a\") {\n",
       "      outputDiv = document.getElementById(\"altair-viz-b067d22131de4c1f8490584713f7847a\");\n",
       "    }\n",
       "    const paths = {\n",
       "      \"vega\": \"https://cdn.jsdelivr.net/npm//vega@5?noext\",\n",
       "      \"vega-lib\": \"https://cdn.jsdelivr.net/npm//vega-lib?noext\",\n",
       "      \"vega-lite\": \"https://cdn.jsdelivr.net/npm//vega-lite@4.8.1?noext\",\n",
       "      \"vega-embed\": \"https://cdn.jsdelivr.net/npm//vega-embed@6?noext\",\n",
       "    };\n",
       "\n",
       "    function loadScript(lib) {\n",
       "      return new Promise(function(resolve, reject) {\n",
       "        var s = document.createElement('script');\n",
       "        s.src = paths[lib];\n",
       "        s.async = true;\n",
       "        s.onload = () => resolve(paths[lib]);\n",
       "        s.onerror = () => reject(`Error loading script: ${paths[lib]}`);\n",
       "        document.getElementsByTagName(\"head\")[0].appendChild(s);\n",
       "      });\n",
       "    }\n",
       "\n",
       "    function showError(err) {\n",
       "      outputDiv.innerHTML = `<div class=\"error\" style=\"color:red;\">${err}</div>`;\n",
       "      throw err;\n",
       "    }\n",
       "\n",
       "    function displayChart(vegaEmbed) {\n",
       "      vegaEmbed(outputDiv, spec, embedOpt)\n",
       "        .catch(err => showError(`Javascript Error: ${err.message}<br>This usually means there's a typo in your chart specification. See the javascript console for the full traceback.`));\n",
       "    }\n",
       "\n",
       "    if(typeof define === \"function\" && define.amd) {\n",
       "      requirejs.config({paths});\n",
       "      require([\"vega-embed\"], displayChart, err => showError(`Error loading script: ${err.message}`));\n",
       "    } else if (typeof vegaEmbed === \"function\") {\n",
       "      displayChart(vegaEmbed);\n",
       "    } else {\n",
       "      loadScript(\"vega\")\n",
       "        .then(() => loadScript(\"vega-lite\"))\n",
       "        .then(() => loadScript(\"vega-embed\"))\n",
       "        .catch(showError)\n",
       "        .then(() => displayChart(vegaEmbed));\n",
       "    }\n",
       "  })({\"config\": {\"view\": {\"continuousWidth\": 400, \"continuousHeight\": 300}}, \"data\": {\"name\": \"data-2801377d7cb7339426dc6546e714f5d5\"}, \"mark\": {\"type\": \"circle\", \"size\": 200}, \"encoding\": {\"tooltip\": [{\"type\": \"nominal\", \"field\": \"context\"}], \"x\": {\"type\": \"quantitative\", \"field\": \"x\", \"scale\": {\"zero\": false}}, \"y\": {\"type\": \"quantitative\", \"field\": \"y\"}}, \"height\": 500, \"selection\": {\"selector004\": {\"type\": \"interval\", \"bind\": \"scales\", \"encodings\": [\"x\", \"y\"]}}, \"title\": \"Word Similarity: Python\", \"width\": 500, \"$schema\": \"https://vega.github.io/schema/vega-lite/v4.8.1.json\", \"datasets\": {\"data-2801377d7cb7339426dc6546e714f5d5\": [{\"x\": -0.08202910423278809, \"y\": 0.028445294126868248, \"context\": \"a package for representing electrophysiology data in **python**, together with support for reading a wide range of\", \"tokens\": \"a package for representing electro ##phy ##sio ##logy data in python , together with support for reading a wide range of\"}, {\"x\": -0.07534937560558319, \"y\": -0.05656611919403076, \"context\": \". distributed systems emulator--old repository a **python** api for fragalysis ( fragalysis.\", \"tokens\": \". distributed systems em ##ulator - - old repository a python api for fra ##gal ##ysis ( fra ##gal ##ysis .\"}, {\"x\": -0.08496040105819702, \"y\": 0.013572514057159424, \"context\": \". streaming processing system designed like apache storm architecture the **python** sdk for the rackspace cloud braintree drop\", \"tokens\": \". streaming processing system designed like apache storm architecture the python sd ##k for the racks ##pace cloud brain ##tree drop\"}, {\"x\": -0.08453018963336945, \"y\": 0.00882333517074585, \"context\": \"p2p framework an apache2 licensed, unofficial **python** client for the mygeotab api. linux\", \"tokens\": \"p ##2 ##p framework an apache ##2 licensed , unofficial python client for the my ##ge ##ota ##b api . linux\"}, {\"x\": -0.08145565539598465, \"y\": 0.007988736033439636, \"context\": \"mygeotab api. linux agent written in **python** a humble project to tackle the hardest problem in society\", \"tokens\": \"my ##ge ##ota ##b api . linux agent written in python a humble project to tackle the hardest problem in society\"}, {\"x\": -0.07972615957260132, \"y\": -0.019992521032691002, \"context\": \"ce repair dec 2015 wp site for bell media **python** tiny approximative virtual stage light apresenta\", \"tokens\": \"##ce repair dec 2015 w ##p site for bell media python tiny approx ##ima ##tive virtual stage light apr ##ese ##nta\"}, {\"x\": -0.08242110162973404, \"y\": 0.029822681099176407, \"context\": \"network file service with replication and anti-virus checking **python**-suseapi is set of helpers to\", \"tokens\": \"network file service with replication and anti - virus checking python - su ##sea ##pi is set of help ##ers to\"}, {\"x\": -0.08061249554157257, \"y\": -0.03985578939318657, \"context\": \"-toolbox-for-mac bx-**python** imported with hg-fast-export from https\", \"tokens\": \"- tool ##box - for - mac b ##x - python imported with h ##g - fast - export from https\"}, {\"x\": -0.0786319449543953, \"y\": -0.03878241032361984, \"context\": \". org / james _ taylor / bx-**python** / with missing patched available in https: /\", \"tokens\": \". org / james _ taylor / b ##x - python / with missing patch ##ed available in https : /\"}, {\"x\": -0.07876675575971603, \"y\": -0.039251457899808884, \"context\": \". com / bxlab / bx-**python** added [UNK] [UNK] iview-admin [UNK]\", \"tokens\": \". com / b ##x ##lab / b ##x - python added [UNK] [UNK] iv ##ie ##w - ad ##min [UNK]\"}, {\"x\": -0.08411408960819244, \"y\": 0.011463685892522335, \"context\": \"ciones de logica ecuacional a **python** implementation of the msn protocol devise module for\", \"tokens\": \"##cion ##es de logic ##a ec ##ua ##cion ##al a python implementation of the ms ##n protocol devi ##se module for\"}, {\"x\": -0.0804881900548935, \"y\": -0.0014574030647054315, \"context\": \"mac address aware dhcpv6 server written in **python** a validation plugin for backbone. js that\", \"tokens\": \"mac address aware dh ##cp ##v ##6 server written in python a validation plug ##in for backbone . j ##s that\"}, {\"x\": -0.07765578478574753, \"y\": 0.08028675615787506, \"context\": \"mirror of code maintained at opendev. org. pythonic task management & command execution. backup for work\", \"tokens\": \"mirror of code maintained at open ##dev . org . python ##ic task management & command execution . backup for work\"}, {\"x\": -0.07933866232633591, \"y\": 0.06589475274085999, \"context\": \"a fast scala generic library based on code generation. pythonic wrapper for r's ggplot\", \"tokens\": \"a fast scala generic library based on code generation . python ##ic wrap ##per for r ' s g ##gp ##lot\"}, {\"x\": -0.08391673862934113, \"y\": 0.048413317650556564, \"context\": \"chain highly compatible with ethereum's ecosystem **python** core package that collects various software for track co-\", \"tokens\": \"##chai ##n highly compatible with ether ##eum ' s ecosystem python core package that collects various software for track co -\"}, {\"x\": -0.07610537111759186, \"y\": -0.010499405674636364, \"context\": \"censorship-free data storage cryptocurrency **python** measurement platform for the nanoelectronics group\", \"tokens\": \"censorship - free data storage crypt ##oc ##ur ##ren ##cy python measurement platform for the nano ##ele ##ct ##ron ##ics group\"}, {\"x\": -0.0833670049905777, \"y\": 0.054771460592746735, \"context\": \"support, written in typescript fusion _ repo **python** server utilities fork of https: / / gith\", \"tokens\": \"support , written in types ##cript fusion _ rep ##o python server utilities fork of https : / / gi ##th\"}, {\"x\": -0.0823809802532196, \"y\": 0.08777784556150436, \"context\": \"visualize density data fetched from our api. **python** library for knowledge graph embedding and representation learning\", \"tokens\": \"visual ##ize density data fetch ##ed from our api . python library for knowledge graph em ##bed ##ding and representation learning\"}, {\"x\": -0.07714073359966278, \"y\": 0.01362665742635727, \"context\": \"a small, process-pooled web server in **python** mosn is a powerful cloud-native proxy\", \"tokens\": \"a small , process - poole ##d web server in python mo ##s ##n is a powerful cloud - native proxy\"}, {\"x\": -0.0781141147017479, \"y\": -0.042534708976745605, \"context\": \"library using glib and gtk definitely not an **python** exploit. react native app project manager for the atom\", \"tokens\": \"library using g ##lib and gt ##k definitely not an python exploit . react native app project manager for the atom\"}, {\"x\": -0.08217035979032516, \"y\": -0.007320817559957504, \"context\": \"access a 32-bit library from 64-bit **python** ) quickfox simple one cms alpha automatically\", \"tokens\": \"access a 32 - bit library from 64 - bit python ) quick ##fo ##x simple one cm ##s alpha automatically\"}, {\"x\": -0.08149107545614243, \"y\": 0.01811221055686474, \"context\": \"elegant photos & wallpaper app for all platforms. **python** 3 version of quantipy like kafkaca\", \"tokens\": \"elegant photos & wall ##paper app for all platforms . python 3 version of quan ##tip ##y like ka ##fk ##aca\"}, {\"x\": -0.07742244750261307, \"y\": -0.013621428981423378, \"context\": \"data, or system. plugin implementing binding for python2. 7 and allowing **python** scripting from sofa\", \"tokens\": \"data , or system . plug ##in implementing binding for python ##2 . 7 and allowing python script ##ing from sofa\"}, {\"x\": -0.08108420670032501, \"y\": -0.015321372076869011, \"context\": \"in implementing binding for python2. 7 and allowing **python** scripting from sofa context. note: this plug\", \"tokens\": \"##in implementing binding for python ##2 . 7 and allowing python script ##ing from sofa context . note : this plug\"}, {\"x\": -0.08177123218774796, \"y\": -0.00022747580078430474, \"context\": \"cornerstone of uapi framework the database toolkit for **python** installation tool to install kubernetes on a\", \"tokens\": \"cornerstone of ua ##pi framework the database tool ##kit for python installation tool to install ku ##ber ##net ##es on a\"}, {\"x\": -0.08385587483644485, \"y\": -0.004594691563397646, \"context\": \"us-south winlink client for linux hearthstone **python** library ( carddefs, dbf, en\", \"tokens\": \"##us - south win ##link client for linux hearth ##stone python library ( card ##de ##fs , db ##f , en\"}, {\"x\": -0.08352150022983551, \"y\": -0.025927243754267693, \"context\": \"models of molecular potential energy surfaces debian packaging of **python**-jsonschema v3. 0.\", \"tokens\": \"models of molecular potential energy surfaces de ##bian packaging of python - j ##sons ##che ##ma v ##3 . 0 .\"}, {\"x\": -0.08232023566961288, \"y\": -0.008106475695967674, \"context\": \"bench [UNK] ctfd is replicated by python3 wordpress theme for pickupmydonation.\", \"tokens\": \"##ben ##ch [UNK] ct ##f ##d is replicate ##d by python ##3 word ##press theme for pickup ##my ##don ##ation .\"}, {\"x\": -0.08189027011394501, \"y\": 0.010982426814734936, \"context\": \"streams poio api is a free and open source **python** library to access and search data from language documentation in\", \"tokens\": \"streams po ##io api is a free and open source python library to access and search data from language documentation in\"}, {\"x\": -0.0836404487490654, \"y\": -0.015037142671644688, \"context\": \"amsterdam content analysis toolkit opc ua library for **python** > 3. 6 asyncio battle-hardened\", \"tokens\": \"amsterdam content analysis tool ##kit op ##c ua library for python > 3 . 6 as ##yn ##cio battle - hardened\"}, {\"x\": -0.07706412672996521, \"y\": -0.046398863196372986, \"context\": \"up tool cosmological n-body code in **python** basic helpers for asp. net core framework\", \"tokens\": \"##up tool co ##smo ##logical n - body code in python basic help ##ers for as ##p . net core framework\"}, {\"x\": -0.0827031135559082, \"y\": -0.0017482630209997296, \"context\": \"an advanced twitter scraping & osint tool written in **python** that doesn 't use twitter's api,\", \"tokens\": \"an advanced twitter scraping & os ##int tool written in python that doesn ' t use twitter ' s api ,\"}, {\"x\": -0.08173606544733047, \"y\": 0.04900169372558594, \"context\": \"fork of the opus open source services management platform. **python** automated testing on mac automatically exported from code. google\", \"tokens\": \"fork of the opus open source services management platform . python automated testing on mac automatically exported from code . google\"}, {\"x\": -0.07756707817316055, \"y\": -0.07151500880718231, \"context\": \"css. platform 4 branch for gst-**python** automatically exported from code. google. com / p\", \"tokens\": \"cs ##s . platform 4 branch for gs ##t - python automatically exported from code . google . com / p\"}, {\"x\": -0.08107064664363861, \"y\": -0.03894876316189766, \"context\": \"i edc learning platform a simple program which checks **python** source files for errors gnu r mirror with rir\", \"tokens\": \"##i ed ##c learning platform a simple program which checks python source files for errors gnu r mirror with ri ##r\"}, {\"x\": -0.08392845839262009, \"y\": 0.01445736363530159, \"context\": \"dependency-free javascript html table plugin a **python** 2. 7 / 3. x module for amc\", \"tokens\": \"dependency - free java ##script html table plug ##in a python 2 . 7 / 3 . x module for amc\"}, {\"x\": -0.0810723528265953, \"y\": -0.01997094228863716, \"context\": \"t create tests for auctions via robot framework & **python** zopeskel provides a collection of project template\", \"tokens\": \"##t create tests for auction ##s via robot framework & python z ##ope ##ske ##l provides a collection of project template\"}, {\"x\": -0.0828283429145813, \"y\": 0.092161163687706, \"context\": \"originprotocol / demo-dapp ) **python**-based tools for document analysis and ocr copy\", \"tokens\": \"origin ##pro ##to ##col / demo - da ##pp ) python - based tools for document analysis and o ##cr copy\"}, {\"x\": -0.08425088971853256, \"y\": 0.02576570026576519, \"context\": \"a de jeunes collegiens francais. a **python** library for knitting patterns this module allows to alloca\", \"tokens\": \"a de je ##unes col ##leg ##iens francais . a python library for knitting patterns this module allows to all ##oca\"}, {\"x\": -0.08451942354440689, \"y\": 0.019212324172258377, \"context\": \"source code a general dispatch and override mechanism for **python**. a modular synth tracker workgroups2-\", \"tokens\": \"source code a general dispatch and over ##ride mechanism for python . a modular synth tracker work ##group ##s ##2 -\"}, {\"x\": -0.0842757448554039, \"y\": 0.022811831906437874, \"context\": \"isive eater pyaf is an open source **python** library for automatic time series forecasting built on top\", \"tokens\": \"##isi ##ve eater p ##ya ##f is an open source python library for automatic time series forecast ##ing built on top\"}, {\"x\": -0.08436087518930435, \"y\": -0.021730361506342888, \"context\": \"framework for runtime auto-tuning. google sheets **python** api multicoin cryptocurrency wallet\", \"tokens\": \"framework for run ##time auto - tuning . google sheets python api multi ##co ##in crypt ##oc ##ur ##ren ##cy wallet\"}, {\"x\": -0.08291908353567123, \"y\": 0.045873042196035385, \"context\": \"main labscript _ suite repository via pull requests. **python** 3d mesh processing toolkit twitter bootstrap t\", \"tokens\": \"main labs ##cript _ suite repository via pull requests . python 3d mesh processing tool ##kit twitter boots ##tra ##p t\"}, {\"x\": -0.0830816775560379, \"y\": -0.007094908505678177, \"context\": \", algoexpert. io solutions in **python** and swift gui for thze testautomation\", \"tokens\": \", al ##go ##ex ##per ##t . io solutions in python and swift gui for th ##ze test ##au ##tom ##ation\"}, {\"x\": -0.08261175453662872, \"y\": 0.08257287740707397, \"context\": \"statistical computing a collection of gradle plugins **python** micro-framework open source etl designed for and\", \"tokens\": \"statistical computing a collection of gr ##ad ##le plug ##ins python micro - framework open source et ##l designed for and\"}, {\"x\": -0.08356214314699173, \"y\": 0.04964735731482506, \"context\": \"ibm % 3ayp % 3aus-south a **python** toolbox to create adversarial examples that\", \"tokens\": \"ibm % 3a ##yp % 3a ##us - south a python tool ##box to create ad ##vers ##aria ##l examples that\"}, {\"x\": -0.081523597240448, \"y\": -0.006276354193687439, \"context\": \"ble learning analytics environment. a text comprehension engine in **python** gentoo overlay for deepin desktop environment\", \"tokens\": \"##ble learning analytics environment . a text comprehension engine in python gen ##to ##o over ##lay for deep ##in desktop environment\"}, {\"x\": -0.0847548320889473, \"y\": -0.0024870336055755615, \"context\": \"l micropython-a lean and efficient **python** implementation for open-isa's vega board odin\", \"tokens\": \"##l micro ##py ##th ##on - a lean and efficient python implementation for open - isa ' s vega board odin\"}, {\"x\": -0.08287706971168518, \"y\": 0.006135616917163134, \"context\": \"building restful apis using odin and your favourite **python** web framework. blogs. a frontend framework that\", \"tokens\": \"building rest ##ful api ##s using odin and your favourite python web framework . blogs . a front ##end framework that\"}, {\"x\": -0.07627599686384201, \"y\": -0.08872373402118683, \"context\": \"bee front-admin javascript picn: **python** icn and nfn by university of basel\", \"tokens\": \"##bee front - ad ##min java ##script pic ##n : python ic ##n and n ##f ##n by university of basel\"}, {\"x\": -0.08204754441976547, \"y\": -0.009587880223989487, \"context\": \"afiliacion this is totally not a fork of **python**-rpn, and i 'm totally\", \"tokens\": \"afi ##lia ##cion this is totally not a fork of python - r ##p ##n , and i ' m totally\"}, {\"x\": -0.08119320869445801, \"y\": 0.037872668355703354, \"context\": \"xrt ( xraytracer ) is a **python** software library for ray tracing and wave propagation in x\", \"tokens\": \"x ##rt ( x ##ray ##tra ##cer ) is a python software library for ray tracing and wave propagation in x\"}, {\"x\": -0.08318638056516647, \"y\": -0.02038133144378662, \"context\": \"lines and beamline elements. compiled, automatically parallel **python** for data science holarse frisch und ne\", \"tokens\": \"##lines and beam ##line elements . compiled , automatically parallel python for data science ho ##lars ##e fr ##isch und ne\"}, {\"x\": -0.08314508199691772, \"y\": 0.06728493422269821, \"context\": \"linck dating application, based on spring boot. **python** client for the dci control server for codefell\", \"tokens\": \"##lin ##ck dating application , based on spring boot . python client for the dc ##i control server for code ##fell\"}, {\"x\": -0.07625312358140945, \"y\": -0.05589031055569649, \"context\": \"application framework for blazor survival analysis in **python** a line based text user interface framework for scripts terra\", \"tokens\": \"application framework for b ##la ##zo ##r survival analysis in python a line based text user interface framework for scripts terra\"}, {\"x\": -0.08352931588888168, \"y\": 0.06740028411149979, \"context\": \"my experiments with the package manager. abc learn java **python** library for working with ontologies and ontology associations\", \"tokens\": \"my experiments with the package manager . abc learn java python library for working with onto ##logies and onto ##logy associations\"}, {\"x\": -0.0814771056175232, \"y\": 0.0036967333871871233, \"context\": \"robotic development with ros in c + + and **python**. 1232322 my fork and configuration of d\", \"tokens\": \"robotic development with ro ##s in c + + and python . 123 ##23 ##22 my fork and configuration of d\"}, {\"x\": -0.08236446976661682, \"y\": 0.016652371734380722, \"context\": \"]: pysam2 is a module for **python** 3. 6 or newer for reading and manipulating sam\", \"tokens\": \"] : p ##ys ##am ##2 is a module for python 3 . 6 or newer for reading and manipulating sam\"}, {\"x\": -0.0831809714436531, \"y\": -0.03029710240662098, \"context\": \"exported from code. google. com / p / **python**-mplayer performance profiler plugin for sa\", \"tokens\": \"exported from code . google . com / p / python - mp ##layer performance profile ##r plug ##in for sa\"}, {\"x\": -0.08151524513959885, \"y\": 0.09440630674362183, \"context\": \"ak, provide basic functionalities robot soccer playing ai **python** tools for visual studio fork of http: / /\", \"tokens\": \"##ak , provide basic functional ##ities robot soccer playing ai python tools for visual studio fork of http : / /\"}, {\"x\": -0.0829939991235733, \"y\": 0.0006921194726601243, \"context\": \"imdbpy-legacy branch of imdbpy **python** package, still compatible with **python** 2. 7.\", \"tokens\": \"im ##db ##py - legacy branch of im ##db ##py python package , still compatible with python 2 . 7 .\"}, {\"x\": -0.08186011016368866, \"y\": 0.016604842618107796, \"context\": \"of imdbpy **python** package, still compatible with **python** 2. 7. ansible modules for palo alto\", \"tokens\": \"of im ##db ##py python package , still compatible with python 2 . 7 . an ##sible modules for palo alto\"}, {\"x\": -0.0841771587729454, \"y\": 0.01667710766196251, \"context\": \"gendata mysql database connector for **python** ( with **python** 3 support ) ballerina file module\", \"tokens\": \"gen ##da ##ta my ##s ##q ##l database connector for python ( with python 3 support ) ball ##erina file module\"}, {\"x\": -0.0823112204670906, \"y\": 0.022251570597290993, \"context\": \"mysql database connector for **python** ( with **python** 3 support ) ballerina file module learn janus\", \"tokens\": \"my ##s ##q ##l database connector for python ( with python 3 support ) ball ##erina file module learn jan ##us\"}, {\"x\": -0.08375894278287888, \"y\": 0.010197918862104416, \"context\": \", format-agnostic, and community-driven **python** package for analysing and visualising earth science\", \"tokens\": \", format - ag ##nostic , and community - driven python package for anal ##ys ##ing and visual ##ising earth science\"}, {\"x\": -0.08569574356079102, \"y\": 0.0300587210804224, \"context\": \"app goldwasser exchange's public packages a **python** api and bmi for the dakota iterative systems\", \"tokens\": \"app gold ##was ##ser exchange ' s public packages a python api and b ##mi for the dakota it ##erative systems\"}, {\"x\": -0.08196869492530823, \"y\": 0.02631971426308155, \"context\": \"object-relational mapper, implemented on top of **python**. fork from lsst / obs _\", \"tokens\": \"object - relational map ##per , implemented on top of python . fork from l ##ss ##t / ob ##s _\"}, {\"x\": -0.0796838253736496, \"y\": 0.057702746242284775, \"context\": \". suckless terminal + patches + config **python** 3 library for isogeometric analysis http: /\", \"tokens\": \". suck ##less terminal + patches + con ##fi ##g python 3 library for iso ##ge ##ometric analysis http : /\"}, {\"x\": -0.06953498721122742, \"y\": -0.06364750862121582, \"context\": \"a system for research institutions to track holders of mice **python** growth and yield projection system llvm-based\", \"tokens\": \"a system for research institutions to track holders of mice python growth and yield projection system ll ##v ##m - based\"}, {\"x\": -0.08180829137563705, \"y\": -0.01139478012919426, \"context\": \"es in a rich and dynamic environment. bayesian **python**: bayesian inference tools for **python** umi.\", \"tokens\": \"##es in a rich and dynamic environment . bay ##esian python : bay ##esian inference tools for python um ##i .\"}, {\"x\": -0.08094251155853271, \"y\": -0.016516365110874176, \"context\": \". bayesian **python**: bayesian inference tools for **python** umi. framework version 1 ( read only sub\", \"tokens\": \". bay ##esian python : bay ##esian inference tools for python um ##i . framework version 1 ( read only sub\"}, {\"x\": -0.08003939688205719, \"y\": 0.1039586067199707, \"context\": \"project for demo purpose javascript framework for visual programming **python** library to load dynamically typed data into statically\", \"tokens\": \"project for demo purpose java ##script framework for visual programming python library to load dynamic ##ally typed data into static ##ally\"}, {\"x\": -0.08379094302654266, \"y\": 0.0038543010596185923, \"context\": \"openjdk project internet of things communications a **python** simulator for ashby-like homeostats with robotics\", \"tokens\": \"open ##j ##d ##k project internet of things communications a python simulator for ashby - like home ##osta ##ts with robotics\"}, {\"x\": -0.08176801353693008, \"y\": -0.061444856226444244, \"context\": \". [ retired 3. 26. 18 ] [ **python** ] [ django ] core api for strand,\", \"tokens\": \". [ retired 3 . 26 . 18 ] [ python ] [ dj ##ango ] core api for strand ,\"}, {\"x\": -0.08165934681892395, \"y\": 0.021508822217583656, \"context\": \"al docker container image my dwm configuration **python** ant downloader-tools for download from garmin\", \"tokens\": \"##al dock ##er container image my d ##w ##m configuration python ant download ##er - tools for download from ga ##rmin\"}, {\"x\": -0.0775587186217308, \"y\": -0.14019925892353058, \"context\": \"nights auto helper based on adb and **python** | [UNK] [UNK] **python** \\u7684 \\u660e \\u65e5 \\u65b9 [UNK] [UNK]\", \"tokens\": \"##night ##s auto help ##er based on ad ##b and python | [UNK] [UNK] python \\u7684 \\u660e \\u65e5 \\u65b9 [UNK] [UNK]\"}, {\"x\": -0.054901108145713806, \"y\": -0.3274797797203064, \"context\": \"er based on adb and **python** | [UNK] [UNK] **python** \\u7684 \\u660e \\u65e5 \\u65b9 [UNK] [UNK] [UNK] [UNK] \\u624b bird\", \"tokens\": \"##er based on ad ##b and python | [UNK] [UNK] python \\u7684 \\u660e \\u65e5 \\u65b9 [UNK] [UNK] [UNK] [UNK] \\u624b bird\"}, {\"x\": -0.08502126485109329, \"y\": 0.013703684322535992, \"context\": \"/ refactor / cleanup simple cad written in **python** + tkinter combination with remote storage support g\", \"tokens\": \"/ ref ##act ##or / cleanup simple cad written in python + t ##kin ##ter combination with remote storage support g\"}, {\"x\": -0.08510037511587143, \"y\": -0.011852987110614777, \"context\": \"light high performance modern opengl 3. 3 + **python** framework https: / / demosys-py\", \"tokens\": \"light high performance modern open ##gl 3 . 3 + python framework https : / / demos ##ys - p ##y\"}, {\"x\": -0.08110537379980087, \"y\": -0.017337936908006668, \"context\": \"( psg ) with skip-gram all in **python** and still more features will be added. the website\", \"tokens\": \"( ps ##g ) with skip - gram all in python and still more features will be added . the website\"}, {\"x\": -0.0830422192811966, \"y\": 0.07890623062849045, \"context\": \"emir is the next-generation display server technology. **python** tool designed to validate searchable format parcel submissions\", \"tokens\": \"emir is the next - generation display server technology . python tool designed to valid ##ate search ##able format parcel submissions\"}, {\"x\": -0.08170147240161896, \"y\": -0.005427107680588961, \"context\": \"submissions to the wisconsin parcel initiative ( arcpy and **python** 2. 7 dependencies ) mstar hbase\", \"tokens\": \"submissions to the wisconsin parcel initiative ( arc ##py and python 2 . 7 depend ##encies ) ms ##tar h ##base\"}, {\"x\": -0.08079443871974945, \"y\": 0.008197193965315819, \"context\": \"block explorer of nebulas spiceypy: a pythonic wrapper for the spice toolkit. a\", \"tokens\": \"block explorer of nebula ##s spice ##yp ##y : a python ##ic wrap ##per for the spice tool ##kit . a\"}, {\"x\": -0.08541182428598404, \"y\": -0.002158581279218197, \"context\": \"p / openid4java a collection of **python** bulk import scripts for various data sources removes repetitive work\", \"tokens\": \"p / open ##id ##4 ##ja ##va a collection of python bulk import scripts for various data sources removes repetitive work\"}, {\"x\": -0.08308349549770355, \"y\": 0.04046843945980072, \"context\": \"unit test framework for java 8 cli utility and **python** module for analyzing log files and other data. ju\", \"tokens\": \"unit test framework for java 8 cl ##i utility and python module for analyzing log files and other data . ju\"}, {\"x\": -0.08276216685771942, \"y\": -0.001674605067819357, \"context\": \"and erlang, written in elixir. **python** port of shadowsocksr arm builds of https:\", \"tokens\": \"and er ##lang , written in eli ##xi ##r . python port of shadows ##ocks ##r arm builds of https :\"}, {\"x\": -0.0782763734459877, \"y\": -0.04952928051352501, \"context\": \"( ruth ) japanese morphological analysis engine written in pure **python** this is the fork of bft-smart project\", \"tokens\": \"( ruth ) japanese morphological analysis engine written in pure python this is the fork of bf ##t - smart project\"}, {\"x\": -0.08541472256183624, \"y\": 0.025565462186932564, \"context\": \"r project [UNK] style props for rapid ui development a **python** library and tools providing easy access to the ret\", \"tokens\": \"r project [UNK] style props for rapid ui development a python library and tools providing easy access to the re ##t\"}, {\"x\": -0.04636804014444351, \"y\": -0.3307112455368042, \"context\": \"eurecom's openair-cn code **python** [UNK] [UNK] [UNK] \\u6cd5 [UNK] \\u4eba \\u535a [UNK] sspan\", \"tokens\": \"eu ##re ##com ' s open ##air - cn code python [UNK] [UNK] [UNK] \\u6cd5 [UNK] \\u4eba \\u535a [UNK] ss ##pan\"}, {\"x\": -0.08359239250421524, \"y\": 0.041482288390398026, \"context\": \"apping library my patches for dracut a **python** package with tools for scientific data management, evaluation,\", \"tokens\": \"##app ##ing library my patches for dr ##ac ##ut a python package with tools for scientific data management , evaluation ,\"}, {\"x\": -0.08231700211763382, \"y\": 0.05023312568664551, \"context\": \"repo clone of the darcs yi editor clone **python** binding to tango c + + package and ship re\", \"tokens\": \"rep ##o clone of the dar ##cs yi editor clone python binding to tango c + + package and ship re\"}, {\"x\": -0.07794509828090668, \"y\": -0.0898825079202652, \"context\": \"c + + package and ship relocatable **python** virtualenvs, like a boss. **python** package\", \"tokens\": \"c + + package and ship re ##lo ##cat ##able python virtual ##en ##vs , like a boss . python package\"}, {\"x\": -0.08341248333454132, \"y\": 0.08206083625555038, \"context\": \"able **python** virtualenvs, like a boss. **python** package for commonly used tools at olc. [UNK]\", \"tokens\": \"##able python virtual ##en ##vs , like a boss . python package for commonly used tools at ol ##c . [UNK]\"}, {\"x\": -0.08475823700428009, \"y\": -0.005131052806973457, \"context\": \"loader yet another sparql gui generate **python** ctypes classes from c headers. requires\", \"tokens\": \"load ##er yet another spa ##r ##q ##l gui generate python ct ##ype ##s classes from c header ##s . requires\"}, {\"x\": -0.08398333936929703, \"y\": 0.048069749027490616, \"context\": \"paradigm hardware construction framework statistics of steam reviews. a **python** module provides a consistent interface to multiple dcc application\", \"tokens\": \"paradigm hardware construction framework statistics of steam reviews . a python module provides a consistent interface to multiple dc ##c application\"}, {\"x\": -0.08411360532045364, \"y\": 0.05781425163149834, \"context\": \"! metering and monitoring for openstack compute **python** domain specific language tools a next generation http client for\", \"tokens\": \"! meter ##ing and monitoring for opens ##ta ##ck compute python domain specific language tools a next generation http client for\"}, {\"x\": -0.08460588753223419, \"y\": -0.020860521122813225, \"context\": \"domain specific language tools a next generation http client for **python**. [UNK] [UNK] configure webpack using\", \"tokens\": \"domain specific language tools a next generation http client for python . [UNK] [UNK] con ##fi ##gur ##e web ##pack using\"}, {\"x\": -0.037792086601257324, \"y\": -0.38325944542884827, \"context\": \"10 ( aka rightlinklite ) agent [UNK] [UNK] **python** [UNK] [UNK] \\u7684 mysql web \\u7248 \\u672c\", \"tokens\": \"##10 ( aka right ##link ##lite ) agent [UNK] [UNK] python [UNK] [UNK] \\u7684 my ##s ##q ##l web \\u7248 \\u672c\"}, {\"x\": -0.0834260880947113, \"y\": 0.03748827800154686, \"context\": \"morelinq html \\u52a0 [UNK] [UNK] \\u7684 webpack **python**-based bitcoin and alt-coin utility\", \"tokens\": \"more ##lin ##q html \\u52a0 [UNK] [UNK] \\u7684 web ##pack python - based bit ##co ##in and alt - coin utility\"}, {\"x\": -0.08176477253437042, \"y\": -0.010428808629512787, \"context\": \"xbot securely wipe the contents of storage device using **python** 2 & 3. project needs to be refact\", \"tokens\": \"##x ##bot securely wipe the contents of storage device using python 2 & 3 . project needs to be ref ##act\"}, {\"x\": -0.08222945779561996, \"y\": -0.02361917309463024, \"context\": \"understanding natural language. a transpiler for a **python** like language to javascript a softlayer client api\", \"tokens\": \"understanding natural language . a trans ##pile ##r for a python like language to java ##script a soft ##layer client api\"}, {\"x\": -0.04044540226459503, \"y\": -0.17638728022575378, \"context\": \"project management app offres d 'emploi **python** pour le marche francais loopback-react-starter\", \"tokens\": \"project management app off ##res d ' em ##pl ##oi python pour le marche francais loop ##back - react - starter\"}, {\"x\": -0.07669232040643692, \"y\": 0.013596932403743267, \"context\": \"representations of position and orientation in 2d or 3d using **python** social listening for spotify-music sounds better together\", \"tokens\": \"representations of position and orientation in 2d or 3d using python social listening for spot ##ify - music sounds better together\"}, {\"x\": -0.08457057923078537, \"y\": 0.0027641556225717068, \"context\": \"p / sshtunnel experimental tracing framework for **python** on windows. cratedb is a distributed sql database\", \"tokens\": \"p / ss ##ht ##un ##nel experimental tracing framework for python on windows . crate ##db is a distributed sql database\"}, {\"x\": -0.08464350551366806, \"y\": 0.035120993852615356, \"context\": \"mean example app for continuous integration praisestock android app **python** sdk for accessing qubole data service\", \"tokens\": \"mean example app for continuous integration praises ##tock android app python sd ##k for access ##ing qu ##bol ##e data service\"}, {\"x\": -0.08396018296480179, \"y\": 0.06625717133283615, \"context\": \"* * gpl number field sieve implementation simple **python** tool to create dataset for arrps.\", \"tokens\": \"* * gp ##l number field si ##eve implementation simple python tool to create data ##set for ar ##rp ##s .\"}, {\"x\": -0.08420298248529434, \"y\": -0.009534984827041626, \"context\": \"x. com ) my fork of stem, a **python** controller library for tor. ( old ) [ de\", \"tokens\": \"##x . com ) my fork of stem , a python controller library for tor . ( old ) [ de\"}, {\"x\": -0.08345379680395126, \"y\": -0.00945097953081131, \"context\": \"restful rmr framework hdpy is a pure **python** implementation of hdp profile and mcap protocol.\", \"tokens\": \"rest ##ful rm ##r framework hd ##py is a pure python implementation of hd ##p profile and mca ##p protocol .\"}, {\"x\": -0.08286876976490021, \"y\": -0.004924079868942499, \"context\": \"for noob in this area. scoutapm **python** agent. supports django, flask, and\", \"tokens\": \"for no ##ob in this area . scout ##ap ##m python agent . supports dj ##ango , fl ##ask , and\"}, {\"x\": -0.04371289536356926, \"y\": -0.17477725446224213, \"context\": \"licacao veja este exemplo em **python** technical indicators repositorio de front-end\", \"tokens\": \"##lica ##cao ve ##ja este ex ##em ##pl ##o em python technical indicators rep ##osi ##tori ##o de front - end\"}, {\"x\": -0.08133057504892349, \"y\": -0.04216074198484421, \"context\": \"7366 a simple business application platform. official **python** agent for auklet go mysql\", \"tokens\": \"##7 ##36 ##6 a simple business application platform . official python agent for au ##kle ##t go my ##s ##q ##l\"}, {\"x\": -0.08331380784511566, \"y\": 0.002646029694005847, \"context\": \"integration with several webtools services automated system for **python**-based experiments amkecpak, a make\", \"tokens\": \"integration with several web ##to ##ols services automated system for python - based experiments am ##ke ##cp ##ak , a make\"}, {\"x\": -0.08174242079257965, \"y\": 0.07445485889911652, \"context\": \"source code for all playfab sdks. **python** module containing system _ verilog files for black\", \"tokens\": \"source code for all play ##fa ##b sd ##ks . python module containing system _ ve ##ril ##og files for black\"}, {\"x\": -0.08084853738546371, \"y\": -0.02380015142261982, \"context\": \"is a 100 % backwards compatible php port of the **python** based hosting scripts used at kunstmaan. by\", \"tokens\": \"is a 100 % backwards compatible php port of the python based hosting scripts used at kunst ##ma ##an . by\"}, {\"x\": -0.08343300223350525, \"y\": 0.019940419122576714, \"context\": \"donations application for tracking donations. the app for community **python** wrapper for the mastodon ( https: /\", \"tokens\": \"donations application for tracking donations . the app for community python wrap ##per for the mast ##odon ( https : /\"}, {\"x\": -0.08201512694358826, \"y\": -0.051186248660087585, \"context\": \"luster. org currently rewriting supermap **python** sdk for cloud gis ( supermap\", \"tokens\": \"##lus ##ter . org currently re ##writing super ##ma ##p python sd ##k for cloud gi ##s ( super ##ma ##p\"}, {\"x\": -0.08412840962409973, \"y\": 0.035771820694208145, \"context\": \"namebench pyntcloud is a **python** library for working with 3d point clouds. [UNK] [UNK]\", \"tokens\": \"name ##ben ##ch p ##yn ##tc ##lou ##d is a python library for working with 3d point clouds . [UNK] [UNK]\"}, {\"x\": -0.08244983106851578, \"y\": 0.08336275815963745, \"context\": \"box localisation unbound with dnstap support **python** module for creating gdsii stream files, usually\", \"tokens\": \"##box local ##isation un ##bound with d ##nst ##ap support python module for creating g ##ds ##ii stream files , usually\"}, {\"x\": -0.08273258060216904, \"y\": 0.029612652957439423, \"context\": \". git test a command line tool and a **python** package to manipulate hydrodynamics meshes simple\", \"tokens\": \". gi ##t test a command line tool and a python package to manipulate hydro ##dy ##nami ##cs mesh ##es simple\"}, {\"x\": -0.08414711803197861, \"y\": 0.008058160543441772, \"context\": \"'s mousetrap cross-application persistence service **python** wapi client [UNK] apache parquet for modern.\", \"tokens\": \"' s mouse ##tra ##p cross - application persistence service python wa ##pi client [UNK] apache par ##quet for modern .\"}, {\"x\": -0.0809035450220108, \"y\": -0.008636193349957466, \"context\": \"site, based on pinax, django and **python**. no code yet, take a look at the\", \"tokens\": \"site , based on pin ##ax , dj ##ango and python . no code yet , take a look at the\"}, {\"x\": -0.08294734358787537, \"y\": 0.10091716051101685, \"context\": \"span support a lightweight state container based on redux **python** framework for processing universal dependencies data the core as\", \"tokens\": \"span support a lightweight state container based on red ##ux python framework for processing universal depend ##encies data the core as\"}, {\"x\": -0.08392348885536194, \"y\": 0.021924154832959175, \"context\": \"dependencies data the core asrt script written in **python** 3.# 35 semantico spring security oau\", \"tokens\": \"depend ##encies data the core as ##rt script written in python 3 . # 35 semantic ##o spring security o ##au\"}, {\"x\": -0.08419595658779144, \"y\": 0.01222534291446209, \"context\": \"sass at build time image processing application written in **python**, with a web ui written in flask [UNK]\", \"tokens\": \"sas ##s at build time image processing application written in python , with a web ui written in fl ##ask [UNK]\"}, {\"x\": -0.08378547430038452, \"y\": 0.04749860242009163, \"context\": \"of the typescript type definitions for here maps. **python** gui library devicehive java client library alsap\", \"tokens\": \"of the types ##cript type definitions for here maps . python gui library device ##hi ##ve java client library als ##ap\"}, {\"x\": -0.08068670332431793, \"y\": -0.018505824729800224, \"context\": \"-ruby timezone library weather radar data processing-**python** package todo: back up songary / fire\", \"tokens\": \"- ruby time ##zone library weather radar data processing - python package tod ##o : back up song ##ary / fire\"}, {\"x\": -0.08017408847808838, \"y\": 0.026974519714713097, \"context\": \"js release em testes para publicacao **python** tutorial to be given at ocnc re\", \"tokens\": \"j ##s release em test ##es para public ##aca ##o python tutor ##ial to be given at o ##c ##nc re\"}, {\"x\": -0.07832200825214386, \"y\": -0.06299683451652527, \"context\": \"talk from kiwi pycon 2015 on why **python** is awesome-and some other languages are cool too\", \"tokens\": \"talk from ki ##wi p ##y ##con 2015 on why python is awesome - and some other languages are cool too\"}, {\"x\": -0.08236178010702133, \"y\": 0.004780280869454145, \"context\": \"s is a multi-protocol chat bot written in **python**, designed with both the user and developer in mind\", \"tokens\": \"##s is a multi - protocol chat bot written in python , designed with both the user and developer in mind\"}, {\"x\": -0.08386882394552231, \"y\": -0.004250970669090748, \"context\": \"t cervical cancer screening competition on kaggle carto **python** package for data scientists yet another new parser for\", \"tokens\": \"##t cervical cancer screening competition on ka ##ggle cart ##o python package for data scientists yet another new par ##ser for\"}, {\"x\": -0.08253254741430283, \"y\": 0.011051444336771965, \"context\": \"consultorio-sistema-admin / **python** jira library is the easiest way to automate\", \"tokens\": \"consult ##orio - sis ##tem ##a - ad ##min / python ji ##ra library is the easiest way to auto ##mate\"}, {\"x\": -0.08237303048372269, \"y\": 0.05999984219670296, \"context\": \"nmt models suckless dwm repo **python** sdk for using gbdx. es un\", \"tokens\": \"##n ##mt models suck ##less d ##w ##m rep ##o python sd ##k for using gb ##d ##x . es un\"}, {\"x\": -0.07804913818836212, \"y\": -0.05210064724087715, \"context\": \"b ( ruby ) template expressiveness sunpy-**python** for solar physics mirror of the official jsbsi\", \"tokens\": \"##b ( ruby ) template expressive ##ness sun ##py - python for solar physics mirror of the official j ##sb ##si\"}, {\"x\": -0.08360745757818222, \"y\": -0.04707987606525421, \"context\": \"no longer in development ) public transport network analysis using **python** [UNK] append-only log crdt on ip\", \"tokens\": \"no longer in development ) public transport network analysis using python [UNK] app ##end - only log cr ##dt on ip\"}, {\"x\": -0.08443295210599899, \"y\": 0.04168708622455597, \"context\": \"for hack with linting and code migrations a **python** library for quantum programming using quil. an es\", \"tokens\": \"for hack with lin ##ting and code migration ##s a python library for quantum programming using qui ##l . an es\"}, {\"x\": -0.03157733008265495, \"y\": -0.38862693309783936, \"context\": \"[UNK] [UNK] [UNK] \\uff0c [UNK] [UNK] [UNK] [UNK] [UNK] [UNK] **python** [UNK] [UNK] \\uff0c [UNK] [UNK] [UNK] [UNK] [UNK] [UNK] java\", \"tokens\": \"[UNK] [UNK] [UNK] \\uff0c [UNK] [UNK] [UNK] [UNK] [UNK] [UNK] python [UNK] [UNK] \\uff0c [UNK] [UNK] [UNK] [UNK] [UNK] [UNK] java\"}, {\"x\": -0.03756144270300865, \"y\": -0.3844880759716034, \"context\": \"[UNK] [UNK] [UNK] [UNK] [UNK] \\u5e73 [UNK] \\uff0c [UNK] [UNK] **python** \\u3001 nodejs \\u3001 go \\u3001 java \\u3001 php [UNK]\", \"tokens\": \"[UNK] [UNK] [UNK] [UNK] [UNK] \\u5e73 [UNK] \\uff0c [UNK] [UNK] python \\u3001 node ##js \\u3001 go \\u3001 java \\u3001 php [UNK]\"}, {\"x\": -0.08232799917459488, \"y\": 0.0778634175658226, \"context\": \"85856 / leetcode. git **python** package for digitizing pollen diagrams mujin controller **python**\", \"tokens\": \"##85 ##85 ##6 / lee ##tc ##ode . gi ##t python package for digit ##izing pollen diagrams mu ##jin controller python\"}, {\"x\": -0.08313188701868057, \"y\": -0.048107441514730453, \"context\": \"**python** package for digitizing pollen diagrams mujin controller **python** client embed player eagleeye web client a mood\", \"tokens\": \"python package for digit ##izing pollen diagrams mu ##jin controller python client em ##bed player eagle ##eye web client a mood\"}, {\"x\": -0.08180401474237442, \"y\": -0.00359890004619956, \"context\": \"against corruption. time-resolved spectroscopy toolbox for **python** automatically exported from code. google. com / p\", \"tokens\": \"against corruption . time - resolved spectroscopy tool ##box for python automatically exported from code . google . com / p\"}, {\"x\": -0.08342499285936356, \"y\": 0.04132048040628433, \"context\": \"east scarborough storefront calendar by team nettilling **python** asn. 1 library with a focus on performance\", \"tokens\": \"east scarborough store ##front calendar by team net ##till ##ing python as ##n . 1 library with a focus on performance\"}, {\"x\": -0.08001723140478134, \"y\": 0.019180133938789368, \"context\": \". 1 library with a focus on performance and a pythonic api event base activity coordinator website for twr\", \"tokens\": \". 1 library with a focus on performance and a python ##ic api event base activity coordinator website for t ##wr\"}, {\"x\": -0.08477156609296799, \"y\": 0.02267542853951454, \"context\": \"restful, audiovisual api a set of **python** tools for building closed-loop insulin delivery apps (\", \"tokens\": \"rest ##ful , audio ##vis ##ual api a set of python tools for building closed - loop insulin delivery apps (\"}, {\"x\": -0.08479377627372742, \"y\": 0.010110638104379177, \"context\": \"tools for building closed-loop insulin delivery apps ( **python** port of loopkit ) c + + simulation airline\", \"tokens\": \"tools for building closed - loop insulin delivery apps ( python port of loop ##kit ) c + + simulation airline\"}, {\"x\": -0.08321337401866913, \"y\": 0.007906594313681126, \"context\": \"a hacked up version of suds to work with python3. automatically exported from code. google. com\", \"tokens\": \"a hacked up version of sud ##s to work with python ##3 . automatically exported from code . google . com\"}, {\"x\": -0.08192142844200134, \"y\": -0.017515558749437332, \"context\": \"library of on-demand deepstream pipeline services for **python** and c / c + + automatically exported from code\", \"tokens\": \"library of on - demand deep ##stream pipeline services for python and c / c + + automatically exported from code\"}, {\"x\": -0.08127963542938232, \"y\": -0.06867647916078568, \"context\": \"post-apocalyptic earth indx server django + **python** + mysql + redis + dock\", \"tokens\": \"post - apocalyptic earth ind ##x server dj ##ango + python + my ##s ##q ##l + red ##is + dock\"}, {\"x\": -0.08345866203308105, \"y\": 0.0597921684384346, \"context\": \"otypes using the avida digital evolution platform. **python** logging handler for graylog that sends messages in gel\", \"tokens\": \"##otype ##s using the avid ##a digital evolution platform . python logging handler for gray ##log that sends messages in gel\"}, {\"x\": -0.08300033956766129, \"y\": -0.02258129231631756, \"context\": \"django app that creates automatic web uis for **python** scripts. vts registry. ma presentation \\\"j\", \"tokens\": \"dj ##ango app that creates automatic web ui ##s for python scripts . vt ##s registry . ma presentation \\\" j\"}, {\"x\": -0.07190261781215668, \"y\": -0.09986679255962372, \"context\": \"swift binary protocol client libraries a retro game engine for **python** a wordpress plugin to parse gutenberg\", \"tokens\": \"swift binary protocol client libraries a retro game engine for python a word ##press plug ##in to par ##se gut ##enberg\"}, {\"x\": -0.08420770615339279, \"y\": 0.016018997877836227, \"context\": \"a powerful spider ( web crawler ) system in **python**. a scratch pad repository to track efforts to produce\", \"tokens\": \"a powerful spider ( web crawl ##er ) system in python . a scratch pad repository to track efforts to produce\"}, {\"x\": -0.0751003623008728, \"y\": -0.04394925758242607, \"context\": \"qp data; pytrx is a **python** object-oriented programme created for the purpose of calculating\", \"tokens\": \"##q ##p data ; p ##yt ##r ##x is a python object - oriented programme created for the purpose of calculating\"}, {\"x\": -0.08147959411144257, \"y\": -0.012532595545053482, \"context\": \"library a c + + library ( bindings for **python** and c# ) for interfacing with the\", \"tokens\": \"library a c + + library ( binding ##s for python and c # ) for inter ##fa ##cing with the\"}, {\"x\": -0.08272456377744675, \"y\": 0.016901956871151924, \"context\": \"is is a high-performance fake data generator for **python**, which provides data for a variety of purposes in\", \"tokens\": \"##is is a high - performance fake data generator for python , which provides data for a variety of purposes in\"}]}}, {\"mode\": \"vega-lite\"});\n",
       "</script>"
      ],
      "text/plain": [
       "alt.Chart(...)"
      ]
     },
     "execution_count": 73,
     "metadata": {},
     "output_type": "execute_result"
    }
   ],
   "source": [
    "alt.Chart(df, title=\"Word Similarity: Python\").mark_circle(size=200).encode(\n",
    "    alt.X('x',\n",
    "        scale=alt.Scale(zero=False)\n",
    "    ), y=\"y\",\n",
    "    # If you click a point, take you to the URL link \n",
    "    #href=\"link\",\n",
    "    # The categories that show up in the hover tooltip\n",
    "    tooltip=[ 'context']\n",
    "    ).interactive().properties(\n",
    "    width=500,\n",
    "    height=500\n",
    ")"
   ]
  },
  {
   "cell_type": "markdown",
   "metadata": {},
   "source": [
    "# Plot word embeddings from keywords (all at once)"
   ]
  },
  {
   "cell_type": "code",
   "execution_count": 79,
   "metadata": {},
   "outputs": [],
   "source": [
    "# Tokenize all the poems\n",
    "tokenized_repos = tokenizer(python_description_text_clean, truncation=True, padding=True, return_tensors=\"pt\")\n",
    "\n",
    "# Get a list of all the tokens for each poem\n",
    "all_tokenized_repos = []\n",
    "for i in range(len(tokenized_repos['input_ids'])):\n",
    "    all_tokenized_repos.append(' '.join(tokenized_repos[i].tokens))\n",
    "\n",
    "# Add them to the original DataFrame\n",
    "repo_data['tokens'] = all_tokenized_repos"
   ]
  },
  {
   "cell_type": "code",
   "execution_count": 80,
   "metadata": {},
   "outputs": [
    {
     "data": {
      "text/html": [
       "<div>\n",
       "<style scoped>\n",
       "    .dataframe tbody tr th:only-of-type {\n",
       "        vertical-align: middle;\n",
       "    }\n",
       "\n",
       "    .dataframe tbody tr th {\n",
       "        vertical-align: top;\n",
       "    }\n",
       "\n",
       "    .dataframe thead th {\n",
       "        text-align: right;\n",
       "    }\n",
       "</style>\n",
       "<table border=\"1\" class=\"dataframe\">\n",
       "  <thead>\n",
       "    <tr style=\"text-align: right;\">\n",
       "      <th></th>\n",
       "      <th>slug</th>\n",
       "      <th>description</th>\n",
       "      <th>readme</th>\n",
       "      <th>language</th>\n",
       "      <th>topics</th>\n",
       "      <th>commits</th>\n",
       "      <th>forks</th>\n",
       "      <th>stars</th>\n",
       "      <th>watchers</th>\n",
       "      <th>tokens</th>\n",
       "    </tr>\n",
       "  </thead>\n",
       "  <tbody>\n",
       "    <tr>\n",
       "      <th>21349</th>\n",
       "      <td>NeuralEnsemble/python-neo</td>\n",
       "      <td>Neo is a package for representing electrophysiology data in Python, together with support for reading a wide range of neurophysiology file formats</td>\n",
       "      <td>===\\nNeo\\n===\\n\\nNeo is a Python package for working with electrophysiology data in Python, together\\nwith support for reading a wide range of neurophysiology file formats, including\\nSpike2, Neur...</td>\n",
       "      <td>Python</td>\n",
       "      <td>['hacktoberfest']</td>\n",
       "      <td>2533</td>\n",
       "      <td>178</td>\n",
       "      <td>187</td>\n",
       "      <td>33</td>\n",
       "      <td>[CLS] neo is a package for representing electro ##phy ##sio ##logy data in python , together with support for reading a wide range of ne ##uro ##phy ##sio ##logy file formats [SEP] [PAD] [PAD] [PA...</td>\n",
       "    </tr>\n",
       "    <tr>\n",
       "      <th>69869</th>\n",
       "      <td>kuzzleio/sdk-android</td>\n",
       "      <td>Official android SDK for Kuzzle</td>\n",
       "      <td>[![Build Status](https://api.travis-ci.org/kuzzleio/sdk-android.svg?branch=master)](https://travis-ci.org/kuzzleio/sdk-android) [![codecov.io](http://codecov.io/github/kuzzleio/sdk-android/coverag...</td>\n",
       "      <td>Java</td>\n",
       "      <td>['kuzzle-sdk', 'android', 'kuzzle', 'swig', 'offline-first']</td>\n",
       "      <td>641</td>\n",
       "      <td>2</td>\n",
       "      <td>5</td>\n",
       "      <td>14</td>\n",
       "      <td>[CLS] official android sd ##k for ku ##zzle [SEP] [PAD] [PAD] [PAD] [PAD] [PAD] [PAD] [PAD] [PAD] [PAD] [PAD] [PAD] [PAD] [PAD] [PAD] [PAD] [PAD] [PAD] [PAD] [PAD] [PAD] [PAD] [PAD] [PAD] [PAD] [P...</td>\n",
       "    </tr>\n",
       "    <tr>\n",
       "      <th>6609</th>\n",
       "      <td>YunYang1994/TensorFlow2.0-Examples</td>\n",
       "      <td>🙄 Difficult algorithm, Simple code.</td>\n",
       "      <td>&lt;h2 align=\"center\"&gt;&lt;code&gt;🎉TensorFlow2.0-Examples🎉!&lt;/code&gt;&lt;/h2&gt;\\n&lt;p align=\"center\"&gt;\"&lt;i&gt;Talk is cheap, show me the code.&lt;/i&gt;\" \\n  ----- Linus Torvalds&lt;/p&gt;\\n&lt;p align=\"center\"&gt;\\n&lt;a href=\"https://githu...</td>\n",
       "      <td>Jupyter Notebook</td>\n",
       "      <td>['tensorflow2', 'tensorflow-examples', 'deep-learning', 'deep-neural-networks', 'machine-learning', 'gan', 'linear-regression', 'resnet', 'reinforcement-learning', 'image-classification', 'object-...</td>\n",
       "      <td>363</td>\n",
       "      <td>641</td>\n",
       "      <td>1494</td>\n",
       "      <td>60</td>\n",
       "      <td>[CLS] [UNK] difficult algorithm , simple code . [SEP] [PAD] [PAD] [PAD] [PAD] [PAD] [PAD] [PAD] [PAD] [PAD] [PAD] [PAD] [PAD] [PAD] [PAD] [PAD] [PAD] [PAD] [PAD] [PAD] [PAD] [PAD] [PAD] [PAD] [PAD...</td>\n",
       "    </tr>\n",
       "    <tr>\n",
       "      <th>100793</th>\n",
       "      <td>doruvil/TwitterSearchTool</td>\n",
       "      <td>This is a part of a functional iPhone app where the user can search for tweets on Twitter and see any particular tweet in a UIWebView while injecting it’s word count after the tweet.</td>\n",
       "      <td>Twitter Search Tool iOS\\n=================\\n\\nThis is a part of a functional iPhone app where the user can search for tweets on Twitter and see any particular tweet in a UIWebView while injecting ...</td>\n",
       "      <td>Swift</td>\n",
       "      <td>[]</td>\n",
       "      <td>796</td>\n",
       "      <td>0</td>\n",
       "      <td>1</td>\n",
       "      <td>1</td>\n",
       "      <td>[CLS] this is a part of a functional iphone app where the user can search for t ##wee ##ts on twitter and see any particular t ##wee ##t in a ui ##we ##b ##view while in ##ject ##ing it ’ s word c...</td>\n",
       "    </tr>\n",
       "    <tr>\n",
       "      <th>156163</th>\n",
       "      <td>genestudio/enterprise</td>\n",
       "      <td>Enterprise-grade component library for the Infor Design System</td>\n",
       "      <td># :tada: Soho XI Has Moved to Github! :tada:\\n\\nStarting at the end of release `4.6.0`, we moved the Soho XI codebase to Github! What this means is now anyone can view and contribute to the codeba...</td>\n",
       "      <td>HTML</td>\n",
       "      <td>[]</td>\n",
       "      <td>10562</td>\n",
       "      <td>0</td>\n",
       "      <td>0</td>\n",
       "      <td>0</td>\n",
       "      <td>[CLS] enterprise - grade component library for the info ##r design system [SEP] [PAD] [PAD] [PAD] [PAD] [PAD] [PAD] [PAD] [PAD] [PAD] [PAD] [PAD] [PAD] [PAD] [PAD] [PAD] [PAD] [PAD] [PAD] [PAD] [P...</td>\n",
       "    </tr>\n",
       "    <tr>\n",
       "      <th>...</th>\n",
       "      <td>...</td>\n",
       "      <td>...</td>\n",
       "      <td>...</td>\n",
       "      <td>...</td>\n",
       "      <td>...</td>\n",
       "      <td>...</td>\n",
       "      <td>...</td>\n",
       "      <td>...</td>\n",
       "      <td>...</td>\n",
       "      <td>...</td>\n",
       "    </tr>\n",
       "    <tr>\n",
       "      <th>132340</th>\n",
       "      <td>hlb9071/deeptest</td>\n",
       "      <td>开源优测-积微速成计划</td>\n",
       "      <td>## 开源优测-积微速成计划\\n\\n在这里大家组团相互督促学习，每日提交学习记录，完成每日任务\\n\\n在专用微信群里讨论、交流技术，拒绝打酱油，拒绝水...\\n\\n由苦叶子发起的一项免费的成长计划，从公众号：开源优测 的关注者每次筛选一批人员，一起成长\\n\\n包括但不限于以下方面的成长：\\n\\nPython编程\\n\\n自动化测试\\n\\nwebdriver\\n\\nselenium\\n\\nro...</td>\n",
       "      <td>Python</td>\n",
       "      <td>[]</td>\n",
       "      <td>669</td>\n",
       "      <td>121</td>\n",
       "      <td>0</td>\n",
       "      <td>0</td>\n",
       "      <td>[CLS] [UNK] [UNK] [UNK] [UNK] - [UNK] [UNK] [UNK] 成 [UNK] [UNK] [SEP] [PAD] [PAD] [PAD] [PAD] [PAD] [PAD] [PAD] [PAD] [PAD] [PAD] [PAD] [PAD] [PAD] [PAD] [PAD] [PAD] [PAD] [PAD] [PAD] [PAD] [PAD] ...</td>\n",
       "    </tr>\n",
       "    <tr>\n",
       "      <th>138194</th>\n",
       "      <td>adrienhahahah/ProjectMagenta</td>\n",
       "      <td>A fork of manuelcortez/TWBlue with enhansements.</td>\n",
       "      <td># Project Magenta\\n\\n## What is it?\\n\\nProject Magenta is a fork of [TWBlue](http://twblue.es) with enhancements. TWBlue changes are frequently merged in, and bug fixes are occasionally sent upstr...</td>\n",
       "      <td>Python</td>\n",
       "      <td>[]</td>\n",
       "      <td>505</td>\n",
       "      <td>0</td>\n",
       "      <td>0</td>\n",
       "      <td>0</td>\n",
       "      <td>[CLS] a fork of manuel ##cor ##te ##z / t ##w ##bl ##ue with en ##han ##se ##ments . [SEP] [PAD] [PAD] [PAD] [PAD] [PAD] [PAD] [PAD] [PAD] [PAD] [PAD] [PAD] [PAD] [PAD] [PAD] [PAD] [PAD] [PAD] [PA...</td>\n",
       "    </tr>\n",
       "    <tr>\n",
       "      <th>53719</th>\n",
       "      <td>tobyweston/radiate</td>\n",
       "      <td>Build monitor for TeamCity written in Scala</td>\n",
       "      <td># Radiate\\n![](https://travis-ci.org/tobyweston/radiate.svg?branch=master)\\n\\nThe `radiate` app is a TeamCity build monitor written in Scala. It can be run as a Windows **screensaver** or from the...</td>\n",
       "      <td>Scala</td>\n",
       "      <td>[]</td>\n",
       "      <td>526</td>\n",
       "      <td>3</td>\n",
       "      <td>14</td>\n",
       "      <td>7</td>\n",
       "      <td>[CLS] build monitor for team ##city written in scala [SEP] [PAD] [PAD] [PAD] [PAD] [PAD] [PAD] [PAD] [PAD] [PAD] [PAD] [PAD] [PAD] [PAD] [PAD] [PAD] [PAD] [PAD] [PAD] [PAD] [PAD] [PAD] [PAD] [PAD]...</td>\n",
       "    </tr>\n",
       "    <tr>\n",
       "      <th>103919</th>\n",
       "      <td>WuSiYu/openwrt-magicbox-ac750</td>\n",
       "      <td>Third party patched OpenWrt (current upstream) for MagicBox-ac750 (mactoy.com)</td>\n",
       "      <td>This repo is a patched OpenWrt current upstream source code for mactoy.com\\nMagicBox-ac750 mini router (16M flash version).\\n\\nCompared with the offical source code, this repo applies some patches...</td>\n",
       "      <td>C</td>\n",
       "      <td>[]</td>\n",
       "      <td>44372</td>\n",
       "      <td>2</td>\n",
       "      <td>1</td>\n",
       "      <td>1</td>\n",
       "      <td>[CLS] third party patch ##ed open ##wr ##t ( current upstream ) for magic ##box - ac ##75 ##0 ( mac ##toy . com ) [SEP] [PAD] [PAD] [PAD] [PAD] [PAD] [PAD] [PAD] [PAD] [PAD] [PAD] [PAD] [PAD] [PAD...</td>\n",
       "    </tr>\n",
       "    <tr>\n",
       "      <th>86723</th>\n",
       "      <td>tijsmaas/ROAD</td>\n",
       "      <td>Registred Operational Account Driving System</td>\n",
       "      <td>ROAD\\n====\\n\\nRegistered Operational Account Driving System\\n</td>\n",
       "      <td>Java</td>\n",
       "      <td>[]</td>\n",
       "      <td>476</td>\n",
       "      <td>2</td>\n",
       "      <td>2</td>\n",
       "      <td>5</td>\n",
       "      <td>[CLS] regis ##tre ##d operational account driving system [SEP] [PAD] [PAD] [PAD] [PAD] [PAD] [PAD] [PAD] [PAD] [PAD] [PAD] [PAD] [PAD] [PAD] [PAD] [PAD] [PAD] [PAD] [PAD] [PAD] [PAD] [PAD] [PAD] [...</td>\n",
       "    </tr>\n",
       "  </tbody>\n",
       "</table>\n",
       "<p>5000 rows × 10 columns</p>\n",
       "</div>"
      ],
      "text/plain": [
       "                                      slug  \\\n",
       "21349            NeuralEnsemble/python-neo   \n",
       "69869                 kuzzleio/sdk-android   \n",
       "6609    YunYang1994/TensorFlow2.0-Examples   \n",
       "100793           doruvil/TwitterSearchTool   \n",
       "156163               genestudio/enterprise   \n",
       "...                                    ...   \n",
       "132340                    hlb9071/deeptest   \n",
       "138194        adrienhahahah/ProjectMagenta   \n",
       "53719                   tobyweston/radiate   \n",
       "103919       WuSiYu/openwrt-magicbox-ac750   \n",
       "86723                        tijsmaas/ROAD   \n",
       "\n",
       "                                                                                                                                                                                   description  \\\n",
       "21349                                       Neo is a package for representing electrophysiology data in Python, together with support for reading a wide range of neurophysiology file formats   \n",
       "69869                                                                                                                                                          Official android SDK for Kuzzle   \n",
       "6609                                                                                                                                                       🙄 Difficult algorithm, Simple code.   \n",
       "100793  This is a part of a functional iPhone app where the user can search for tweets on Twitter and see any particular tweet in a UIWebView while injecting it’s word count after the tweet.   \n",
       "156163                                                                                                                          Enterprise-grade component library for the Infor Design System   \n",
       "...                                                                                                                                                                                        ...   \n",
       "132340                                                                                                                                                                             开源优测-积微速成计划   \n",
       "138194                                                                                                                                        A fork of manuelcortez/TWBlue with enhansements.   \n",
       "53719                                                                                                                                              Build monitor for TeamCity written in Scala   \n",
       "103919                                                                                                          Third party patched OpenWrt (current upstream) for MagicBox-ac750 (mactoy.com)   \n",
       "86723                                                                                                                                             Registred Operational Account Driving System   \n",
       "\n",
       "                                                                                                                                                                                                         readme  \\\n",
       "21349   ===\\nNeo\\n===\\n\\nNeo is a Python package for working with electrophysiology data in Python, together\\nwith support for reading a wide range of neurophysiology file formats, including\\nSpike2, Neur...   \n",
       "69869   [![Build Status](https://api.travis-ci.org/kuzzleio/sdk-android.svg?branch=master)](https://travis-ci.org/kuzzleio/sdk-android) [![codecov.io](http://codecov.io/github/kuzzleio/sdk-android/coverag...   \n",
       "6609    <h2 align=\"center\"><code>🎉TensorFlow2.0-Examples🎉!</code></h2>\\n<p align=\"center\">\"<i>Talk is cheap, show me the code.</i>\" \\n  ----- Linus Torvalds</p>\\n<p align=\"center\">\\n<a href=\"https://githu...   \n",
       "100793  Twitter Search Tool iOS\\n=================\\n\\nThis is a part of a functional iPhone app where the user can search for tweets on Twitter and see any particular tweet in a UIWebView while injecting ...   \n",
       "156163  # :tada: Soho XI Has Moved to Github! :tada:\\n\\nStarting at the end of release `4.6.0`, we moved the Soho XI codebase to Github! What this means is now anyone can view and contribute to the codeba...   \n",
       "...                                                                                                                                                                                                         ...   \n",
       "132340  ## 开源优测-积微速成计划\\n\\n在这里大家组团相互督促学习，每日提交学习记录，完成每日任务\\n\\n在专用微信群里讨论、交流技术，拒绝打酱油，拒绝水...\\n\\n由苦叶子发起的一项免费的成长计划，从公众号：开源优测 的关注者每次筛选一批人员，一起成长\\n\\n包括但不限于以下方面的成长：\\n\\nPython编程\\n\\n自动化测试\\n\\nwebdriver\\n\\nselenium\\n\\nro...   \n",
       "138194  # Project Magenta\\n\\n## What is it?\\n\\nProject Magenta is a fork of [TWBlue](http://twblue.es) with enhancements. TWBlue changes are frequently merged in, and bug fixes are occasionally sent upstr...   \n",
       "53719   # Radiate\\n![](https://travis-ci.org/tobyweston/radiate.svg?branch=master)\\n\\nThe `radiate` app is a TeamCity build monitor written in Scala. It can be run as a Windows **screensaver** or from the...   \n",
       "103919  This repo is a patched OpenWrt current upstream source code for mactoy.com\\nMagicBox-ac750 mini router (16M flash version).\\n\\nCompared with the offical source code, this repo applies some patches...   \n",
       "86723                                                                                                                                             ROAD\\n====\\n\\nRegistered Operational Account Driving System\\n   \n",
       "\n",
       "                language  \\\n",
       "21349             Python   \n",
       "69869               Java   \n",
       "6609    Jupyter Notebook   \n",
       "100793             Swift   \n",
       "156163              HTML   \n",
       "...                  ...   \n",
       "132340            Python   \n",
       "138194            Python   \n",
       "53719              Scala   \n",
       "103919                 C   \n",
       "86723               Java   \n",
       "\n",
       "                                                                                                                                                                                                         topics  \\\n",
       "21349                                                                                                                                                                                         ['hacktoberfest']   \n",
       "69869                                                                                                                                              ['kuzzle-sdk', 'android', 'kuzzle', 'swig', 'offline-first']   \n",
       "6609    ['tensorflow2', 'tensorflow-examples', 'deep-learning', 'deep-neural-networks', 'machine-learning', 'gan', 'linear-regression', 'resnet', 'reinforcement-learning', 'image-classification', 'object-...   \n",
       "100793                                                                                                                                                                                                       []   \n",
       "156163                                                                                                                                                                                                       []   \n",
       "...                                                                                                                                                                                                         ...   \n",
       "132340                                                                                                                                                                                                       []   \n",
       "138194                                                                                                                                                                                                       []   \n",
       "53719                                                                                                                                                                                                        []   \n",
       "103919                                                                                                                                                                                                       []   \n",
       "86723                                                                                                                                                                                                        []   \n",
       "\n",
       "        commits  forks  stars  watchers  \\\n",
       "21349      2533    178    187        33   \n",
       "69869       641      2      5        14   \n",
       "6609        363    641   1494        60   \n",
       "100793      796      0      1         1   \n",
       "156163    10562      0      0         0   \n",
       "...         ...    ...    ...       ...   \n",
       "132340      669    121      0         0   \n",
       "138194      505      0      0         0   \n",
       "53719       526      3     14         7   \n",
       "103919    44372      2      1         1   \n",
       "86723       476      2      2         5   \n",
       "\n",
       "                                                                                                                                                                                                         tokens  \n",
       "21349   [CLS] neo is a package for representing electro ##phy ##sio ##logy data in python , together with support for reading a wide range of ne ##uro ##phy ##sio ##logy file formats [SEP] [PAD] [PAD] [PA...  \n",
       "69869   [CLS] official android sd ##k for ku ##zzle [SEP] [PAD] [PAD] [PAD] [PAD] [PAD] [PAD] [PAD] [PAD] [PAD] [PAD] [PAD] [PAD] [PAD] [PAD] [PAD] [PAD] [PAD] [PAD] [PAD] [PAD] [PAD] [PAD] [PAD] [PAD] [P...  \n",
       "6609    [CLS] [UNK] difficult algorithm , simple code . [SEP] [PAD] [PAD] [PAD] [PAD] [PAD] [PAD] [PAD] [PAD] [PAD] [PAD] [PAD] [PAD] [PAD] [PAD] [PAD] [PAD] [PAD] [PAD] [PAD] [PAD] [PAD] [PAD] [PAD] [PAD...  \n",
       "100793  [CLS] this is a part of a functional iphone app where the user can search for t ##wee ##ts on twitter and see any particular t ##wee ##t in a ui ##we ##b ##view while in ##ject ##ing it ’ s word c...  \n",
       "156163  [CLS] enterprise - grade component library for the info ##r design system [SEP] [PAD] [PAD] [PAD] [PAD] [PAD] [PAD] [PAD] [PAD] [PAD] [PAD] [PAD] [PAD] [PAD] [PAD] [PAD] [PAD] [PAD] [PAD] [PAD] [P...  \n",
       "...                                                                                                                                                                                                         ...  \n",
       "132340  [CLS] [UNK] [UNK] [UNK] [UNK] - [UNK] [UNK] [UNK] 成 [UNK] [UNK] [SEP] [PAD] [PAD] [PAD] [PAD] [PAD] [PAD] [PAD] [PAD] [PAD] [PAD] [PAD] [PAD] [PAD] [PAD] [PAD] [PAD] [PAD] [PAD] [PAD] [PAD] [PAD] ...  \n",
       "138194  [CLS] a fork of manuel ##cor ##te ##z / t ##w ##bl ##ue with en ##han ##se ##ments . [SEP] [PAD] [PAD] [PAD] [PAD] [PAD] [PAD] [PAD] [PAD] [PAD] [PAD] [PAD] [PAD] [PAD] [PAD] [PAD] [PAD] [PAD] [PA...  \n",
       "53719   [CLS] build monitor for team ##city written in scala [SEP] [PAD] [PAD] [PAD] [PAD] [PAD] [PAD] [PAD] [PAD] [PAD] [PAD] [PAD] [PAD] [PAD] [PAD] [PAD] [PAD] [PAD] [PAD] [PAD] [PAD] [PAD] [PAD] [PAD]...  \n",
       "103919  [CLS] third party patch ##ed open ##wr ##t ( current upstream ) for magic ##box - ac ##75 ##0 ( mac ##toy . com ) [SEP] [PAD] [PAD] [PAD] [PAD] [PAD] [PAD] [PAD] [PAD] [PAD] [PAD] [PAD] [PAD] [PAD...  \n",
       "86723   [CLS] regis ##tre ##d operational account driving system [SEP] [PAD] [PAD] [PAD] [PAD] [PAD] [PAD] [PAD] [PAD] [PAD] [PAD] [PAD] [PAD] [PAD] [PAD] [PAD] [PAD] [PAD] [PAD] [PAD] [PAD] [PAD] [PAD] [...  \n",
       "\n",
       "[5000 rows x 10 columns]"
      ]
     },
     "execution_count": 80,
     "metadata": {},
     "output_type": "execute_result"
    }
   ],
   "source": [
    "repo_data"
   ]
  },
  {
   "cell_type": "code",
   "execution_count": 81,
   "metadata": {},
   "outputs": [],
   "source": [
    "def find_original_repo(rows):\n",
    "\n",
    "    \"\"\"This function checks to see whether the context tokens show up in the original repo description,\n",
    "    and if so, returns metadata about the the slug, description, topic, stars of that repo\"\"\"\n",
    "\n",
    "    text = rows['tokens'].replace('**', '')\n",
    "    text = text[55:70]\n",
    "\n",
    "    if repo_data['tokens'].str.contains(text, regex=False).any() == True :\n",
    "        row = repo_data[repo_data['tokens'].str.contains(text, regex=False)].values[0]\n",
    "        slug, description, topic, stars = row[0], row[1], row[7], row[6]\n",
    "        return slug, description, topic, stars\n",
    "    else:\n",
    "        return None, None, None, None"
   ]
  },
  {
   "cell_type": "code",
   "execution_count": 98,
   "metadata": {},
   "outputs": [],
   "source": [
    "#List of keywords that you want to compare\n",
    "keywords = ['python', \"r\"]\n",
    "\n",
    "# How to color the points in the plot. The other option is \"period\" for time period\n",
    "color_by = 'word'\n",
    "\n",
    "# Get all word positions\n",
    "word_positions = get_word_positions(keywords)\n",
    "\n",
    "# Get all contexts around the words\n",
    "keyword_contexts = []\n",
    "keyword_contexts_tokens = []\n",
    "words = []\n",
    "\n",
    "for position in word_positions:\n",
    "    words.append(word_lookup[all_word_ids[position]])\n",
    "    keyword_contexts.append(get_context_clean(position))\n",
    "    keyword_contexts_tokens.append(get_context(position))\n",
    "\n",
    "# Reduce word vectors with PCA\n",
    "pca = PCA(n_components=2)\n",
    "pca.fit(all_word_vectors[word_positions,:].T)\n",
    "\n",
    "# Make a DataFrame with PCA results\n",
    "df = pd.DataFrame({\"x\": pca.components_[0,:], \"y\": pca.components_[1,:],\n",
    "                   \"context\": keyword_contexts, \"tokens\": keyword_contexts_tokens, \"word\": words})\n",
    "df[['slug', 'description', 'topic', 'stars']] = df.apply(find_original_repo, axis='columns', result_type='expand')\n"
   ]
  },
  {
   "cell_type": "code",
   "execution_count": 88,
   "metadata": {},
   "outputs": [
    {
     "data": {
      "text/html": [
       "<div>\n",
       "<style scoped>\n",
       "    .dataframe tbody tr th:only-of-type {\n",
       "        vertical-align: middle;\n",
       "    }\n",
       "\n",
       "    .dataframe tbody tr th {\n",
       "        vertical-align: top;\n",
       "    }\n",
       "\n",
       "    .dataframe thead th {\n",
       "        text-align: right;\n",
       "    }\n",
       "</style>\n",
       "<table border=\"1\" class=\"dataframe\">\n",
       "  <thead>\n",
       "    <tr style=\"text-align: right;\">\n",
       "      <th></th>\n",
       "      <th>x</th>\n",
       "      <th>y</th>\n",
       "      <th>context</th>\n",
       "      <th>tokens</th>\n",
       "      <th>word</th>\n",
       "      <th>slug</th>\n",
       "      <th>description</th>\n",
       "      <th>topic</th>\n",
       "      <th>stars</th>\n",
       "    </tr>\n",
       "  </thead>\n",
       "  <tbody>\n",
       "    <tr>\n",
       "      <th>0</th>\n",
       "      <td>-0.077461</td>\n",
       "      <td>0.031010</td>\n",
       "      <td>a package for representing electrophysiology data in **python**, together with support for reading a wide range of</td>\n",
       "      <td>a package for representing electro ##phy ##sio ##logy data in python , together with support for reading a wide range of</td>\n",
       "      <td>python</td>\n",
       "      <td>NeuralEnsemble/python-neo</td>\n",
       "      <td>Neo is a package for representing electrophysiology data in Python, together with support for reading a wide range of neurophysiology file formats</td>\n",
       "      <td>187.0</td>\n",
       "      <td>178.0</td>\n",
       "    </tr>\n",
       "    <tr>\n",
       "      <th>1</th>\n",
       "      <td>-0.071741</td>\n",
       "      <td>0.008274</td>\n",
       "      <td>. distributed systems emulator--old repository a **python** api for fragalysis ( fragalysis.</td>\n",
       "      <td>. distributed systems em ##ulator - - old repository a python api for fra ##gal ##ysis ( fra ##gal ##ysis .</td>\n",
       "      <td>python</td>\n",
       "      <td>xchem/fragalysis-api</td>\n",
       "      <td>A python API for fragalysis (fragalysis.diamond.ac.uk)</td>\n",
       "      <td>9.0</td>\n",
       "      <td>0.0</td>\n",
       "    </tr>\n",
       "    <tr>\n",
       "      <th>2</th>\n",
       "      <td>-0.080251</td>\n",
       "      <td>0.029016</td>\n",
       "      <td>. streaming processing system designed like apache storm architecture the **python** sdk for the rackspace cloud braintree drop</td>\n",
       "      <td>. streaming processing system designed like apache storm architecture the python sd ##k for the racks ##pace cloud brain ##tree drop</td>\n",
       "      <td>python</td>\n",
       "      <td>Colearo/Crane</td>\n",
       "      <td>Streaming Processing System designed like Apache Storm architecture</td>\n",
       "      <td>0.0</td>\n",
       "      <td>0.0</td>\n",
       "    </tr>\n",
       "    <tr>\n",
       "      <th>3</th>\n",
       "      <td>-0.045493</td>\n",
       "      <td>-0.186065</td>\n",
       "      <td>book cgm 主 [UNK] a web interface for the rpi cam warning: this code was merged into node</td>\n",
       "      <td>##book c ##gm 主 [UNK] a web interface for the r ##pi cam warning : this code was merged into node</td>\n",
       "      <td>r</td>\n",
       "      <td>None</td>\n",
       "      <td>None</td>\n",
       "      <td>NaN</td>\n",
       "      <td>NaN</td>\n",
       "    </tr>\n",
       "    <tr>\n",
       "      <th>4</th>\n",
       "      <td>-0.079520</td>\n",
       "      <td>0.039064</td>\n",
       "      <td>p2p framework an apache2 licensed, unofficial **python** client for the mygeotab api. linux</td>\n",
       "      <td>p ##2 ##p framework an apache ##2 licensed , unofficial python client for the my ##ge ##ota ##b api . linux</td>\n",
       "      <td>python</td>\n",
       "      <td>Geotab/mygeotab-python</td>\n",
       "      <td>An Apache2 Licensed, unofficial Python client for the MyGeotab API.</td>\n",
       "      <td>30.0</td>\n",
       "      <td>10.0</td>\n",
       "    </tr>\n",
       "    <tr>\n",
       "      <th>...</th>\n",
       "      <td>...</td>\n",
       "      <td>...</td>\n",
       "      <td>...</td>\n",
       "      <td>...</td>\n",
       "      <td>...</td>\n",
       "      <td>...</td>\n",
       "      <td>...</td>\n",
       "      <td>...</td>\n",
       "      <td>...</td>\n",
       "    </tr>\n",
       "    <tr>\n",
       "      <th>186</th>\n",
       "      <td>-0.068503</td>\n",
       "      <td>0.007431</td>\n",
       "      <td>swift binary protocol client libraries a retro game engine for **python** a wordpress plugin to parse gutenberg</td>\n",
       "      <td>swift binary protocol client libraries a retro game engine for python a word ##press plug ##in to par ##se gut ##enberg</td>\n",
       "      <td>python</td>\n",
       "      <td>kitao/pyxel</td>\n",
       "      <td>A retro game engine for Python</td>\n",
       "      <td>8277.0</td>\n",
       "      <td>527.0</td>\n",
       "    </tr>\n",
       "    <tr>\n",
       "      <th>187</th>\n",
       "      <td>-0.079340</td>\n",
       "      <td>0.035560</td>\n",
       "      <td>a powerful spider ( web crawler ) system in **python**. a scratch pad repository to track efforts to produce</td>\n",
       "      <td>a powerful spider ( web crawl ##er ) system in python . a scratch pad repository to track efforts to produce</td>\n",
       "      <td>python</td>\n",
       "      <td>chcosta/source-build</td>\n",
       "      <td>A scratch pad repository to track efforts to produce a source tarball of the .NET Core CLI and all its components</td>\n",
       "      <td>0.0</td>\n",
       "      <td>0.0</td>\n",
       "    </tr>\n",
       "    <tr>\n",
       "      <th>188</th>\n",
       "      <td>-0.071580</td>\n",
       "      <td>0.008123</td>\n",
       "      <td>qp data; pytrx is a **python** object-oriented programme created for the purpose of calculating</td>\n",
       "      <td>##q ##p data ; p ##yt ##r ##x is a python object - oriented programme created for the purpose of calculating</td>\n",
       "      <td>python</td>\n",
       "      <td>PennyHow/PyTrx</td>\n",
       "      <td>PyTrx is a Python object-oriented programme created for the purpose of calculating real-world measurements from oblique images and time-lapse image series. Its primary purpose is to obtain velocit...</td>\n",
       "      <td>19.0</td>\n",
       "      <td>12.0</td>\n",
       "    </tr>\n",
       "    <tr>\n",
       "      <th>189</th>\n",
       "      <td>-0.076593</td>\n",
       "      <td>0.038672</td>\n",
       "      <td>library a c + + library ( bindings for **python** and c# ) for interfacing with the</td>\n",
       "      <td>library a c + + library ( binding ##s for python and c # ) for inter ##fa ##cing with the</td>\n",
       "      <td>python</td>\n",
       "      <td>analogdevicesinc/libm2k</td>\n",
       "      <td>A C++ library (bindings for Python and C#) for interfacing with the ADALM2000</td>\n",
       "      <td>16.0</td>\n",
       "      <td>18.0</td>\n",
       "    </tr>\n",
       "    <tr>\n",
       "      <th>190</th>\n",
       "      <td>-0.077603</td>\n",
       "      <td>0.045110</td>\n",
       "      <td>is is a high-performance fake data generator for **python**, which provides data for a variety of purposes in</td>\n",
       "      <td>##is is a high - performance fake data generator for python , which provides data for a variety of purposes in</td>\n",
       "      <td>python</td>\n",
       "      <td>lk-geimfari/mimesis</td>\n",
       "      <td>Mimesis is a high-performance fake data generator for Python, which provides data for a variety of purposes in a variety of languages.</td>\n",
       "      <td>3318.0</td>\n",
       "      <td>275.0</td>\n",
       "    </tr>\n",
       "  </tbody>\n",
       "</table>\n",
       "<p>191 rows × 9 columns</p>\n",
       "</div>"
      ],
      "text/plain": [
       "            x         y  \\\n",
       "0   -0.077461  0.031010   \n",
       "1   -0.071741  0.008274   \n",
       "2   -0.080251  0.029016   \n",
       "3   -0.045493 -0.186065   \n",
       "4   -0.079520  0.039064   \n",
       "..        ...       ...   \n",
       "186 -0.068503  0.007431   \n",
       "187 -0.079340  0.035560   \n",
       "188 -0.071580  0.008123   \n",
       "189 -0.076593  0.038672   \n",
       "190 -0.077603  0.045110   \n",
       "\n",
       "                                                                                                                             context  \\\n",
       "0                 a package for representing electrophysiology data in **python**, together with support for reading a wide range of   \n",
       "1                                       . distributed systems emulator--old repository a **python** api for fragalysis ( fragalysis.   \n",
       "2    . streaming processing system designed like apache storm architecture the **python** sdk for the rackspace cloud braintree drop   \n",
       "3                                           book cgm 主 [UNK] a web interface for the rpi cam warning: this code was merged into node   \n",
       "4                                        p2p framework an apache2 licensed, unofficial **python** client for the mygeotab api. linux   \n",
       "..                                                                                                                               ...   \n",
       "186                  swift binary protocol client libraries a retro game engine for **python** a wordpress plugin to parse gutenberg   \n",
       "187                     a powerful spider ( web crawler ) system in **python**. a scratch pad repository to track efforts to produce   \n",
       "188                                  qp data; pytrx is a **python** object-oriented programme created for the purpose of calculating   \n",
       "189                                              library a c + + library ( bindings for **python** and c# ) for interfacing with the   \n",
       "190                    is is a high-performance fake data generator for **python**, which provides data for a variety of purposes in   \n",
       "\n",
       "                                                                                                                                   tokens  \\\n",
       "0                a package for representing electro ##phy ##sio ##logy data in python , together with support for reading a wide range of   \n",
       "1                             . distributed systems em ##ulator - - old repository a python api for fra ##gal ##ysis ( fra ##gal ##ysis .   \n",
       "2    . streaming processing system designed like apache storm architecture the python sd ##k for the racks ##pace cloud brain ##tree drop   \n",
       "3                                       ##book c ##gm 主 [UNK] a web interface for the r ##pi cam warning : this code was merged into node   \n",
       "4                             p ##2 ##p framework an apache ##2 licensed , unofficial python client for the my ##ge ##ota ##b api . linux   \n",
       "..                                                                                                                                    ...   \n",
       "186               swift binary protocol client libraries a retro game engine for python a word ##press plug ##in to par ##se gut ##enberg   \n",
       "187                          a powerful spider ( web crawl ##er ) system in python . a scratch pad repository to track efforts to produce   \n",
       "188                          ##q ##p data ; p ##yt ##r ##x is a python object - oriented programme created for the purpose of calculating   \n",
       "189                                             library a c + + library ( binding ##s for python and c # ) for inter ##fa ##cing with the   \n",
       "190                        ##is is a high - performance fake data generator for python , which provides data for a variety of purposes in   \n",
       "\n",
       "       word                       slug  \\\n",
       "0    python  NeuralEnsemble/python-neo   \n",
       "1    python       xchem/fragalysis-api   \n",
       "2    python              Colearo/Crane   \n",
       "3         r                       None   \n",
       "4    python     Geotab/mygeotab-python   \n",
       "..      ...                        ...   \n",
       "186  python                kitao/pyxel   \n",
       "187  python       chcosta/source-build   \n",
       "188  python             PennyHow/PyTrx   \n",
       "189  python    analogdevicesinc/libm2k   \n",
       "190  python        lk-geimfari/mimesis   \n",
       "\n",
       "                                                                                                                                                                                                 description  \\\n",
       "0                                                         Neo is a package for representing electrophysiology data in Python, together with support for reading a wide range of neurophysiology file formats   \n",
       "1                                                                                                                                                     A python API for fragalysis (fragalysis.diamond.ac.uk)   \n",
       "2                                                                                                                                        Streaming Processing System designed like Apache Storm architecture   \n",
       "3                                                                                                                                                                                                       None   \n",
       "4                                                                                                                                        An Apache2 Licensed, unofficial Python client for the MyGeotab API.   \n",
       "..                                                                                                                                                                                                       ...   \n",
       "186                                                                                                                                                                           A retro game engine for Python   \n",
       "187                                                                                        A scratch pad repository to track efforts to produce a source tarball of the .NET Core CLI and all its components   \n",
       "188  PyTrx is a Python object-oriented programme created for the purpose of calculating real-world measurements from oblique images and time-lapse image series. Its primary purpose is to obtain velocit...   \n",
       "189                                                                                                                            A C++ library (bindings for Python and C#) for interfacing with the ADALM2000   \n",
       "190                                                                   Mimesis is a high-performance fake data generator for Python, which provides data for a variety of purposes in a variety of languages.   \n",
       "\n",
       "      topic  stars  \n",
       "0     187.0  178.0  \n",
       "1       9.0    0.0  \n",
       "2       0.0    0.0  \n",
       "3       NaN    NaN  \n",
       "4      30.0   10.0  \n",
       "..      ...    ...  \n",
       "186  8277.0  527.0  \n",
       "187     0.0    0.0  \n",
       "188    19.0   12.0  \n",
       "189    16.0   18.0  \n",
       "190  3318.0  275.0  \n",
       "\n",
       "[191 rows x 9 columns]"
      ]
     },
     "execution_count": 88,
     "metadata": {},
     "output_type": "execute_result"
    }
   ],
   "source": [
    "df"
   ]
  },
  {
   "cell_type": "code",
   "execution_count": 94,
   "metadata": {},
   "outputs": [
    {
     "data": {
      "text/html": [
       "\n",
       "<div id=\"altair-viz-edfed0666ae5428ca4da5238c35c2953\"></div>\n",
       "<script type=\"text/javascript\">\n",
       "  (function(spec, embedOpt){\n",
       "    let outputDiv = document.currentScript.previousElementSibling;\n",
       "    if (outputDiv.id !== \"altair-viz-edfed0666ae5428ca4da5238c35c2953\") {\n",
       "      outputDiv = document.getElementById(\"altair-viz-edfed0666ae5428ca4da5238c35c2953\");\n",
       "    }\n",
       "    const paths = {\n",
       "      \"vega\": \"https://cdn.jsdelivr.net/npm//vega@5?noext\",\n",
       "      \"vega-lib\": \"https://cdn.jsdelivr.net/npm//vega-lib?noext\",\n",
       "      \"vega-lite\": \"https://cdn.jsdelivr.net/npm//vega-lite@4.8.1?noext\",\n",
       "      \"vega-embed\": \"https://cdn.jsdelivr.net/npm//vega-embed@6?noext\",\n",
       "    };\n",
       "\n",
       "    function loadScript(lib) {\n",
       "      return new Promise(function(resolve, reject) {\n",
       "        var s = document.createElement('script');\n",
       "        s.src = paths[lib];\n",
       "        s.async = true;\n",
       "        s.onload = () => resolve(paths[lib]);\n",
       "        s.onerror = () => reject(`Error loading script: ${paths[lib]}`);\n",
       "        document.getElementsByTagName(\"head\")[0].appendChild(s);\n",
       "      });\n",
       "    }\n",
       "\n",
       "    function showError(err) {\n",
       "      outputDiv.innerHTML = `<div class=\"error\" style=\"color:red;\">${err}</div>`;\n",
       "      throw err;\n",
       "    }\n",
       "\n",
       "    function displayChart(vegaEmbed) {\n",
       "      vegaEmbed(outputDiv, spec, embedOpt)\n",
       "        .catch(err => showError(`Javascript Error: ${err.message}<br>This usually means there's a typo in your chart specification. See the javascript console for the full traceback.`));\n",
       "    }\n",
       "\n",
       "    if(typeof define === \"function\" && define.amd) {\n",
       "      requirejs.config({paths});\n",
       "      require([\"vega-embed\"], displayChart, err => showError(`Error loading script: ${err.message}`));\n",
       "    } else if (typeof vegaEmbed === \"function\") {\n",
       "      displayChart(vegaEmbed);\n",
       "    } else {\n",
       "      loadScript(\"vega\")\n",
       "        .then(() => loadScript(\"vega-lite\"))\n",
       "        .then(() => loadScript(\"vega-embed\"))\n",
       "        .catch(showError)\n",
       "        .then(() => displayChart(vegaEmbed));\n",
       "    }\n",
       "  })({\"config\": {\"view\": {\"continuousWidth\": 400, \"continuousHeight\": 300}}, \"data\": {\"name\": \"data-863afe042b8db5d2c560efa095e9dce4\"}, \"mark\": {\"type\": \"circle\", \"size\": 200}, \"encoding\": {\"color\": {\"type\": \"nominal\", \"field\": \"word\"}, \"tooltip\": [{\"type\": \"nominal\", \"field\": \"slug\"}, {\"type\": \"nominal\", \"field\": \"description\"}, {\"type\": \"quantitative\", \"field\": \"topic\"}, {\"type\": \"quantitative\", \"field\": \"stars\"}], \"x\": {\"type\": \"quantitative\", \"field\": \"x\", \"scale\": {\"zero\": false}}, \"y\": {\"type\": \"quantitative\", \"field\": \"y\"}}, \"height\": 500, \"selection\": {\"selector011\": {\"type\": \"interval\", \"bind\": \"scales\", \"encodings\": [\"x\", \"y\"]}}, \"title\": \"Word Similarity: Python, R\", \"width\": 500, \"$schema\": \"https://vega.github.io/schema/vega-lite/v4.8.1.json\", \"datasets\": {\"data-863afe042b8db5d2c560efa095e9dce4\": [{\"x\": -0.0774613618850708, \"y\": 0.031010212376713753, \"context\": \"a package for representing electrophysiology data in **python**, together with support for reading a wide range of\", \"tokens\": \"a package for representing electro ##phy ##sio ##logy data in python , together with support for reading a wide range of\", \"word\": \"python\", \"slug\": \"NeuralEnsemble/python-neo\", \"description\": \"Neo is a package for representing electrophysiology data in Python, together with support for reading a wide range of neurophysiology file formats\", \"topic\": 187.0, \"stars\": 178.0}, {\"x\": -0.07174117863178253, \"y\": 0.008273661136627197, \"context\": \". distributed systems emulator--old repository a **python** api for fragalysis ( fragalysis.\", \"tokens\": \". distributed systems em ##ulator - - old repository a python api for fra ##gal ##ysis ( fra ##gal ##ysis .\", \"word\": \"python\", \"slug\": \"xchem/fragalysis-api\", \"description\": \"A python API for fragalysis (fragalysis.diamond.ac.uk)\", \"topic\": 9.0, \"stars\": 0.0}, {\"x\": -0.08025085926055908, \"y\": 0.029015641659498215, \"context\": \". streaming processing system designed like apache storm architecture the **python** sdk for the rackspace cloud braintree drop\", \"tokens\": \". streaming processing system designed like apache storm architecture the python sd ##k for the racks ##pace cloud brain ##tree drop\", \"word\": \"python\", \"slug\": \"Colearo/Crane\", \"description\": \"Streaming Processing System designed like Apache Storm architecture\", \"topic\": 0.0, \"stars\": 0.0}, {\"x\": -0.04549270123243332, \"y\": -0.18606482446193695, \"context\": \"book cgm \\u4e3b [UNK] a web interface for the rpi cam warning: this code was merged into node\", \"tokens\": \"##book c ##gm \\u4e3b [UNK] a web interface for the r ##pi cam warning : this code was merged into node\", \"word\": \"r\", \"slug\": null, \"description\": null, \"topic\": null, \"stars\": null}, {\"x\": -0.07951991260051727, \"y\": 0.039064496755599976, \"context\": \"p2p framework an apache2 licensed, unofficial **python** client for the mygeotab api. linux\", \"tokens\": \"p ##2 ##p framework an apache ##2 licensed , unofficial python client for the my ##ge ##ota ##b api . linux\", \"word\": \"python\", \"slug\": \"Geotab/mygeotab-python\", \"description\": \"An Apache2 Licensed, unofficial Python client for the MyGeotab API.\", \"topic\": 30.0, \"stars\": 10.0}, {\"x\": -0.07671349495649338, \"y\": 0.03546671196818352, \"context\": \"mygeotab api. linux agent written in **python** a humble project to tackle the hardest problem in society\", \"tokens\": \"my ##ge ##ota ##b api . linux agent written in python a humble project to tackle the hardest problem in society\", \"word\": \"python\", \"slug\": \"newdialog/dinnertablechat\", \"description\": \"A humble project to tackle the hardest problem in society today.\", \"topic\": 1.0, \"stars\": 0.0}, {\"x\": -0.05263807252049446, \"y\": -0.1549631655216217, \"context\": \"java / javase / downloads / index. html r2-oas allows generation of openapi\", \"tokens\": \"java / java ##se / downloads / index . html r ##2 - o ##as allows generation of open ##ap ##i\", \"word\": \"r\", \"slug\": \"yukihirop/r2-oas\", \"description\": \"r2-oas allows generation of OpenAPI Specification (V3) from config/routes.rb in Rails application.\", \"topic\": 5.0, \"stars\": 1.0}, {\"x\": -0.07579859346151352, \"y\": 0.01084921509027481, \"context\": \"ce repair dec 2015 wp site for bell media **python** tiny approximative virtual stage light apresenta\", \"tokens\": \"##ce repair dec 2015 w ##p site for bell media python tiny approx ##ima ##tive virtual stage light apr ##ese ##nta\", \"word\": \"python\", \"slug\": \"PlagiatBros/pytaVSL\", \"description\": \"python tiny approximative Virtual Stage Light\", \"topic\": 1.0, \"stars\": 0.0}, {\"x\": -0.07788015156984329, \"y\": 0.026596583425998688, \"context\": \"network file service with replication and anti-virus checking **python**-suseapi is set of helpers to\", \"tokens\": \"network file service with replication and anti - virus checking python - su ##sea ##pi is set of help ##ers to\", \"word\": \"python\", \"slug\": null, \"description\": null, \"topic\": null, \"stars\": null}, {\"x\": -0.07612644881010056, \"y\": 0.027248429134488106, \"context\": \"-toolbox-for-mac bx-**python** imported with hg-fast-export from https\", \"tokens\": \"- tool ##box - for - mac b ##x - python imported with h ##g - fast - export from https\", \"word\": \"python\", \"slug\": \"ghuls/bx-python-fixed-history\", \"description\": \"bx-python imported with hg-fast-export from https://bitbucket.org/james_taylor/bx-python/ with missing patched available in https://github.com/bxlab/bx-python added\", \"topic\": 1.0, \"stars\": 0.0}, {\"x\": -0.07420167326927185, \"y\": 0.028517326340079308, \"context\": \". org / james _ taylor / bx-**python** / with missing patched available in https: /\", \"tokens\": \". org / james _ taylor / b ##x - python / with missing patch ##ed available in https : /\", \"word\": \"python\", \"slug\": \"ghuls/bx-python-fixed-history\", \"description\": \"bx-python imported with hg-fast-export from https://bitbucket.org/james_taylor/bx-python/ with missing patched available in https://github.com/bxlab/bx-python added\", \"topic\": 1.0, \"stars\": 0.0}, {\"x\": -0.07427520304918289, \"y\": 0.029786063358187675, \"context\": \". com / bxlab / bx-**python** added [UNK] [UNK] iview-admin [UNK]\", \"tokens\": \". com / b ##x ##lab / b ##x - python added [UNK] [UNK] iv ##ie ##w - ad ##min [UNK]\", \"word\": \"python\", \"slug\": \"lgengbo/iview-extend\", \"description\": \"\\u57fa\\u4e8eiview-admin\\u6269\\u5c55\\u7ec4\\u4ef6\", \"topic\": 0.0, \"stars\": 0.0}, {\"x\": -0.054347552359104156, \"y\": -0.16899675130844116, \"context\": \"exported from code. google. com / p / **rl**-glue mirror of apache servicemix 4\", \"tokens\": \"exported from code . google . com / p / r ##l - glue mirror of apache service ##mi ##x 4\", \"word\": \"r\", \"slug\": \"apache/servicemix4-features\", \"description\": \"Mirror of Apache Servicemix 4 features\", \"topic\": 13.0, \"stars\": 6.0}, {\"x\": -0.0532374233007431, \"y\": -0.16501010954380035, \"context\": \"management, and much more. bidirectional rpc framework for go with middleware support using j\", \"tokens\": \"management , and much more . bid ##ire ##ction ##al r ##pc framework for go with middle ##ware support using j\", \"word\": \"r\", \"slug\": \"neptulon/neptulon\", \"description\": \"Bidirectional RPC framework for Go with middleware support using JSON-RPC over WebSockets.\", \"topic\": 1.0, \"stars\": 1.0}, {\"x\": -0.052607689052820206, \"y\": -0.16180424392223358, \"context\": \"for go with middleware support using json-rpc over websockets. the ferret\", \"tokens\": \"for go with middle ##ware support using j ##son - r ##pc over web ##so ##cke ##ts . the fe ##rret\", \"word\": \"r\", \"slug\": \"neptulon/neptulon\", \"description\": \"Bidirectional RPC framework for Go with middleware support using JSON-RPC over WebSockets.\", \"topic\": 1.0, \"stars\": 1.0}, {\"x\": -0.07947158068418503, \"y\": 0.028332646936178207, \"context\": \"ciones de logica ecuacional a **python** implementation of the msn protocol devise module for\", \"tokens\": \"##cion ##es de logic ##a ec ##ua ##cion ##al a python implementation of the ms ##n protocol devi ##se module for\", \"word\": \"python\", \"slug\": \"Gottwik/enduro2\", \"description\": \"blazing fast and lightweight implementation of enduro :-)\", \"topic\": 5.0, \"stars\": 0.0}, {\"x\": -0.05183718726038933, \"y\": -0.16058766841888428, \"context\": \"course review site. the multi-robot systems lab **r**-one robots software and hardware examples which use the\", \"tokens\": \"course review site . the multi - robot systems lab r - one robots software and hardware examples which use the\", \"word\": \"r\", \"slug\": \"mrsl/rone\", \"description\": \"The Multi-Robot Systems Lab r-one robots software and hardware\", \"topic\": 8.0, \"stars\": 3.0}, {\"x\": -0.05081721022725105, \"y\": -0.12023109197616577, \"context\": \": shell: codekata dair is an advanced **r** & d environment \\u2014 a \\u201c digital sandbox \\u201d\", \"tokens\": \": shell : code ##kata dai ##r is an advanced r & d environment \\u2014 a \\u201c digital sand ##box \\u201d\", \"word\": \"r\", \"slug\": \"canarie/dair\", \"description\": \"DAIR is an advanced R & D environment \\u2014 a \\u201cdigital sandbox\\u201d \\u2014 where high-tech innovators can design, validate, prototype and demonstrate new technologies.\", \"topic\": 8.0, \"stars\": 2.0}, {\"x\": -0.07577739655971527, \"y\": 0.03554971516132355, \"context\": \"mac address aware dhcpv6 server written in **python** a validation plugin for backbone. js that\", \"tokens\": \"mac address aware dh ##cp ##v ##6 server written in python a validation plug ##in for backbone . j ##s that\", \"word\": \"python\", \"slug\": null, \"description\": null, \"topic\": null, \"stars\": null}, {\"x\": -0.04727405309677124, \"y\": -0.16803893446922302, \"context\": \"developer toolkit hydra **renderer** engine ( core ) rpc library: newspaper: a responsive interface of hacker\", \"tokens\": \"developer tool ##kit hydra render ##er engine ( core ) r ##pc library : newspaper : a responsive interface of hacker\", \"word\": \"r\", \"slug\": \"zmij/wire\", \"description\": \"RPC library\", \"topic\": 3.0, \"stars\": 1.0}, {\"x\": -0.07348109781742096, \"y\": 0.021426180377602577, \"context\": \"mirror of code maintained at opendev. org. pythonic task management & command execution. backup for work\", \"tokens\": \"mirror of code maintained at open ##dev . org . python ##ic task management & command execution . backup for work\", \"word\": \"python\", \"slug\": \"pyinvoke/invoke\", \"description\": \"Pythonic task management & command execution.\", \"topic\": 3321.0, \"stars\": 286.0}, {\"x\": -0.04917379841208458, \"y\": -0.17294536530971527, \"context\": \"**r** | recompose | reselect | rxjs | webpack 4 | eslint\", \"tokens\": \"##r | rec ##omp ##ose | res ##ele ##ct | r ##x ##js | web ##pack 4 | es ##lin ##t\", \"word\": \"r\", \"slug\": \"EarnGold/React.js-Sample\", \"description\": \"Redux | Thunk | Saga | Observable | Router | Recompose | Reselect | RxJS | Webpack 4 | ESLint | Jest | Puppeteer | Headless Chrome | Testing | Unit | E2E | REST | GraphQL | Apollo | Stateless | Babel | Flow | JSX | JSS | CSS in JS | React by Example\", \"topic\": 1.0, \"stars\": 0.0}, {\"x\": -0.07526735961437225, \"y\": 0.01665576733648777, \"context\": \"a fast scala generic library based on code generation. pythonic wrapper for r's ggplot\", \"tokens\": \"a fast scala generic library based on code generation . python ##ic wrap ##per for r ' s g ##gp ##lot\", \"word\": \"python\", \"slug\": \"TyberiusPrime/pyggplot\", \"description\": \"Pythonic wrapper for R's ggplot using rpy2 and pandas\", \"topic\": 12.0, \"stars\": 7.0}, {\"x\": -0.05815538018941879, \"y\": -0.14698560535907745, \"context\": \"based on code generation. pythonic wrapper for **r**'s ggplot using rpy2 and\", \"tokens\": \"based on code generation . python ##ic wrap ##per for r ' s g ##gp ##lot using r ##py ##2 and\", \"word\": \"r\", \"slug\": \"TyberiusPrime/pyggplot\", \"description\": \"Pythonic wrapper for R's ggplot using rpy2 and pandas\", \"topic\": 12.0, \"stars\": 7.0}, {\"x\": -0.05695406347513199, \"y\": -0.1561436951160431, \"context\": \"wrapper for **r**'s ggplot using rpy2 and pandas this repository hosts the old\", \"tokens\": \"wrap ##per for r ' s g ##gp ##lot using r ##py ##2 and panda ##s this repository hosts the old\", \"word\": \"r\", \"slug\": null, \"description\": null, \"topic\": null, \"stars\": null}, {\"x\": -0.07970394194126129, \"y\": 0.015895675867795944, \"context\": \"chain highly compatible with ethereum's ecosystem **python** core package that collects various software for track co-\", \"tokens\": \"##chai ##n highly compatible with ether ##eum ' s ecosystem python core package that collects various software for track co -\", \"word\": \"python\", \"slug\": null, \"description\": null, \"topic\": null, \"stars\": null}, {\"x\": -0.05595650523900986, \"y\": -0.11361709237098694, \"context\": \"for everyday, and not-so-everyday, **r** tasks adopt-a-hydrant painless ko\", \"tokens\": \"for everyday , and not - so - everyday , r tasks adopt - a - hydra ##nt pain ##less ko\", \"word\": \"r\", \"slug\": \"codeforboston/adopt-a-hydrant\", \"description\": \"Adopt-A-Hydrant\", \"topic\": 1.0, \"stars\": 0.0}, {\"x\": -0.05064298212528229, \"y\": -0.18267130851745605, \"context\": \"vj, arduino, teensy, rpi apache beam is a unified model for defining both\", \"tokens\": \"v ##j , ar ##du ##ino , teens ##y , r ##pi apache beam is a unified model for defining both\", \"word\": \"r\", \"slug\": \"pstoerchli/Apache-Beam\", \"description\": \"Apache Beam is a unified model for defining both batch and streaming data-parallel processing pipelines, as well as a set of language-specific SDKs for constructing pipelines and Runners for executing them on distributed processing backends, including Apache Apex, Apache Flink, Apache Spark, Google Cloud Dataflow and Hazelcast Jet.\", \"topic\": 0.0, \"stars\": 0.0}, {\"x\": -0.07251057773828506, \"y\": 0.005501818843185902, \"context\": \"censorship-free data storage cryptocurrency **python** measurement platform for the nanoelectronics group\", \"tokens\": \"censorship - free data storage crypt ##oc ##ur ##ren ##cy python measurement platform for the nano ##ele ##ct ##ron ##ics group\", \"word\": \"python\", \"slug\": null, \"description\": null, \"topic\": null, \"stars\": null}, {\"x\": -0.07884926348924637, \"y\": 0.02461884170770645, \"context\": \"support, written in typescript fusion _ repo **python** server utilities fork of https: / / gith\", \"tokens\": \"support , written in types ##cript fusion _ rep ##o python server utilities fork of https : / / gi ##th\", \"word\": \"python\", \"slug\": \"robertchase/rhc\", \"description\": \"python server utilities\", \"topic\": 2.0, \"stars\": 5.0}, {\"x\": -0.07784818112850189, \"y\": 0.025897454470396042, \"context\": \"visualize density data fetched from our api. **python** library for knowledge graph embedding and representation learning\", \"tokens\": \"visual ##ize density data fetch ##ed from our api . python library for knowledge graph em ##bed ##ding and representation learning\", \"word\": \"python\", \"slug\": \"Sujit-O/pykg2vec\", \"description\": \"Python library for knowledge graph embedding and representation learning.\", \"topic\": 326.0, \"stars\": 86.0}, {\"x\": -0.07239516079425812, \"y\": 0.041921358555555344, \"context\": \"a small, process-pooled web server in **python** mosn is a powerful cloud-native proxy\", \"tokens\": \"a small , process - poole ##d web server in python mo ##s ##n is a powerful cloud - native proxy\", \"word\": \"python\", \"slug\": \"Echanging/mosn\", \"description\": \"MOSN is a powerful cloud-native proxy acts as a edge proxy or service mesh's data plane. \", \"topic\": 0.0, \"stars\": 0.0}, {\"x\": -0.07403649389743805, \"y\": 0.020009474828839302, \"context\": \"library using glib and gtk definitely not an **python** exploit. react native app project manager for the atom\", \"tokens\": \"library using g ##lib and gt ##k definitely not an python exploit . react native app project manager for the atom\", \"word\": \"python\", \"slug\": null, \"description\": null, \"topic\": null, \"stars\": null}, {\"x\": -0.07748982310295105, \"y\": 0.03249368444085121, \"context\": \"access a 32-bit library from 64-bit **python** ) quickfox simple one cms alpha automatically\", \"tokens\": \"access a 32 - bit library from 64 - bit python ) quick ##fo ##x simple one cm ##s alpha automatically\", \"word\": \"python\", \"slug\": \"foxel/SimpleOne\", \"description\": \"QuickFox Simple One CMS Alpha\", \"topic\": 4.0, \"stars\": 0.0}, {\"x\": -0.05856036767363548, \"y\": -0.13656078279018402, \"context\": \"on web technology statistical computing library that aims to provide **r**-like experience in modern c + + madek\", \"tokens\": \"on web technology statistical computing library that aims to provide r - like experience in modern c + + made ##k\", \"word\": \"r\", \"slug\": \"verri/jules\", \"description\": \"Statistical computing library that aims to provide R-like experience in modern C++\", \"topic\": 7.0, \"stars\": 2.0}, {\"x\": -0.07710808515548706, \"y\": 0.022915976122021675, \"context\": \"elegant photos & wallpaper app for all platforms. **python** 3 version of quantipy like kafkaca\", \"tokens\": \"elegant photos & wall ##paper app for all platforms . python 3 version of quan ##tip ##y like ka ##fk ##aca\", \"word\": \"python\", \"slug\": \"Quantipy/quantipy3\", \"description\": \"Python 3 version of Quantipy\", \"topic\": 19.0, \"stars\": 13.0}, {\"x\": -0.0730663388967514, \"y\": 0.02905614674091339, \"context\": \"data, or system. plugin implementing binding for python2. 7 and allowing **python** scripting from sofa\", \"tokens\": \"data , or system . plug ##in implementing binding for python ##2 . 7 and allowing python script ##ing from sofa\", \"word\": \"python\", \"slug\": \"hugtalbot/plugin.SofaPython2\", \"description\": \"Plugin implementing binding for Python2.7 and allowing Python scripting from SOFA context. Note: this plugin will not be supported after SOFA v20.06.\", \"topic\": 0.0, \"stars\": 0.0}, {\"x\": -0.07652413100004196, \"y\": 0.0301379207521677, \"context\": \"in implementing binding for python2. 7 and allowing **python** scripting from sofa context. note: this plug\", \"tokens\": \"##in implementing binding for python ##2 . 7 and allowing python script ##ing from sofa context . note : this plug\", \"word\": \"python\", \"slug\": \"hugtalbot/plugin.SofaPython2\", \"description\": \"Plugin implementing binding for Python2.7 and allowing Python scripting from SOFA context. Note: this plugin will not be supported after SOFA v20.06.\", \"topic\": 0.0, \"stars\": 0.0}, {\"x\": -0.07700453698635101, \"y\": 0.03550313040614128, \"context\": \"cornerstone of uapi framework the database toolkit for **python** installation tool to install kubernetes on a\", \"tokens\": \"cornerstone of ua ##pi framework the database tool ##kit for python installation tool to install ku ##ber ##net ##es on a\", \"word\": \"python\", \"slug\": null, \"description\": null, \"topic\": null, \"stars\": null}, {\"x\": -0.07936406135559082, \"y\": 0.02516058273613453, \"context\": \"us-south winlink client for linux hearthstone **python** library ( carddefs, dbf, en\", \"tokens\": \"##us - south win ##link client for linux hearth ##stone python library ( card ##de ##fs , db ##f , en\", \"word\": \"python\", \"slug\": \"Sujit-O/pykg2vec\", \"description\": \"Python library for knowledge graph embedding and representation learning.\", \"topic\": 326.0, \"stars\": 86.0}, {\"x\": -0.0789763405919075, \"y\": 0.025527119636535645, \"context\": \"models of molecular potential energy surfaces debian packaging of **python**-jsonschema v3. 0.\", \"tokens\": \"models of molecular potential energy surfaces de ##bian packaging of python - j ##sons ##che ##ma v ##3 . 0 .\", \"word\": \"python\", \"slug\": \"rmedaer/debian-jsonschema\", \"description\": \"Debian packaging of python-jsonschema v3.0.0b (with additional patches)\", \"topic\": 0.0, \"stars\": 0.0}, {\"x\": -0.053326211869716644, \"y\": -0.16669601202011108, \"context\": \"clusters. vlc build for android anyboard studio rwstauner's linux ~ /.\", \"tokens\": \"clusters . v ##lc build for android any ##board studio r ##ws ##ta ##une ##r ' s linux ~ / .\", \"word\": \"r\", \"slug\": \"rwstauner/run_control\", \"description\": \"rwstauner's linux ~/.*rc files\", \"topic\": 8.0, \"stars\": 0.0}, {\"x\": -0.0779917985200882, \"y\": 0.02202754281461239, \"context\": \"bench [UNK] ctfd is replicated by python3 wordpress theme for pickupmydonation.\", \"tokens\": \"##ben ##ch [UNK] ct ##f ##d is replicate ##d by python ##3 word ##press theme for pickup ##my ##don ##ation .\", \"word\": \"python\", \"slug\": null, \"description\": null, \"topic\": null, \"stars\": null}, {\"x\": -0.07696555554866791, \"y\": 0.04024317115545273, \"context\": \"streams poio api is a free and open source **python** library to access and search data from language documentation in\", \"tokens\": \"streams po ##io api is a free and open source python library to access and search data from language documentation in\", \"word\": \"python\", \"slug\": \"cidles/poio-api\", \"description\": \"Poio API is a free and open source Python library to access and search data from language documentation in your linguistic analysis workflow. It converts file formats like Elan\\u2019s EAF, Toolbox files, Typecraft XML and others into annotation graphs as defined in ISO 24612. Those graphs, for which we use an implementation called \\u201cGraph Annotation Framework\\u201d (GrAF), allow unified access to linguistic data from a wide range sources.\", \"topic\": 17.0, \"stars\": 8.0}, {\"x\": -0.05286811664700508, \"y\": -0.15376926958560944, \"context\": \"). electrum-server with bitcoind rpc ssl support presentation material for boulder javascript\", \"tokens\": \") . elect ##rum - server with bit ##co ##ind r ##pc ss ##l support presentation material for boulder java ##script\", \"word\": \"r\", \"slug\": null, \"description\": null, \"topic\": null, \"stars\": null}, {\"x\": -0.07912342995405197, \"y\": 0.025455130264163017, \"context\": \"amsterdam content analysis toolkit opc ua library for **python** > 3. 6 asyncio battle-hardened\", \"tokens\": \"amsterdam content analysis tool ##kit op ##c ua library for python > 3 . 6 as ##yn ##cio battle - hardened\", \"word\": \"python\", \"slug\": \"FreeOpcUa/opcua-asyncio\", \"description\": \"OPC UA library for python > 3.6 asyncio\", \"topic\": 283.0, \"stars\": 108.0}, {\"x\": -0.07301050424575806, \"y\": 0.020610861480236053, \"context\": \"up tool cosmological n-body code in **python** basic helpers for asp. net core framework\", \"tokens\": \"##up tool co ##smo ##logical n - body code in python basic help ##ers for as ##p . net core framework\", \"word\": \"python\", \"slug\": \"Invenietis/CK-AspNet\", \"description\": \"Basic helpers for Asp.Net Core framework.\", \"topic\": 0.0, \"stars\": 1.0}, {\"x\": -0.0776897519826889, \"y\": 0.04187198355793953, \"context\": \"an advanced twitter scraping & osint tool written in **python** that doesn 't use twitter's api,\", \"tokens\": \"an advanced twitter scraping & os ##int tool written in python that doesn ' t use twitter ' s api ,\", \"word\": \"python\", \"slug\": \"twintproject/twint\", \"description\": \"An advanced Twitter scraping & OSINT tool written in Python that doesn't use Twitter's API, allowing you to scrape a user's followers, following, Tweets and more while evading most API limitations.\", \"topic\": 11017.0, \"stars\": 1602.0}, {\"x\": -0.07735009491443634, \"y\": 0.021943124011158943, \"context\": \"fork of the opus open source services management platform. **python** automated testing on mac automatically exported from code. google\", \"tokens\": \"fork of the opus open source services management platform . python automated testing on mac automatically exported from code . google\", \"word\": \"python\", \"slug\": null, \"description\": null, \"topic\": null, \"stars\": null}, {\"x\": -0.07387753576040268, \"y\": 0.008757990784943104, \"context\": \"css. platform 4 branch for gst-**python** automatically exported from code. google. com / p\", \"tokens\": \"cs ##s . platform 4 branch for gs ##t - python automatically exported from code . google . com / p\", \"word\": \"python\", \"slug\": \"ECToo/volatility\", \"description\": \"Automatically exported from code.google.com/p/volatility\", \"topic\": 0.0, \"stars\": 0.0}, {\"x\": -0.07716749608516693, \"y\": 0.011275148950517178, \"context\": \"i edc learning platform a simple program which checks **python** source files for errors gnu r mirror with rir\", \"tokens\": \"##i ed ##c learning platform a simple program which checks python source files for errors gnu r mirror with ri ##r\", \"word\": \"python\", \"slug\": \"PyCQA/pyflakes\", \"description\": \"A simple program which checks Python source files for errors\", \"topic\": 1047.0, \"stars\": 153.0}, {\"x\": -0.061298564076423645, \"y\": -0.13653916120529175, \"context\": \"simple program which checks python source files for errors gnu **r** mirror with **rir** patches drycc builder ( api\", \"tokens\": \"simple program which checks python source files for errors gnu r mirror with ri ##r patches dry ##cc builder ( api\", \"word\": \"r\", \"slug\": null, \"description\": null, \"topic\": null, \"stars\": null}, {\"x\": -0.07908623665571213, \"y\": 0.03424564003944397, \"context\": \"dependency-free javascript html table plugin a **python** 2. 7 / 3. x module for amc\", \"tokens\": \"dependency - free java ##script html table plug ##in a python 2 . 7 / 3 . x module for amc\", \"word\": \"python\", \"slug\": \"tchellomello/python-amcrest\", \"description\": \"A Python 2.7/3.x module for Amcrest and Dahua Cameras using the SDK HTTP API.\", \"topic\": 128.0, \"stars\": 57.0}, {\"x\": -0.07663706690073013, \"y\": 0.02654976025223732, \"context\": \"t create tests for auctions via robot framework & **python** zopeskel provides a collection of project template\", \"tokens\": \"##t create tests for auction ##s via robot framework & python z ##ope ##ske ##l provides a collection of project template\", \"word\": \"python\", \"slug\": null, \"description\": null, \"topic\": null, \"stars\": null}, {\"x\": -0.07812955975532532, \"y\": 0.0312928669154644, \"context\": \"originprotocol / demo-dapp ) **python**-based tools for document analysis and ocr copy\", \"tokens\": \"origin ##pro ##to ##col / demo - da ##pp ) python - based tools for document analysis and o ##cr copy\", \"word\": \"python\", \"slug\": \"ocropus/ocropy\", \"description\": \"Python-based tools for document analysis and OCR\", \"topic\": 3085.0, \"stars\": 579.0}, {\"x\": -0.07947099953889847, \"y\": 0.03152978792786598, \"context\": \"a de jeunes collegiens francais. a **python** library for knitting patterns this module allows to alloca\", \"tokens\": \"a de je ##unes col ##leg ##iens francais . a python library for knitting patterns this module allows to all ##oca\", \"word\": \"python\", \"slug\": \"fossasia/knittingpattern\", \"description\": \"A Python Library for Knitting Patterns\", \"topic\": 1413.0, \"stars\": 26.0}, {\"x\": -0.07968010753393173, \"y\": 0.03428532928228378, \"context\": \"source code a general dispatch and override mechanism for **python**. a modular synth tracker workgroups2-\", \"tokens\": \"source code a general dispatch and over ##ride mechanism for python . a modular synth tracker work ##group ##s ##2 -\", \"word\": \"python\", \"slug\": \"Quansight-Labs/uarray\", \"description\": \"A general dispatch and override mechanism for Python.\", \"topic\": 91.0, \"stars\": 23.0}, {\"x\": -0.07947085052728653, \"y\": 0.03413056954741478, \"context\": \"isive eater pyaf is an open source **python** library for automatic time series forecasting built on top\", \"tokens\": \"##isi ##ve eater p ##ya ##f is an open source python library for automatic time series forecast ##ing built on top\", \"word\": \"python\", \"slug\": \"antoinecarme/pyaf\", \"description\": \"PyAF is an Open Source Python library for Automatic Time Series Forecasting built on top of popular pydata modules.\", \"topic\": 302.0, \"stars\": 49.0}, {\"x\": -0.07975553721189499, \"y\": 0.026407888159155846, \"context\": \"framework for runtime auto-tuning. google sheets **python** api multicoin cryptocurrency wallet\", \"tokens\": \"framework for run ##time auto - tuning . google sheets python api multi ##co ##in crypt ##oc ##ur ##ren ##cy wallet\", \"word\": \"python\", \"slug\": null, \"description\": null, \"topic\": null, \"stars\": null}, {\"x\": -0.07861533761024475, \"y\": 0.018790634348988533, \"context\": \"main labscript _ suite repository via pull requests. **python** 3d mesh processing toolkit twitter bootstrap t\", \"tokens\": \"main labs ##cript _ suite repository via pull requests . python 3d mesh processing tool ##kit twitter boots ##tra ##p t\", \"word\": \"python\", \"slug\": null, \"description\": null, \"topic\": null, \"stars\": null}, {\"x\": -0.07844001799821854, \"y\": 0.03061745874583721, \"context\": \", algoexpert. io solutions in **python** and swift gui for thze testautomation\", \"tokens\": \", al ##go ##ex ##per ##t . io solutions in python and swift gui for th ##ze test ##au ##tom ##ation\", \"word\": \"python\", \"slug\": null, \"description\": null, \"topic\": null, \"stars\": null}, {\"x\": -0.0779489278793335, \"y\": 0.029547279700636864, \"context\": \"statistical computing a collection of gradle plugins **python** micro-framework open source etl designed for and\", \"tokens\": \"statistical computing a collection of gr ##ad ##le plug ##ins python micro - framework open source et ##l designed for and\", \"word\": \"python\", \"slug\": null, \"description\": null, \"topic\": null, \"stars\": null}, {\"x\": -0.04964713752269745, \"y\": -0.17346470057964325, \"context\": \"exported from code. google. com / p / rlai-critterbot < a href\", \"tokens\": \"exported from code . google . com / p / r ##lai - cr ##itte ##rb ##ot < a hr ##ef\", \"word\": \"r\", \"slug\": \"jmodayil/rlai-critterbot\", \"description\": \"Automatically exported from code.google.com/p/rlai-critterbot\", \"topic\": 1.0, \"stars\": 1.0}, {\"x\": -0.0792318657040596, \"y\": 0.021459262818098068, \"context\": \"ibm % 3ayp % 3aus-south a **python** toolbox to create adversarial examples that\", \"tokens\": \"ibm % 3a ##yp % 3a ##us - south a python tool ##box to create ad ##vers ##aria ##l examples that\", \"word\": \"python\", \"slug\": \"bethgelab/foolbox\", \"description\": \"A Python toolbox to create adversarial examples that fool neural networks in PyTorch, TensorFlow, and JAX\", \"topic\": 1939.0, \"stars\": 354.0}, {\"x\": -0.07704443484544754, \"y\": 0.027889365330338478, \"context\": \"ble learning analytics environment. a text comprehension engine in **python** gentoo overlay for deepin desktop environment\", \"tokens\": \"##ble learning analytics environment . a text comprehension engine in python gen ##to ##o over ##lay for deep ##in desktop environment\", \"word\": \"python\", \"slug\": \"SerenitySoftware/cahoots\", \"description\": \"A Text Comprehension Engine in Python\", \"topic\": 15.0, \"stars\": 3.0}, {\"x\": -0.07992079108953476, \"y\": 0.03393440693616867, \"context\": \"l micropython-a lean and efficient **python** implementation for open-isa's vega board odin\", \"tokens\": \"##l micro ##py ##th ##on - a lean and efficient python implementation for open - isa ' s vega board odin\", \"word\": \"python\", \"slug\": \"Gottwik/enduro2\", \"description\": \"blazing fast and lightweight implementation of enduro :-)\", \"topic\": 5.0, \"stars\": 0.0}, {\"x\": -0.07792473584413528, \"y\": 0.03923974186182022, \"context\": \"building restful apis using odin and your favourite **python** web framework. blogs. a frontend framework that\", \"tokens\": \"building rest ##ful api ##s using odin and your favourite python web framework . blogs . a front ##end framework that\", \"word\": \"python\", \"slug\": \"python-odin/odinweb\", \"description\": \"OdinWeb toolkit for building RESTful APIs using Odin and your favourite Python web framework.\", \"topic\": 3.0, \"stars\": 0.0}, {\"x\": -0.057363361120224, \"y\": -0.11555354297161102, \"context\": \"pricing easily on booking. com popcycle is an **r** package that offers reproducible analytical tools to analyze\", \"tokens\": \"pricing easily on booking . com pop ##cycle is an r package that offers rep ##rod ##ucible analytical tools to analyze\", \"word\": \"r\", \"slug\": \"seaflow-uw/popcycle\", \"description\": \"Popcycle is an R package that offers reproducible analytical tools to analyze flow cytometry data collected by SeaFlow\", \"topic\": 8.0, \"stars\": 8.0}, {\"x\": -0.07280164211988449, \"y\": 0.0033940677531063557, \"context\": \"bee front-admin javascript picn: **python** icn and nfn by university of basel\", \"tokens\": \"##bee front - ad ##min java ##script pic ##n : python ic ##n and n ##f ##n by university of basel\", \"word\": \"python\", \"slug\": \"cn-uofbasel/PiCN\", \"description\": \"PiCN: Python ICN and NFN by University of Basel\", \"topic\": 13.0, \"stars\": 12.0}, {\"x\": -0.07781404256820679, \"y\": 0.019948486238718033, \"context\": \"afiliacion this is totally not a fork of **python**-rpn, and i 'm totally\", \"tokens\": \"afi ##lia ##cion this is totally not a fork of python - r ##p ##n , and i ' m totally\", \"word\": \"python\", \"slug\": \"neishm/python-rpn-unforked\", \"description\": \"This is totally not a fork of python-rpn, and I'm totally not doing this just to work around a defficiency with git-lfs on forks.\", \"topic\": 0.0, \"stars\": 1.0}, {\"x\": -0.057182710617780685, \"y\": -0.15104010701179504, \"context\": \"cion this is totally not a fork of python-rpn, and i 'm totally not doing\", \"tokens\": \"##cion this is totally not a fork of python - r ##p ##n , and i ' m totally not doing\", \"word\": \"r\", \"slug\": \"neishm/python-rpn-unforked\", \"description\": \"This is totally not a fork of python-rpn, and I'm totally not doing this just to work around a defficiency with git-lfs on forks.\", \"topic\": 0.0, \"stars\": 1.0}, {\"x\": -0.07654973119497299, \"y\": 0.03363346308469772, \"context\": \"xrt ( xraytracer ) is a **python** software library for ray tracing and wave propagation in x\", \"tokens\": \"x ##rt ( x ##ray ##tra ##cer ) is a python software library for ray tracing and wave propagation in x\", \"word\": \"python\", \"slug\": \"kklmn/xrt\", \"description\": \"Package xrt (XRayTracer) is a python software library for ray tracing and wave propagation in x-ray regime. It is primarily meant for modeling synchrotron sources, beamlines and beamline elements.\", \"topic\": 44.0, \"stars\": 19.0}, {\"x\": -0.07879894971847534, \"y\": 0.023068301379680634, \"context\": \"lines and beamline elements. compiled, automatically parallel **python** for data science holarse frisch und ne\", \"tokens\": \"##lines and beam ##line elements . compiled , automatically parallel python for data science ho ##lars ##e fr ##isch und ne\", \"word\": \"python\", \"slug\": \"ufora/ufora\", \"description\": \"Compiled, automatically parallel Python for data science\", \"topic\": 496.0, \"stars\": 29.0}, {\"x\": -0.05860812962055206, \"y\": -0.14440444111824036, \"context\": \"bnl / coga data organization and retrieval the **r** programmatic interface to synapse services. net\", \"tokens\": \"##bn ##l / co ##ga data organization and retrieval the r program ##matic interface to syn ##ap ##se services . net\", \"word\": \"r\", \"slug\": \"Sage-Bionetworks/rSynapseClient\", \"description\": \"The R programmatic interface to Synapse services\", \"topic\": 27.0, \"stars\": 20.0}, {\"x\": -0.07863473892211914, \"y\": 0.024224286898970604, \"context\": \"linck dating application, based on spring boot. **python** client for the dci control server for codefell\", \"tokens\": \"##lin ##ck dating application , based on spring boot . python client for the dc ##i control server for code ##fell\", \"word\": \"python\", \"slug\": \"Geotab/mygeotab-python\", \"description\": \"An Apache2 Licensed, unofficial Python client for the MyGeotab API.\", \"topic\": 30.0, \"stars\": 10.0}, {\"x\": -0.04960847645998001, \"y\": -0.17554862797260284, \"context\": \"the command ui introduced in minecraft 1. 13 rpush for for pcdl xcsoar\", \"tokens\": \"the command ui introduced in mine ##craft 1 . 13 r ##pus ##h for for pc ##dl x ##cs ##oa ##r\", \"word\": \"r\", \"slug\": \"rradz/rpush\", \"description\": \"Rpush for for pcdl\", \"topic\": 0.0, \"stars\": 0.0}, {\"x\": -0.07232679426670074, \"y\": 0.017409685999155045, \"context\": \"application framework for blazor survival analysis in **python** a line based text user interface framework for scripts terra\", \"tokens\": \"application framework for b ##la ##zo ##r survival analysis in python a line based text user interface framework for scripts terra\", \"word\": \"python\", \"slug\": \"CamDavidsonPilon/lifelines\", \"description\": \"Survival analysis in Python\", \"topic\": 1654.0, \"stars\": 431.0}, {\"x\": -0.07885211706161499, \"y\": 0.02870914712548256, \"context\": \"my experiments with the package manager. abc learn java **python** library for working with ontologies and ontology associations\", \"tokens\": \"my experiments with the package manager . abc learn java python library for working with onto ##logies and onto ##logy associations\", \"word\": \"python\", \"slug\": \"fossasia/knittingpattern\", \"description\": \"A Python Library for Knitting Patterns\", \"topic\": 1413.0, \"stars\": 26.0}, {\"x\": -0.04712466523051262, \"y\": -0.1751316338777542, \"context\": \"import android \\u5b66 [UNK] the roguelike toolkit ( rltk ), implemented for rust. [UNK]-\", \"tokens\": \"import android \\u5b66 [UNK] the rogue ##like tool ##kit ( r ##lt ##k ) , implemented for rust . [UNK] -\", \"word\": \"r\", \"slug\": \"thebracket/bracket-lib\", \"description\": \"The Roguelike Toolkit (RLTK), implemented for Rust.\", \"topic\": 709.0, \"stars\": 56.0}, {\"x\": -0.07677008211612701, \"y\": 0.03452221304178238, \"context\": \"robotic development with ros in c + + and **python**. 1232322 my fork and configuration of d\", \"tokens\": \"robotic development with ro ##s in c + + and python . 123 ##23 ##22 my fork and configuration of d\", \"word\": \"python\", \"slug\": null, \"description\": null, \"topic\": null, \"stars\": null}, {\"x\": -0.07694429159164429, \"y\": 0.05305838584899902, \"context\": \"]: pysam2 is a module for **python** 3. 6 or newer for reading and manipulating sam\", \"tokens\": \"] : p ##ys ##am ##2 is a module for python 3 . 6 or newer for reading and manipulating sam\", \"word\": \"python\", \"slug\": \"pysam-developers/pysam2\", \"description\": \"[WORK IN PROGRESS]: Pysam2 is a module for Python 3.6 or newer for reading and manipulating SAM/BAM/VCF/BCF files. It's a lightweight wrapper of the htslib v2 C-API, the same one that powers samtools, bcftools, and tabix.\", \"topic\": 3.0, \"stars\": 0.0}, {\"x\": -0.07869844883680344, \"y\": 0.024304745718836784, \"context\": \"exported from code. google. com / p / **python**-mplayer performance profiler plugin for sa\", \"tokens\": \"exported from code . google . com / p / python - mp ##layer performance profile ##r plug ##in for sa\", \"word\": \"python\", \"slug\": null, \"description\": null, \"topic\": null, \"stars\": null}, {\"x\": -0.07693326473236084, \"y\": 0.02882080338895321, \"context\": \"ak, provide basic functionalities robot soccer playing ai **python** tools for visual studio fork of http: / /\", \"tokens\": \"##ak , provide basic functional ##ities robot soccer playing ai python tools for visual studio fork of http : / /\", \"word\": \"python\", \"slug\": null, \"description\": null, \"topic\": null, \"stars\": null}, {\"x\": -0.07835013419389725, \"y\": 0.031162485480308533, \"context\": \"imdbpy-legacy branch of imdbpy **python** package, still compatible with **python** 2. 7.\", \"tokens\": \"im ##db ##py - legacy branch of im ##db ##py python package , still compatible with python 2 . 7 .\", \"word\": \"python\", \"slug\": \"jsynowiec/imdbpy-legacy\", \"description\": \"This is the fork of imdbpy-legacy branch of IMDbPY python package, still compatible with Python 2.7.\", \"topic\": 0.0, \"stars\": 0.0}, {\"x\": -0.07685625553131104, \"y\": 0.0424778088927269, \"context\": \"of imdbpy **python** package, still compatible with **python** 2. 7. ansible modules for palo alto\", \"tokens\": \"of im ##db ##py python package , still compatible with python 2 . 7 . an ##sible modules for palo alto\", \"word\": \"python\", \"slug\": \"jsynowiec/imdbpy-legacy\", \"description\": \"This is the fork of imdbpy-legacy branch of IMDbPY python package, still compatible with Python 2.7.\", \"topic\": 0.0, \"stars\": 0.0}, {\"x\": -0.079365573823452, \"y\": 0.03444206342101097, \"context\": \"gendata mysql database connector for **python** ( with **python** 3 support ) ballerina file module\", \"tokens\": \"gen ##da ##ta my ##s ##q ##l database connector for python ( with python 3 support ) ball ##erina file module\", \"word\": \"python\", \"slug\": \"PyMySQL/mysqlclient\", \"description\": \"MySQL database connector for Python (with Python 3 support)\", \"topic\": 1934.0, \"stars\": 331.0}, {\"x\": -0.07774172723293304, \"y\": 0.02998669631779194, \"context\": \"mysql database connector for **python** ( with **python** 3 support ) ballerina file module learn janus\", \"tokens\": \"my ##s ##q ##l database connector for python ( with python 3 support ) ball ##erina file module learn jan ##us\", \"word\": \"python\", \"slug\": \"PyMySQL/mysqlclient\", \"description\": \"MySQL database connector for Python (with Python 3 support)\", \"topic\": 1934.0, \"stars\": 331.0}, {\"x\": -0.07912981510162354, \"y\": 0.030190369114279747, \"context\": \", format-agnostic, and community-driven **python** package for analysing and visualising earth science\", \"tokens\": \", format - ag ##nostic , and community - driven python package for anal ##ys ##ing and visual ##ising earth science\", \"word\": \"python\", \"slug\": \"SciTools/iris\", \"description\": \"A powerful, format-agnostic, and community-driven Python package for analysing and visualising Earth science data\", \"topic\": 432.0, \"stars\": 226.0}, {\"x\": -0.04857823625206947, \"y\": -0.18235604465007782, \"context\": \"ing and visualising earth science data reactive extension ( rx ) adaptor for netty cms for\", \"tokens\": \"##ing and visual ##ising earth science data reactive extension ( r ##x ) adapt ##or for net ##ty cm ##s for\", \"word\": \"r\", \"slug\": \"ReactiveX/RxNetty\", \"description\": \"Reactive Extension (Rx) Adaptor for Netty\", \"topic\": 1336.0, \"stars\": 256.0}, {\"x\": -0.08086983859539032, \"y\": 0.031536996364593506, \"context\": \"app goldwasser exchange's public packages a **python** api and bmi for the dakota iterative systems\", \"tokens\": \"app gold ##was ##ser exchange ' s public packages a python api and b ##mi for the dakota it ##erative systems\", \"word\": \"python\", \"slug\": \"csdms/dakotathon\", \"description\": \"A Python API and BMI for the Dakota iterative systems analysis toolkit\", \"topic\": 10.0, \"stars\": 6.0}, {\"x\": -0.07713573426008224, \"y\": 0.03817722201347351, \"context\": \"object-relational mapper, implemented on top of **python**. fork from lsst / obs _\", \"tokens\": \"object - relational map ##per , implemented on top of python . fork from l ##ss ##t / ob ##s _\", \"word\": \"python\", \"slug\": null, \"description\": null, \"topic\": null, \"stars\": null}, {\"x\": -0.07526103407144547, \"y\": 0.02584756724536419, \"context\": \". suckless terminal + patches + config **python** 3 library for isogeometric analysis http: /\", \"tokens\": \". suck ##less terminal + patches + con ##fi ##g python 3 library for iso ##ge ##ometric analysis http : /\", \"word\": \"python\", \"slug\": \"pyccel/psydac\", \"description\": \"Python 3 library for isogeometric analysis http://spl.readthedocs.io/\", \"topic\": 16.0, \"stars\": 5.0}, {\"x\": -0.06676924973726273, \"y\": -0.010092922486364841, \"context\": \"a system for research institutions to track holders of mice **python** growth and yield projection system llvm-based\", \"tokens\": \"a system for research institutions to track holders of mice python growth and yield projection system ll ##v ##m - based\", \"word\": \"python\", \"slug\": null, \"description\": null, \"topic\": null, \"stars\": null}, {\"x\": -0.07709445059299469, \"y\": 0.03326769918203354, \"context\": \"es in a rich and dynamic environment. bayesian **python**: bayesian inference tools for **python** umi.\", \"tokens\": \"##es in a rich and dynamic environment . bay ##esian python : bay ##esian inference tools for python um ##i .\", \"word\": \"python\", \"slug\": \"bayespy/bayespy\", \"description\": \"Bayesian Python: Bayesian inference tools for Python\", \"topic\": 627.0, \"stars\": 158.0}, {\"x\": -0.07612675428390503, \"y\": 0.03741798177361488, \"context\": \". bayesian **python**: bayesian inference tools for **python** umi. framework version 1 ( read only sub\", \"tokens\": \". bay ##esian python : bay ##esian inference tools for python um ##i . framework version 1 ( read only sub\", \"word\": \"python\", \"slug\": null, \"description\": null, \"topic\": null, \"stars\": null}, {\"x\": -0.0760001391172409, \"y\": 0.01630721427500248, \"context\": \"project for demo purpose javascript framework for visual programming **python** library to load dynamically typed data into statically\", \"tokens\": \"project for demo purpose java ##script framework for visual programming python library to load dynamic ##ally typed data into static ##ally\", \"word\": \"python\", \"slug\": \"eric-erki/rete\", \"description\": \"JavaScript framework for visual programming\", \"topic\": 0.0, \"stars\": 0.0}, {\"x\": -0.07908690720796585, \"y\": 0.02975650131702423, \"context\": \"openjdk project internet of things communications a **python** simulator for ashby-like homeostats with robotics\", \"tokens\": \"open ##j ##d ##k project internet of things communications a python simulator for ashby - like home ##osta ##ts with robotics\", \"word\": \"python\", \"slug\": null, \"description\": null, \"topic\": null, \"stars\": null}, {\"x\": -0.07742982357740402, \"y\": 0.021618681028485298, \"context\": \". [ retired 3. 26. 18 ] [ **python** ] [ django ] core api for strand,\", \"tokens\": \". [ retired 3 . 26 . 18 ] [ python ] [ dj ##ango ] core api for strand ,\", \"word\": \"python\", \"slug\": \"tadasant/strand-api\", \"description\": \"[Retired 3.26.18] [Python] [Django] Core API for Strand, an app that helps you save and share snippets of Slack conversations\", \"topic\": 2.0, \"stars\": 0.0}, {\"x\": -0.07709725946187973, \"y\": 0.027182647958397865, \"context\": \"al docker container image my dwm configuration **python** ant downloader-tools for download from garmin\", \"tokens\": \"##al dock ##er container image my d ##w ##m configuration python ant download ##er - tools for download from ga ##rmin\", \"word\": \"python\", \"slug\": null, \"description\": null, \"topic\": null, \"stars\": null}, {\"x\": -0.07382462173700333, \"y\": 0.008401373401284218, \"context\": \"nights auto helper based on adb and **python** | [UNK] [UNK] **python** \\u7684 \\u660e \\u65e5 \\u65b9 [UNK] [UNK]\", \"tokens\": \"##night ##s auto help ##er based on ad ##b and python | [UNK] [UNK] python \\u7684 \\u660e \\u65e5 \\u65b9 [UNK] [UNK]\", \"word\": \"python\", \"slug\": \"ninthDevilHAUNSTER/ArknightsAutoHelper\", \"description\": \"Arknights Auto Helper based on ADB and Python   |  \\u57fa\\u4e8epython\\u7684\\u660e\\u65e5\\u65b9\\u821f\\u62a4\\u809d\\u52a9\\u624b\", \"topic\": 696.0, \"stars\": 132.0}, {\"x\": -0.05265747010707855, \"y\": -0.00958168227225542, \"context\": \"er based on adb and **python** | [UNK] [UNK] **python** \\u7684 \\u660e \\u65e5 \\u65b9 [UNK] [UNK] [UNK] [UNK] \\u624b bird\", \"tokens\": \"##er based on ad ##b and python | [UNK] [UNK] python \\u7684 \\u660e \\u65e5 \\u65b9 [UNK] [UNK] [UNK] [UNK] \\u624b bird\", \"word\": \"python\", \"slug\": \"ninthDevilHAUNSTER/ArknightsAutoHelper\", \"description\": \"Arknights Auto Helper based on ADB and Python   |  \\u57fa\\u4e8epython\\u7684\\u660e\\u65e5\\u65b9\\u821f\\u62a4\\u809d\\u52a9\\u624b\", \"topic\": 696.0, \"stars\": 132.0}, {\"x\": -0.057302746921777725, \"y\": -0.1393119841814041, \"context\": \"principles of software development. a place to work on **r** scripts for analysing the lbbg gps\", \"tokens\": \"principles of software development . a place to work on r scripts for anal ##ys ##ing the lb ##b ##g gps\", \"word\": \"r\", \"slug\": \"thomasevans/lbbg_gps\", \"description\": \"A place to work on R scripts for analysing the LBBG GPS tracking data.\", \"topic\": 0.0, \"stars\": 0.0}, {\"x\": -0.08037655055522919, \"y\": 0.02808988466858864, \"context\": \"/ refactor / cleanup simple cad written in **python** + tkinter combination with remote storage support g\", \"tokens\": \"/ ref ##act ##or / cleanup simple cad written in python + t ##kin ##ter combination with remote storage support g\", \"word\": \"python\", \"slug\": \"tisnik/chainring\", \"description\": \"Simple CAD written in Python+Tkinter combination with remote storage support\", \"topic\": 0.0, \"stars\": 1.0}, {\"x\": -0.0800929144024849, \"y\": 0.03738122060894966, \"context\": \"light high performance modern opengl 3. 3 + **python** framework https: / / demosys-py\", \"tokens\": \"light high performance modern open ##gl 3 . 3 + python framework https : / / demos ##ys - p ##y\", \"word\": \"python\", \"slug\": \"Contraz/demosys-py\", \"description\": \"A light high performance modern OpenGL 3.3+ Python Framework https://demosys-py.readthedocs.io/\", \"topic\": 54.0, \"stars\": 7.0}, {\"x\": -0.07663930207490921, \"y\": 0.02755076251924038, \"context\": \"( psg ) with skip-gram all in **python** and still more features will be added. the website\", \"tokens\": \"( ps ##g ) with skip - gram all in python and still more features will be added . the website\", \"word\": \"python\", \"slug\": \"jawahar273/practNLPTools-lite\", \"description\": \"Practical Natural Language Processing Tools for Humans is build on the top of Senna  Natural Language Processing (NLP) predictions: part-of-speech (POS) tags, chunking (CHK), name entity recognition (NER), semantic role labeling (SRL) and syntactic parsing (PSG) with skip-gram all in Python and still more features will be added.     The website give is for downlarding Senna tool\", \"topic\": 20.0, \"stars\": 5.0}, {\"x\": -0.07841679453849792, \"y\": 0.028396649286150932, \"context\": \"emir is the next-generation display server technology. **python** tool designed to validate searchable format parcel submissions\", \"tokens\": \"emir is the next - generation display server technology . python tool designed to valid ##ate search ##able format parcel submissions\", \"word\": \"python\", \"slug\": null, \"description\": null, \"topic\": null, \"stars\": null}, {\"x\": -0.0769742801785469, \"y\": 0.03350285813212395, \"context\": \"submissions to the wisconsin parcel initiative ( arcpy and **python** 2. 7 dependencies ) mstar hbase\", \"tokens\": \"submissions to the wisconsin parcel initiative ( arc ##py and python 2 . 7 depend ##encies ) ms ##tar h ##base\", \"word\": \"python\", \"slug\": \"WIStCart/ParcelValidationTool\", \"description\": \"Python tool designed to validate searchable format parcel submissions to the Wisconsin Parcel Initiative (ArcPy and Python 2.7 dependencies)\", \"topic\": 0.0, \"stars\": 0.0}, {\"x\": -0.07606864720582962, \"y\": 0.0349254384636879, \"context\": \"block explorer of nebulas spiceypy: a pythonic wrapper for the spice toolkit. a\", \"tokens\": \"block explorer of nebula ##s spice ##yp ##y : a python ##ic wrap ##per for the spice tool ##kit . a\", \"word\": \"python\", \"slug\": \"TyberiusPrime/pyggplot\", \"description\": \"Pythonic wrapper for R's ggplot using rpy2 and pandas\", \"topic\": 12.0, \"stars\": 7.0}, {\"x\": -0.08084682375192642, \"y\": 0.024988343939185143, \"context\": \"p / openid4java a collection of **python** bulk import scripts for various data sources removes repetitive work\", \"tokens\": \"p / open ##id ##4 ##ja ##va a collection of python bulk import scripts for various data sources removes repetitive work\", \"word\": \"python\", \"slug\": \"owid/owid-importer\", \"description\": \"A collection of Python bulk import scripts for various data sources\", \"topic\": 13.0, \"stars\": 5.0}, {\"x\": -0.07904108613729477, \"y\": 0.01480039581656456, \"context\": \"unit test framework for java 8 cli utility and **python** module for analyzing log files and other data. ju\", \"tokens\": \"unit test framework for java 8 cl ##i utility and python module for analyzing log files and other data . ju\", \"word\": \"python\", \"slug\": \"dogoncouch/logdissect\", \"description\": \"CLI utility and Python module for analyzing log files and other data.\", \"topic\": 91.0, \"stars\": 14.0}, {\"x\": -0.07854042202234268, \"y\": 0.016149451956152916, \"context\": \"and erlang, written in elixir. **python** port of shadowsocksr arm builds of https:\", \"tokens\": \"and er ##lang , written in eli ##xi ##r . python port of shadows ##ocks ##r arm builds of https :\", \"word\": \"python\", \"slug\": \"shadowsocksr-backup/shadowsocksr\", \"description\": \"Python port of ShadowsocksR\", \"topic\": 5730.0, \"stars\": 3296.0}, {\"x\": -0.05432653799653053, \"y\": -0.1719217151403427, \"context\": \"api for building distributed applications. ray is packaged with rllib, a scalable reinforcement learning library,\", \"tokens\": \"api for building distributed applications . ray is packaged with r ##lli ##b , a scala ##ble reinforcement learning library ,\", \"word\": \"r\", \"slug\": \"ray-project/ray\", \"description\": \"An open source framework that provides a simple, universal API for building distributed applications. Ray is packaged with RLlib, a scalable reinforcement learning library, and Tune, a scalable hyperparameter tuning library.\", \"topic\": 16609.0, \"stars\": 2775.0}, {\"x\": -0.058187086135149, \"y\": -0.1436188519001007, \"context\": \"developer friendly. net open source cms. an **r** package containing tools for putative annotation of\", \"tokens\": \"developer friendly . net open source cm ##s . an r package containing tools for put ##ative ann ##ota ##tion of\", \"word\": \"r\", \"slug\": \"SCM-NV/nano-qmflows\", \"description\": \"Package containing several workflows to compute molecular properties for nanomaterials\", \"topic\": 6.0, \"stars\": 6.0}, {\"x\": -0.07400741428136826, \"y\": 0.02581012062728405, \"context\": \"( ruth ) japanese morphological analysis engine written in pure **python** this is the fork of bft-smart project\", \"tokens\": \"( ruth ) japanese morphological analysis engine written in pure python this is the fork of bf ##t - smart project\", \"word\": \"python\", \"slug\": \"mocobeta/janome\", \"description\": \"Japanese morphological analysis engine written in pure Python\", \"topic\": 656.0, \"stars\": 42.0}, {\"x\": -0.06016290932893753, \"y\": -0.14598533511161804, \"context\": \"psychophysics and neuroscience spss equivalent gui for the **r** project [UNK] style props for rapid ui development a python\", \"tokens\": \"psycho ##physics and neuroscience sp ##ss equivalent gui for the r project [UNK] style props for rapid ui development a python\", \"word\": \"r\", \"slug\": \"BlueSkyStatisticsOrg/BlueSkyStatisticsRepository\", \"description\": \"SPSS equivalent GUI for the R Project \", \"topic\": 7.0, \"stars\": 5.0}, {\"x\": -0.08059285581111908, \"y\": 0.03202524781227112, \"context\": \"r project [UNK] style props for rapid ui development a **python** library and tools providing easy access to the ret\", \"tokens\": \"r project [UNK] style props for rapid ui development a python library and tools providing easy access to the re ##t\", \"word\": \"python\", \"slug\": \"Sujit-O/pykg2vec\", \"description\": \"Python library for knowledge graph embedding and representation learning.\", \"topic\": 326.0, \"stars\": 86.0}, {\"x\": -0.044732771813869476, \"y\": -0.018256446346640587, \"context\": \"eurecom's openair-cn code **python** [UNK] [UNK] [UNK] \\u6cd5 [UNK] \\u4eba \\u535a [UNK] sspan\", \"tokens\": \"eu ##re ##com ' s open ##air - cn code python [UNK] [UNK] [UNK] \\u6cd5 [UNK] \\u4eba \\u535a [UNK] ss ##pan\", \"word\": \"python\", \"slug\": \"chao5512/cross-brain\", \"description\": \"\\u4eba\\u5de5\\u667a\\u80fd\\u6a21\\u578b\\u7b97\\u6cd5\\u670d\\u52a1\", \"topic\": 0.0, \"stars\": 0.0}, {\"x\": -0.0792832002043724, \"y\": 0.021398911252617836, \"context\": \"apping library my patches for dracut a **python** package with tools for scientific data management, evaluation,\", \"tokens\": \"##app ##ing library my patches for dr ##ac ##ut a python package with tools for scientific data management , evaluation ,\", \"word\": \"python\", \"slug\": \"hartelt/snomtools\", \"description\": \"A python package with tools for scientific data management, evaluation, etc. Originally designed as a toolbox of the SNOM team of AG Aeschlimann, TU Kaiserslautern, Germany.\", \"topic\": 1.0, \"stars\": 1.0}, {\"x\": -0.07790414243936539, \"y\": 0.022217050194740295, \"context\": \"repo clone of the darcs yi editor clone **python** binding to tango c + + package and ship re\", \"tokens\": \"rep ##o clone of the dar ##cs yi editor clone python binding to tango c + + package and ship re\", \"word\": \"python\", \"slug\": \"tango-controls/pytango\", \"description\": \"Python binding to Tango C++\", \"topic\": 51.0, \"stars\": 48.0}, {\"x\": -0.07442934066057205, \"y\": 0.002615897450596094, \"context\": \"c + + package and ship relocatable **python** virtualenvs, like a boss. **python** package\", \"tokens\": \"c + + package and ship re ##lo ##cat ##able python virtual ##en ##vs , like a boss . python package\", \"word\": \"python\", \"slug\": \"PolicyStat/terrarium\", \"description\": \"Package and ship relocatable python virtualenvs, like a boss.\", \"topic\": 171.0, \"stars\": 15.0}, {\"x\": -0.07889831811189651, \"y\": 0.025104044005274773, \"context\": \"able **python** virtualenvs, like a boss. **python** package for commonly used tools at olc. [UNK]\", \"tokens\": \"##able python virtual ##en ##vs , like a boss . python package for commonly used tools at ol ##c . [UNK]\", \"word\": \"python\", \"slug\": \"OLC-Bioinformatics/OLCTools\", \"description\": \"Python package for commonly used tools at OLC.\", \"topic\": 1.0, \"stars\": 2.0}, {\"x\": -0.0805116519331932, \"y\": 0.016468465328216553, \"context\": \"loader yet another sparql gui generate **python** ctypes classes from c headers. requires\", \"tokens\": \"load ##er yet another spa ##r ##q ##l gui generate python ct ##ype ##s classes from c header ##s . requires\", \"word\": \"python\", \"slug\": \"trolldbois/ctypeslib\", \"description\": \"Generate python ctypes classes from C headers. Requires LLVM clang\", \"topic\": 106.0, \"stars\": 35.0}, {\"x\": -0.07943113148212433, \"y\": 0.02668027952313423, \"context\": \"paradigm hardware construction framework statistics of steam reviews. a **python** module provides a consistent interface to multiple dcc application\", \"tokens\": \"paradigm hardware construction framework statistics of steam reviews . a python module provides a consistent interface to multiple dc ##c application\", \"word\": \"python\", \"slug\": \"woctezuma/steam-reviews\", \"description\": \"Statistics of Steam reviews.\", \"topic\": 4.0, \"stars\": 1.0}, {\"x\": -0.07941357046365738, \"y\": 0.028552178293466568, \"context\": \"! metering and monitoring for openstack compute **python** domain specific language tools a next generation http client for\", \"tokens\": \"! meter ##ing and monitoring for opens ##ta ##ck compute python domain specific language tools a next generation http client for\", \"word\": \"python\", \"slug\": null, \"description\": null, \"topic\": null, \"stars\": null}, {\"x\": -0.0797523483633995, \"y\": 0.0334128811955452, \"context\": \"domain specific language tools a next generation http client for **python**. [UNK] [UNK] configure webpack using\", \"tokens\": \"domain specific language tools a next generation http client for python . [UNK] [UNK] con ##fi ##gur ##e web ##pack using\", \"word\": \"python\", \"slug\": \"encode/httpx\", \"description\": \"A next generation HTTP client for Python. \\ud83e\\udd8b\", \"topic\": 7181.0, \"stars\": 477.0}, {\"x\": -0.036587849259376526, \"y\": -0.01894574798643589, \"context\": \"10 ( aka rightlinklite ) agent [UNK] [UNK] **python** [UNK] [UNK] \\u7684 mysql web \\u7248 \\u672c\", \"tokens\": \"##10 ( aka right ##link ##lite ) agent [UNK] [UNK] python [UNK] [UNK] \\u7684 my ##s ##q ##l web \\u7248 \\u672c\", \"word\": \"python\", \"slug\": \"bulletcaptain/Algrithm\", \"description\": \"python\\u6392\\u5e8f\\u7b97\\u6cd5\", \"topic\": 0.0, \"stars\": 0.0}, {\"x\": -0.0787675529718399, \"y\": 0.02859162725508213, \"context\": \"morelinq html \\u52a0 [UNK] [UNK] \\u7684 webpack **python**-based bitcoin and alt-coin utility\", \"tokens\": \"more ##lin ##q html \\u52a0 [UNK] [UNK] \\u7684 web ##pack python - based bit ##co ##in and alt - coin utility\", \"word\": \"python\", \"slug\": \"richardkiss/pycoin\", \"description\": \"Python-based Bitcoin and alt-coin utility library.\", \"topic\": 1213.0, \"stars\": 508.0}, {\"x\": -0.0771089419722557, \"y\": 0.03194407746195793, \"context\": \"xbot securely wipe the contents of storage device using **python** 2 & 3. project needs to be refact\", \"tokens\": \"##x ##bot securely wipe the contents of storage device using python 2 & 3 . project needs to be ref ##act\", \"word\": \"python\", \"slug\": \"marshki/pyWype\", \"description\": \"Securely wipe the contents of storage device using Python 2 & 3. Project needs to be refactored, and is starving for unit tests. Works, but it ain't so pretty.\", \"topic\": 7.0, \"stars\": 3.0}, {\"x\": -0.07734063267707825, \"y\": 0.03710251674056053, \"context\": \"understanding natural language. a transpiler for a **python** like language to javascript a softlayer client api\", \"tokens\": \"understanding natural language . a trans ##pile ##r for a python like language to java ##script a soft ##layer client api\", \"word\": \"python\", \"slug\": \"kovidgoyal/rapydscript-ng\", \"description\": \"A transpiler for a Python like language to JavaScript\", \"topic\": 144.0, \"stars\": 42.0}, {\"x\": -0.039714280515909195, \"y\": -0.03342067077755928, \"context\": \"project management app offres d 'emploi **python** pour le marche francais loopback-react-starter\", \"tokens\": \"project management app off ##res d ' em ##pl ##oi python pour le marche francais loop ##back - react - starter\", \"word\": \"python\", \"slug\": \"pyjobs/annonces\", \"description\": \"Offres d'emploi python pour le march\\u00e9 fran\\u00e7ais\", \"topic\": 8.0, \"stars\": 8.0}, {\"x\": -0.07232750207185745, \"y\": 0.031208913773298264, \"context\": \"representations of position and orientation in 2d or 3d using **python** social listening for spotify-music sounds better together\", \"tokens\": \"representations of position and orientation in 2d or 3d using python social listening for spot ##ify - music sounds better together\", \"word\": \"python\", \"slug\": null, \"description\": null, \"topic\": null, \"stars\": null}, {\"x\": -0.05360603332519531, \"y\": -0.12966935336589813, \"context\": \"modeling workflow engine project repository ( mwe ) **r** tools for visual studio. the coder \\u2019 s\", \"tokens\": \"modeling work ##flow engine project repository ( mw ##e ) r tools for visual studio . the code ##r \\u2019 s\", \"word\": \"r\", \"slug\": null, \"description\": null, \"topic\": null, \"stars\": null}, {\"x\": -0.07978658378124237, \"y\": 0.03253895789384842, \"context\": \"p / sshtunnel experimental tracing framework for **python** on windows. cratedb is a distributed sql database\", \"tokens\": \"p / ss ##ht ##un ##nel experimental tracing framework for python on windows . crate ##db is a distributed sql database\", \"word\": \"python\", \"slug\": \"tpn/tracer\", \"description\": \"Experimental tracing framework for Python on Windows.\", \"topic\": 45.0, \"stars\": 6.0}, {\"x\": -0.05498405918478966, \"y\": -0.152511328458786, \"context\": \"dication initiative ( gpei ) coinbase repo **r** / o fork of libffcall with some\", \"tokens\": \"##dication initiative ( gp ##ei ) coin ##base rep ##o r / o fork of li ##bf ##fc ##all with some\", \"word\": \"r\", \"slug\": \"rurban/libffcall\", \"description\": \"r/o fork of libffcall with some fixes\", \"topic\": 1.0, \"stars\": 0.0}, {\"x\": -0.08011522889137268, \"y\": 0.02292240783572197, \"context\": \"mean example app for continuous integration praisestock android app **python** sdk for accessing qubole data service\", \"tokens\": \"mean example app for continuous integration praises ##tock android app python sd ##k for access ##ing qu ##bol ##e data service\", \"word\": \"python\", \"slug\": \"1msmith1/praisestock-android\", \"description\": \"Praisestock Android App\", \"topic\": 0.0, \"stars\": 0.0}, {\"x\": -0.07960826903581619, \"y\": 0.021362684667110443, \"context\": \"* * gpl number field sieve implementation simple **python** tool to create dataset for arrps.\", \"tokens\": \"* * gp ##l number field si ##eve implementation simple python tool to create data ##set for ar ##rp ##s .\", \"word\": \"python\", \"slug\": \"LucaCappelletti94/arrp\", \"description\": \"Simple python tool to create dataset for arrps.\", \"topic\": 0.0, \"stars\": 0.0}, {\"x\": -0.079521544277668, \"y\": 0.029460575431585312, \"context\": \"x. com ) my fork of stem, a **python** controller library for tor. ( old ) [ de\", \"tokens\": \"##x . com ) my fork of stem , a python controller library for tor . ( old ) [ de\", \"word\": \"python\", \"slug\": \"saturn597/stem\", \"description\": \"My fork of Stem, a Python controller library for Tor. (OLD)\", \"topic\": 2.0, \"stars\": 0.0}, {\"x\": -0.07870325446128845, \"y\": 0.03301337733864784, \"context\": \"restful rmr framework hdpy is a pure **python** implementation of hdp profile and mcap protocol.\", \"tokens\": \"rest ##ful rm ##r framework hd ##py is a pure python implementation of hd ##p profile and mca ##p protocol .\", \"word\": \"python\", \"slug\": \"Gottwik/enduro2\", \"description\": \"blazing fast and lightweight implementation of enduro :-)\", \"topic\": 5.0, \"stars\": 0.0}, {\"x\": -0.07842780649662018, \"y\": 0.024919580668210983, \"context\": \"for noob in this area. scoutapm **python** agent. supports django, flask, and\", \"tokens\": \"for no ##ob in this area . scout ##ap ##m python agent . supports dj ##ango , fl ##ask , and\", \"word\": \"python\", \"slug\": \"scoutapp/scout_apm_python\", \"description\": \"ScoutAPM Python Agent. Supports Django, Flask, and many other frameworks.\", \"topic\": 45.0, \"stars\": 17.0}, {\"x\": -0.04228884354233742, \"y\": -0.01744723878800869, \"context\": \"licacao veja este exemplo em **python** technical indicators repositorio de front-end\", \"tokens\": \"##lica ##cao ve ##ja este ex ##em ##pl ##o em python technical indicators rep ##osi ##tori ##o de front - end\", \"word\": \"python\", \"slug\": \"peipei-1220/Renko\", \"description\": \"Technical Indicators\", \"topic\": 0.0, \"stars\": 0.0}, {\"x\": -0.07664619386196136, \"y\": 0.030914006754755974, \"context\": \"7366 a simple business application platform. official **python** agent for auklet go mysql\", \"tokens\": \"##7 ##36 ##6 a simple business application platform . official python agent for au ##kle ##t go my ##s ##q ##l\", \"word\": \"python\", \"slug\": \"Geotab/mygeotab-python\", \"description\": \"An Apache2 Licensed, unofficial Python client for the MyGeotab API.\", \"topic\": 30.0, \"stars\": 10.0}, {\"x\": -0.03027041256427765, \"y\": -0.1490059345960617, \"context\": \"p / namebench tao frontend core components rhododendron a minimal linux runtime (\", \"tokens\": \"p / name ##ben ##ch tao front ##end core components r ##ho ##do ##den ##dron a minimal linux run ##time (\", \"word\": \"r\", \"slug\": \"AlexanLee/Rhododendron\", \"description\": \"Rhododendron\", \"topic\": 0.0, \"stars\": 0.0}, {\"x\": -0.07892373949289322, \"y\": 0.022804733365774155, \"context\": \"integration with several webtools services automated system for **python**-based experiments amkecpak, a make\", \"tokens\": \"integration with several web ##to ##ols services automated system for python - based experiments am ##ke ##cp ##ak , a make\", \"word\": \"python\", \"slug\": \"BBN-Q/Auspex\", \"description\": \"Automated system for python-based experiments\", \"topic\": 24.0, \"stars\": 11.0}, {\"x\": -0.07747597247362137, \"y\": 0.019823558628559113, \"context\": \"source code for all playfab sdks. **python** module containing system _ verilog files for black\", \"tokens\": \"source code for all play ##fa ##b sd ##ks . python module containing system _ ve ##ril ##og files for black\", \"word\": \"python\", \"slug\": \"litex-hub/pythondata-cpu-blackparrot\", \"description\": \"Python module containing system_verilog files for blackparrot cpu (for use with LiteX).\", \"topic\": 4.0, \"stars\": 1.0}, {\"x\": -0.07598327100276947, \"y\": 0.038800835609436035, \"context\": \"is a 100 % backwards compatible php port of the **python** based hosting scripts used at kunstmaan. by\", \"tokens\": \"is a 100 % backwards compatible php port of the python based hosting scripts used at kunst ##ma ##an . by\", \"word\": \"python\", \"slug\": \"Kunstmaan/skylab\", \"description\": \"Skylab is a 100% backwards compatible PHP port of the Python based hosting scripts used at Kunstmaan. By using the Cilex, Symfony Components and lot's of good code samples from the Composer project we hope to create an application where everyone in our organisation can work with, and if issues or new needed features should arise, be able to work on.\", \"topic\": 9.0, \"stars\": 16.0}, {\"x\": -0.04331754148006439, \"y\": -0.1755833476781845, \"context\": \"us rotation tracker system for drones ( uavs, rpas and fpv ). rust by example\", \"tokens\": \"##us rotation tracker system for drones ( ua ##vs , r ##pas and f ##p ##v ) . rust by example\", \"word\": \"r\", \"slug\": \"raul-ortega/u360gts\", \"description\": \"The Universal 360\\u00ba Continous Rotation Tracker System for Drones (UAVs, RPAs and FPV).\", \"topic\": 126.0, \"stars\": 35.0}, {\"x\": -0.0788918137550354, \"y\": 0.02436951734125614, \"context\": \"donations application for tracking donations. the app for community **python** wrapper for the mastodon ( https: /\", \"tokens\": \"donations application for tracking donations . the app for community python wrap ##per for the mast ##odon ( https : /\", \"word\": \"python\", \"slug\": null, \"description\": null, \"topic\": null, \"stars\": null}, {\"x\": -0.0777636393904686, \"y\": 0.019370604306459427, \"context\": \"luster. org currently rewriting supermap **python** sdk for cloud gis ( supermap\", \"tokens\": \"##lus ##ter . org currently re ##writing super ##ma ##p python sd ##k for cloud gi ##s ( super ##ma ##p\", \"word\": \"python\", \"slug\": \"pycontribs/pyrax\", \"description\": \"The Python SDK for the Rackspace Cloud\", \"topic\": 237.0, \"stars\": 218.0}, {\"x\": -0.07910692691802979, \"y\": 0.04038134589791298, \"context\": \"namebench pyntcloud is a **python** library for working with 3d point clouds. [UNK] [UNK]\", \"tokens\": \"name ##ben ##ch p ##yn ##tc ##lou ##d is a python library for working with 3d point clouds . [UNK] [UNK]\", \"word\": \"python\", \"slug\": \"ClearBlade/Go-SDK\", \"description\": \"A Go client library for working with the ClearBlade Platform\", \"topic\": 0.0, \"stars\": 1.0}, {\"x\": -0.07808463275432587, \"y\": 0.021856587380170822, \"context\": \"box localisation unbound with dnstap support **python** module for creating gdsii stream files, usually\", \"tokens\": \"##box local ##isation un ##bound with d ##nst ##ap support python module for creating g ##ds ##ii stream files , usually\", \"word\": \"python\", \"slug\": null, \"description\": null, \"topic\": null, \"stars\": null}, {\"x\": -0.07831288129091263, \"y\": 0.02503444440662861, \"context\": \". git test a command line tool and a **python** package to manipulate hydrodynamics meshes simple\", \"tokens\": \". gi ##t test a command line tool and a python package to manipulate hydro ##dy ##nami ##cs mesh ##es simple\", \"word\": \"python\", \"slug\": \"LHEEA/meshmagick\", \"description\": \"A command line tool and a python package to manipulate hydrodynamics meshes\", \"topic\": 24.0, \"stars\": 14.0}, {\"x\": -0.07971233129501343, \"y\": 0.020445847883820534, \"context\": \"'s mousetrap cross-application persistence service **python** wapi client [UNK] apache parquet for modern.\", \"tokens\": \"' s mouse ##tra ##p cross - application persistence service python wa ##pi client [UNK] apache par ##quet for modern .\", \"word\": \"python\", \"slug\": null, \"description\": null, \"topic\": null, \"stars\": null}, {\"x\": -0.07611177861690521, \"y\": 0.03684740886092186, \"context\": \"site, based on pinax, django and **python**. no code yet, take a look at the\", \"tokens\": \"site , based on pin ##ax , dj ##ango and python . no code yet , take a look at the\", \"word\": \"python\", \"slug\": \"alon/polinax\", \"description\": \"A political party site, based on Pinax, Django and Python. No code yet, take a look at the link below for research.\", \"topic\": 3.0, \"stars\": 0.0}, {\"x\": -0.07846500724554062, \"y\": 0.02512483112514019, \"context\": \"span support a lightweight state container based on redux **python** framework for processing universal dependencies data the core as\", \"tokens\": \"span support a lightweight state container based on red ##ux python framework for processing universal depend ##encies data the core as\", \"word\": \"python\", \"slug\": null, \"description\": null, \"topic\": null, \"stars\": null}, {\"x\": -0.07881729304790497, \"y\": 0.04267660900950432, \"context\": \"dependencies data the core asrt script written in **python** 3.# 35 semantico spring security oau\", \"tokens\": \"depend ##encies data the core as ##rt script written in python 3 . # 35 semantic ##o spring security o ##au\", \"word\": \"python\", \"slug\": null, \"description\": null, \"topic\": null, \"stars\": null}, {\"x\": -0.07922185212373734, \"y\": 0.038416262716054916, \"context\": \"sass at build time image processing application written in **python**, with a web ui written in flask [UNK]\", \"tokens\": \"sas ##s at build time image processing application written in python , with a web ui written in fl ##ask [UNK]\", \"word\": \"python\", \"slug\": \"BogdanKandra/image-tinkering\", \"description\": \"Image Processing Application written in Python, with a web UI written in Flask\", \"topic\": 0.0, \"stars\": 0.0}, {\"x\": -0.0589410625398159, \"y\": -0.14039349555969238, \"context\": \"supports almost all of the current scheme language standard, r5rs and includes many enhancements and extensions.\", \"tokens\": \"supports almost all of the current scheme language standard , r ##5 ##rs and includes many enhancement ##s and extensions .\", \"word\": \"r\", \"slug\": \"alaricsp/chicken-scheme\", \"description\": \"CHICKEN is a compiler for the Scheme programming language. CHICKEN produces portable, efficient C, supports almost all of the current Scheme language standard, R5RS and includes many enhancements and extensions. CHICKEN runs on MacOS X, Windows, and many Unix flavours.\", \"topic\": 103.0, \"stars\": 4.0}, {\"x\": -0.07914464175701141, \"y\": 0.02726225182414055, \"context\": \"of the typescript type definitions for here maps. **python** gui library devicehive java client library alsap\", \"tokens\": \"of the types ##cript type definitions for here maps . python gui library device ##hi ##ve java client library als ##ap\", \"word\": \"python\", \"slug\": \"amottola/slew\", \"description\": \"Python GUI library\", \"topic\": 0.0, \"stars\": 0.0}, {\"x\": -0.07708310335874557, \"y\": 0.0036581894382834435, \"context\": \"-ruby timezone library weather radar data processing-**python** package todo: back up songary / fire\", \"tokens\": \"- ruby time ##zone library weather radar data processing - python package tod ##o : back up song ##ary / fire\", \"word\": \"python\", \"slug\": \"wradlib/wradlib\", \"description\": \"weather radar data processing - python package\", \"topic\": 153.0, \"stars\": 57.0}, {\"x\": -0.07594062387943268, \"y\": 0.018708089366555214, \"context\": \"js release em testes para publicacao **python** tutorial to be given at ocnc re\", \"tokens\": \"j ##s release em test ##es para public ##aca ##o python tutor ##ial to be given at o ##c ##nc re\", \"word\": \"python\", \"slug\": \"tclose/OCNCPythonTutorial\", \"description\": \"Python tutorial to be given at OCNC\", \"topic\": 0.0, \"stars\": 0.0}, {\"x\": -0.07395560294389725, \"y\": 0.02691408433020115, \"context\": \"talk from kiwi pycon 2015 on why **python** is awesome-and some other languages are cool too\", \"tokens\": \"talk from ki ##wi p ##y ##con 2015 on why python is awesome - and some other languages are cool too\", \"word\": \"python\", \"slug\": \"software-opal/why-python-is-awesome\", \"description\": \"My talk from Kiwi Pycon 2015 on Why Python is awesome - and some other languages are cool too.\", \"topic\": 1.0, \"stars\": 0.0}, {\"x\": -0.07716663181781769, \"y\": 0.047074902802705765, \"context\": \"s is a multi-protocol chat bot written in **python**, designed with both the user and developer in mind\", \"tokens\": \"##s is a multi - protocol chat bot written in python , designed with both the user and developer in mind\", \"word\": \"python\", \"slug\": \"UltrosBot/Ultros\", \"description\": \"Connecting communities, one squid at a time! Ultros is a multi-protocol chat bot written in Python, designed with both the user and developer in mind\", \"topic\": 25.0, \"stars\": 7.0}, {\"x\": -0.07980142533779144, \"y\": 0.013358899392187595, \"context\": \"t cervical cancer screening competition on kaggle carto **python** package for data scientists yet another new parser for\", \"tokens\": \"##t cervical cancer screening competition on ka ##ggle cart ##o python package for data scientists yet another new par ##ser for\", \"word\": \"python\", \"slug\": \"CartoDB/cartoframes\", \"description\": \"CARTO Python package for data scientists\", \"topic\": 219.0, \"stars\": 54.0}, {\"x\": -0.07813648879528046, \"y\": 0.021958664059638977, \"context\": \"consultorio-sistema-admin / **python** jira library is the easiest way to automate\", \"tokens\": \"consult ##orio - sis ##tem ##a - ad ##min / python ji ##ra library is the easiest way to auto ##mate\", \"word\": \"python\", \"slug\": \"pycontribs/jira\", \"description\": \"Python JIRA Library is the easiest way to automate JIRA. Support for py27 was dropped on 2019-10-14, do not raise bugs related to it. \", \"topic\": 1370.0, \"stars\": 687.0}, {\"x\": -0.07803744822740555, \"y\": 0.02006925456225872, \"context\": \"nmt models suckless dwm repo **python** sdk for using gbdx. es un\", \"tokens\": \"##n ##mt models suck ##less d ##w ##m rep ##o python sd ##k for using gb ##d ##x . es un\", \"word\": \"python\", \"slug\": \"DigitalGlobe/gbdxtools\", \"description\": \"Python SDK for using GBDX.\", \"topic\": 75.0, \"stars\": 54.0}, {\"x\": -0.07413037866353989, \"y\": 0.01425293367356062, \"context\": \"b ( ruby ) template expressiveness sunpy-**python** for solar physics mirror of the official jsbsi\", \"tokens\": \"##b ( ruby ) template expressive ##ness sun ##py - python for solar physics mirror of the official j ##sb ##si\", \"word\": \"python\", \"slug\": \"sunpy/sunpy\", \"description\": \"SunPy - Python for Solar Physics\", \"topic\": 610.0, \"stars\": 451.0}, {\"x\": -0.05280844867229462, \"y\": -0.12565961480140686, \"context\": \"of the book: spatial microsimulation with **r** a chat site built on ror fork of upstream\", \"tokens\": \"of the book : spatial micro ##si ##mu ##lation with r a chat site built on ro ##r fork of upstream\", \"word\": \"r\", \"slug\": \"RaceFPV/livepost\", \"description\": \"A chat site built on RoR\", \"topic\": 3.0, \"stars\": 2.0}, {\"x\": -0.07903258502483368, \"y\": 0.026325205340981483, \"context\": \"no longer in development ) public transport network analysis using **python** [UNK] append-only log crdt on ip\", \"tokens\": \"no longer in development ) public transport network analysis using python [UNK] app ##end - only log cr ##dt on ip\", \"word\": \"python\", \"slug\": \"CxAalto/gtfspy\", \"description\": \"Public transport network analysis using Python \\ud83d\\ude8a\\ud83d\\ude87\\ud83d\\ude83\\ud83d\\ude8c\\ud83d\\udef3\\ufe0f\\ud83d\\udea1\\ud83d\\udea0\\ud83d\\ude9e  \", \"topic\": 109.0, \"stars\": 21.0}, {\"x\": -0.07981173694133759, \"y\": 0.027879856526851654, \"context\": \"for hack with linting and code migrations a **python** library for quantum programming using quil. an es\", \"tokens\": \"for hack with lin ##ting and code migration ##s a python library for quantum programming using qui ##l . an es\", \"word\": \"python\", \"slug\": \"rigetti/pyquil\", \"description\": \"A Python library for quantum programming using Quil.\", \"topic\": 1180.0, \"stars\": 311.0}, {\"x\": -0.03064531646668911, \"y\": -0.01947461999952793, \"context\": \"[UNK] [UNK] [UNK] \\uff0c [UNK] [UNK] [UNK] [UNK] [UNK] [UNK] **python** [UNK] [UNK] \\uff0c [UNK] [UNK] [UNK] [UNK] [UNK] [UNK] java\", \"tokens\": \"[UNK] [UNK] [UNK] \\uff0c [UNK] [UNK] [UNK] [UNK] [UNK] [UNK] python [UNK] [UNK] \\uff0c [UNK] [UNK] [UNK] [UNK] [UNK] [UNK] java\", \"word\": \"python\", \"slug\": \"bulletcaptain/Algrithm\", \"description\": \"python\\u6392\\u5e8f\\u7b97\\u6cd5\", \"topic\": 0.0, \"stars\": 0.0}, {\"x\": -0.06020798534154892, \"y\": -0.1250040978193283, \"context\": \"a high-performance, java based, open source rpc framework [UNK] [UNK] [UNK] [UNK] \\uff1a http: /\", \"tokens\": \"a high - performance , java based , open source r ##pc framework [UNK] [UNK] [UNK] [UNK] \\uff1a http : /\", \"word\": \"r\", \"slug\": \"JeffreySu/WeiXinMPSDK\", \"description\": \"\\u5fae\\u4fe1\\u516c\\u4f17\\u5e73\\u53f0SDK Senparc.Weixin for C#\\uff0c\\u652f\\u6301.NET Framework\\u53ca.NET Core\\u3002\\u5df2\\u652f\\u6301\\u5fae\\u4fe1\\u516c\\u4f17\\u53f7\\u3001\\u5c0f\\u7a0b\\u5e8f\\u3001\\u5c0f\\u6e38\\u620f\\u3001\\u4f01\\u4e1a\\u53f7\\u3001\\u4f01\\u4e1a\\u5fae\\u4fe1\\u3001\\u5f00\\u653e\\u5e73\\u53f0\\u3001\\u5fae\\u4fe1\\u652f\\u4ed8\\u3001JSSDK\\u3001\\u5fae\\u4fe1\\u5468\\u8fb9\\u7b49\\u5168\\u5e73\\u53f0\\u3002 WeChat SDK for C#.\", \"topic\": 6844.0, \"stars\": 4091.0}, {\"x\": -0.03653917461633682, \"y\": -0.023876706138253212, \"context\": \"[UNK] [UNK] [UNK] [UNK] [UNK] \\u5e73 [UNK] \\uff0c [UNK] [UNK] **python** \\u3001 nodejs \\u3001 go \\u3001 java \\u3001 php [UNK]\", \"tokens\": \"[UNK] [UNK] [UNK] [UNK] [UNK] \\u5e73 [UNK] \\uff0c [UNK] [UNK] python \\u3001 node ##js \\u3001 go \\u3001 java \\u3001 php [UNK]\", \"word\": \"python\", \"slug\": \"wyfish/crawlab_go\", \"description\": \"\\u57fa\\u4e8eGolang\\u7684\\u5206\\u5e03\\u5f0f\\u722c\\u866b\\u7ba1\\u7406\\u5e73\\u53f0\\uff0c\\u652f\\u6301Python\\u3001NodeJS\\u3001Go\\u3001Java\\u3001PHP\\u7b49\\u591a\\u79cd\\u7f16\\u7a0b\\u8bed\\u8a00\\u4ee5\\u53ca\\u591a\\u79cd\\u722c\\u866b\\u6846\\u67b6\\u3002\", \"topic\": 3.0, \"stars\": 1.0}, {\"x\": -0.054417237639427185, \"y\": -0.1459486186504364, \"context\": \". com / p / freetuxtv an **r** package for the quantitative analysis of textual data one-\", \"tokens\": \". com / p / free ##tu ##xt ##v an r package for the quantitative analysis of textual data one -\", \"word\": \"r\", \"slug\": \"quanteda/quanteda\", \"description\": \"An R package for the Quantitative Analysis of Textual Data\", \"topic\": 673.0, \"stars\": 164.0}, {\"x\": -0.07793767750263214, \"y\": 0.022356204688549042, \"context\": \"85856 / leetcode. git **python** package for digitizing pollen diagrams mujin controller **python**\", \"tokens\": \"##85 ##85 ##6 / lee ##tc ##ode . gi ##t python package for digit ##izing pollen diagrams mu ##jin controller python\", \"word\": \"python\", \"slug\": \"Chilipp/straditize\", \"description\": \"Python package for digitizing pollen diagrams\", \"topic\": 13.0, \"stars\": 3.0}, {\"x\": -0.07906674593687057, \"y\": 0.012402270920574665, \"context\": \"**python** package for digitizing pollen diagrams mujin controller **python** client embed player eagleeye web client a mood\", \"tokens\": \"python package for digit ##izing pollen diagrams mu ##jin controller python client em ##bed player eagle ##eye web client a mood\", \"word\": \"python\", \"slug\": \"mujin/mujincontrollerclientpy\", \"description\": \"MUJIN Controller Python Client\", \"topic\": 8.0, \"stars\": 8.0}, {\"x\": -0.07745477557182312, \"y\": 0.023780444636940956, \"context\": \"against corruption. time-resolved spectroscopy toolbox for **python** automatically exported from code. google. com / p\", \"tokens\": \"against corruption . time - resolved spectroscopy tool ##box for python automatically exported from code . google . com / p\", \"word\": \"python\", \"slug\": \"Tillsten/skultrafast\", \"description\": \"Time-resolved spectroscopy toolbox for python\", \"topic\": 8.0, \"stars\": 3.0}, {\"x\": -0.07880757749080658, \"y\": 0.027121001854538918, \"context\": \"east scarborough storefront calendar by team nettilling **python** asn. 1 library with a focus on performance\", \"tokens\": \"east scarborough store ##front calendar by team net ##till ##ing python as ##n . 1 library with a focus on performance\", \"word\": \"python\", \"slug\": null, \"description\": null, \"topic\": null, \"stars\": null}, {\"x\": -0.07530322670936584, \"y\": 0.03538891673088074, \"context\": \". 1 library with a focus on performance and a pythonic api event base activity coordinator website for twr\", \"tokens\": \". 1 library with a focus on performance and a python ##ic api event base activity coordinator website for t ##wr\", \"word\": \"python\", \"slug\": null, \"description\": null, \"topic\": null, \"stars\": null}, {\"x\": -0.07977217435836792, \"y\": 0.038159094750881195, \"context\": \"restful, audiovisual api a set of **python** tools for building closed-loop insulin delivery apps (\", \"tokens\": \"rest ##ful , audio ##vis ##ual api a set of python tools for building closed - loop insulin delivery apps (\", \"word\": \"python\", \"slug\": \"bappogroup/bappo-open\", \"description\": \"Cross-platform React components for building Bappo apps\", \"topic\": 2.0, \"stars\": 1.0}, {\"x\": -0.08014952391386032, \"y\": 0.02793990820646286, \"context\": \"tools for building closed-loop insulin delivery apps ( **python** port of loopkit ) c + + simulation airline\", \"tokens\": \"tools for building closed - loop insulin delivery apps ( python port of loop ##kit ) c + + simulation airline\", \"word\": \"python\", \"slug\": \"tidepool-org/PyLoopKit\", \"description\": \"A set of Python tools for building closed-loop insulin delivery apps (Python port of LoopKit)\", \"topic\": 6.0, \"stars\": 5.0}, {\"x\": -0.07864870876073837, \"y\": 0.02777690999209881, \"context\": \"a hacked up version of suds to work with python3. automatically exported from code. google. com\", \"tokens\": \"a hacked up version of sud ##s to work with python ##3 . automatically exported from code . google . com\", \"word\": \"python\", \"slug\": null, \"description\": null, \"topic\": null, \"stars\": null}, {\"x\": -0.07714461535215378, \"y\": 0.03527960181236267, \"context\": \"library of on-demand deepstream pipeline services for **python** and c / c + + automatically exported from code\", \"tokens\": \"library of on - demand deep ##stream pipeline services for python and c / c + + automatically exported from code\", \"word\": \"python\", \"slug\": \"canammex-tech/deepstream-services-library\", \"description\": \"A shared library of on-demand DeepStream Pipeline Services for Python and C/C++\", \"topic\": 55.0, \"stars\": 16.0}, {\"x\": -0.05862348899245262, \"y\": -0.14278748631477356, \"context\": \"pyscard debug scatter implementation in **r**. argus static analysis framework cute puzzle platformer starring\", \"tokens\": \"p ##ys ##card de ##bu ##g sc ##atter implementation in r . argus static analysis framework cute puzzle platform ##er starring\", \"word\": \"r\", \"slug\": null, \"description\": null, \"topic\": null, \"stars\": null}, {\"x\": -0.0771874263882637, \"y\": 0.015887191519141197, \"context\": \"post-apocalyptic earth indx server django + **python** + mysql + redis + dock\", \"tokens\": \"post - apocalyptic earth ind ##x server dj ##ango + python + my ##s ##q ##l + red ##is + dock\", \"word\": \"python\", \"slug\": \"a1401358759/my_site\", \"description\": \"Django + Python + MySQL + Redis + Docker + Supervisor \\u642d\\u5efa\\u7684\\u4e2a\\u4eba\\u535a\\u5ba2\", \"topic\": 40.0, \"stars\": 6.0}, {\"x\": -0.07889402657747269, \"y\": 0.026041723787784576, \"context\": \"otypes using the avida digital evolution platform. **python** logging handler for graylog that sends messages in gel\", \"tokens\": \"##otype ##s using the avid ##a digital evolution platform . python logging handler for gray ##log that sends messages in gel\", \"word\": \"python\", \"slug\": null, \"description\": null, \"topic\": null, \"stars\": null}, {\"x\": -0.07827921211719513, \"y\": 0.03237323835492134, \"context\": \"django app that creates automatic web uis for **python** scripts. vts registry. ma presentation \\\"j\", \"tokens\": \"dj ##ango app that creates automatic web ui ##s for python scripts . vt ##s registry . ma presentation \\\" j\", \"word\": \"python\", \"slug\": null, \"description\": null, \"topic\": null, \"stars\": null}, {\"x\": -0.0685032531619072, \"y\": 0.007430905010551214, \"context\": \"swift binary protocol client libraries a retro game engine for **python** a wordpress plugin to parse gutenberg\", \"tokens\": \"swift binary protocol client libraries a retro game engine for python a word ##press plug ##in to par ##se gut ##enberg\", \"word\": \"python\", \"slug\": \"kitao/pyxel\", \"description\": \"A retro game engine for Python\", \"topic\": 8277.0, \"stars\": 527.0}, {\"x\": -0.07933997362852097, \"y\": 0.03555990755558014, \"context\": \"a powerful spider ( web crawler ) system in **python**. a scratch pad repository to track efforts to produce\", \"tokens\": \"a powerful spider ( web crawl ##er ) system in python . a scratch pad repository to track efforts to produce\", \"word\": \"python\", \"slug\": \"chcosta/source-build\", \"description\": \"A scratch pad repository to track efforts to produce a source tarball of the .NET Core CLI and all its components\", \"topic\": 0.0, \"stars\": 0.0}, {\"x\": -0.07158007472753525, \"y\": 0.008122791536152363, \"context\": \"qp data; pytrx is a **python** object-oriented programme created for the purpose of calculating\", \"tokens\": \"##q ##p data ; p ##yt ##r ##x is a python object - oriented programme created for the purpose of calculating\", \"word\": \"python\", \"slug\": \"PennyHow/PyTrx\", \"description\": \"PyTrx is a Python object-oriented programme created for the purpose of calculating real-world measurements from oblique images and time-lapse image series. Its primary purpose is to obtain velocities, surface areas, and distances from oblique, optical imagery of glacial environments.\", \"topic\": 19.0, \"stars\": 12.0}, {\"x\": -0.0765930786728859, \"y\": 0.03867233544588089, \"context\": \"library a c + + library ( bindings for **python** and c# ) for interfacing with the\", \"tokens\": \"library a c + + library ( binding ##s for python and c # ) for inter ##fa ##cing with the\", \"word\": \"python\", \"slug\": \"analogdevicesinc/libm2k\", \"description\": \"A C++ library (bindings for Python and C#) for interfacing with the ADALM2000\", \"topic\": 16.0, \"stars\": 18.0}, {\"x\": -0.07760261744260788, \"y\": 0.04511008784174919, \"context\": \"is is a high-performance fake data generator for **python**, which provides data for a variety of purposes in\", \"tokens\": \"##is is a high - performance fake data generator for python , which provides data for a variety of purposes in\", \"word\": \"python\", \"slug\": \"lk-geimfari/mimesis\", \"description\": \"Mimesis is a high-performance fake data generator for Python, which provides data for a variety of purposes in a variety of languages.\", \"topic\": 3318.0, \"stars\": 275.0}]}}, {\"mode\": \"vega-lite\"});\n",
       "</script>"
      ],
      "text/plain": [
       "alt.Chart(...)"
      ]
     },
     "execution_count": 94,
     "metadata": {},
     "output_type": "execute_result"
    }
   ],
   "source": [
    "\n",
    "# Rename columns so that the context shows up as the \"title\" in the tooltip (bigger and bolded)\n",
    "#df = df.rename(columns={'slug': 'repo_slug', 'context': 'description'})\n",
    "\n",
    "# Make the plot\n",
    "alt.Chart(df, title=f\"Word Similarity: Python, R\").mark_circle(size=200).encode(\n",
    "    alt.X('x',\n",
    "        scale=alt.Scale(zero=False)\n",
    "    ), y=\"y\",\n",
    "    color= color_by,\n",
    "    #href=\"link\",\n",
    "    tooltip=['slug', 'description', 'topic', 'stars']\n",
    "    ).interactive().properties(\n",
    "    width=500,\n",
    "    height=500\n",
    ")"
   ]
  },
  {
   "cell_type": "code",
   "execution_count": null,
   "metadata": {},
   "outputs": [],
   "source": []
  }
 ],
 "metadata": {
  "kernelspec": {
   "display_name": "Python [conda env:.conda-crystal_bert]",
   "language": "python",
   "name": "conda-env-.conda-crystal_bert-py"
  },
  "language_info": {
   "codemirror_mode": {
    "name": "ipython",
    "version": 3
   },
   "file_extension": ".py",
   "mimetype": "text/x-python",
   "name": "python",
   "nbconvert_exporter": "python",
   "pygments_lexer": "ipython3",
   "version": "3.8.10"
  }
 },
 "nbformat": 4,
 "nbformat_minor": 4
}
