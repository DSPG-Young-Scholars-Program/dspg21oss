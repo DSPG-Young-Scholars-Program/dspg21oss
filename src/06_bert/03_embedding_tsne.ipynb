{
 "cells": [
  {
   "cell_type": "markdown",
   "metadata": {},
   "source": [
    "# PCA on embeddings\n"
   ]
  },
  {
   "cell_type": "code",
   "execution_count": 42,
   "metadata": {},
   "outputs": [
    {
     "name": "stdin",
     "output_type": "stream",
     "text": [
      "Once deleted, variables cannot be recovered. Proceed (y/[n])?  y\n"
     ]
    }
   ],
   "source": [
    "%reset"
   ]
  },
  {
   "cell_type": "code",
   "execution_count": 47,
   "metadata": {},
   "outputs": [],
   "source": [
    "#pgadmin\n",
    "import os\n",
    "\n",
    "import pandas as pd\n",
    "import numpy as np\n",
    "\n",
    "from sklearn.decomposition import PCA\n",
    "from sklearn.manifold import TSNE\n",
    "\n",
    "import datetime"
   ]
  },
  {
   "cell_type": "code",
   "execution_count": 44,
   "metadata": {},
   "outputs": [
    {
     "data": {
      "text/html": [
       "<div>\n",
       "<style scoped>\n",
       "    .dataframe tbody tr th:only-of-type {\n",
       "        vertical-align: middle;\n",
       "    }\n",
       "\n",
       "    .dataframe tbody tr th {\n",
       "        vertical-align: top;\n",
       "    }\n",
       "\n",
       "    .dataframe thead th {\n",
       "        text-align: right;\n",
       "    }\n",
       "</style>\n",
       "<table border=\"1\" class=\"dataframe\">\n",
       "  <thead>\n",
       "    <tr style=\"text-align: right;\">\n",
       "      <th></th>\n",
       "      <th>slug</th>\n",
       "      <th>description</th>\n",
       "    </tr>\n",
       "  </thead>\n",
       "  <tbody>\n",
       "    <tr>\n",
       "      <th>0</th>\n",
       "      <td>vuejs/vue</td>\n",
       "      <td>Vue js is a progressive  incrementally adopt...</td>\n",
       "    </tr>\n",
       "    <tr>\n",
       "      <th>1</th>\n",
       "      <td>facebook/react</td>\n",
       "      <td>A declarative  efficient  and flexible JavaScr...</td>\n",
       "    </tr>\n",
       "    <tr>\n",
       "      <th>2</th>\n",
       "      <td>tensorflow/tensorflow</td>\n",
       "      <td>An Open Source Machine Learning Framework for ...</td>\n",
       "    </tr>\n",
       "    <tr>\n",
       "      <th>3</th>\n",
       "      <td>twbs/bootstrap</td>\n",
       "      <td>The most popular HTML  CSS  and JavaScript fra...</td>\n",
       "    </tr>\n",
       "    <tr>\n",
       "      <th>4</th>\n",
       "      <td>ohmyzsh/ohmyzsh</td>\n",
       "      <td>A delightful community driven  with 1700  c...</td>\n",
       "    </tr>\n",
       "    <tr>\n",
       "      <th>...</th>\n",
       "      <td>...</td>\n",
       "      <td>...</td>\n",
       "    </tr>\n",
       "    <tr>\n",
       "      <th>157533</th>\n",
       "      <td>VeryLittleGravitas/CDTADPQ</td>\n",
       "      <td>Very Little Gravitas implementation of Prototy...</td>\n",
       "    </tr>\n",
       "    <tr>\n",
       "      <th>157534</th>\n",
       "      <td>dajinchu/kde-connect-android</td>\n",
       "      <td>For Google Code In</td>\n",
       "    </tr>\n",
       "    <tr>\n",
       "      <th>157535</th>\n",
       "      <td>LibrinnoTeam/LibraryHelpBot</td>\n",
       "      <td>Library Management System  ITP2 project</td>\n",
       "    </tr>\n",
       "    <tr>\n",
       "      <th>157536</th>\n",
       "      <td>Twissi/Animator</td>\n",
       "      <td>Animator for hacklace  See hacklace org for fu...</td>\n",
       "    </tr>\n",
       "    <tr>\n",
       "      <th>157537</th>\n",
       "      <td>WisapeAgency/WisapeAndroid</td>\n",
       "      <td>Wisape Android</td>\n",
       "    </tr>\n",
       "  </tbody>\n",
       "</table>\n",
       "<p>155811 rows × 2 columns</p>\n",
       "</div>"
      ],
      "text/plain": [
       "                                slug  \\\n",
       "0                          vuejs/vue   \n",
       "1                     facebook/react   \n",
       "2              tensorflow/tensorflow   \n",
       "3                     twbs/bootstrap   \n",
       "4                    ohmyzsh/ohmyzsh   \n",
       "...                              ...   \n",
       "157533    VeryLittleGravitas/CDTADPQ   \n",
       "157534  dajinchu/kde-connect-android   \n",
       "157535   LibrinnoTeam/LibraryHelpBot   \n",
       "157536               Twissi/Animator   \n",
       "157537    WisapeAgency/WisapeAndroid   \n",
       "\n",
       "                                              description  \n",
       "0         Vue js is a progressive  incrementally adopt...  \n",
       "1       A declarative  efficient  and flexible JavaScr...  \n",
       "2       An Open Source Machine Learning Framework for ...  \n",
       "3       The most popular HTML  CSS  and JavaScript fra...  \n",
       "4          A delightful community driven  with 1700  c...  \n",
       "...                                                   ...  \n",
       "157533  Very Little Gravitas implementation of Prototy...  \n",
       "157534                                 For Google Code In  \n",
       "157535            Library Management System  ITP2 project  \n",
       "157536  Animator for hacklace  See hacklace org for fu...  \n",
       "157537                                     Wisape Android  \n",
       "\n",
       "[155811 rows x 2 columns]"
      ]
     },
     "execution_count": 44,
     "metadata": {},
     "output_type": "execute_result"
    }
   ],
   "source": [
    "repo_data = pd.read_csv(\"/home/zz3hs/git/dspg21oss/data/dspg21oss/clean_github_repos_157k.csv\")\n",
    "repo_data = repo_data[repo_data.description.notnull()]\n",
    "repo_data"
   ]
  },
  {
   "cell_type": "code",
   "execution_count": 45,
   "metadata": {},
   "outputs": [],
   "source": [
    "data = np.load('repo_description_embeddings.npy')"
   ]
  },
  {
   "cell_type": "code",
   "execution_count": 46,
   "metadata": {},
   "outputs": [
    {
     "data": {
      "text/plain": [
       "(155811, 768)"
      ]
     },
     "execution_count": 46,
     "metadata": {},
     "output_type": "execute_result"
    }
   ],
   "source": [
    "data.shape"
   ]
  },
  {
   "cell_type": "markdown",
   "metadata": {},
   "source": [
    "# PCA"
   ]
  },
  {
   "cell_type": "code",
   "execution_count": 8,
   "metadata": {},
   "outputs": [
    {
     "data": {
      "text/plain": [
       "PCA(n_components=3)"
      ]
     },
     "execution_count": 8,
     "metadata": {},
     "output_type": "execute_result"
    }
   ],
   "source": [
    "pca = PCA(n_components=3)\n",
    "pca.fit(data)"
   ]
  },
  {
   "cell_type": "code",
   "execution_count": 11,
   "metadata": {},
   "outputs": [
    {
     "data": {
      "text/plain": [
       "array([0.33285487, 0.26511654, 0.246989  ])"
      ]
     },
     "execution_count": 11,
     "metadata": {},
     "output_type": "execute_result"
    }
   ],
   "source": [
    "#percent of variance explained in each pc\n",
    "pca.explained_variance_"
   ]
  },
  {
   "cell_type": "code",
   "execution_count": 21,
   "metadata": {},
   "outputs": [
    {
     "name": "stdout",
     "output_type": "stream",
     "text": [
      "PCA(n_components=3)\n"
     ]
    }
   ],
   "source": [
    "print(pca)"
   ]
  },
  {
   "cell_type": "markdown",
   "metadata": {},
   "source": [
    "# TSNE"
   ]
  },
  {
   "cell_type": "code",
   "execution_count": 48,
   "metadata": {},
   "outputs": [],
   "source": [
    "tsne_model = TSNE(n_components=3,perplexity = 30,n_iter=3500, init='pca', random_state=1)"
   ]
  },
  {
   "cell_type": "code",
   "execution_count": null,
   "metadata": {},
   "outputs": [
    {
     "name": "stdout",
     "output_type": "stream",
     "text": [
      "Start: 2021-07-27 21:04:42.006676\n"
     ]
    }
   ],
   "source": [
    "t1 = datetime.datetime.now()\n",
    "print(\"Start:\", t1)\n",
    "\n",
    "tsne_embedding = tsne_model.fit_transform(data)\n",
    "\n",
    "t2 =  datetime.datetime.now()\n",
    "print(\"Finished\", len(result), \"descriptions at\", t2)\n",
    "print(\"It took\", t2-t1, \"to run.\")"
   ]
  },
  {
   "cell_type": "code",
   "execution_count": null,
   "metadata": {},
   "outputs": [],
   "source": [
    "type(tsne_embedding)"
   ]
  },
  {
   "cell_type": "code",
   "execution_count": null,
   "metadata": {},
   "outputs": [],
   "source": [
    "tsne_embedding.shape"
   ]
  },
  {
   "cell_type": "code",
   "execution_count": null,
   "metadata": {},
   "outputs": [],
   "source": [
    "embedding_df = pd.DataFrame({'x': tsne_embedding[:, 0], 'y': tsne_embedding[:, 1], 'z' : tsne_embedding[:,2]})"
   ]
  },
  {
   "cell_type": "code",
   "execution_count": null,
   "metadata": {},
   "outputs": [],
   "source": [
    "embedding_df"
   ]
  },
  {
   "cell_type": "code",
   "execution_count": null,
   "metadata": {},
   "outputs": [],
   "source": [
    "repo_data[\"x\"] = embedding_df.x\n",
    "repo_data[\"y\"] = embedding_df.y\n",
    "repo_data[\"z\"] = embedding_df.z"
   ]
  },
  {
   "cell_type": "code",
   "execution_count": null,
   "metadata": {},
   "outputs": [],
   "source": [
    "repo_data.to_csv(\"/home/zz3hs/git/dspg21oss/data/dspg21oss/repo_embedding_3d.csv\", index = False)"
   ]
  },
  {
   "cell_type": "code",
   "execution_count": null,
   "metadata": {},
   "outputs": [],
   "source": []
  }
 ],
 "metadata": {
  "kernelspec": {
   "display_name": "Python [conda env:.conda-crystal_bert]",
   "language": "python",
   "name": "conda-env-.conda-crystal_bert-py"
  },
  "language_info": {
   "codemirror_mode": {
    "name": "ipython",
    "version": 3
   },
   "file_extension": ".py",
   "mimetype": "text/x-python",
   "name": "python",
   "nbconvert_exporter": "python",
   "pygments_lexer": "ipython3",
   "version": "3.8.10"
  }
 },
 "nbformat": 4,
 "nbformat_minor": 4
}
