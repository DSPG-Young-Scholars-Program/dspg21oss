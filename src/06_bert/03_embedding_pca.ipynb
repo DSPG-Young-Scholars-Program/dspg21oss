{
 "cells": [
  {
   "cell_type": "markdown",
   "metadata": {},
   "source": [
    "# PCA on embeddings\n"
   ]
  },
  {
   "cell_type": "code",
   "execution_count": 25,
   "metadata": {},
   "outputs": [
    {
     "name": "stdin",
     "output_type": "stream",
     "text": [
      "Once deleted, variables cannot be recovered. Proceed (y/[n])?  y\n"
     ]
    }
   ],
   "source": [
    "%reset"
   ]
  },
  {
   "cell_type": "code",
   "execution_count": 26,
   "metadata": {},
   "outputs": [],
   "source": [
    "#pgadmin\n",
    "import os\n",
    "\n",
    "import pandas as pd\n",
    "import numpy as np\n",
    "\n",
    "from sklearn.decomposition import PCA\n",
    "from sklearn.manifold import TSNE\n",
    "\n",
    "import datetime"
   ]
  },
  {
   "cell_type": "code",
   "execution_count": 27,
   "metadata": {},
   "outputs": [
    {
     "data": {
      "text/html": [
       "<div>\n",
       "<style scoped>\n",
       "    .dataframe tbody tr th:only-of-type {\n",
       "        vertical-align: middle;\n",
       "    }\n",
       "\n",
       "    .dataframe tbody tr th {\n",
       "        vertical-align: top;\n",
       "    }\n",
       "\n",
       "    .dataframe thead th {\n",
       "        text-align: right;\n",
       "    }\n",
       "</style>\n",
       "<table border=\"1\" class=\"dataframe\">\n",
       "  <thead>\n",
       "    <tr style=\"text-align: right;\">\n",
       "      <th></th>\n",
       "      <th>slug</th>\n",
       "      <th>description</th>\n",
       "    </tr>\n",
       "  </thead>\n",
       "  <tbody>\n",
       "    <tr>\n",
       "      <th>0</th>\n",
       "      <td>vuejs/vue</td>\n",
       "      <td>Vue js is a progressive  incrementally adopt...</td>\n",
       "    </tr>\n",
       "    <tr>\n",
       "      <th>1</th>\n",
       "      <td>facebook/react</td>\n",
       "      <td>A declarative  efficient  and flexible JavaScr...</td>\n",
       "    </tr>\n",
       "    <tr>\n",
       "      <th>2</th>\n",
       "      <td>tensorflow/tensorflow</td>\n",
       "      <td>An Open Source Machine Learning Framework for ...</td>\n",
       "    </tr>\n",
       "    <tr>\n",
       "      <th>3</th>\n",
       "      <td>twbs/bootstrap</td>\n",
       "      <td>The most popular HTML  CSS  and JavaScript fra...</td>\n",
       "    </tr>\n",
       "    <tr>\n",
       "      <th>4</th>\n",
       "      <td>ohmyzsh/ohmyzsh</td>\n",
       "      <td>A delightful community driven  with 1700  c...</td>\n",
       "    </tr>\n",
       "    <tr>\n",
       "      <th>...</th>\n",
       "      <td>...</td>\n",
       "      <td>...</td>\n",
       "    </tr>\n",
       "    <tr>\n",
       "      <th>157533</th>\n",
       "      <td>VeryLittleGravitas/CDTADPQ</td>\n",
       "      <td>Very Little Gravitas implementation of Prototy...</td>\n",
       "    </tr>\n",
       "    <tr>\n",
       "      <th>157534</th>\n",
       "      <td>dajinchu/kde-connect-android</td>\n",
       "      <td>For Google Code In</td>\n",
       "    </tr>\n",
       "    <tr>\n",
       "      <th>157535</th>\n",
       "      <td>LibrinnoTeam/LibraryHelpBot</td>\n",
       "      <td>Library Management System  ITP2 project</td>\n",
       "    </tr>\n",
       "    <tr>\n",
       "      <th>157536</th>\n",
       "      <td>Twissi/Animator</td>\n",
       "      <td>Animator for hacklace  See hacklace org for fu...</td>\n",
       "    </tr>\n",
       "    <tr>\n",
       "      <th>157537</th>\n",
       "      <td>WisapeAgency/WisapeAndroid</td>\n",
       "      <td>Wisape Android</td>\n",
       "    </tr>\n",
       "  </tbody>\n",
       "</table>\n",
       "<p>155811 rows × 2 columns</p>\n",
       "</div>"
      ],
      "text/plain": [
       "                                slug  \\\n",
       "0                          vuejs/vue   \n",
       "1                     facebook/react   \n",
       "2              tensorflow/tensorflow   \n",
       "3                     twbs/bootstrap   \n",
       "4                    ohmyzsh/ohmyzsh   \n",
       "...                              ...   \n",
       "157533    VeryLittleGravitas/CDTADPQ   \n",
       "157534  dajinchu/kde-connect-android   \n",
       "157535   LibrinnoTeam/LibraryHelpBot   \n",
       "157536               Twissi/Animator   \n",
       "157537    WisapeAgency/WisapeAndroid   \n",
       "\n",
       "                                              description  \n",
       "0         Vue js is a progressive  incrementally adopt...  \n",
       "1       A declarative  efficient  and flexible JavaScr...  \n",
       "2       An Open Source Machine Learning Framework for ...  \n",
       "3       The most popular HTML  CSS  and JavaScript fra...  \n",
       "4          A delightful community driven  with 1700  c...  \n",
       "...                                                   ...  \n",
       "157533  Very Little Gravitas implementation of Prototy...  \n",
       "157534                                 For Google Code In  \n",
       "157535            Library Management System  ITP2 project  \n",
       "157536  Animator for hacklace  See hacklace org for fu...  \n",
       "157537                                     Wisape Android  \n",
       "\n",
       "[155811 rows x 2 columns]"
      ]
     },
     "execution_count": 27,
     "metadata": {},
     "output_type": "execute_result"
    }
   ],
   "source": [
    "repo_data = pd.read_csv(\"/home/zz3hs/git/dspg21oss/data/dspg21oss/clean_github_repos_157k.csv\")\n",
    "repo_data = repo_data[repo_data.description.notnull()]\n",
    "repo_data"
   ]
  },
  {
   "cell_type": "code",
   "execution_count": 28,
   "metadata": {},
   "outputs": [],
   "source": [
    "data = np.load('repo_description_embeddings.npy')"
   ]
  },
  {
   "cell_type": "code",
   "execution_count": 29,
   "metadata": {},
   "outputs": [
    {
     "data": {
      "text/plain": [
       "(155811, 768)"
      ]
     },
     "execution_count": 29,
     "metadata": {},
     "output_type": "execute_result"
    }
   ],
   "source": [
    "data.shape"
   ]
  },
  {
   "cell_type": "markdown",
   "metadata": {},
   "source": [
    "# PCA"
   ]
  },
  {
   "cell_type": "code",
   "execution_count": 30,
   "metadata": {},
   "outputs": [
    {
     "data": {
      "text/plain": [
       "PCA(n_components=3)"
      ]
     },
     "execution_count": 30,
     "metadata": {},
     "output_type": "execute_result"
    }
   ],
   "source": [
    "pca = PCA(n_components=3)\n",
    "pca.fit(data)"
   ]
  },
  {
   "cell_type": "code",
   "execution_count": 31,
   "metadata": {},
   "outputs": [
    {
     "data": {
      "text/plain": [
       "array([0.33285504, 0.26511674, 0.24698674])"
      ]
     },
     "execution_count": 31,
     "metadata": {},
     "output_type": "execute_result"
    }
   ],
   "source": [
    "#percent of variance explained in each pc\n",
    "pca.explained_variance_"
   ]
  },
  {
   "cell_type": "code",
   "execution_count": 32,
   "metadata": {},
   "outputs": [],
   "source": [
    "pca_embedding = pca.fit_transform(data)"
   ]
  },
  {
   "cell_type": "code",
   "execution_count": 33,
   "metadata": {},
   "outputs": [
    {
     "data": {
      "text/plain": [
       "(155811, 3)"
      ]
     },
     "execution_count": 33,
     "metadata": {},
     "output_type": "execute_result"
    }
   ],
   "source": [
    "pca_embedding.shape"
   ]
  },
  {
   "cell_type": "code",
   "execution_count": 34,
   "metadata": {},
   "outputs": [],
   "source": [
    "embedding_df = pd.DataFrame({'x': pca_embedding[:, 0], 'y': pca_embedding[:, 1], 'z' : pca_embedding[:,2]})"
   ]
  },
  {
   "cell_type": "code",
   "execution_count": 35,
   "metadata": {},
   "outputs": [],
   "source": [
    "repo_data[\"x\"] = embedding_df.x\n",
    "repo_data[\"y\"] = embedding_df.y\n",
    "repo_data[\"z\"] = embedding_df.z"
   ]
  },
  {
   "cell_type": "code",
   "execution_count": 41,
   "metadata": {},
   "outputs": [],
   "source": [
    "repo_data_out = repo_data[repo_data.x.notnull()]"
   ]
  },
  {
   "cell_type": "code",
   "execution_count": 42,
   "metadata": {},
   "outputs": [
    {
     "data": {
      "text/html": [
       "<div>\n",
       "<style scoped>\n",
       "    .dataframe tbody tr th:only-of-type {\n",
       "        vertical-align: middle;\n",
       "    }\n",
       "\n",
       "    .dataframe tbody tr th {\n",
       "        vertical-align: top;\n",
       "    }\n",
       "\n",
       "    .dataframe thead th {\n",
       "        text-align: right;\n",
       "    }\n",
       "</style>\n",
       "<table border=\"1\" class=\"dataframe\">\n",
       "  <thead>\n",
       "    <tr style=\"text-align: right;\">\n",
       "      <th></th>\n",
       "      <th>slug</th>\n",
       "      <th>description</th>\n",
       "      <th>x</th>\n",
       "      <th>y</th>\n",
       "      <th>z</th>\n",
       "    </tr>\n",
       "  </thead>\n",
       "  <tbody>\n",
       "    <tr>\n",
       "      <th>0</th>\n",
       "      <td>vuejs/vue</td>\n",
       "      <td>Vue js is a progressive  incrementally adopt...</td>\n",
       "      <td>0.782758</td>\n",
       "      <td>-0.229030</td>\n",
       "      <td>-0.745728</td>\n",
       "    </tr>\n",
       "    <tr>\n",
       "      <th>1</th>\n",
       "      <td>facebook/react</td>\n",
       "      <td>A declarative  efficient  and flexible JavaScr...</td>\n",
       "      <td>1.023070</td>\n",
       "      <td>0.232563</td>\n",
       "      <td>-1.381538</td>\n",
       "    </tr>\n",
       "    <tr>\n",
       "      <th>2</th>\n",
       "      <td>tensorflow/tensorflow</td>\n",
       "      <td>An Open Source Machine Learning Framework for ...</td>\n",
       "      <td>0.265166</td>\n",
       "      <td>-0.131767</td>\n",
       "      <td>-0.690413</td>\n",
       "    </tr>\n",
       "    <tr>\n",
       "      <th>3</th>\n",
       "      <td>twbs/bootstrap</td>\n",
       "      <td>The most popular HTML  CSS  and JavaScript fra...</td>\n",
       "      <td>0.986973</td>\n",
       "      <td>0.125175</td>\n",
       "      <td>-0.895392</td>\n",
       "    </tr>\n",
       "    <tr>\n",
       "      <th>4</th>\n",
       "      <td>ohmyzsh/ohmyzsh</td>\n",
       "      <td>A delightful community driven  with 1700  c...</td>\n",
       "      <td>-0.089747</td>\n",
       "      <td>-0.601084</td>\n",
       "      <td>0.125103</td>\n",
       "    </tr>\n",
       "    <tr>\n",
       "      <th>...</th>\n",
       "      <td>...</td>\n",
       "      <td>...</td>\n",
       "      <td>...</td>\n",
       "      <td>...</td>\n",
       "      <td>...</td>\n",
       "    </tr>\n",
       "    <tr>\n",
       "      <th>155806</th>\n",
       "      <td>dreiger/Old-ServeUO-Source</td>\n",
       "      <td>ServUO source clone</td>\n",
       "      <td>-0.683559</td>\n",
       "      <td>0.143502</td>\n",
       "      <td>-0.039736</td>\n",
       "    </tr>\n",
       "    <tr>\n",
       "      <th>155807</th>\n",
       "      <td>XD3sign/angular.js</td>\n",
       "      <td>My Angular learning copy</td>\n",
       "      <td>1.141181</td>\n",
       "      <td>1.594171</td>\n",
       "      <td>0.600757</td>\n",
       "    </tr>\n",
       "    <tr>\n",
       "      <th>155808</th>\n",
       "      <td>marklai9999/Taiwancoin</td>\n",
       "      <td>New Era for 2049</td>\n",
       "      <td>-0.015102</td>\n",
       "      <td>-0.806327</td>\n",
       "      <td>-0.169046</td>\n",
       "    </tr>\n",
       "    <tr>\n",
       "      <th>155809</th>\n",
       "      <td>nbaiot/depot_tools</td>\n",
       "      <td>webrtc</td>\n",
       "      <td>-0.205500</td>\n",
       "      <td>0.425558</td>\n",
       "      <td>-0.597017</td>\n",
       "    </tr>\n",
       "    <tr>\n",
       "      <th>155810</th>\n",
       "      <td>xieguanglei/chromium-depot-tools</td>\n",
       "      <td>Mirror of</td>\n",
       "      <td>0.434437</td>\n",
       "      <td>-0.287737</td>\n",
       "      <td>0.161220</td>\n",
       "    </tr>\n",
       "  </tbody>\n",
       "</table>\n",
       "<p>154120 rows × 5 columns</p>\n",
       "</div>"
      ],
      "text/plain": [
       "                                    slug  \\\n",
       "0                              vuejs/vue   \n",
       "1                         facebook/react   \n",
       "2                  tensorflow/tensorflow   \n",
       "3                         twbs/bootstrap   \n",
       "4                        ohmyzsh/ohmyzsh   \n",
       "...                                  ...   \n",
       "155806        dreiger/Old-ServeUO-Source   \n",
       "155807                XD3sign/angular.js   \n",
       "155808            marklai9999/Taiwancoin   \n",
       "155809                nbaiot/depot_tools   \n",
       "155810  xieguanglei/chromium-depot-tools   \n",
       "\n",
       "                                              description         x         y  \\\n",
       "0         Vue js is a progressive  incrementally adopt...  0.782758 -0.229030   \n",
       "1       A declarative  efficient  and flexible JavaScr...  1.023070  0.232563   \n",
       "2       An Open Source Machine Learning Framework for ...  0.265166 -0.131767   \n",
       "3       The most popular HTML  CSS  and JavaScript fra...  0.986973  0.125175   \n",
       "4          A delightful community driven  with 1700  c... -0.089747 -0.601084   \n",
       "...                                                   ...       ...       ...   \n",
       "155806                                ServUO source clone -0.683559  0.143502   \n",
       "155807                           My Angular learning copy  1.141181  1.594171   \n",
       "155808                                   New Era for 2049 -0.015102 -0.806327   \n",
       "155809                                             webrtc -0.205500  0.425558   \n",
       "155810                                         Mirror of   0.434437 -0.287737   \n",
       "\n",
       "               z  \n",
       "0      -0.745728  \n",
       "1      -1.381538  \n",
       "2      -0.690413  \n",
       "3      -0.895392  \n",
       "4       0.125103  \n",
       "...          ...  \n",
       "155806 -0.039736  \n",
       "155807  0.600757  \n",
       "155808 -0.169046  \n",
       "155809 -0.597017  \n",
       "155810  0.161220  \n",
       "\n",
       "[154120 rows x 5 columns]"
      ]
     },
     "execution_count": 42,
     "metadata": {},
     "output_type": "execute_result"
    }
   ],
   "source": [
    "repo_data_out"
   ]
  },
  {
   "cell_type": "code",
   "execution_count": 43,
   "metadata": {},
   "outputs": [],
   "source": [
    "#repo_data_out.to_csv(\"/home/zz3hs/git/dspg21oss/data/dspg21oss/repo_embedding_3d_pca.csv\", index = False)"
   ]
  },
  {
   "cell_type": "markdown",
   "metadata": {},
   "source": [
    "# TSNE"
   ]
  },
  {
   "cell_type": "code",
   "execution_count": 48,
   "metadata": {},
   "outputs": [],
   "source": [
    "tsne_model = TSNE(n_components=3,perplexity = 30,n_iter=3500, init='pca', random_state=1)"
   ]
  },
  {
   "cell_type": "code",
   "execution_count": null,
   "metadata": {},
   "outputs": [
    {
     "name": "stdout",
     "output_type": "stream",
     "text": [
      "Start: 2021-07-27 21:04:42.006676\n"
     ]
    }
   ],
   "source": [
    "t1 = datetime.datetime.now()\n",
    "print(\"Start:\", t1)\n",
    "\n",
    "tsne_embedding = tsne_model.fit_transform(data)\n",
    "\n",
    "t2 =  datetime.datetime.now()\n",
    "print(\"Finished\", len(result), \"descriptions at\", t2)\n",
    "print(\"It took\", t2-t1, \"to run.\")"
   ]
  },
  {
   "cell_type": "code",
   "execution_count": null,
   "metadata": {},
   "outputs": [],
   "source": [
    "type(tsne_embedding)"
   ]
  },
  {
   "cell_type": "code",
   "execution_count": null,
   "metadata": {},
   "outputs": [],
   "source": [
    "tsne_embedding.shape"
   ]
  },
  {
   "cell_type": "code",
   "execution_count": null,
   "metadata": {},
   "outputs": [],
   "source": [
    "embedding_df = pd.DataFrame({'x': tsne_embedding[:, 0], 'y': tsne_embedding[:, 1], 'z' : tsne_embedding[:,2]})"
   ]
  },
  {
   "cell_type": "code",
   "execution_count": null,
   "metadata": {},
   "outputs": [],
   "source": [
    "embedding_df"
   ]
  },
  {
   "cell_type": "code",
   "execution_count": null,
   "metadata": {},
   "outputs": [],
   "source": [
    "repo_data[\"x\"] = embedding_df.x\n",
    "repo_data[\"y\"] = embedding_df.y\n",
    "repo_data[\"z\"] = embedding_df.z"
   ]
  },
  {
   "cell_type": "code",
   "execution_count": null,
   "metadata": {},
   "outputs": [],
   "source": [
    "repo_data.to_csv(\"/home/zz3hs/git/dspg21oss/data/dspg21oss/repo_embedding_3d.csv\", index = False)"
   ]
  },
  {
   "cell_type": "code",
   "execution_count": null,
   "metadata": {},
   "outputs": [],
   "source": []
  }
 ],
 "metadata": {
  "kernelspec": {
   "display_name": "Python [conda env:.conda-crystal_bert]",
   "language": "python",
   "name": "conda-env-.conda-crystal_bert-py"
  },
  "language_info": {
   "codemirror_mode": {
    "name": "ipython",
    "version": 3
   },
   "file_extension": ".py",
   "mimetype": "text/x-python",
   "name": "python",
   "nbconvert_exporter": "python",
   "pygments_lexer": "ipython3",
   "version": "3.8.10"
  }
 },
 "nbformat": 4,
 "nbformat_minor": 4
}
