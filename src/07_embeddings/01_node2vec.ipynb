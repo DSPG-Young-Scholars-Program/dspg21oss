{
 "cells": [
  {
   "cell_type": "markdown",
   "metadata": {},
   "source": [
    "remake the network after subsetting all of the nodes in the data that we downloaded (above 10 commits or whatever)"
   ]
  },
  {
   "cell_type": "code",
   "execution_count": 15,
   "metadata": {},
   "outputs": [
    {
     "data": {
      "text/html": [
       "<div>\n",
       "<style scoped>\n",
       "    .dataframe tbody tr th:only-of-type {\n",
       "        vertical-align: middle;\n",
       "    }\n",
       "\n",
       "    .dataframe tbody tr th {\n",
       "        vertical-align: top;\n",
       "    }\n",
       "\n",
       "    .dataframe thead th {\n",
       "        text-align: right;\n",
       "    }\n",
       "</style>\n",
       "<table border=\"1\" class=\"dataframe\">\n",
       "  <thead>\n",
       "    <tr style=\"text-align: right;\">\n",
       "      <th></th>\n",
       "      <th>login</th>\n",
       "      <th>slug</th>\n",
       "      <th>weight</th>\n",
       "    </tr>\n",
       "  </thead>\n",
       "  <tbody>\n",
       "    <tr>\n",
       "      <th>0</th>\n",
       "      <td>EugeneYilia</td>\n",
       "      <td>EugeneYilia/EugeneSignIn</td>\n",
       "      <td>511285</td>\n",
       "    </tr>\n",
       "    <tr>\n",
       "      <th>1</th>\n",
       "      <td>jthingelstad</td>\n",
       "      <td>jthingelstad/micro.thingelstad.com</td>\n",
       "      <td>352257</td>\n",
       "    </tr>\n",
       "    <tr>\n",
       "      <th>2</th>\n",
       "      <td>adamprocter</td>\n",
       "      <td>adamprocter/microblog</td>\n",
       "      <td>279801</td>\n",
       "    </tr>\n",
       "    <tr>\n",
       "      <th>3</th>\n",
       "      <td>curtclifton</td>\n",
       "      <td>curtclifton/curtclifton.github.io</td>\n",
       "      <td>253528</td>\n",
       "    </tr>\n",
       "    <tr>\n",
       "      <th>4</th>\n",
       "      <td>craigwmcclellan</td>\n",
       "      <td>craigwmcclellan/craigwmcclellan.github.io</td>\n",
       "      <td>181513</td>\n",
       "    </tr>\n",
       "  </tbody>\n",
       "</table>\n",
       "</div>"
      ],
      "text/plain": [
       "             login                                       slug  weight\n",
       "0      EugeneYilia                   EugeneYilia/EugeneSignIn  511285\n",
       "1     jthingelstad         jthingelstad/micro.thingelstad.com  352257\n",
       "2      adamprocter                      adamprocter/microblog  279801\n",
       "3      curtclifton          curtclifton/curtclifton.github.io  253528\n",
       "4  craigwmcclellan  craigwmcclellan/craigwmcclellan.github.io  181513"
      ]
     },
     "execution_count": 15,
     "metadata": {},
     "output_type": "execute_result"
    }
   ],
   "source": [
    "%matplotlib inline\n",
    "\n",
    "# load modules \n",
    "import warnings\n",
    "from datetime import datetime\n",
    "from text_unidecode import unidecode\n",
    "from collections import deque\n",
    "warnings.filterwarnings('ignore')\n",
    "\n",
    "import os\n",
    "import multiprocessing\n",
    "import psycopg2 as pg\n",
    "import pandas.io.sql as psql\n",
    "import pandas as pd\n",
    "from sklearn.manifold import TSNE\n",
    "import numpy as np\n",
    "import networkx as nx\n",
    "from node2vec import Node2Vec\n",
    "\n",
    "sns.set_style('whitegrid')\n",
    "\n",
    "# connect to the database, download data \n",
    "connection = pg.connect(host = 'postgis1', database = 'sdad', \n",
    "                        user = os.environ.get('db_user'), \n",
    "                        password = os.environ.get('db_pwd'))\n",
    "\n",
    "edgelist_data = '''SELECT login, slug, commits as weight FROM gh.commits_per_user_dd_lchn LIMIT 1000'''\n",
    "\n",
    "# convert to a dataframe, show how many missing we have (none)\n",
    "edgelist_data = pd.read_sql_query(edgelist_data, con=connection)\n",
    "edgelist_data.head()"
   ]
  },
  {
   "cell_type": "code",
   "execution_count": 16,
   "metadata": {},
   "outputs": [],
   "source": [
    "# convert the edgelist to a graph \n",
    "graph = nx.from_pandas_edgelist(edgelist_data, source='login', target='slug', edge_attr=\"weight\")"
   ]
  },
  {
   "cell_type": "code",
   "execution_count": 17,
   "metadata": {},
   "outputs": [
    {
     "name": "stdout",
     "output_type": "stream",
     "text": [
      "Started at: 2021-07-11 17:59:24.379197\n"
     ]
    },
    {
     "data": {
      "application/vnd.jupyter.widget-view+json": {
       "model_id": "776702ce58c04756aed52f3e045edc31",
       "version_major": 2,
       "version_minor": 0
      },
      "text/plain": [
       "Computing transition probabilities:   0%|          | 0/1297 [00:00<?, ?it/s]"
      ]
     },
     "metadata": {},
     "output_type": "display_data"
    },
    {
     "name": "stdout",
     "output_type": "stream",
     "text": [
      "Finished at: 2021-07-11 18:01:23.268399\n"
     ]
    }
   ],
   "source": [
    "cores_available = multiprocessing.cpu_count() - 1\n",
    "\n",
    "# train the graph with node2vec \n",
    "print(\"Started at:\", datetime.now())\n",
    "node2vec = Node2Vec(graph, dimensions=20, walk_length=16, num_walks=100, workers=cores_available)\n",
    "print(\"Finished at:\", datetime.now())"
   ]
  },
  {
   "cell_type": "code",
   "execution_count": null,
   "metadata": {},
   "outputs": [],
   "source": [
    "# Running large graphs \n",
    "\n",
    "# https://github.com/eliorc/node2vec\n",
    "# https://github.com/eliorc/node2vec/blob/master/example.py\n",
    "    \n",
    "node2vec = Node2Vec(graph, dimensions=64, walk_length=30, num_walks=200, workers=4, temp_folder=\"/mnt/tmp_data\")"
   ]
  },
  {
   "cell_type": "code",
   "execution_count": 18,
   "metadata": {},
   "outputs": [],
   "source": [
    "model = node2vec.fit(window=10, min_count=1)"
   ]
  },
  {
   "cell_type": "code",
   "execution_count": 25,
   "metadata": {},
   "outputs": [
    {
     "name": "stdout",
     "output_type": "stream",
     "text": [
      "curtclifton/curtclifton.github.io\n",
      "mazeit/node-forum\n",
      "AnghelLeonard\n",
      "AnghelLeonard/Hibernate-SpringBoot\n",
      "mazeit\n",
      "bozhink\n",
      "bozhink/ProcessingTools\n",
      "fatalxiao\n",
      "zhangluwei\n",
      "alcedo-ui/alcedo-ui\n"
     ]
    }
   ],
   "source": [
    "for node, _ in model.most_similar('curtclifton'):\n",
    "    # Show only players\n",
    "    if len(node) > 3:\n",
    "        print(node)"
   ]
  },
  {
   "cell_type": "code",
   "execution_count": 21,
   "metadata": {},
   "outputs": [
    {
     "data": {
      "text/html": [
       "<div>\n",
       "<style scoped>\n",
       "    .dataframe tbody tr th:only-of-type {\n",
       "        vertical-align: middle;\n",
       "    }\n",
       "\n",
       "    .dataframe tbody tr th {\n",
       "        vertical-align: top;\n",
       "    }\n",
       "\n",
       "    .dataframe thead th {\n",
       "        text-align: right;\n",
       "    }\n",
       "</style>\n",
       "<table border=\"1\" class=\"dataframe\">\n",
       "  <thead>\n",
       "    <tr style=\"text-align: right;\">\n",
       "      <th></th>\n",
       "      <th>login</th>\n",
       "      <th>slug</th>\n",
       "      <th>weight</th>\n",
       "    </tr>\n",
       "  </thead>\n",
       "  <tbody>\n",
       "    <tr>\n",
       "      <th>0</th>\n",
       "      <td>EugeneYilia</td>\n",
       "      <td>EugeneYilia/EugeneSignIn</td>\n",
       "      <td>511285</td>\n",
       "    </tr>\n",
       "    <tr>\n",
       "      <th>1</th>\n",
       "      <td>jthingelstad</td>\n",
       "      <td>jthingelstad/micro.thingelstad.com</td>\n",
       "      <td>352257</td>\n",
       "    </tr>\n",
       "    <tr>\n",
       "      <th>2</th>\n",
       "      <td>adamprocter</td>\n",
       "      <td>adamprocter/microblog</td>\n",
       "      <td>279801</td>\n",
       "    </tr>\n",
       "    <tr>\n",
       "      <th>3</th>\n",
       "      <td>curtclifton</td>\n",
       "      <td>curtclifton/curtclifton.github.io</td>\n",
       "      <td>253528</td>\n",
       "    </tr>\n",
       "    <tr>\n",
       "      <th>4</th>\n",
       "      <td>craigwmcclellan</td>\n",
       "      <td>craigwmcclellan/craigwmcclellan.github.io</td>\n",
       "      <td>181513</td>\n",
       "    </tr>\n",
       "    <tr>\n",
       "      <th>...</th>\n",
       "      <td>...</td>\n",
       "      <td>...</td>\n",
       "      <td>...</td>\n",
       "    </tr>\n",
       "    <tr>\n",
       "      <th>995</th>\n",
       "      <td>mikepsinn</td>\n",
       "      <td>QuantiModo/quantimodo-android-chrome-ios-web-app</td>\n",
       "      <td>2020</td>\n",
       "    </tr>\n",
       "    <tr>\n",
       "      <th>996</th>\n",
       "      <td>nallar</td>\n",
       "      <td>MinimallyCorrect/TickThreading</td>\n",
       "      <td>2020</td>\n",
       "    </tr>\n",
       "    <tr>\n",
       "      <th>997</th>\n",
       "      <td>baldhumanity</td>\n",
       "      <td>baldhumanity/AcfunHated</td>\n",
       "      <td>2019</td>\n",
       "    </tr>\n",
       "    <tr>\n",
       "      <th>998</th>\n",
       "      <td>Lauriy</td>\n",
       "      <td>Ajapaik/ajapaik-web</td>\n",
       "      <td>2018</td>\n",
       "    </tr>\n",
       "    <tr>\n",
       "      <th>999</th>\n",
       "      <td>williamstein</td>\n",
       "      <td>sagemathinc/cocalc</td>\n",
       "      <td>2016</td>\n",
       "    </tr>\n",
       "  </tbody>\n",
       "</table>\n",
       "<p>1000 rows × 3 columns</p>\n",
       "</div>"
      ],
      "text/plain": [
       "               login                                              slug  weight\n",
       "0        EugeneYilia                          EugeneYilia/EugeneSignIn  511285\n",
       "1       jthingelstad                jthingelstad/micro.thingelstad.com  352257\n",
       "2        adamprocter                             adamprocter/microblog  279801\n",
       "3        curtclifton                 curtclifton/curtclifton.github.io  253528\n",
       "4    craigwmcclellan         craigwmcclellan/craigwmcclellan.github.io  181513\n",
       "..               ...                                               ...     ...\n",
       "995        mikepsinn  QuantiModo/quantimodo-android-chrome-ios-web-app    2020\n",
       "996           nallar                    MinimallyCorrect/TickThreading    2020\n",
       "997     baldhumanity                           baldhumanity/AcfunHated    2019\n",
       "998           Lauriy                               Ajapaik/ajapaik-web    2018\n",
       "999     williamstein                                sagemathinc/cocalc    2016\n",
       "\n",
       "[1000 rows x 3 columns]"
      ]
     },
     "execution_count": 21,
     "metadata": {},
     "output_type": "execute_result"
    }
   ],
   "source": [
    "edgelist_data"
   ]
  },
  {
   "cell_type": "markdown",
   "metadata": {},
   "source": []
  },
  {
   "cell_type": "markdown",
   "metadata": {},
   "source": [
    "Future directions____ \n",
    "\n",
    "https://github.com/shenweichen/GraphEmbedding <<< \n",
    "\n",
    "node2vec \n",
    "struc2vec"
   ]
  },
  {
   "cell_type": "markdown",
   "metadata": {},
   "source": [
    "[Node2Vec Tutorial](https://github.com/eliorc/Medium/blob/master/Nod2Vec-FIFA17-Example.ipynb)\n"
   ]
  }
 ],
 "metadata": {
  "kernelspec": {
   "display_name": "brandon_env",
   "language": "python",
   "name": "brandon_env"
  },
  "language_info": {
   "codemirror_mode": {
    "name": "ipython",
    "version": 3
   },
   "file_extension": ".py",
   "mimetype": "text/x-python",
   "name": "python",
   "nbconvert_exporter": "python",
   "pygments_lexer": "ipython3",
   "version": "3.9.2"
  }
 },
 "nbformat": 4,
 "nbformat_minor": 4
}
