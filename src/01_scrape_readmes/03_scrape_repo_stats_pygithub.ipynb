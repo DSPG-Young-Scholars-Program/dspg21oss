{
 "cells": [
  {
   "cell_type": "markdown",
   "metadata": {},
   "source": [
    "# scrap repo stats using PyGitHub"
   ]
  },
  {
   "cell_type": "code",
   "execution_count": 1,
   "metadata": {},
   "outputs": [
    {
     "name": "stdin",
     "output_type": "stream",
     "text": [
      "Once deleted, variables cannot be recovered. Proceed (y/[n])?  y\n"
     ]
    }
   ],
   "source": [
    "%reset"
   ]
  },
  {
   "cell_type": "code",
   "execution_count": 2,
   "metadata": {},
   "outputs": [],
   "source": [
    "import os\n",
    "os.environ['db_user']='zz3hs'\n",
    "os.environ['db_pwd']='zz3hs'"
   ]
  },
  {
   "cell_type": "code",
   "execution_count": 6,
   "metadata": {},
   "outputs": [],
   "source": [
    "# load packages \n",
    "import os\n",
    "import psycopg2 as pg\n",
    "from sqlalchemy import create_engine\n",
    "import pandas as pd\n",
    "import requests as r\n",
    "import string \n",
    "import json\n",
    "import base64\n",
    "import urllib.request\n",
    "import itertools \n",
    "import numpy as np\n",
    "from bs4 import BeautifulSoup\n",
    "from dotenv import load_dotenv\n",
    "from github import Github, RateLimitExceededException, BadCredentialsException, BadAttributeException, GithubException, UnknownObjectException, BadUserAgentException\n",
    "import warnings\n",
    "import time\n",
    "warnings.simplefilter(action='ignore', category=FutureWarning)"
   ]
  },
  {
   "cell_type": "code",
   "execution_count": 7,
   "metadata": {},
   "outputs": [],
   "source": [
    "# using an access token\n",
    "access_token = \"e0386eeea5051b22f309154e8dee27fb3657853e\""
   ]
  },
  {
   "cell_type": "code",
   "execution_count": 8,
   "metadata": {},
   "outputs": [
    {
     "name": "stdout",
     "output_type": "stream",
     "text": [
      "                                 id          spdx                    slug  \\\n",
      "0  MDEwOlJlcG9zaXRvcnkxOTE5MDY2Mjg=           MIT    TheKiteRunners/react   \n",
      "1  MDEwOlJlcG9zaXRvcnkxOTkyNzg2NzQ=  BSD-3-Clause  pooog90001/fence-gates   \n",
      "2  MDEwOlJlcG9zaXRvcnkxMzAwODMyNTQ=           MIT    WhitePrime/storybook   \n",
      "3  MDEwOlJlcG9zaXRvcnk1NjAwMzA2Mw==       GPL-2.0     chrismbarnes/ndnSIM   \n",
      "4  MDEwOlJlcG9zaXRvcnkyNTEzNjYyMg==    Apache-2.0        AtwoodCSB/Docker   \n",
      "\n",
      "            createdat                                        description  \\\n",
      "0 2019-06-14 08:33:56                                       源码解析基于16.8.6   \n",
      "1 2019-07-28 11:27:22                                               None   \n",
      "2 2018-04-18 15:26:24                                               None   \n",
      "3 2016-04-11 19:54:59  Extension of ns3 module to implement different...   \n",
      "4 2014-10-13 00:36:40                                             Docker   \n",
      "\n",
      "  primarylanguage                                            branch  commits  \\\n",
      "0      JavaScript      MDM6UmVmMTkxOTA2NjI4OnJlZnMvaGVhZHMvbWFzdGVy    11000   \n",
      "1      TypeScript      MDM6UmVmMTk5Mjc4Njc0OnJlZnMvaGVhZHMvbWFzdGVy    10999   \n",
      "2      JavaScript      MDM6UmVmMTMwMDgzMjU0OnJlZnMvaGVhZHMvbWFzdGVy    10998   \n",
      "3          Python  MDM6UmVmNTYwMDMwNjM6cmVmcy9oZWFkcy9uZG5TSU0tdjE=    10997   \n",
      "4              Go      MDM6UmVmMjUxMzY2MjI6cmVmcy9oZWFkcy9tYXN0ZXI=    10997   \n",
      "\n",
      "                 asof status  \n",
      "0 2021-01-03 14:18:10   Init  \n",
      "1 2021-01-03 17:14:54   Init  \n",
      "2 2021-01-03 20:42:06   Init  \n",
      "3 2021-01-03 17:24:26   Init  \n",
      "4 2021-01-04 04:42:06   Init  \n",
      "(1501, 10)\n",
      "id                   0\n",
      "spdx                 0\n",
      "slug                 0\n",
      "createdat            0\n",
      "description        880\n",
      "primarylanguage     13\n",
      "branch               0\n",
      "commits              0\n",
      "asof                 0\n",
      "status               0\n",
      "dtype: int64\n",
      "1501\n"
     ]
    }
   ],
   "source": [
    "# connect to the database, download data, limit to top 5000 repos that have the highest number of commits\n",
    "connection = pg.connect(host = 'postgis1', database = 'sdad', \n",
    "                        user = os.environ.get('db_user'), \n",
    "                        password = os.environ.get('db_pwd'))\n",
    "\n",
    "raw_slug_data = '''SELECT * FROM gh_2007_2020.repos_ranked WHERE (commits BETWEEN '10000' AND '11000')'''\n",
    "\n",
    "# convert to a dataframe, show how many missing we have (none)\n",
    "raw_slug_data = pd.read_sql_query(raw_slug_data, con=connection)\n",
    "print(raw_slug_data.head())\n",
    "print(raw_slug_data.shape)\n",
    "print(raw_slug_data.isna().sum())\n",
    "\n",
    "raw_slugs = raw_slug_data[\"slug\"].tolist()\n",
    "#slugs = [raw_slugs.strip(' ') for raw_slugs in slugs]\n",
    "slugs = []\n",
    "for s in raw_slugs:\n",
    "    slugs.append(s.strip())\n",
    "    \n",
    "print(len(slugs))\n",
    "#print(slugs)"
   ]
  },
  {
   "cell_type": "code",
   "execution_count": null,
   "metadata": {},
   "outputs": [],
   "source": [
    "#practice slugs\n",
    "slugs = [\"moderndive/ModernDive_book\", \"crystalzang/mpred\", \"rrrrrrrrr\"]"
   ]
  },
  {
   "cell_type": "code",
   "execution_count": 9,
   "metadata": {},
   "outputs": [],
   "source": [
    "def pull_repo_stats():\n",
    "    df_repo_stats = pd.DataFrame()\n",
    "    for slug in slugs:\n",
    "        while True:\n",
    "            try:\n",
    "                #if false, retry until true, max number of retry is 20 times\n",
    "                g = Github(access_token, retry = 20, timeout = 15)\n",
    "                repo = g.get_repo(slug)\n",
    "                df_repo_stats = df_repo_stats.append({\n",
    "                    \"slug\": slug,\n",
    "                    'stars': repo.stargazers_count,\n",
    "                    'watchers': repo.subscribers_count,\n",
    "                    'topics': repo.get_topics()\n",
    "                }, ignore_index = True)\n",
    "            except RateLimitExceededException as e:\n",
    "                print(e.status)\n",
    "                print('Rate limit exceeded --', slug)\n",
    "                time.sleep(300)\n",
    "                continue\n",
    "            except BadCredentialsException as e:\n",
    "                print(e.status)\n",
    "                print('Bad credentials exception --', slug)\n",
    "                break\n",
    "            except UnknownObjectException as e:\n",
    "                print(e.status)\n",
    "                print('Unknown object exception --', slug)\n",
    "                break\n",
    "            except GithubException as e:\n",
    "                print(e.status)\n",
    "                print('General exception --', slug)\n",
    "                break\n",
    "            except requests.exceptions.ConnectionError as e:\n",
    "                print('Retries limit exceeded --', slug)\n",
    "                print(str(e))\n",
    "                time.sleep(10)\n",
    "                continue\n",
    "            except request.exceptions.Timeout as e:\n",
    "                print('Time out exception --', slug)\n",
    "                print(str(e))\n",
    "                time.sleep(10)\n",
    "                continue\n",
    "            break\n",
    "        df_repo_stats.to_csv(r'/home/zz3hs/git/dspg21oss/data/repo_stats.csv', index = False)        "
   ]
  },
  {
   "cell_type": "code",
   "execution_count": 10,
   "metadata": {},
   "outputs": [
    {
     "name": "stdout",
     "output_type": "stream",
     "text": [
      "404\n",
      "Unknown object exception -- RawHawk11/11kwaHwaR\n",
      "404\n",
      "Unknown object exception -- michaeltulagan/material-ui-clone\n",
      "404\n",
      "Unknown object exception -- LorenzReinhart/ONOSnew\n",
      "404\n",
      "Unknown object exception -- chrisi21/sickchill\n",
      "404\n",
      "Unknown object exception -- bootstraponline-archive/gerrit-mirror\n",
      "404\n",
      "Unknown object exception -- yarlevi/openshift\n",
      "404\n",
      "Unknown object exception -- cyre1450/jmglz\n",
      "404\n",
      "Unknown object exception -- jondavidy/psi4-clone\n",
      "404\n",
      "Unknown object exception -- zanone/kolla-ansible\n",
      "404\n",
      "Unknown object exception -- simplechain-org/simplechain\n",
      "404\n",
      "Unknown object exception -- OpenVisionE2/NCam\n",
      "404\n",
      "Unknown object exception -- lucerattow/botpress\n",
      "404\n",
      "Unknown object exception -- krishnamani/tryghost\n",
      "404\n",
      "Unknown object exception -- cybel/uclibc-ng\n",
      "404\n",
      "Unknown object exception -- Haslik/ghost\n",
      "404\n",
      "Unknown object exception -- ymmah/turbogeth\n",
      "404\n",
      "Unknown object exception -- emergenetwork/go-ethereum\n",
      "404\n",
      "Unknown object exception -- daniil-besedin/jekyll\n",
      "404\n",
      "Unknown object exception -- mikaelo/jekyll\n",
      "404\n",
      "Unknown object exception -- Abbath90/jekyll\n",
      "404\n",
      "Unknown object exception -- kapskapskaps/jekyll\n",
      "404\n",
      "Unknown object exception -- Marsianen30/jekyll\n",
      "404\n",
      "Unknown object exception -- jinho-im/mesos\n",
      "404\n",
      "Unknown object exception -- sanjay2916/dimagi-env\n",
      "404\n",
      "Unknown object exception -- lancium/GenesisII\n"
     ]
    }
   ],
   "source": [
    "pull_repo_stats()"
   ]
  },
  {
   "cell_type": "code",
   "execution_count": 85,
   "metadata": {},
   "outputs": [],
   "source": [
    "df_repo_stats = pd.read_csv(r'/home/zz3hs/git/dspg21oss/output/repo_stats.csv')"
   ]
  },
  {
   "cell_type": "code",
   "execution_count": 86,
   "metadata": {},
   "outputs": [
    {
     "name": "stdout",
     "output_type": "stream",
     "text": [
      "                               slug  stars topics  watchers\n",
      "0                Rafael3086/spryker    NaN    NaN       NaN\n",
      "1                    jplyley/PDF.js    NaN    NaN       NaN\n",
      "2           jcoliver/OSUScratchpads    NaN    NaN       NaN\n",
      "3                  simonp22/AnkhSVN    NaN    NaN       NaN\n",
      "4  AlenTuzla/anycubici3megas3dtouch    NaN    NaN       NaN\n",
      "                                  slug  stars topics  watchers\n",
      "0                   Rafael3086/spryker    NaN    NaN       NaN\n",
      "1                       jplyley/PDF.js    NaN    NaN       NaN\n",
      "2              jcoliver/OSUScratchpads    NaN    NaN       NaN\n",
      "3                     simonp22/AnkhSVN    NaN    NaN       NaN\n",
      "4     AlenTuzla/anycubici3megas3dtouch    NaN    NaN       NaN\n",
      "...                                ...    ...    ...       ...\n",
      "5459                               NaN    0.0     []       1.0\n",
      "5460                               NaN    0.0     []       0.0\n",
      "5461                               NaN    0.0     []       1.0\n",
      "5462                               NaN    0.0     []       1.0\n",
      "5463                               NaN    0.0     []       1.0\n",
      "\n",
      "[5464 rows x 4 columns]\n"
     ]
    }
   ],
   "source": [
    "print(df_repo_stats.head())\n",
    "print(df_repo_stats)"
   ]
  },
  {
   "cell_type": "code",
   "execution_count": 88,
   "metadata": {},
   "outputs": [
    {
     "data": {
      "text/plain": [
       "slug        2715\n",
       "stars       2749\n",
       "topics      2749\n",
       "watchers    2749\n",
       "dtype: int64"
      ]
     },
     "execution_count": 88,
     "metadata": {},
     "output_type": "execute_result"
    }
   ],
   "source": [
    "df_repo_stats.isna().sum()"
   ]
  },
  {
   "cell_type": "code",
   "execution_count": 89,
   "metadata": {},
   "outputs": [
    {
     "data": {
      "text/plain": [
       "(5464, 4)"
      ]
     },
     "execution_count": 89,
     "metadata": {},
     "output_type": "execute_result"
    }
   ],
   "source": [
    "df_repo_stats.shape"
   ]
  },
  {
   "cell_type": "code",
   "execution_count": null,
   "metadata": {},
   "outputs": [],
   "source": []
  }
 ],
 "metadata": {
  "kernelspec": {
   "display_name": "Python [conda env:.conda-crystal]",
   "language": "python",
   "name": "conda-env-.conda-crystal-py"
  },
  "language_info": {
   "codemirror_mode": {
    "name": "ipython",
    "version": 3
   },
   "file_extension": ".py",
   "mimetype": "text/x-python",
   "name": "python",
   "nbconvert_exporter": "python",
   "pygments_lexer": "ipython3",
   "version": "3.7.9"
  }
 },
 "nbformat": 4,
 "nbformat_minor": 4
}