{
 "cells": [
  {
   "cell_type": "markdown",
   "metadata": {},
   "source": [
    "# Scrape repo stats"
   ]
  },
  {
   "cell_type": "code",
   "execution_count": 288,
   "metadata": {},
   "outputs": [
    {
     "name": "stdin",
     "output_type": "stream",
     "text": [
      "Once deleted, variables cannot be recovered. Proceed (y/[n])?  y\n"
     ]
    }
   ],
   "source": [
    "%reset"
   ]
  },
  {
   "cell_type": "code",
   "execution_count": 289,
   "metadata": {},
   "outputs": [],
   "source": [
    "import os\n",
    "os.environ['db_user']='zz3hs'\n",
    "os.environ['db_pwd']='zz3hs'"
   ]
  },
  {
   "cell_type": "code",
   "execution_count": 290,
   "metadata": {},
   "outputs": [],
   "source": [
    "# load packages \n",
    "import os\n",
    "import psycopg2 as pg\n",
    "from sqlalchemy import create_engine\n",
    "import pandas as pd\n",
    "import requests as r\n",
    "import string \n",
    "import json\n",
    "import base64\n",
    "import urllib.request\n",
    "import itertools \n",
    "import numpy as np\n",
    "from bs4 import BeautifulSoup\n",
    "from dotenv import load_dotenv\n",
    "import warnings\n",
    "warnings.simplefilter(action='ignore', category=FutureWarning)"
   ]
  },
  {
   "cell_type": "code",
   "execution_count": 291,
   "metadata": {},
   "outputs": [
    {
     "name": "stdout",
     "output_type": "stream",
     "text": [
      "['repo' 'repo  ' ' repo' '  repo  ' '  re po  ']\n",
      "[1 2 3 4 5]\n",
      "        slug  star\n",
      "0       repo     1\n",
      "1     repo       2\n",
      "2       repo     3\n",
      "3     repo       4\n",
      "4    re po       5\n",
      "['repo', 'repo  ', ' repo', '  repo  ', '  re po  ']\n",
      "['repo', 'repo', 'repo', 'repo', 're po']\n",
      "['repo', 'repo', 'repo', 'repo', 're po']\n"
     ]
    }
   ],
   "source": [
    "#test clean repo name\n",
    "#slug name array\n",
    "slug = np.array([\"repo\", \"repo  \", \" repo\", \"  repo  \", \"  re po  \"])\n",
    "print(slug)\n",
    "#star count array\n",
    "star = np.array([1,2,3,4,5])\n",
    "print(star)\n",
    "\n",
    "#combine two arrays to a dataframe\n",
    "df = pd.DataFrame(dict(slug = slug, star = star))\n",
    "print(df)\n",
    "\n",
    "#extract slug names to a list \n",
    "raw_slugs = df[\"slug\"].tolist()\n",
    "print(raw_slugs)\n",
    "\n",
    "#method 1 to exclude leading and ending space\n",
    "raw_slugs_m1 = raw_slugs\n",
    "raw_slugs_m1 = [s.strip() for s in raw_slugs_m1]\n",
    "print(raw_slugs_m1)\n",
    "\n",
    "#method 2 to exclude leading and ending space\n",
    "slugs = []\n",
    "for s in raw_slugs:\n",
    "    slugs.append(s.strip())\n",
    "\n",
    "print(slugs)"
   ]
  },
  {
   "cell_type": "code",
   "execution_count": 292,
   "metadata": {},
   "outputs": [
    {
     "name": "stdout",
     "output_type": "stream",
     "text": [
      "False\n",
      "False\n",
      "True\n",
      "False\n"
     ]
    }
   ],
   "source": [
    "#def string_is_empty(myString):\n",
    "#    if myString and myString.strip():\n",
    "#        return False\n",
    "#    return True\n",
    "\n",
    "def string_is_empty(myString):\n",
    "    if myString == None:\n",
    "         return True\n",
    "    else:\n",
    "        return False\n",
    "\n",
    "print(string_is_empty('  '))\n",
    "print(string_is_empty('')) \n",
    "print(string_is_empty(None))\n",
    "print(string_is_empty('some text'))"
   ]
  },
  {
   "cell_type": "code",
   "execution_count": 293,
   "metadata": {},
   "outputs": [],
   "source": [
    "def stars_count(url):\n",
    "    html = r.get(url).text\n",
    "    #soup = BeautifulSoup(html, 'lxml') \n",
    "    soup = BeautifulSoup(html, 'html.parser')\n",
    "    stars_class = \"social-count js-social-count\"\n",
    "    stars_text = soup.find('a', class_ = stars_class)\n",
    "    if string_is_empty(stars_text) == True:\n",
    "        return None\n",
    "    else:\n",
    "        return stars_text.text.strip()\n",
    "\n",
    "\n",
    "#url1 = \"https://github.com/tidyverse/ggplot2\"\n",
    "#print(stars_count(url1))\n",
    "\n",
    "#url2 = \"https://www.geeksforgeeks.org/python-program-to-check-if-string-is-empty-or-not/\"\n",
    "#print(stars_count(url2))\n",
    "\n",
    "#na but page exists\n",
    "url = \"https://github.com/egeor90/stocks/\"\n",
    "#url = \"https://github.com/kmcconeghy/flublok_wsc/\"\n",
    "#https://github.com/dempseynoel/nrstations/\n",
    "\n",
    "#actual not found pages\n",
    "#url =\"https://github.com/codez0mb1e/HomeCreditDefaultRisk/\"\n",
    "#print(stars_count(url))"
   ]
  },
  {
   "cell_type": "code",
   "execution_count": 294,
   "metadata": {},
   "outputs": [],
   "source": [
    "\n",
    "#example\n",
    "#url = \"https://www.geeksforgeeks.org/python-program-to-check-if-string-is-empty-or-not/\"\n",
    "#url = \"https://github.com/tidyverse/ggplot2\"\n",
    "\n",
    "\n",
    "#failed to recognized page\n",
    "#url = \"https://github.com/dempseynoel/nrstations/\"\n",
    "\n",
    "#actual not found page\n",
    "url = \"https://github.com/codez0mb1e/HomeCreditDefaultRisk/\"\n",
    "\n",
    "\n",
    "html = r.get(url).text\n",
    "\n",
    "soup = BeautifulSoup(html, 'html.parser')\n",
    "#print(soup)\n",
    "stars_class = \"social-count js-social-count\"\n",
    "stars_text = soup.find('a', class_ = stars_class)\n",
    "\n",
    "\n",
    "\n",
    "#stars_text == None\n",
    "#print(stars_text)\n",
    "#string_is_empty(stars_text) \n",
    "\n",
    "#stars_text.text.strip()"
   ]
  },
  {
   "cell_type": "code",
   "execution_count": 295,
   "metadata": {},
   "outputs": [
    {
     "name": "stdout",
     "output_type": "stream",
     "text": [
      "/sfs/qumulo/qhome/zz3hs/git/dspg21oss/src/01_scrape_readmes\n",
      "\n"
     ]
    }
   ],
   "source": [
    "myPath = os.getcwd()\n",
    "\n",
    "print(myPath + \"\\n\")"
   ]
  },
  {
   "cell_type": "code",
   "execution_count": 302,
   "metadata": {},
   "outputs": [
    {
     "name": "stdout",
     "output_type": "stream",
     "text": [
      "                                 id        spdx  \\\n",
      "0  MDEwOlJlcG9zaXRvcnkxODA1NjY0NzE=  Apache-2.0   \n",
      "1  MDEwOlJlcG9zaXRvcnkxMzQyMzY5NTk=  Apache-2.0   \n",
      "2  MDEwOlJlcG9zaXRvcnk1OTc5OTQxOQ==  Apache-2.0   \n",
      "3  MDEwOlJlcG9zaXRvcnkzMDkxNTc1MDI=  Apache-2.0   \n",
      "4  MDEwOlJlcG9zaXRvcnkxOTYwNTU3Nw==  Apache-2.0   \n",
      "\n",
      "                            slug           createdat  \\\n",
      "0  kderme/spark-memory-simulator 2019-04-10 11:22:43   \n",
      "1     zhangyineng/pentaho_kettle 2018-05-21 07:55:12   \n",
      "2          zorba-processor/zorba 2016-05-27 02:56:03   \n",
      "3                  jsoniq/jsoniq 2020-11-01 18:08:05   \n",
      "4                   28msec/zorba 2014-05-09 09:13:04   \n",
      "\n",
      "                       description primarylanguage  \\\n",
      "0                             None           Scala   \n",
      "1                             None            Java   \n",
      "2      Zorba - the NoSQL processor             C++   \n",
      "3  JSONiq: The JSON Query Language             C++   \n",
      "4  JSONiq & XQuery Query Processor             C++   \n",
      "\n",
      "                                             branch  commits  \\\n",
      "0  MDM6UmVmMTgwNTY2NDcxOnJlZnMvaGVhZHMvU2ltdWxhdG9y    19996   \n",
      "1      MDM6UmVmMTM0MjM2OTU5OnJlZnMvaGVhZHMvbWFzdGVy    19995   \n",
      "2      MDM6UmVmNTk3OTk0MTk6cmVmcy9oZWFkcy9tYXN0ZXI=    19995   \n",
      "3      MDM6UmVmMzA5MTU3NTAyOnJlZnMvaGVhZHMvbWFzdGVy    19994   \n",
      "4      MDM6UmVmMTk2MDU1Nzc6cmVmcy9oZWFkcy9tYXN0ZXI=    19994   \n",
      "\n",
      "                 asof status  \n",
      "0 2021-01-03 21:47:19   Init  \n",
      "1 2021-01-03 20:15:13   Init  \n",
      "2 2021-01-03 14:36:17   Init  \n",
      "3 2021-01-03 18:40:48   Init  \n",
      "4 2021-01-03 15:58:09   Init  \n",
      "(8776, 10)\n",
      "id                    0\n",
      "spdx                  0\n",
      "slug                  0\n",
      "createdat             0\n",
      "description        5270\n",
      "primarylanguage     105\n",
      "branch                0\n",
      "commits               0\n",
      "asof                  0\n",
      "status                0\n",
      "dtype: int64\n",
      "8776\n"
     ]
    }
   ],
   "source": [
    "# connect to the database, download data, limit to top 5000 repos that have the highest number of commits\n",
    "connection = pg.connect(host = 'postgis1', database = 'sdad', \n",
    "                        user = os.environ.get('db_user'), \n",
    "                        password = os.environ.get('db_pwd'))\n",
    "\n",
    "raw_slug_data = '''SELECT * FROM gh_2007_2020.repos_ranked WHERE (commits BETWEEN '10000' AND '20000')'''\n",
    "\n",
    "# convert to a dataframe, show how many missing we have (none)\n",
    "raw_slug_data = pd.read_sql_query(raw_slug_data, con=connection)\n",
    "print(raw_slug_data.head())\n",
    "print(raw_slug_data.shape)\n",
    "print(raw_slug_data.isna().sum())\n",
    "\n",
    "raw_slugs = raw_slug_data[\"slug\"].tolist()\n",
    "#slugs = [raw_slugs.strip(' ') for raw_slugs in slugs]\n",
    "slugs = []\n",
    "for s in raw_slugs:\n",
    "    slugs.append(s.strip())\n",
    "    \n",
    "print(len(slugs))\n",
    "#print(slugs)\n"
   ]
  },
  {
   "cell_type": "code",
   "execution_count": 303,
   "metadata": {},
   "outputs": [
    {
     "name": "stdout",
     "output_type": "stream",
     "text": [
      "['0', '0', '29', '0', '113', '0', '0', '0', '0', '0', '1', '0', '0', '0', '1', '0', '0', '0', None, '4.6k', '0', '0', '0', '0', '0', '0', '0', '4', '0', '0', '0', '1', '0', '0', '0', '0', '0', '0', '0', '2', '0', '0', '0', '1', '2', '0', '0', '0', '2', '0', '0', '0', '0', '160', '0', '0', '10', '0', '0', '0', '5', '0', '2', '0', '1', '3', '0', '16.4k', '0', '1', '1', '0', '0', '0', '0', '3', None, None, None, None, None, None, None, None, None, None, None, None, None, None, None, None, None, None, None, None, None, None, None, None, None, None, None, None, None, None, None, None, None, None, None, None, None, None, None, None, None, None, None, None, None, None, None, None, None, None, None, None, None, None, None, None, None, None, None, None, None, None, None, None, None, None, None, None, None, None, None, None, None, None, None, None, None, None, None, None, None, None, None, None, None, None, None, None, None, None, None, None, None, None, None, None, None, None, None, None, None, None, None, None, None, None, None, None, None, None, None, None, None, None, None, None, None, None, None, None, None, None, None, None, None, None, None, None, None, None, None, None, None, None, None, None, None, None, None, None, None, None, None, None, None, None, None, None, None, None, None, None, None, None, None, None, None, None, None, None, None, None, None, None, None, None, None, None, None, None, None, None, None, None, None, None, None, None, None, None, None, None, None, None, None, None, None, None, None, None, None, None, None, None, None, None, None, None, None, None, None, None, None, None, None, None, None, None, None, None, None, None, None, None, None, None, None, None, None, None, None, None, None, None, None, None, None, None, None, None, None, None, None, None, None, None, None, None, None, None, None, None, None, None, None, None, None, None, None, None, None, None, None, None, None, None, None, None, None, None, None, None, None, None, None, None, None, None, None, None, None, None, None, None, None, None, None, None, None, None, None, None, None, None, None, None, None, None, None, None, None, None, None, None, None, None, None, None, None, None, None, None, None, None, None, None, None, None, None, None, None, None, None, None, None, None, None, None, None, None, None, None, None, None, None, None, None, None, None, None, None, None, None, None, None, None, None, None, None, None, None, None, None, None, None, None, None, None, None, None, None, None, None, None, None, None, None, None, None, None, None, None, None, None, None, None, None, None, None, None, None, None, None, None, None, None, None, None, None, None, None, None, None, None, None, None, None, None, None, None, None, None, None, None, None, None, None, None, None, None, None, None, None, None, None, None, None, None, None, None, None, None, None, None, None, None, None, None, None, None, None, None, None, None, None, None, None, None, None, None, None, None, None, None, None, None, None, None, None, None, None, None, None, None, None, None, None, None, None, None, None, None, None, None, None, None, None, None, None, None, None, None, None, None, None, None, None, None, None, None, None, None, None, None, None, None, None, '8', '0', '0', '0', '0', '1', '0', '0', '0', '5', '0', '1', '0', '0', '0', '0', '0', '0', '2', '0', '1', '0', '0', '0', '0', '0', '0', '0', '0', '0', '0', '0', '0', '0', '0', '0', '2', '0', '0', '0', '22', '0', '9', '0', '0', '0', '33', '36', '0', '0', '0', '0', '1', '0', '2', '862', '606', '1', '0', '0', '0', '0', '597', '5', '12', '0', '0', '0', '314', '9', '0', '0', '13', '0', '0', '0', '3', '0', '100', '0', '1', '0', '0', None, None, None, None, None, None, None, None, None, None, None, None, None, None, None, None, None, None, None, None, None, None, None, None, None, None, None, None, None, None, None, None, None, None, None, None, None, None, None, None, None, None, None, None, None, None, None, None, None, None, None, None, None, None, None, None, None, None, None, None, None, None, None, None, None, None, None, None, None, None, None, None, None, None, None, None, None, None, None, None, None, None, None, None, None, None, None, None, None, None, None, None, None, None, None, None, None, None, None, None, None, None, None, None, None, None, None, None, None, None, None, None, None, None, None, None, None, None, None, None, None, None, None, None, None, None, None, None, None, None, None, None, None, None, None, None, None, None, None, None, None, None, None, None, None, None, None, None, None, None, None, None, None, None, None, None, None, None, None, None, None, None, None, None, None, None, None, None, None, None, None, None, None, None, None, None, None, None, None, None, None, None, None, None, None, None, None, None, None, None, None, None, None, None, None, None, None, None, None, None, None, None, None, None, None, None, None, None, None, None, None, None, None, None, None, None, None, None, None, None, None, None, None, None, None, None, None, None, None, None, None, None, None, None, None, None, None, None, None, None, None, None, None, None, None, None, None, None, None, None, None, None, None, None, None, None, None, None, None, None, None, None, None, None, None, None, None, None, None, None, None, None, None, None, None, None, None, None, None, None, None, None, None, None, None, None, None, None, None, None, None, None, None, None, None, None, None, None, None, None, None, None, None, None, None, None, None, None, None, None, None, None, None, None, None, None, None, None, None, None, None, None, None, None, None, None, None, None, None, None, None, None, None, None, None, None, None, None, None, None, None, None, None, None, None, None, None, None, None, None, None, None, None, None, None, None, None, None, None, None, None, None, None, None, None, None, None, None, None, None, None, None, None, None, None, None, None, None, None, None, None, None, None, None, None, None, None, None, None, None, None, None, None, None, None, None, None, None, None, None, None, None, None, None, None, None, None, None, None, None, None, None, None, None, None, None, None, None, None, None, None, None, None, None, None, None, None, None, None, None, None, None, None, None, None, None, None, None, None, None, None, None, None, None, None, None, None, None, None, None, None, None, None, None, None, None, None, None, None, None, None, None, None, None, None, None, None, None, None, None, None, None, '0', '0', '2', '4.7k', '0', '0', '381', '0', '0', '0', '0', '0', '0', '0', '0', '0', '0', '0', '1', '0', '9.5k', '0', '0', '1', '1', '1', '0', '0', '9', '0', None, '7', '0', '0', '0', '7', '0', '0', '0', '1', '0', '0', '0', '0', '0', '0', '0', '0', '0', '0', '0', '0', '3', '1', '0', '0', '0', '0', '0', '1', '0', '581', '0', '0', '0', '1', '0', '0', '0', '0', None, '0', '7', '0', '0', '0', '0', '0', '0', '2', '0', '0', None, None, None, None, None, None, None, None, None, None, None, None, None, None, None, None, None, None, None, None, None, None, None, None, None, None, None, None, None, None, None, None, None, None, None, None, None, None, None, None, None, None, None, None, None, None, None, None, None, None, None, None, None, None, None, None, None, None, None, None, None, None, None, None, None, None, None, None, None, None, None, None, None, None, None, None, None, None, None, None, None, None, None, None, None, None, None, None, None, None, None, None, None, None, None, None, None, None, None, None, None, None, None, None, None, None, None, None, None, None, None, None, None, None, None, None, None, None, None, None, None, None, None, None, None, None, None, None, None, None, None, None, None, None, None, None, None, None, None, None, None, None, None, None, None, None, None, None, None, None, None, None, None, None, None, None, None, None, None, None, None, None, None, None, None, None, None, None, None, None, None, None, None, None, None, None, None, None, None, None, None, None, None, None, None, None, None, None, None, None, None, None, None, None, None, None, None, None, None, None, None, None, None, None, None, None, None, None, None, None, None, None, None, None, None, None, None, None, None, None, None, None, None, None, None, None, None, None, None, None, None, None, None, None, None, None, None, None, None, None, None, None, None, None, None, None, None, None, None, None, None, None, None, None, None, None, None, None, None, None, None, None, None, None, None, None, None, None, None, None, None, None, None, None, None, None, None, None, None, None, None, None, None, None, None, None, None, None, None, None, None, None, None, None, None, None, None, None, None, None, None, None, None, None, None, None, None, None, None, None, None, None, None, None, None, None, None, None, None, None, None, None, None, None, None, None, None, None, None, None, None, None, None, None, None, None, None, None, None, None, None, None, None, None, None, None, None, None, None, None, None, None, None, None, None, None, None, None, None, None, None, None, None, None, None, None, None, None, None, None, None, None, None, None, None, None, None, None, None, None, None, None, None, None, None, None, None, None, None, None, None, None, None, None, None, None, None, None, None, None, None, None, None, None, None, None, None, None, None, None, None, None, None, None, None, None, None, None, None, None, None, None, None, None, None, None, None, None, None, None, None, None, None, None, None, None, None, None, None, None, None, None, None, None, None, None, None, None, None, None, None, None, None, None, None, None, None, None, '0', '1', '0', '0', '0', '0', '1', '1', '0', '0', '0', '2', '0', '0', '87', None, '0', '1', '0', '0', '0', '1', '0', '0', '1.6k', '0', '1', '0', '0', '0', '0', '0', '0', '0', '0', '1', '0', '0', '0', '0', '0', '0', '2', '0', '0', '0', '0', '0', '0', '0', '1', '1', '0', '1', '0', '0', '0', '0', '0', '0', '0', '3', '0', '0', '1', '0', '0', '0', None, '0', '0', '0', '0', '0', '0', None, None, None, None, None, None, None, None, None, None, None, None, None, None, None, None, None, None, None, None, None, None, None, None, None, None, None, None, None, None, None, None, None, None, None, None, None, None, None, None, None, None, None, None, None, None, None, None, None, None, None, None, None, None, None, None, None, None, None, None, None, None, None, None, None, None, None, None, None, None, None, None, None, None, None, None, None, None, None, None, None, None, None, None, None, None, None, None, None, None, None, None, None, None, None, None, None, None, None, None, None, None, None, None, None, None, None, None, None, None, None, None, None, None, None, None, None, None, None, None, None, None, None, None, None, None, None, None, None, None, None, None, None, None, None, None, None, None, None, None, None, None, None, None, None, None, None, None, None, None, None, None, None, None, None, None, None, None, None, None, None, None, None, None, None, None, None, None, None, None, None, None, None, None, None, None, None, None, None, None, None, None, None, None, None, None, None, None, None, None, None, None, None, None, None, None, None, None, None, None, None, None, None, None, None, None, None, None, None, None, None, None, None, None, None, None, None, None, None, None, None, None, None, None, None, None, None, None, None, None, None, None, None, None, None, None, None, None, None, None, None, None, None, None, None, None, None, None, None, None, None, None, None, None, None, None, None, None, None, None, None, None, None, None, None, None, None, None, None, None, None, None, None, None, None, None, None, None, None, None, None, None, None, None, None, None, None, None, None, None, None, None, None, None, None, None, None, None, None, None, None, None, None, None, None, None, None, None, None, None, None, None, None, None, None, None, None, None, None, None, None, None, None, None, None, None, None, None, None, None, None, None, None, None, None, None, None, None, None, None, None, None, None, None, None, None, None, None, None, None, None, None, None, None, None, None, None, None, None, None, None, None, None, None, None, None, None, None, None, None, None, None, None, None, None, None, None, None, None, None, None, None, None, None, None, None, None, None, None, None, None, None, None, None, None, None, None, None, None, None, None, None, None, None, None, None, None, None, None, None, None, None, None, None, None, None, None, None, None, None, None, None, None, None, None, None, None, None, None, None, None, None, None, None, None, None, None, None, None, None, None, None, None, None, None, None, None, None, None, None, None, None, None, None, None, None, None, None, None, None, None, None, None, None, None, None, None, None, None, None, None, None, None, None, None, None, None, None, None, None, None, None, None, None, None, None, None, None, None, None, None, None, None, None, None, None, None, None, None, None, None, None, '0', '0', '0', '0', '0', '0', '0', '1', '20', '491', '0', '3', '0', '0', '0', '1', '3', '1', '1', '0', '1.6k', '0', '0', '0', '0', '0', '1', '0', '0', '0', '0', '1', '0', '0', '157', '0', '0', '0', '71', '0', '0', '31', '0', '0', '0', '0', '13', '0', '2', '1', '0', '73.8k', '0', '0', '0', '1', '0', '0', '5', '0', '0', '0', '0', '8', None, '0', '0', '0', '0', '0', '3', '0', '0', '0', '0', '18', '1k', '0', '327', '26.2k', '0', '0', '0', None, None, None, None, None, None, None, None, None, None, None, None, None, None, None, None, None, None, None, None, None, None, None, None, None, None, None, None, None, None, None, None, None, None, None, None, None, None, None, None, None, None, None, None, None, None, None, None, None, None, None, None, None, None, None, None, None, None, None, None, None, None, None, None, None, None, None, None, None, None, None, None, None, None, None, None, None, None, None, None, None, None, None, None, None, None, None, None, None, None, None, None, None, None, None, None, None, None, None, None, None, None, None, None, None, None, None, None, None, None, None, None, None, None, None, None, None, None, None, None, None, None, None, None, None, None, None, None, None, None, None, None, None, None, None, None, None, None, None, None, None, None, None, None, None, None, None, None, None, None, None, None, None, None, None, None, None, None, None, None, None, None, None, None, None, None, None, None, None, None, None, None, None, None, None, None, None, None, None, None, None, None, None, None, None, None, None, None, None, None, None, None, None, None, None, None, None, None, None, None, None, None, None, None, None, None, None, None, None, None, None, None, None, None, None, None, None, None, None, None, None, None, None, None, None, None, None, None, None, None, None, None, None, None, None, None, None, None, None, None, None, None, None, None, None, None, None, None, None, None, None, None, None, None, None, None, None, None, None, None, None, None, None, None, None, None, None, None, None, None, None, None, None, None, None, None, None, None, None, None, None, None, None, None, None, None, None, None, None, None, None, None, None, None, None, None, None, None, None, None, None, None, None, None, None, None, None, None, None, None, None, None, None, None, None, None, None, None, None, None, None, None, None, None, None, None, None, None, None, None, None, None, None, None, None, None, None, None, None, None, None, None, None, None, None, None, None, None, None, None, None, None, None, None, None, None, None, None, None, None, None, None, None, None, None, None, None, None, None, None, None, None, None, None, None, None, None, None, None, None, None, None, None, None, None, None, None, None, None, None, None, None, None, None, None, None, None, None, None, None, None, None, None, None, None, None, None, None, None, None, None, None, None, None, None, None, None, None, None, None, None, None, None, None, None, None, None, None, None, None, None, None, None, None, None, None, None, None, None, None, None, None, None, None, None, None, None, None, '0', '858', '0', '0', '0', '6', '0', '0', '0', '2', '0', '0', '0', '0', '0', '0', '0', '0', '0', '4', '1', '35', '0', '0', '0', '1', '5', '2', '8.2k', '0', '1', '0', '0', '0', '0', '87', '0', '8.4k', '0', '0', '0', '0', '0', '16', '0', '0', '0', '1', '0', '0', '0', '0', '0', '0', '0', '1', '1', '0', '0', '1', '40', '0', '0', '36.2k', '0', '57', '0', '0', '0', '8.7k', '0', '0', '0', '0', '0', '0', '0', '0', '1', '0', '0', '404', None, None, None, None, None, None, None, None, None, None, None, None, None, None, None, None, None, None, None, None, None, None, None, None, None, None, None, None, None, None, None, None, None, None, None, None, None, None, None, None, None, None, None, None, None, None, None, None, None, None, None, None, None, None, None, None, None, None, None, None, None, None, None, None, None, None, None, None, None, None, None, None, None, None, None, None, None, None, None, None, None, None, None, None, None, None, None, None, None, None, None, None, None, None, None, None, None, None, None, None, None, None, None, None, None, None, None, None, None, None, None, None, None, None, None, None, None, None, None, None, None, None, None, None, None, None, None, None, None, None, None, None, None, None, None, None, None, None, None, None, None, None, None, None, None, None, None, None, None, None, None, None, None, None, None, None, None, None, None, None, None, None, None, None, None, None, None, None, None, None, None, None, None, None, None, None, None, None, None, None, None, None, None, None, None, None, None, None, None, None, None, None, None, None, None, None, None, None, None, None, None, None, None, None, None, None, None, None, None, None, None, None, None, None, None, None, None, None, None, None, None, None, None, None, None, None, None, None, None, None, None, None, None, None, None, None, None, None, None, None, None, None, None, None, None, None, None, None, None, None, None, None, None, None, None, None, None, None, None, None, None, None, None, None, None, None, None, None, None, None, None, None, None, None, None, None, None, None, None, None, None, None, None, None, None, None, None, None, None, None, None, None, None, None, None, None, None, None, None, None, None, None, None, None, None, None, None, None, None, None, None, None, None, None, None, None, None, None, None, None, None, None, None, None, None, None, None, None, None, None, None, None, None, None, None, None, None, None, None, None, None, None, None, None, None, None, None, None, None, None, None, None, None, None, None, None, None, None, None, None, None, None, None, None, None, None, None, None, None, None, None, None, None, None, None, None, None, None, None, None, None, None, None, None, None, None, None, None, None, None, None, None, None, None, None, None, None, None, None, None, None, None, None, None, None, None, None, None, None, None, None, None, None, None, None, None, None, None, None, None, None, None, None, None, None, None, None, None, None, None, None, None, None, None, None, None, None, None, None, None, None, None, None, None, None, None, None, None, None, None, None, None, None, None, None, None, None, None, None, None, None, None, None, None, None, None, None, None, None, None, None, None, '0', '0', '0', '2.8k', '0', '5', '0', '0', '29', '14.6k', '0', '0', '0', '0', '0', '1', '160', '0', '0', '1', None, '0', None, '5', '0', '0', '0', '0', '0', '0', '0', '1', '0', '344', '0', '0', '0', '200', '0', '0', '52', '0', '1', '0', '1', '0', '0', '98', '0', '0', '1', '0', '0', '0', '0', '10', '0', '0', '82', '85', '0', '0', '0', '43', '53', '19', '0', '0', '0', '3', '0', '0', '0', '1', '1', '0', '0', '0', '0', '1', '0', '0', '0', None, None, None, None, None, None, None, None, None, None, None, None, None, None, None, None, None, None, None, None, None, None, None, None, None, None, None, None, None, None, None, None, None, None, None, None, None, None, None, None, None, None, None, None, None, None, None, None, None, None, None, None, None, None, None, None, None, None, None, None, None, None, None, None, None, None, None, None, None, None, None, None, None, None, None, None, None, None, None, None, None, None, None, None, None, None, None, None, None, None, None, None, None, None, None, None, None, None, None, None, None, None, None, None, None, None, None, None, None, None, None, None, None, None, None, None, None, None, None, None, None, None, None, None, None, None, None, None, None, None, None, None, None, None, None, None, None, None, None, None, None, None, None, None, None, None, None, None, None, None, None, None, None, None, None, None, None, None, None, None, None, None, None, None, None, None, None, None, None, None, None, None, None, None, None, None, None, None, None, None, None, None, None, None, None, None, None, None, None, None, None, None, None, None, None, None, None, None, None, None, None, None, None, None, None, None, None, None, None, None, None, None, None, None, None, None, None, None, None, None, None, None, None, None, None, None, None, None, None, None, None, None, None, None, None, None, None, None, None, None, None, None, None, None, None, None, None, None, None, None, None, None, None, None, None, None, None, None, None, None, None, None, None, None, None, None, None, None, None, None, None, None, None, None, None, None, None, None, None, None, None, None, None, None, None, None, None, None, None, None, None, None, None, None, None, None, None, None, None, None, None, None, None, None, None, None, None, None, None, None, None, None, None, None, None, None, None, None, None, None, None, None, None, None, None, None, None, None, None, None, None, None, None, None, None, None, None, None, None, None, None, None, None, None, None, None, None, None, None, None, None, None, None, None, None, None, None, None, None, None, None, None, None, None, None, None, None, None, None, None, None, None, None, None, None, None, None, None, None, None, None, None, None, None, None, None, None, None, None, None, None, None, None, None, None, None, None, None, None, None, None, None, None, None, None, None, None, None, None, None, None, None, None, None, None, None, None, None, None, None, None, None, None, None, None, None, None, None, None, None, None, None, None, None, None, None, None, None, None, None, None, None, None, None, None, None, None, None, None, None, None, None, None, None, None, None, None, None, None, None, None, None, None, None, None, None, None, None, None, None, None, None, None, None, None, None, None, '0', '0', '0', '0', '0', '1', '0', '1', '10', '1', '1', '0', '0', '0', '0', '1', '286', '1', '601', '4', '0', '1', '0', '0', '31', '6', '0', '0', '0', '0', '0', '0', '0', '0', '0', '0', '25', '0', '230', '1', '0', '0', '0', '0', '0', '0', '0', '0', '0', '0', '1', '1', '0', '0', '2', None, '0', '0', '1', '0', '0', '0', '0', '0', '0', '0', '0', '1', '0', '0', '6', '5', '0', '0', '0', '0', '0', '0', '0', '0', '0', '0', '0', '3', '0', None, None, None, None, None, None, None, None, None, None, None, None, None, None, None, None, None, None, None, None, None, None, None, None, None, None, None, None, None, None, None, None, None, None, None, None, None, None, None, None, None, None, None, None, None, None, None, None, None, None, None, None, None, None, None, None, None, None, None, None, None, None, None, None, None, None, None, None, None, None, None, None, None, None, None, None, None, None, None, None, None, None, None, None, None, None, None, None, None, None, None, None, None, None, None, None, None, None, None, None, None, None, None, None, None, None, None, None, None, None, None, None, None, None, None, None, None, None, None, None, None, None, None, None, None, None, None, None, None, None, None, None, None, None, None, None, None, None, None, None, None, None, None, None, None, None, None, None, None, None, None, None, None, None, None, None, None, None, None, None, None, None, None, None, None, None, None, None, None, None, None, None, None, None, None, None, None, None, None, None, None, None, None, None, None, None, None, None, None, None, None, None, None, None, None, None, None, None, None, None, None, None, None, None, None, None, None, None, None, None, None, None, None, None, None, None, None, None, None, None, None, None, None, None, None, None, None, None, None, None, None, None, None, None, None, None, None, None, None, None, None, None, None, None, None, None, None, None, None, None, None, None, None, None, None, None, None, None, None, None, None, None, None, None, None, None, None, None, None, None, None, None, None, None, None, None, None, None, None, None, None, None, None, None, None, None, None, None, None, None, None, None, None, None, None, None, None, None, None, None, None, None, None, None, None, None, None, None, None, None, None, None, None, None, None, None, None, None, None, None, None, None, None, None, None, None, None, None, None, None, None, None, None, None, None, None, None, None, None, None, None, None, None, None, None, None, None, None, None, None, None, None, None, None, None, None, None, None, None, None, None, None, None, None, None, None, None, None, None, None, None, None, None, None, None, None, None, None, None, None, None, None, None, None, None, None, None, None, None, None, None, None, None, None, None, None, None, None, None, None, None, None, None, None, None, None, None, None, None, None, None, None, None, None, None, None, None, None, None, None, None, None, None, None, None, None, None, None, None, None, '0', '0', '0', '0', '0', '0', '0', '9', '13', '0', '4', '0', '0', '0', '1', '0', '0', '0', '0', '1', '0', '0', '1', '70', '0', '0', '0', '1', '0', '0', '0', '0', '0', '0', '0', '141', '0', '1', '0', '56', '2', '0', '1', '0', '0', '0', '0', '0', '0', '0', '39', '0', '0', '1', '0', '0', '0', '0', '0', '0', None, '0', None, '0', '0', '0', '0', '0', '0', '1', '0', '0', '0', '0', '0', '0', '0', '0', '1', '0', '0', '11.3k', '0', None, None, None, None, None, None, None, None, None, None, None, None, None, None, None, None, None, None, None, None, None, None, None, None, None, None, None, None, None, None, None, None, None, None, None, None, None, None, None, None, None, None, None, None, None, None, None, None, None, None, None, None, None, None, None, None, None, None, None, None, None, None, None, None, None, None, None, None, None, None, None, None, None, None, None, None, None, None, None, None, None, None, None, None, None, None, None, None, None, None, None, None, None, None, None, None, None, None, None, None, None, None, None, None, None, None, None, None, None, None, None, None, None, None, None, None, None, None, None, None, None, None, None, None, None, None, None, None, None, None, None, None, None, None, None, None, None, None, None, None, None, None, None, None, None, None, None, None, None, None, None, None, None, None, None, None, None, None, None, None, None, None, None, None, None, None, None, None, None, None, None, None, None, None, None, None, None, None, None, None, None, None, None, None, None, None, None, None, None, None, None, None, None, None, None, None, None, None, None, None, None, None, None, None, None, None, None, None, None, None, None, None, None, None, None, None, None, None, None, None, None, None, None, None, None, None, None, None, None, None, None, None, None, None, None, None, None, None, None, None, None, None, None, None, None, None, None, None, None, None, None, None, None, None, None, None, None, None, None, None, None, None, None, None, None, None, None, None, None, None, None, None, None, None, None, None, None, None, None, None, None, None, None, None, None, None, None, None, None, None, None, None, None, None, None, None, None, None, None, None, None, None, None, None, None, None, None, None, None, None, None, None, None, None, None, None, None, None, None, None, None, None, None, None, None, None, None, None, None, None, None, None, None, None, None, None, None, None, None, None, None, None, None, None, None, None, None, None, None, None, None, None, None, None, None, None, None, None, None, None, None, None, None, None, None, None, None, None, None, None, None, None, None, None, None, None, None, None, None, None, None, None, None, None, None, None, None, None, None, None, None, None, None, None, None, None, None, None, None, None, None, None, None, None, None, None, None, None, None, None, None, None, None, None, None, None, None, None, None, None, None, None, None, None, None, None, None, None, None, None, None, None, None, None, None, None, None, None, None, None, None, None, None, None, None, None, None, None, None, None, None, None, None, None, None, None, None, None, None, None, None, None, None, None, '0', '0', '66', '0', '0', '0', '8', '0', '0', '0', '1', '218', '0', '0', '1', '0', '0', '0', '0', '0', '0', '1.6k', '0', '0', '0', '0', '0', '16', '0', '33', '0', '1', '0', '0', '15', '0', '4', '0', '0', '0', '44', '1', '19', '3', '5', '0', '0', '0', '0', '1', '6', '2', '0', '0', '0', '45', '0', '0', '0', '1', '0', '1', '0', '1', '120', '0', '0', '2', '0', '2', '0', '50.5k', '0', '1', '0', '0', '0', '0', '1', '14', '0', '0', '0', None, None, None, None, None, None, None, None, None, None, None, None, None, None, None, None, None, None, None, None, None, None, None, None, None, None, None, None, None, None, None, None, None, None, None, None, None, None, None, None, None, None, None, None, None, None, None, None, None, None, None, None, None, None, None, None, None, None, None, None, None, None, None, None, None, None, None, None, None, None, None, None, None, None, None, None, None, None, None, None, None, None, None, None, None, None, None, None, None, None, None, None, None, None, None, None, None, None, None, None, None, None, None, None, None, None, None, None, None, None, None, None, None, None, None, None, None, None, None, None, None, None, None, None, None, None, None, None, None, None, None, None, None, None, None, None, None, None, None, None, None, None, None, None, None, None, None, None, None, None, None, None, None, None, None, None, None, None, None, None, None, None, None, None, None, None, None, None, None, None, None, None, None, None, None, None, None, None, None, None, None, None, None, None, None, None, None, None, None, None, None, None, None, None, None, None, None, None, None, None, None, None, None, None, None, None, None, None, None, None, None, None, None, None, None, None, None, None, None, None, None, None, None, None, None, None, None, None, None, None, None, None, None, None, None, None, None, None, None, None, None, None, None, None, None, None, None, None, None, None, None, None, None, None, None, None, None, None, None, None, None, None, None, None, None, None, None, None, None, None, None, None, None, None, None, None, None, None, None, None, None, None, None, None, None, None, None, None, None, None, None, None, None, None, None, None, None, None, None, None, None, None, None, None, None, None, None, None, None, None, None, None, None, None, None, None, None, None, None, None, None, None, None, None, None, None, None, None, None, None, None, None, None, None, None, None, None, None, None, None, None, None, None, None, None, None, None, None, None, None, None, None, None, None, None, None, None, None, None, None, None, None, None, None, None, None, None, None, None, None, None, None, None, None, None, None, None, None, None, None, None, None, None, None, None, None, None, None, None, None, None, None, None, None, None, None, None, None, None, None, None, None, None, None, None, None, None, None, None, None, None, None, None, None, None, None, None, None, None, None, None, None, None, None, None, None, None, None, None, None, None, None, None, None, None, None, None, None, None, None, None, None, None, '0', '0', '9', '1', '91', '0', '1', '0', '5', '4', '0', '1', '40', '0', '1', '0', '0', '2', '0', '0', '0', '1.4k', '1', '2', '1', '0', '526', '140', None, '0', '0', '0', '0', '0', '0', '0', '0', '222', '29', '6', '0', '1', '6.1k', '0', '1', '0', '0', '0', '0', '0', '0', '173', '0', '0', '0', '0', '3', '0', '1', '0', '1', '0', '0', '0', '0', '0', '0', '0', '1', '0', '0', '0', '3.9k', '2', '0', '0', '0', '6', '0', None, None, None, None, None, None, None, None, None, None, None, None, None, None, None, None, None, None, None, None, None, None, None, None, None, None, None, None, None, None, None, None, None, None, None, None, None, None, None, None, None, None, None, None, None, None, None, None, None, None, None, None, None, None, None, None, None, None, None, None, None, None, None, None, None, None, None, None, None, None, None, None, None, None, None, None, None, None, None, None, None, None, None, None, None, None, None, None, None, None, None, None, None, None, None, None, None, None, None, None, None, None, None, None, None, None, None, None, None, None, None, None, None, None, None, None, None, None, None, None, None, None, None, None, None, None, None, None, None, None, None, None, None, None, None, None, None, None, None, None, None, None, None, None, None, None, None, None, None, None, None, None, None, None, None, None, None, None, None, None, None, None, None, None, None, None, None, None, None, None, None, None, None, None, None, None, None, None, None, None, None, None, None, None, None, None, None, None, None, None, None, None, None, None, None, None, None, None, None, None, None, None, None, None, None, None, None, None, None, None, None, None, None, None, None, None, None, None, None, None, None, None, None, None, None, None, None, None, None, None, None, None, None, None, None, None, None, None, None, None, None, None, None, None, None, None, None, None, None, None, None, None, None, None, None, None, None, None, None, None, None, None, None, None, None, None, None, None, None, None, None, None, None, None, None, None, None, None, None, None, None, None, None, None, None, None, None, None, None, None, None, None, None, None, None, None, None, None, None, None, None, None, None, None, None, None, None, None, None, None, None, None, None, None, None, None, None, None, None, None, None, None, None, None, None, None, None, None, None, None, None, None, None, None, None, None, None, None, None, None, None, None, None, None, None, None, None, None, None, None, None, None, None, None, None, None, None, None, None, None, None, None, None, None, None, None, None, None, None, None, None, None, None, None, None, None, None, None, None, None, None, None, None, None, None, None, None, None, None, None, None, None, None, None, None, None, None, None, None, None, None, None, None, None, None, None, None, None, None, None, None, None, None, None, None, None, None, None, None, None, None, None, None, None, None, None, None, None, None, None, None, None, None, None, None, None, None, None, None, None, None, None, None, None, None, None, None, None, None, None, None, None, None, None, None, None, None, None, None, None, None, None, None, None, None, None, '0', '51', '0', '0', '0', '0', '0', '0', '0', '19', '0', '0', '20', '0', '0', '0', '0', '0', '2.3k', '0', '0', '910', '0', '0', '0', '0', '0', '31', '0', '353', '0', '0', '1', '0', '0', '1', '15', '0', '0', '0', '0', '0', '0', '0', '0', '92', '0', '0', '0', '0', '0', '0', '1', '0', '0', '64', '0', '0', '0', '14k', '0', '1', '0', '0', '0', '17', '1', '1', '0', '3', '0', '0', '0', '0', '0', '0', '0', '0', '139', '1', '160', None, None, None, None, None, None, None, None, None, None, None, None, None, None, None, None, None, None, None, None, None, None, None, None, None, None, None, None, None, None, None, None, None, None, None, None, None, None, None, None, None, None, None, None, None, None, None, None, None, None, None, None, None, None, None, None, None, None, None, None, None, None, None, None, None, None, None, None, None, None, None, None, None, None, None, None, None, None, None, None, None, None, None, None, None, None, None, None, None, None, None, None, None, None, None, None, None, None, None, None, None, None, None, None, None, None, None, None, None, None, None, None, None, None, None, None, None, None, None, None, None, None, None, None, None, None, None, None, None, None, None, None, None, None, None, None, None, None, None, None, None, None, None, None, None, None, None, None, None, None, None, None, None, None, None, None, None, None, None, None, None, None, None, None, None, None, None, None, None, None, None, None, None, None, None, None, None, None, None, None, None, None, None, None, None, None, None, None, None, None, None, None, None, None, None, None, None, None, None, None, None, None, None, None, None, None, None, None, None, None, None, None, None, None, None, None, None, None, None, None, None, None, None, None, None, None, None, None, None, None, None, None, None, None, None, None, None, None, None, None, None, None, None, None, None, None, None, None, None, None, None, None, None, None, None, None, None, None, None, None, None, None, None, None, None, None, None, None, None, None, None, None, None, None, None, None, None, None, None, None, None, None, None, None, None, None, None, None, None, None, None, None, None, None, None, None, None, None, None, None, None, None, None, None, None, None, None, None, None, None, None, None, None, None, None, None, None, None, None, None, None, None, None, None, None, None, None, None, None, None, None, None, None, None, None, None, None, None, None, None, None, None, None, None, None, None, None, None, None, None, None, None, None, None, None, None, None, None, None, None, None, None, None, None, None, None, None, None, None, None, None, None, None, None, None, None, None, None, None, None, None, None, None, None, None, None, None, None, None, None, None, None, None, None, None, None, None, None, None, None, None, None, None, None, None, None, None, None, None, None, None, None, None, None, None, None, None, None, None, None, None, None, None, None, None, None, None, None, None, None, None, None, None, None, None, None, None, None, None, None, None, None, None, None, None, None, None, None, None, None, None, None, None, None, None, None, None, None, None, None, None, None, None, None, None, None, None, None, None, None, None, None, None, None, None, None, None, None, None, '1', '0', '3', '0', '1', '2', '0', '10.9k', '14', '0', '0', '0', '0', '744', '0', '0', '0', '143', '0', '0', '8', '0', '0', '28', '349', '0', '6', '0', '0', None, '0', '0', '0', '0', '1', '0', '0', '600', '46', '10', '1', None, '2', '68', '1', '0', '0', '0', '0', '0', '36', '372', '0', '0', '0', '10', '0', '0', '0', '0', '0', '0', '0', '0', '8', '0', '0', '0', '0', '0', '21', '0', '0', '4', '0', '0', '10', '0', '0', '0', '0', None, None, None, None, None, None, None, None, None, None, None, None, None, None, None, None, None, None, None, None, None, None, None, None, None, None, None, None, None, None, None, None, None, None, None, None, None, None, None, None, None, None, None, None, None, None, None, None, None, None, None, None, None, None, None, None, None, None, None, None, None, None, None, None, None, None, None, None, None, None, None, None, None, None, None, None, None, None, None, None, None, None, None, None, None, None, None, None, None, None, None, None, None, None, None, None, None, None, None, None, None, None, None, None, None, None, None, None, None, None, None, None, None, None, None, None, None, None, None, None, None, None, None, None, None, None, None, None, None, None, None, None, None, None, None, None, None, None, None, None, None, None, None, None, None, None, None, None, None, None, None, None, None, None, None, None, None, None, None, None, None, None, None, None, None, None, None, None, None, None, None, None, None, None, None, None, None, None, None, None, None, None, None, None, None, None, None, None, None, None, None, None, None, None, None, None, None, None, None, None, None, None, None, None, None, None, None, None, None, None, None, None, None, None, None, None, None, None, None, None, None, None, None, None, None, None, None, None, None, None, None, None, None, None, None, None, None, None, None, None, None, None, None, None, None, None, None, None, None, None, None, None, None, None, None, None, None, None, None, None, None, None, None, None, None, None, None, None, None, None, None, None, None, None, None, None, None, None, None, None, None, None, None, None, None, None, None, None, None, None, None, None, None, None, None, None, None, None, None, None, None, None, None, None, None, None, None, None, None, None, None, None, None, None, None, None, None, None, None, None, None, None, None, None, None, None, None, None, None, None, None, None, None, None, None, None, None, None, None, None, None, None, None, None, None, None, None, None, None, None, None, None, None, None, None, None, None, None, None, None, None, None, None, None, None, None, None, None, None, None, None, None, None, None, None, None, None, None, None, None, None, None, None, None, None, None, None, None, None, None, None, None, None, None, None, None, None, None, None, None, None, None, None, None, None, None, None, None, None, None, None, None, None, None, None, None, None, None, None, None, None, None, None, None, None, None, None, None, None, None, None, None, None, None, None, None, None, None, '0', '2', '0', '4.6k', '0', '0', '0', '0', '0', '0', '1', '0', '0', '0', '1', '0', '5', '0', '3', '2', '2', '0', '0', '54', '1', '0', '24', '314', '0', '0', '0', '0', '0', '0', '0', '0', '0', '1', '0', '0', '4.8k', '0', '0', '0', '0', '0', '0', '0', '0', '0', '0', '4', '1', '0', '0', '0', '60', '0', '11', '0', '8', '0', '0', '0', '2', '0', '0', '0', '1.4k', '0', '4', '0', '0', '0', '0', '0', '0', '1', '0', '0', '0', '4', '1', '1', '0', None, None, None, None, None, None, None, None, None, None, None, None, None, None, None, None, None, None, None, None, None, None, None, None, None, None, None, None, None, None, None, None, None, None, None, None, None, None, None, None, None, None, None, None, None, None, None, None, None, None, None, None, None, None, None, None, None, None, None, None, None, None, None, None, None, None, None, None, None, None, None, None, None, None, None, None, None, None, None, None, None, None, None, None, None, None, None, None, None, None, None, None, None, None, None, None, None, None, None, None, None, None, None, None, None, None, None, None, None, None, None, None, None, None, None, None, None, None, None, None, None, None, None, None, None, None, None, None, None, None, None, None, None, None, None, None, None, None, None, None, None, None, None, None, None, None, None, None, None, None, None, None, None, None, None, None, None, None, None, None, None, None, None, None, None, None, None, None, None, None, None, None, None, None, None, None, None, None, None, None, None, None, None, None, None, None, None, None, None, None, None, None, None, None, None, None, None, None, None, None, None, None, None, None, None, None, None, None, None, None, None, None, None, None, None, None, None, None, None, None, None, None, None, None, None, None, None, None, None, None, None, None, None, None, None, None, None, None, None, None, None, None, None, None, None, None, None, None, None, None, None, None, None, None, None, None, None, None, None, None, None, None, None, None, None, None, None, None, None, None, None, None, None, None, None, None, None, None, None, None, None, None, None, None, None, None, None, None, None, None, None, None, None, None, None, None, None, None, None, None, None, None, None, None, None, None, None, None, None, None, None, None, None, None, None, None, None, None, None, None, None, None, None, None, None, None, None, None, None, None, None, None, None, None, None, None, None, None, None, None, None, None, None, None, None, None, None, None, None, None, None, None, None, None, None, None, None, None, None, None, None, None, None, None, None, None, None, None, None, None, None, None, None, None, None, None, None, None, None, None, None, None, None, None, None, None, None, None, None, None, None, None, None, None, None, None, None, None, None, None, None, None, None, None, None, None, None, None, None, None, None, None, None, None, None, None, None, None, None, None, None, None, None, None, None, None, None, None, '0', '0', None, '0', '2', '0', '0', '4.2k', '0', '37', '2', '1', '0', '12', '1', '92', '0', '1', '0', '0', '0', '0', '1', '1', '1', '0', '0', '123', '0', '1', '0', '0', '0', '1', '7', '0', '0', '433', '60', '0', '1', '0', '0', '1', '4', '1', '0', '0', '1', '1', '0', '33', '0', '0', '0', '15', '0', '0', '1', '0', '1.6k', '491', '0', '0', '0', '0', '17', '1', None, '1.2k', '1', '0', '68', '0', '0', '1', '1', '0', '0', '0', '0', '19', '0', '158', '14', '0', '0', None, None, None, None, None, None, None, None, None, None, None, None, None, None, None, None, None, None, None, None, None, None, None, None, None, None, None, None, None, None, None, None, None, None, None, None, None, None, None, None, None, None, None, None, None, None, None, None, None, None, None, None, None, None, None, None, None, None, None, None, None, None, None, None, None, None, None, None, None, None, None, None, None, None, None, None, None, None, None, None, None, None, None, None, None, None, None, None, None, None, None, None, None, None, None, None, None, None, None, None, None, None, None, None, None, None, None, None, None, None, None, None, None, None, None, None, None, None, None, None, None, None, None, None, None, None, None, None, None, None, None, None, None, None, None, None, None, None, None, None, None, None, None, None, None, None, None, None, None, None, None, None, None, None, None, None, None, None, None, None, None, None, None, None, None, None, None, None, None, None, None, None, None, None, None, None, None, None, None, None, None, None, None, None, None, None, None, None, None, None, None, None, None, None, None, None, None, None, None, None, None, None, None, None, None, None, None, None, None, None, None, None, None, None, None, None, None, None, None, None, None, None, None, None, None, None, None, None, None, None, None, None, None, None, None, None, None, None, None, None, None, None, None, None, None, None, None, None, None, None, None, None, None, None, None, None, None, None, None, None, None, None, None, None, None, None, None, None, None, None, None, None, None, None, None, None, None, None, None, None, None, None, None, None, None, None, None, None, None, None, None, None, None, None, None, None, None, None, None, None, None, None, None, None, None, None, None, None, None, None, None, None, None, None, None, None, None, None, None, None, None, None, None, None, None, None, None, None, None, None, None, None, None, None, None, None, None, None, None, None, None, None, None, None, None, None, None, None, None, None, None, None, None, None, None, None, None, None, None, None, None, None, None, None, None, None, None, None, None, None, None, None, None, None, None, None, None, None, None, None, None, None, None, None, None, None, None, None, None, None, None, None, None, None, None, None, None, None, None, None, None, None, None, None, None, None, None, None, None, None, None, None, None, None, None, None, None, None, None, None, None, None, None, None, None, None, None, None, None, None, None, None, None, None, None, None, None, None, None, None, None, None, None, None, None, None, None, None, None, None, None, None, None, None, None, None, None, None, None, None, None, None, None, None, None, None, '0', '0', '0', '84', '0', '1', '0', '1', '0', '0', '0', '0', '1', '0', '0', '3.1k', '0', '0', '0', '0', '0', '0', '0', '0', '0', '0', '0', '0', '0', '0', '2.4k', '1', '0', '0', '1', '0', '65', '0', '0', '0', '2', '0', '0', '0', '2', '0', '0', '0', '0', '0', '0', '145', '2', '0', '0', '0', '1', '0', '0', '1', '0', '0', '0', '0', '0', '0', '0', '0', '0', '0', '0', '0', None, None, None, None, None, None, None, None, None, None, None, None, None, None, None, None, None, None, None, None, None, None, None, None, None, None, None, None, None, None, None, None, None, None, None, None, None, None, None, None, None, None, None, None, None, None, None, None, None, None, None, None, None, None, None, None, None, None, None, None, None, None, None, None, None, None, None, None, None, None, None, None, None, None, None, None, None, None, None, None, None, None, None, None, None, None, None, None, None, None, None, None, None, None, None, None, None, None, None, None, None, None, None, None, None, None, None, None, None, None, None, None, None, None, None, None, None, None, None, None, None, None, None, None, None, None, None, None, None, None, None, None, None, None, None, None, None, None, None, None, None, None, None, None, None, None, None, None, None, None, None, None, None, None, None, None, None, None, None, None, None, None, None, None, None, None, None, None, None, None, None, None, None, None, None, None, None, None, None, None, None, None, None, None, None, None, None, None, None, None, None, None, None, None, None, None, None, None, None, None, None, None, None, None, None, None, None, None, None, None, None, None, None, None, None, None, None, None, None, None, None, None, None, None, None, '0', '0', '0', '0', '0', '0', '0', '0', '0', '0', '0', '0', '0', '0', '0', '0', None, None, None, None, None, None, None, None, None, None, None, None, None, None, None, None, None, None, None, None, None, None, None, None, None, None, None, None, None, None, None, None, None, None, None, None, None, None, None, None, None, None, None, None, None, None, None, None, None, None, None, None, None, None, None, None, None, None, None, None, None, None, None, None, None, None, None, None, None, None, None, None, None, None, None, None, None, None, None, None, None, None, None, None, None, None, None, None, None, None, None, None, None, None, None, None, None, None, None, None, None, None, None, None, None, None, None, None, None, None, None, None, None, None, None, None, None, None, None, None, None, None, None, None, None, None, None, None, None, None, None, None, None, None, None, None, None, None, None, None, None, None, None, None, None, None, None, None, None, None, None, None, None, None, None, None, None, None, None, None, None, None, None, None, None, None, None, None, None, None, None, None, None, None, None, None, None, None, None, None, None, None, None, None, None, None, None, None, None, None, None, None, None, None, None, None, None, None, None, None, None, None, None, None, None, None, None, None, None, None, None, None, None, None, None, None, None, None, None, None, None, None, None, None, None, None, None, None, None, None, None, None, None, None, None, None, '0', '0', '3k', '5', '10', '0', '0', '0', '1', '139', '0', '0', '0', '396', '0', '0', '0', '0', '0', '0', '0', '28.1k', '41', '0', '404', '10', '0', '0', '4', '0', '7', '28', '0', '1', '0', '0', '0', '16', '0', '1', '2', '0', '45', '0', '1', '1', '0', '0', '1', '0', '0', '0', '10.9k', '0', '0', '0', '0', '0', '0', '0', '0', '0', '0', '0', '0', '0', '0', '0', '0', '0', '0', '0', '8', '1', '0', '0', '0', '0', '0']\n"
     ]
    }
   ],
   "source": [
    "star = []\n",
    "for slug in slugs:\n",
    "    url =f'https://github.com/{slug}/'\n",
    "    star.append(stars_count(url))\n",
    "    \n",
    "print(star)"
   ]
  },
  {
   "cell_type": "code",
   "execution_count": 304,
   "metadata": {},
   "outputs": [
    {
     "data": {
      "text/plain": [
       "8776"
      ]
     },
     "execution_count": 304,
     "metadata": {},
     "output_type": "execute_result"
    }
   ],
   "source": [
    "len(star)"
   ]
  },
  {
   "cell_type": "code",
   "execution_count": 305,
   "metadata": {},
   "outputs": [],
   "source": [
    "raw_slug_data[\"stars\"] = star"
   ]
  },
  {
   "cell_type": "code",
   "execution_count": 306,
   "metadata": {},
   "outputs": [
    {
     "name": "stdout",
     "output_type": "stream",
     "text": [
      "                                 id        spdx  \\\n",
      "0  MDEwOlJlcG9zaXRvcnkxODA1NjY0NzE=  Apache-2.0   \n",
      "1  MDEwOlJlcG9zaXRvcnkxMzQyMzY5NTk=  Apache-2.0   \n",
      "2  MDEwOlJlcG9zaXRvcnk1OTc5OTQxOQ==  Apache-2.0   \n",
      "3  MDEwOlJlcG9zaXRvcnkzMDkxNTc1MDI=  Apache-2.0   \n",
      "4  MDEwOlJlcG9zaXRvcnkxOTYwNTU3Nw==  Apache-2.0   \n",
      "\n",
      "                            slug           createdat  \\\n",
      "0  kderme/spark-memory-simulator 2019-04-10 11:22:43   \n",
      "1     zhangyineng/pentaho_kettle 2018-05-21 07:55:12   \n",
      "2          zorba-processor/zorba 2016-05-27 02:56:03   \n",
      "3                  jsoniq/jsoniq 2020-11-01 18:08:05   \n",
      "4                   28msec/zorba 2014-05-09 09:13:04   \n",
      "\n",
      "                       description primarylanguage  \\\n",
      "0                             None           Scala   \n",
      "1                             None            Java   \n",
      "2      Zorba - the NoSQL processor             C++   \n",
      "3  JSONiq: The JSON Query Language             C++   \n",
      "4  JSONiq & XQuery Query Processor             C++   \n",
      "\n",
      "                                             branch  commits  \\\n",
      "0  MDM6UmVmMTgwNTY2NDcxOnJlZnMvaGVhZHMvU2ltdWxhdG9y    19996   \n",
      "1      MDM6UmVmMTM0MjM2OTU5OnJlZnMvaGVhZHMvbWFzdGVy    19995   \n",
      "2      MDM6UmVmNTk3OTk0MTk6cmVmcy9oZWFkcy9tYXN0ZXI=    19995   \n",
      "3      MDM6UmVmMzA5MTU3NTAyOnJlZnMvaGVhZHMvbWFzdGVy    19994   \n",
      "4      MDM6UmVmMTk2MDU1Nzc6cmVmcy9oZWFkcy9tYXN0ZXI=    19994   \n",
      "\n",
      "                 asof status stars  \n",
      "0 2021-01-03 21:47:19   Init     0  \n",
      "1 2021-01-03 20:15:13   Init     0  \n",
      "2 2021-01-03 14:36:17   Init    29  \n",
      "3 2021-01-03 18:40:48   Init     0  \n",
      "4 2021-01-03 15:58:09   Init   113  \n"
     ]
    }
   ],
   "source": [
    "print(raw_slug_data.head())"
   ]
  },
  {
   "cell_type": "code",
   "execution_count": 307,
   "metadata": {},
   "outputs": [],
   "source": [
    "raw_slug_data.to_csv(r'/home/zz3hs/git/dspg21oss/output/repo_slugs_stars_commits_bt_10000_20000.csv', index = False)"
   ]
  },
  {
   "cell_type": "code",
   "execution_count": 319,
   "metadata": {},
   "outputs": [],
   "source": [
    "df = pd.read_csv('/home/zz3hs/git/dspg21oss/output/repo_slugs_stars_commits_bt_10000_20000.csv')"
   ]
  },
  {
   "cell_type": "code",
   "execution_count": 320,
   "metadata": {},
   "outputs": [
    {
     "data": {
      "text/html": [
       "<div>\n",
       "<style scoped>\n",
       "    .dataframe tbody tr th:only-of-type {\n",
       "        vertical-align: middle;\n",
       "    }\n",
       "\n",
       "    .dataframe tbody tr th {\n",
       "        vertical-align: top;\n",
       "    }\n",
       "\n",
       "    .dataframe thead th {\n",
       "        text-align: right;\n",
       "    }\n",
       "</style>\n",
       "<table border=\"1\" class=\"dataframe\">\n",
       "  <thead>\n",
       "    <tr style=\"text-align: right;\">\n",
       "      <th></th>\n",
       "      <th>slug</th>\n",
       "      <th>stars</th>\n",
       "    </tr>\n",
       "  </thead>\n",
       "  <tbody>\n",
       "    <tr>\n",
       "      <th>0</th>\n",
       "      <td>kderme/spark-memory-simulator</td>\n",
       "      <td>0</td>\n",
       "    </tr>\n",
       "    <tr>\n",
       "      <th>1</th>\n",
       "      <td>zhangyineng/pentaho_kettle</td>\n",
       "      <td>0</td>\n",
       "    </tr>\n",
       "    <tr>\n",
       "      <th>2</th>\n",
       "      <td>zorba-processor/zorba</td>\n",
       "      <td>29</td>\n",
       "    </tr>\n",
       "    <tr>\n",
       "      <th>3</th>\n",
       "      <td>jsoniq/jsoniq</td>\n",
       "      <td>0</td>\n",
       "    </tr>\n",
       "    <tr>\n",
       "      <th>4</th>\n",
       "      <td>28msec/zorba</td>\n",
       "      <td>113</td>\n",
       "    </tr>\n",
       "    <tr>\n",
       "      <th>...</th>\n",
       "      <td>...</td>\n",
       "      <td>...</td>\n",
       "    </tr>\n",
       "    <tr>\n",
       "      <th>8771</th>\n",
       "      <td>xiaoxueyong/my-bootstrap</td>\n",
       "      <td>0</td>\n",
       "    </tr>\n",
       "    <tr>\n",
       "      <th>8772</th>\n",
       "      <td>khoahuong/Bootstrap</td>\n",
       "      <td>0</td>\n",
       "    </tr>\n",
       "    <tr>\n",
       "      <th>8773</th>\n",
       "      <td>EvanD7657/WIP-Clicking-Game</td>\n",
       "      <td>0</td>\n",
       "    </tr>\n",
       "    <tr>\n",
       "      <th>8774</th>\n",
       "      <td>inspades/bootstrap</td>\n",
       "      <td>0</td>\n",
       "    </tr>\n",
       "    <tr>\n",
       "      <th>8775</th>\n",
       "      <td>Kodijunkie/kodijunkierepo</td>\n",
       "      <td>0</td>\n",
       "    </tr>\n",
       "  </tbody>\n",
       "</table>\n",
       "<p>8776 rows × 2 columns</p>\n",
       "</div>"
      ],
      "text/plain": [
       "                               slug stars\n",
       "0     kderme/spark-memory-simulator     0\n",
       "1        zhangyineng/pentaho_kettle     0\n",
       "2             zorba-processor/zorba    29\n",
       "3                     jsoniq/jsoniq     0\n",
       "4                      28msec/zorba   113\n",
       "...                             ...   ...\n",
       "8771       xiaoxueyong/my-bootstrap     0\n",
       "8772            khoahuong/Bootstrap     0\n",
       "8773    EvanD7657/WIP-Clicking-Game     0\n",
       "8774             inspades/bootstrap     0\n",
       "8775      Kodijunkie/kodijunkierepo     0\n",
       "\n",
       "[8776 rows x 2 columns]"
      ]
     },
     "execution_count": 320,
     "metadata": {},
     "output_type": "execute_result"
    }
   ],
   "source": [
    "#print(df.columns)\n",
    "#print(df.describe())\n",
    "#print(df.shape)\n",
    "#df.info\n",
    "df[[\"slug\", \"stars\"]]"
   ]
  },
  {
   "cell_type": "code",
   "execution_count": 323,
   "metadata": {},
   "outputs": [
    {
     "data": {
      "text/plain": [
       "0.8428669097538742"
      ]
     },
     "execution_count": 323,
     "metadata": {},
     "output_type": "execute_result"
    }
   ],
   "source": [
    "#repo_slug_R_stars_100\n",
    "#https://github.com/jimtheflash/breftools/\n",
    "df_star_na = df[df[\"stars\"].isna()]\n",
    "print(df_star_na.shape) \n",
    "print(7397/8776) #percent repo with na stars"
   ]
  },
  {
   "cell_type": "code",
   "execution_count": 350,
   "metadata": {},
   "outputs": [
    {
     "name": "stdout",
     "output_type": "stream",
     "text": [
      "(1379, 11)\n"
     ]
    }
   ],
   "source": [
    "#save repos with valid star numbers \n",
    "df_star = df.dropna(subset=[\"stars\"])\n",
    "print(df_star.shape) "
   ]
  },
  {
   "cell_type": "code",
   "execution_count": 327,
   "metadata": {},
   "outputs": [
    {
     "data": {
      "text/html": [
       "<div>\n",
       "<style scoped>\n",
       "    .dataframe tbody tr th:only-of-type {\n",
       "        vertical-align: middle;\n",
       "    }\n",
       "\n",
       "    .dataframe tbody tr th {\n",
       "        vertical-align: top;\n",
       "    }\n",
       "\n",
       "    .dataframe thead th {\n",
       "        text-align: right;\n",
       "    }\n",
       "</style>\n",
       "<table border=\"1\" class=\"dataframe\">\n",
       "  <thead>\n",
       "    <tr style=\"text-align: right;\">\n",
       "      <th></th>\n",
       "      <th>id</th>\n",
       "      <th>spdx</th>\n",
       "      <th>slug</th>\n",
       "      <th>createdat</th>\n",
       "      <th>description</th>\n",
       "      <th>primarylanguage</th>\n",
       "      <th>branch</th>\n",
       "      <th>commits</th>\n",
       "      <th>asof</th>\n",
       "      <th>status</th>\n",
       "      <th>stars</th>\n",
       "    </tr>\n",
       "  </thead>\n",
       "  <tbody>\n",
       "    <tr>\n",
       "      <th>18</th>\n",
       "      <td>MDEwOlJlcG9zaXRvcnkzMjUwNDcwOTI=</td>\n",
       "      <td>Apache-2.0</td>\n",
       "      <td>tdudzik/dotty-test</td>\n",
       "      <td>2020-12-28 15:26:23</td>\n",
       "      <td>NaN</td>\n",
       "      <td>Scala</td>\n",
       "      <td>MDM6UmVmMzI1MDQ3MDkyOnJlZnMvaGVhZHMvbWFpbg==</td>\n",
       "      <td>19971</td>\n",
       "      <td>2021-01-03 18:33:16</td>\n",
       "      <td>Init</td>\n",
       "      <td>NaN</td>\n",
       "    </tr>\n",
       "    <tr>\n",
       "      <th>76</th>\n",
       "      <td>MDEwOlJlcG9zaXRvcnkyNDMyOTMyODE=</td>\n",
       "      <td>Apache-2.0</td>\n",
       "      <td>XSanC/FLink</td>\n",
       "      <td>2020-02-26 15:13:56</td>\n",
       "      <td>NaN</td>\n",
       "      <td>Java</td>\n",
       "      <td>MDM6UmVmMjQzMjkzMjgxOnJlZnMvaGVhZHMvbWFzdGVy</td>\n",
       "      <td>19904</td>\n",
       "      <td>2021-01-03 15:08:41</td>\n",
       "      <td>Init</td>\n",
       "      <td>NaN</td>\n",
       "    </tr>\n",
       "    <tr>\n",
       "      <th>77</th>\n",
       "      <td>MDEwOlJlcG9zaXRvcnkzMjQwNzQ3MDA=</td>\n",
       "      <td>Apache-2.0</td>\n",
       "      <td>devyaniB/Flink</td>\n",
       "      <td>2020-12-24 05:33:59</td>\n",
       "      <td>NaN</td>\n",
       "      <td>Java</td>\n",
       "      <td>MDM6UmVmMzI0MDc0NzAwOnJlZnMvaGVhZHMvbWFzdGVy</td>\n",
       "      <td>19904</td>\n",
       "      <td>2021-01-03 17:37:44</td>\n",
       "      <td>Init</td>\n",
       "      <td>NaN</td>\n",
       "    </tr>\n",
       "    <tr>\n",
       "      <th>78</th>\n",
       "      <td>MDEwOlJlcG9zaXRvcnk2MTY3MzYzNw==</td>\n",
       "      <td>Apache-2.0</td>\n",
       "      <td>craiig/spark-keychain</td>\n",
       "      <td>2016-06-21 23:17:19</td>\n",
       "      <td>clone of apache/spark</td>\n",
       "      <td>Scala</td>\n",
       "      <td>MDM6UmVmNjE2NzM2Mzc6cmVmcy9oZWFkcy9icmFuY2gtMi...</td>\n",
       "      <td>19904</td>\n",
       "      <td>2021-01-03 13:59:48</td>\n",
       "      <td>Init</td>\n",
       "      <td>NaN</td>\n",
       "    </tr>\n",
       "    <tr>\n",
       "      <th>79</th>\n",
       "      <td>MDEwOlJlcG9zaXRvcnkyNzYzNDA1NDc=</td>\n",
       "      <td>Apache-2.0</td>\n",
       "      <td>JakaMohorko/MastersDissFlink</td>\n",
       "      <td>2020-07-01 09:54:33</td>\n",
       "      <td>NaN</td>\n",
       "      <td>Java</td>\n",
       "      <td>MDM6UmVmMjc2MzQwNTQ3OnJlZnMvaGVhZHMvbWFzdGVy</td>\n",
       "      <td>19904</td>\n",
       "      <td>2021-01-03 22:20:43</td>\n",
       "      <td>Init</td>\n",
       "      <td>NaN</td>\n",
       "    </tr>\n",
       "  </tbody>\n",
       "</table>\n",
       "</div>"
      ],
      "text/plain": [
       "                                  id        spdx  \\\n",
       "18  MDEwOlJlcG9zaXRvcnkzMjUwNDcwOTI=  Apache-2.0   \n",
       "76  MDEwOlJlcG9zaXRvcnkyNDMyOTMyODE=  Apache-2.0   \n",
       "77  MDEwOlJlcG9zaXRvcnkzMjQwNzQ3MDA=  Apache-2.0   \n",
       "78  MDEwOlJlcG9zaXRvcnk2MTY3MzYzNw==  Apache-2.0   \n",
       "79  MDEwOlJlcG9zaXRvcnkyNzYzNDA1NDc=  Apache-2.0   \n",
       "\n",
       "                            slug            createdat            description  \\\n",
       "18            tdudzik/dotty-test  2020-12-28 15:26:23                    NaN   \n",
       "76                   XSanC/FLink  2020-02-26 15:13:56                    NaN   \n",
       "77                devyaniB/Flink  2020-12-24 05:33:59                    NaN   \n",
       "78         craiig/spark-keychain  2016-06-21 23:17:19  clone of apache/spark   \n",
       "79  JakaMohorko/MastersDissFlink  2020-07-01 09:54:33                    NaN   \n",
       "\n",
       "   primarylanguage                                             branch  \\\n",
       "18           Scala       MDM6UmVmMzI1MDQ3MDkyOnJlZnMvaGVhZHMvbWFpbg==   \n",
       "76            Java       MDM6UmVmMjQzMjkzMjgxOnJlZnMvaGVhZHMvbWFzdGVy   \n",
       "77            Java       MDM6UmVmMzI0MDc0NzAwOnJlZnMvaGVhZHMvbWFzdGVy   \n",
       "78           Scala  MDM6UmVmNjE2NzM2Mzc6cmVmcy9oZWFkcy9icmFuY2gtMi...   \n",
       "79            Java       MDM6UmVmMjc2MzQwNTQ3OnJlZnMvaGVhZHMvbWFzdGVy   \n",
       "\n",
       "    commits                 asof status stars  \n",
       "18    19971  2021-01-03 18:33:16   Init   NaN  \n",
       "76    19904  2021-01-03 15:08:41   Init   NaN  \n",
       "77    19904  2021-01-03 17:37:44   Init   NaN  \n",
       "78    19904  2021-01-03 13:59:48   Init   NaN  \n",
       "79    19904  2021-01-03 22:20:43   Init   NaN  "
      ]
     },
     "execution_count": 327,
     "metadata": {},
     "output_type": "execute_result"
    }
   ],
   "source": [
    "#repo_slug_R_stars\n",
    "#tb = pd.crosstab(index =df['stars'], columns = 'count')\n",
    "#tb.sort_values(by=['stars'], ascending=False)\n",
    "\n",
    "\n",
    "#3932/5000 #na\n",
    "\n",
    "#na urls\n",
    "df_star_na.head()\n",
    "#na but page exists\n",
    "#print(df.iloc[4995][\"slug\"])\n",
    "#https://github.com/egeor90/stocks/\n",
    "#print(df[df[\"slug\"] ==  \"egeor90/stocks\"])\n",
    "\n",
    "#pages fail to identify\n",
    "#https://github.com/XSanC/FLink\n",
    "#https://github.com/JakaMohorko/MastersDissFlink\n",
    "\n",
    "#actual not found pages\n",
    "#https://github.com/tdudzik/dotty-test"
   ]
  },
  {
   "cell_type": "code",
   "execution_count": 328,
   "metadata": {},
   "outputs": [
    {
     "name": "stdout",
     "output_type": "stream",
     "text": [
      "18                 tdudzik/dotty-test\n",
      "76                        XSanC/FLink\n",
      "77                     devyaniB/Flink\n",
      "78              craiig/spark-keychain\n",
      "79       JakaMohorko/MastersDissFlink\n",
      "                    ...              \n",
      "8692           UnicoinUWA/go-ethereum\n",
      "8693    LegendaryCoinTech/go-ethereum\n",
      "8694                     FFTEAM/oscam\n",
      "8695                 peter-gyq/mpc-hc\n",
      "8696                      EricIO/helm\n",
      "Name: slug, Length: 7397, dtype: object\n"
     ]
    }
   ],
   "source": [
    "slugs = df_star_na[\"slug\"]\n",
    "print(slugs)"
   ]
  },
  {
   "cell_type": "code",
   "execution_count": 329,
   "metadata": {},
   "outputs": [
    {
     "name": "stdout",
     "output_type": "stream",
     "text": [
      "[None, '0', '0', '2', '0', '0', '0', '0', '0', '0', '84', '13.6k', '15', '0', '0', '0', '0', '7', '20', '0', '1', '1', '0', '1', '0', '8', '4.6k', '0', '0', '1', '0', '0', '0', '1', '0', '0', '0', '0', '0', '1', '10', '0', '0', '1', '343', '0', '0', '0', '0', '0', '0', '2', '0', '0', '0', '1', '0', '0', '0', '0', '0', '0', '0', '0', '0', '1', '0', '1', '0', '0', '0', '0', '0', '0', '0', '0', '28.2k', '0', '0', '0', '0', '0', '0', '0', '113', '3', '0', '0', '0', '400', '0', '0', '0', '31', '0', '10', '0', '0', '161', '13', '3', '0', '0', '0', '0', '23', '0', '0', '0', '0', None, None, None, None, None, None, None, None, None, None, None, None, None, None, None, None, None, None, None, None, None, None, None, None, None, None, None, None, None, None, None, None, None, None, None, None, None, None, None, None, None, None, None, None, None, None, None, None, None, None, None, None, None, None, None, None, None, None, None, None, None, None, None, None, None, None, None, None, None, None, None, None, None, None, None, None, None, None, None, None, None, None, None, None, None, None, None, None, None, None, None, None, None, None, None, None, None, None, None, None, None, None, None, None, None, None, None, None, None, None, None, None, None, None, None, None, None, None, None, None, None, None, None, None, None, None, None, None, None, None, None, None, None, None, None, None, None, None, None, None, None, None, None, None, None, None, None, None, None, None, None, None, None, None, None, None, None, None, None, None, None, None, None, None, None, None, None, None, None, None, None, None, None, None, None, None, None, None, None, None, None, None, None, None, None, None, None, None, None, None, None, None, None, None, None, None, None, None, None, None, None, None, None, None, None, None, None, None, None, None, None, None, None, None, None, None, None, None, None, None, None, None, None, None, None, None, None, None, None, None, None, None, None, None, None, None, None, None, None, None, None, None, None, None, None, None, None, None, None, None, None, None, None, None, None, None, None, None, None, None, None, None, None, None, None, None, None, None, None, None, None, None, None, None, None, None, None, None, None, None, None, None, None, None, None, None, None, None, None, None, None, None, None, None, None, None, None, None, None, None, None, None, None, None, None, None, None, None, None, None, None, None, None, None, None, None, None, None, None, None, None, None, None, None, None, None, None, None, None, None, None, None, None, None, None, None, '0', '0', '0', '0', '0', '0', '0', '0', '0', '0', '3', '199', '0', None, '0', '0', '0', '0', '0', '0', '0', '0', '0', '0', '14', '0', '0', '741', '0', '0', '0', '0', '0', '0', '0', '35', '0', '1', '1', '694', '0', '0', '6', '0', '0', '0', '0', '0', '0', '0', '23', '47', '0', '2', '0', '0', '0', '0', '138', '0', '0', '1', '1', '0', '0', '30', '0', '0', '0', '15', '0', '0', '0', '0', '0', '0', '106', None, None, None, None, None, None, None, None, None, None, None, None, None, None, None, None, None, None, None, None, None, None, None, None, None, None, None, None, None, None, None, None, None, None, None, None, None, None, None, None, None, None, None, None, None, None, None, None, None, None, None, None, None, None, None, None, None, None, None, None, None, None, None, None, None, None, None, None, None, None, None, None, None, None, None, None, None, None, None, None, None, None, None, None, None, None, None, None, None, None, None, None, None, None, None, None, None, None, None, None, None, None, None, None, None, None, None, None, None, None, None, None, None, None, None, None, None, None, None, None, None, None, None, None, None, None, None, None, None, None, None, None, None, None, None, None, None, None, None, None, None, None, None, None, None, None, None, None, None, None, None, None, None, None, None, None, None, None, None, None, None, None, None, None, None, None, None, None, None, None, None, None, None, None, None, None, None, None, None, None, None, None, None, None, None, None, None, None, None, None, None, None, None, None, None, None, None, None, None, None, None, None, None, None, None, None, None, None, None, None, None, None, None, None, None, None, None, None, None, None, None, None, None, None, None, None, None, None, None, None, None, None, None, None, None, None, None, None, None, None, None, None, None, None, None, None, None, None, None, None, None, None, None, None, None, None, None, None, None, None, None, None, None, None, None, None, None, None, None, None, None, None, None, None, None, None, None, None, None, None, None, None, None, None, None, None, None, None, None, None, None, None, None, None, None, None, None, None, None, None, None, None, None, None, None, None, None, None, None, None, None, None, None, None, None, None, None, None, None, None, None, None, None, None, None, None, None, None, None, None, None, None, None, None, None, None, None, None, None, None, None, None, None, None, None, None, None, None, None, None, None, None, None, None, None, None, None, None, None, None, None, None, None, None, None, None, None, None, None, None, None, None, None, None, None, None, None, None, None, None, None, None, None, None, None, None, None, None, None, None, None, None, None, None, None, None, None, None, None, None, None, None, None, None, None, None, None, None, None, None, None, None, None, None, None, None, None, None, None, None, None, None, None, None, None, None, None, None, None, None, None, None, None, None, None, None, None, None, None, None, None, None, None, None, None, None, None, None, None, None, None, None, None, None, None, None, None, None, None, None, None, None, None, None, None, None, None, None, None, None, None, None, None, None, None, None, None, None, None, None, None, None, None, None, '19', '0', '2', '2.4k', '1', '0', '0', '0', '0', '0', '0', '20', '1', '0', '0', '0', '0', '0', '0', '0', '0', '0', '0', '0', '0', '0', '0', '0', '0', '0', '0', '0', '0', '0', '0', '0', '0', '0', '0', '0', '0', '0', '5', '0', '0', '0', '0', '0', '0', '0', '96k', '0', '0', '0', '0', '0', '0', '0', '38', '0', '0', '0', '0', '0', '0', '0', '0', '0', '0', '0', None, None, None, None, None, None, None, None, None, None, None, None, None, None, None, None, None, None, None, None, None, None, None, None, None, None, None, None, None, None, None, None, None, None, None, None, None, None, None, None, None, None, None, None, None, None, None, None, None, None, None, None, None, None, None, None, None, None, None, None, None, None, None, None, None, None, None, None, None, None, None, None, None, None, None, None, None, None, None, None, None, None, None, None, None, None, None, None, None, None, None, None, None, None, None, None, None, None, None, None, None, None, None, None, None, None, None, None, None, None, None, None, None, None, None, None, None, None, None, None, None, None, None, None, None, None, None, None, None, None, None, None, None, None, None, None, None, None, None, None, None, None, None, None, None, None, None, None, None, None, None, None, None, None, None, None, None, None, None, None, None, None, None, None, None, None, None, None, None, None, None, None, None, None, None, None, None, None, None, None, None, None, None, None, None, None, None, None, None, None, None, None, None, None, None, None, None, None, None, None, None, None, None, None, None, None, None, None, None, None, None, None, None, None, None, None, None, None, None, None, None, None, None, None, None, None, None, None, None, None, None, None, None, None, None, None, None, None, None, None, None, None, None, None, None, None, None, None, None, None, None, None, None, None, None, None, None, None, None, None, None, None, None, None, None, None, None, None, None, None, None, None, None, None, None, None, None, None, None, None, None, None, None, None, None, None, None, None, None, None, None, None, None, None, None, None, None, None, None, None, None, None, None, None, None, None, None, None, None, None, None, None, None, None, None, None, None, None, None, None, None, None, None, None, None, None, None, None, None, None, None, None, None, None, None, None, None, None, None, None, None, None, None, None, None, None, None, None, None, None, None, None, None, None, None, None, None, None, None, None, None, None, None, None, None, None, None, None, None, None, None, None, None, None, None, None, None, None, None, None, None, None, None, None, None, None, None, None, None, None, None, None, None, '1', '2', '65', None, '0', '0', '0', '0', '0', '0', '1.1k', '0', '0', '26', '8', '0', '40', '0', '46', '0', '0', '0', '0', '0', '0', '1', '0', '0', '0', '0', '0', '0', '0', '0', '4', '40', '0', '3.8k', '2', '116', '36', '13', '1', '0', '0', '1', '2', '0', '0', '132', '0', '0', '0', '0', '0', '0', '3', '0', '0', '0', '0', '0', '1', '0', '0', '0', '2', '0', '0', '0', '0', '0', '0', None, None, None, None, None, None, None, None, None, None, None, None, None, None, None, None, None, None, None, None, None, None, None, None, None, None, None, None, None, None, None, None, None, None, None, None, None, None, None, None, None, None, None, None, None, None, None, None, None, None, None, None, None, None, None, None, None, None, None, None, None, None, None, None, None, None, None, None, None, None, None, None, None, None, None, None, None, None, None, None, None, None, None, None, None, None, None, None, None, None, None, None, None, None, None, None, None, None, None, None, None, None, None, None, None, None, None, None, None, None, None, None, None, None, None, None, None, None, None, None, None, None, None, None, None, None, None, None, None, None, None, None, None, None, None, None, None, None, None, None, None, None, None, None, None, None, None, None, None, None, None, None, None, None, None, None, None, None, None, None, None, None, None, None, None, None, None, None, None, None, None, None, None, None, None, None, None, None, None, None, None, None, None, None, None, None, None, None, None, None, None, None, None, None, None, None, None, None, None, None, None, None, None, None, None, None, None, None, None, None, None, None, None, None, None, None, None, None, None, None, None, None, None, None, None, None, None, None, None, None, None, None, None, None, None, None, None, None, None, None, None, None, None, None, None, None, None, None, None, None, None, None, None, None, None, None, None, None, None, None, None, None, None, None, None, None, None, None, None, None, None, None, None, None, None, None, None, None, None, None, None, None, None, None, None, None, None, None, None, None, None, None, None, None, None, None, None, None, None, None, None, None, None, None, None, None, None, None, None, None, None, None, None, None, None, None, None, None, None, None, None, None, None, None, None, None, None, None, None, None, None, None, None, None, None, None, None, None, None, None, None, None, None, None, None, None, None, None, None, None, None, None, None, None, None, None, None, None, None, None, None, None, None, None, None, None, None, None, None, None, None, None, None, None, None, None, None, None, None, None, None, None, None, None, None, None, None, None, None, None, None, None, None, None, None, None, None, None, None, None, None, None, None, None, None, None, None, None, None, None, None, None, None, None, None, None, None, None, None, None, None, None, None, None, None, None, None, None, None, None, None, None, None, None, None, None, None, None, None, None, None, None, None, None, None, None, None, None, None, None, None, None, None, None, None, None, None, None, None, None, None, None, None, None, None, None, None, None, None, None, None, None, None, None, None, '0', '0', '0', '0', '0', '131', '45', '1.9k', None, None, '0', '1.4k', '1', '0', '0', '3', '19', '558', None, '1', '2', '19', '0', '1', '23', '3', '1', '0', '0', '244', '0', '18.8k', '50', '0', None, '1', '0', '0', '1', '0', '0', '7', '0', '0', '0', '0', '0', '0', '0', '15', '0', '3', '0', '0', '5', '0', '0', '0', '12', '0', '0', '0', '2', '0', '13', '1', '0', '0', '0', '0', '0', '1', '0', None, None, None, None, None, None, None, None, None, None, None, None, None, None, None, None, None, None, None, None, None, None, None, None, None, None, None, None, None, None, None, None, None, None, None, None, None, None, None, None, None, None, None, None, None, None, None, None, None, None, None, None, None, None, None, None, None, None, None, None, None, None, None, None, None, None, None, None, None, None, None, None, None, None, None, None, None, None, None, None, None, None, None, None, None, None, None, None, None, None, None, None, None, None, None, None, None, None, None, None, None, None, None, None, None, None, None, None, None, None, None, None, None, None, None, None, None, None, None, None, None, None, None, None, None, None, None, None, None, None, None, None, None, None, None, None, None, None, None, None, None, None, None, None, None, None, None, None, None, None, None, None, None, None, None, None, None, None, None, None, None, None, None, None, None, None, None, None, None, None, None, None, None, None, None, None, None, None, None, None, None, None, None, None, None, None, None, None, None, None, None, None, None, None, None, None, None, None, None, None, None, None, None, None, None, None, None, None, None, None, None, None, None, None, None, None, None, None, None, None, None, None, None, None, None, None, None, None, None, None, None, None, None, None, None, None, None, None, None, None, None, None, None, None, None, None, None, None, None, None, None, None, None, None, None, None, None, None, None, None, None, None, None, None, None, None, None, None, None, None, None, None, None, None, None, None, None, None, None, None, None, None, None, None, None, None, None, None, None, None, None, None, None, None, None, None, None, None, None, None, None, None, None, None, None, None, None, None, None, None, None, None, None, None, None, None, None, None, None, None, None, None, None, None, None, None, None, None, None, None, None, None, None, None, None, None, None, None, None, None, None, None, None, None, None, None, None, None, None, None, None, None, None, None, None, None, None, None, None, None, None, None, None, None, None, None, None, None, None, None, None, None, None, None, None, None, None, None, None, None, None, None, None, None, None, None, None, None, None, None, None, None, None, None, None, None, None, None, None, None, None, None, None, None, None, None, None, None, None, None, None, None, None, None, None, None, None, None, None, None, None, None, None, None, None, None, None, None, None, None, None, None, None, None, None, None, None, None, None, None, None, None, None, None, None, None, None, None, None, None, None, None, None, None, None, None, None, None, None, None, None, None, None, None, None, None, None, None, None, None, None, None, None, None, None, None, None, None, None, None, '0', '43', '0', '1.6k', '1', '1', '0', '0', '223', '0', '0', '3', '0', '0', '0', '0', '712', '1', '0', '0', '0', '0', '0', '0', '1', '0', '1', '0', '0', '0', '0', '0', '1', '0', '0', '0', '0', None, '0', '0', '0', '1', '0', '1', '0', '60', '0', '0', '756', '0', '3', '0', '2', '2', '0', '0', '0', '3', '0', '0', '0', '1', '2', '0', '0', '0', '0', '0', '0', '0', '154', '0', '0', None, '0', '0', '0', '1.5k', '0', '1', None, None, None, None, None, None, None, None, None, None, None, None, None, None, None, None, None, None, None, None, None, None, None, None, None, None, None, None, None, None, None, None, None, None, None, None, None, None, None, None, None, None, None, None, None, None, None, None, None, None, None, None, None, None, None, None, None, None, None, None, None, None, None, None, None, None, None, None, None, None, None, None, None, None, None, None, None, None, None, None, None, None, None, None, None, None, None, None, None, None, None, None, None, None, None, None, None, None, None, None, None, None, None, None, None, None, None, None, None, None, None, None, None, None, None, None, None, None, None, None, None, None, None, None, None, None, None, None, None, None, None, None, None, None, None, None, None, None, None, None, None, None, None, None, None, None, None, None, None, None, None, None, None, None, None, None, None, None, None, None, None, None, None, None, None, None, None, None, None, None, None, None, None, None, None, None, None, None, None, None, None, None, None, None, None, None, None, None, None, None, None, None, None, None, None, None, None, None, None, None, None, None, None, None, None, None, None, None, None, None, None, None, None, None, None, None, None, None, None, None, None, None, None, None, None, None, None, None, None, None, None, None, None, None, None, None, None, None, None, None, None, None, None, None, None, None, None, None, None, None, None, None, None, None, None, None, None, None, None, None, None, None, None, None, None, None, None, None, None, None, None, None, None, None, None, None, None, None, None, None, None, None, None, None, None, None, None, None, None, None, None, None, None, None, None, None, None, None, None, None, None, None, None, None, None, None, None, None, None, None, None, None, None, None, None, None, None, None, None, None, None, None, None, None, None, None, None, None, None, None, None, None, None, None, None, None, None, None, None, None, None, None, None, None, None, None, None, None, None, None, None, None, None, None, None, None, None, None, None, None, None, None, None, None, None, None, None, None, None, None, None, None, None, None, None, None, None, None, None, None, None, None, None, None, None, None, None, None, None, None, None, None, None, None, None, None, None, None, None, None, None, None, None, None, None, None, None, None, None, None, None, None, None, None, None, None, None, None, None, None, None, None, None, None, None, '3', '3.2k', '60', '0', '0', '2', '0', '0', '0', '4', '2', '0', '0', '0', '0', '0', '12', '0', '0', '0', '0', '0', '3', '10.9k', '32', '1', '1', '0', '127', '0', '0', '1', '0', '1', '0', '0', '0', '0', '0', '0', '0', '0', '0', '1', '42', '0', '0', '0', '0', '0', '1', '1', '0', '0', '1', '0', '1', '1', '0', '0', '2.1k', '0', '0', '1', '2', None, '0', '0', '903', '0', '0', '0', '0', '0', '0', '0', '0', '21', '0', '0', '1', '3', '2', '11.2k', '0', '4', '11', None, None, None, None, None, None, None, None, None, None, None, None, None, None, None, None, None, None, None, None, None, None, None, None, None, None, None, None, None, None, None, None, None, None, None, None, None, None, None, None, None, None, None, None, None, None, None, None, None, None, None, None, None, None, None, None, None, None, None, None, None, None, None, None, None, None, None, None, None, None, None, None, None, None, None, None, None, None, None, None, None, None, None, None, None, None, None, None, None, None, None, None, None, None, None, None, None, None, None, None, None, None, None, None, None, None, None, None, None, None, None, None, None, None, None, None, None, None, None, None, None, None, None, None, None, None, None, None, None, None, None, None, None, None, None, None, None, None, None, None, None, None, None, None, None, None, None, None, None, None, None, None, None, None, None, None, None, None, None, None, None, None, None, None, None, None, None, None, None, None, None, None, None, None, None, None, None, None, None, None, None, None, None, None, None, None, None, None, None, None, None, None, None, None, None, None, None, None, None, None, None, None, None, None, None, None, None, None, None, None, None, None, None, None, None, None, None, None, None, None, None, None, None, None, None, None, None, None, None, None, None, None, None, None, None, None, None, None, None, None, None, None, None, None, None, None, None, None, None, None, None, None, None, None, None, None, None, None, None, None, None, None, None, None, None, None, None, None, None, None, None, None, None, None, None, None, None, None, None, None, None, None, None, None, None, None, None, None, None, None, None, None, None, None, None, None, None, None, None, None, None, None, None, None, None, None, None, None, None, None, None, None, None, None, None, None, None, None, None, None, None, None, None, None, None, None, None, None, None, None, None, None, None, None, None, None, None, None, None, None, None, None, None, None, None, None, None, None, None, None, None, None, None, None, None, None, None, None, None, None, None, None, None, None, None, None, None, None, None, None, None, None, None, None, None, None, None, None, None, None, None, None, None, None, None, None, None, None, None, None, None, None, None, None, None, None, None, None, None, None, None, None, None, None, None, None, None, None, None, None, None, None, None, None, None, None, None, None, None, None, None, None, None, None, None, None, None, None, None, None, None, None, None, None, None, None, None, None, None, None, None, None, None, None, None, None, None, None, None, None, None, None, None, None, None, None, None, None, None, None, '0', '0', '1', '0', '55', '1', '0', '0', '0', '18', '255', '0', '0', '0', '0', '0', '0', '0', '1', '0', '0', '0', '0', '0', '0', '4', '0', '2', '0', '552', '247', '0', '5', '0', '6', '2', '0', '0', '0', '0', '718', '9.9k', '0', '0', '0', '1', '0', '0', '29.8k', '2.8k', '0', '1', '0', '0', '0', '0', '8', '0', '0', '0', '0', '3', '0', '0', '0', '0', '0', '0', '1', '218', '0', '0', '2', '0', '0', '0', '1', '0', '0', '0', '0', '0', '0', '0', '0', '1', '0', '1', '194', '0', '0', '0', '0', '0', '0', '0', '0', '1', '761', '0', '0', '0', '0', None, None, None, None, None, None, None, None, None, None, None, None, None, None, None, None, None, None, None, None, None, None, None, None, None, None, None, None, None, None, None, None, None, None, None, None, None, None, None, None, None, None, None, None, None, None, None, None, None, None, None, None, None, None, None, None, None, None, None, None, None, None, None, None, None, None, None, None, None, None, None, None, None, None, None, None, None, None, None, None, None, None, None, None, None, None, None, None, None, None, None, None, None, None, None, None, None, None, None, None, None, None, None, None, None, None, None, None, None, None, None, None, None, None, None, None, None, None, None, None, None, None, None, None, None, None, None, None, None, None, None, None, None, None, None, None, None, None, None, None, None, None, None, None, None, None, None, None, None, None, None, None, None, None, None, None, None, None, None, None, None, None, None, None, None, None, None, None, None, None, None, None, None, None, None, None, None, None, None, None, None, None, None, None, None, None, None, None, None, None, None, None, None, None, None, None, None, None, None, None, None, None, None, None, None, None, None, None, None, None, None, None, None, None, None, None, None, None, None, None, None, None, None, None, None, None, None, None, None, None, None, None, None, None, None, None, None, None, None, None, None, None, None, None, None, None, None, None, None, None, None, None, None, None, None, None, None, None, None, None, None, None, None, None, None, None, None, None, None, None, None, None, None, None, None, None, None, None, None, None, None, None, None, None, None, None, None, None, None, None, None, None, None, None, None, None, None, None, None, None, None, None, None, None, None, None, None, None, None, None, None, None, None, None, None, None, None, None, None, None, None, None, None, None, None, None, None, None, None, None, None, None, None, None, None, None, None, None, None, None, None, None, None, None, None, None, None, None, None, None, None, None, None, None, None, None, None, None, None, None, None, None, None, None, None, None, None, None, None, None, None, None, None, None, None, None, None, None, None, None, None, None, None, '0', '0', '0', '0', '0', '0', '0', '0', '0', '0', '0', '0', '0', '452', '1', '2', '0', '0', '1', '0', '39.2k', '0', '0', '1', '0', '0', '0', '0', '1', '0', '0', '2.8k', '0', '0', '0', '1', '0', '0', '1', '0', '0', '31', '309', '45', '0', '0', '0', '501', '14.8k', '12', '61', '282', '0', '85', '0', '5.7k', '0', '0', '0', '4', '0', '0', '0', '0', '1', '595', '0', '0', '0', '1.1k', '0', '0', '0', '0', '39', '0', '0', '1', '0', '8.8k', '0', '2', '139', '0', '0', '0', '0', '0', '0', '0', '0', '0', '0', '0', '0', '0', '0', None, None, None, None, None, None, None, None, None, None, None, None, None, None, None, None, None, None, None, None, None, None, None, None, None, None, None, None, None, None, None, None, None, None, None, None, None, None, None, None, None, None, None, None, None, None, None, None, None, None, None, None, None, None, None, None, None, None, None, None, None, None, None, None, None, None, None, None, None, None, None, None, None, None, None, None, None, None, None, None, None, None, None, None, None, None, None, None, None, None, None, None, None, None, None, None, None, None, None, None, None, None, None, None, None, None, None, None, None, None, None, None, None, None, None, None, None, None, None, None, None, None, None, None, None, None, None, None, None, None, None, None, None, None, None, None, None, None, None, None, None, None, None, None, None, None, None, None, None, None, None, None, None, None, None, None, None, None, None, None, None, None, None, None, None, None, None, None, None, None, None, None, None, None, None, None, None, None, None, None, None, None, None, None, None, None, None, None, None, None, None, None, None, None, None, None, None, None, None, None, None, None, None, None, None, None, None, None, None, None, None, None, None, None, None, None, None, None, None, None, None, None, None, None, None, None, None, None, None, None, None, None, None, None, None, None, None, None, None, None, None, None, None, None, None, None, None, None, None, None, None, None, None, None, None, None, None, None, None, None, None, None, None, None, None, None, None, None, None, None, None, None, None, None, None, None, None, None, None, None, None, None, None, None, None, None, None, None, None, None, None, None, None, None, None, None, None, None, None, None, None, None, None, None, None, None, None, None, None, None, None, None, None, None, None, None, None, None, None, None, None, None, None, None, None, None, None, None, None, None, None, None, None, None, None, None, None, None, None, None, None, None, None, None, None, None, None, None, None, None, None, None, None, None, None, None, None, None, None, None, None, None, None, None, None, None, None, None, None, None, None, None, None, None, None, None, None, None, None, None, None, None, None, None, None, None, None, None, None, None, None, None, None, None, None, None, None, None, None, None, None, None, None, None, None, None, None, None, None, None, None, '0', '0', '2', '0', '0', '1', '0', '0', '0', '1', '1', '0', '1', '0', '0', '2', '1', '0', '0', '0', '26', '0', '22', '59', '0', '0', '1.5k', '0', '0', '0', '0', '0', '0', '0', '111', '0', '0', None, '0', '0', '0', '678', '0', '255', '6', '3.5k', '0', '0', '0', '0', '3', '0', '1', '0', '0', '0', '0', '0', '1', '0', '0', '0', '0', '0', '0', '0', '22k', '0', '1', '0', '0', '0', '0', '0', '0', '0', '0', '0', '0', '0', '883', '0', '0', '6', '3k', '0', None, None, None, None, None, None, None, None, None, None, None, None, None, None, None, None, None, None, None, None, None, None, None, None, None, None, None, None, None, None, None, None, None, None, None, None, None, None, None, None, None, None, None, None, None, None, None, None, None, None, None, None, None, None, None, None, None, None, None, None, None, None, None, None, None, None, None, None, None, None, None, None, None, None, None, None, None, None, None, None, None, None, None, None, None, None, None, None, None, None, None, None, None, None, None, None, None, None, None, None, None, None, None, None, None, None, None, None, None, None, None, None, None, None, None, None, None, None, None, None, None, None, None, None, None, None, None, None, None, None, None, None, None, None, None, None, None, None, None, None, None, None, None, None, None, None, None, None, None, None, None, None, None, None, None, None, None, None, None, None, None, None, None, None, None, None, None, None, None, None, None, None, None, None, None, None, None, None, None, None, None, None, None, None, None, None, None, None, None, None, None, None, None, None, None, None, None, None, None, None, None, None, None, None, None, None, None, None, None, None, None, None, None, None, None, None, None, None, None, None, None, None, None, None, None, None, None, None, None, None, None, None, None, None, None, None, None, None, None, None, None, None, None, None, None, None, None, None, None, None, None, None, None, None, None, None, None, None, None, None, None, None, None, None, None, None, None, None, None, None, None, None, None, None, None, None, None, None, None, None, None, None, None, None, None, None, None, None, None, None, None, None, None, None, None, None, None, None, None, None, None, None, None, None, None, None, None, None, None, None, None, None, None, None, None, None, None, None, None, None, None, None, None, None, None, None, None, None, None, None, None, None, None, None, None, None, None, None, None, None, None, None, None, None, None, None, None, None, None, None, None, None, None, None, None, None, None, None, None, None, None, None, None, None, None, None, None, None, None, None, None, None, None, None, None, None, None, None, None, None, None, None, None, None, None, None, None, None, None, None, None, None, None, None, None, None, None, None, None, None, None, None, None, None, None, None, None, None, None, None, None, None, None, None, None, None, None, None, None, None, None, None, None, None, None, None, None, '0', '0', '523', '0', '64', '0', '121', '0', '155', '16', '0', '23', '0', '0', '0', '0', '0', '3', '0', '1.2k', '8', '0', '0', '0', '101', '0', '9', '0', '0', '0', '0', '353', '0', '1', '1', '0', '7', '0', '0', '0', '48', '2', '0', '0', '0', '0', '275', '0', '6', '0', '90', '123', '424', '0', '0', '0', '0', '0', '0', '71', '0', '0', '0', '0', '30', '0', '0', '0', '0', '0', '0', '0', '0', '0', '0', '322', '0', '0', '0', '0', '0', '0', '0', '0', '0', '0', '1', '0', '0', '0', '40', '1', None, None, None, None, None, None, None, None, None, None, None, None, None, None, None, None, None, None, None, None, None, None, None, None, None, None, None, None, None, None, None, None, None, None, None, None, None, None, None, None, None, None, None, None, None, None, None, None, None, None, None, None, None, None, None, None, None, None, None, None, None, None, None, None, None, None, None, None, None, None, None, None, None, None, None, None, None, None, None, None, None, None, None, None, None, None, None, None, None, None, None, None, None, None, None, None, None, None, None, None, None, None, None, None, None, None, None, None, None, None, None, None, None, None, None, None, None, None, None, None, None, None, None, None, None, None, None, None, None, None, None, None, None, None, None, None, None, None, None, None, None, None, None, None, None, None, None, None, None, None, None, None, None, None, None, None, None, None, None, None, None, None, None, None, None, None, None, None, None, None, None, None, None, None, None, None, None, None, None, None, None, None, None, None, None, None, None, None, None, None, None, None, None, None, None, None, None, None, None, None, None, None, None, None, None, None, None, None, None, None, None, None, None, None, None, None, None, None, None, None, None, None, None, None, None, None, None, None, None, None, None, None, None, None, None, None, None, None, None, None, None, None, None, None, None, None, None, None, None, None, None, None, None, None, None, None, None, None, None, None, None, None, None, None, None, None, None, None, None, None, None, None, None, None, None, None, None, None, None, None, None, None, None, None, None, None, None, None, None, None, None, None, None, None, None, None, None, None, None, None, None, None, None, None, None, None, None, None, None, None, None, None, None, None, None, None, None, None, None, None, None, None, None, None, None, None, None, None, None, None, None, None, None, None, None, None, None, None, None, None, None, None, None, None, None, None, None, None, None, None, None, None, None, None, None, None, None, None, None, None, None, None, None, None, None, None, None, None, None, None, None, None, None, None, None, None, None, None, None, None, None, None, None, None, None, None, None, None, None, None, None, None, None, None, None, None, None, None, None, None, None, None, None, None, None, None, None, None, None, None, None, None, None, None, None, None, None, None, None, None, None, None, None, None, None, None, None, None, None, None, None, None, None, '0', '0', '0', '0', '15.1k', '2.8k', '0', '467', '0', '0', '0', '0', '2', '44', '0', '1', '0', '0', '23', '0', '0', '0', '188', '4.6k', '0', '0', '0', '0', None, '0', '0', '0', '0', '0', '1', '0', '0', '0', '0', '0', '0', '0', '0', '0', '0', '0', '0', '0', None, '0', '0', '0', '0', '0', '0', '0', '0', None, '0', '0', '0', '0', '87', '0', '0', '117', '0', '0', '0', '0', '3', '0', '0', '0', '1', '0', '0', '8.6k', '2.2k', '0', '0', '7', '0', '0', '0', '0', '0', '3', '13', '1', '1', '8', '0', '0', '0', '0', '0', '0', '0', '1', '0', '0', '0', '1', '0', '1', '0', '0', '0', '0', '0', '0', '0', '1', None, None, None, None, None, None, None, None, None, None, None, None, None, None, None, None, None, None, None, None, None, None, None, None, None, None, None, None, None, None, None, None, None, None, None, None, None, None, None, None, None, None, None, None, None, None, None, None, None, None, None, None, None, None, None, None, None, None, None, None, None, None, None, None, None, None, None, None, None, None, None, None, None, None, None, None, None, None, None, None, None, None, None, None, None, None, None, None, None, None, None, None, None, None, None, None, None, None, None, None, None, None, None, None, None, None, None, None, None, None, None, None, None, None, None, None, None, None, None, None, None, None, None, None, None, None, None, None, None, None, None, None, None, None, None, None, None, None, None, None, None, None, None, None, None, None, None, None, None, None, None, None, None, None, None, None, None, None, None, None, None, None, None, None, None, None, None, None, None, None, None, None, None, None, None, None, None, None, None, None, None, None, None, None, None, None, None, None, None, None, None, None, None, None, None, None, None, None, None, None, None, None, None, None, None, None, None, None, None, None, None, None, None, None, None, None, None, None, None, None, None, None, None, None, None, None, None, None, None, None, None, None, None, None, None, None, None, None, None, None, None, None, None, None, None, None, None, None, None, None, None, None, None, None, None, None, None, None, None, None, None, None, None, None, None, None, None, None, None, None, None, None, None, None, None, None, None, None, None, None, None, None, None, None, None, None, None, None, None, None, None, None, None, None, None, None, None, None, None, None, None, None, None, None, None, None, None, None, None, None, None, None, None, None, None, None, None, None, None, None, None, None, None, None, None, None, None, None, None, None, None, None, None, None, None, None, None, None, None, '2', '0', '0', '0', '1', '0', None, '0', '0', '0', '2', '0', '23', '0', '0', '2', '2.5k', '0', '0', '0', '0', '0', '0', '1', '1', '1', '0', '0', '0', '0', '1', '0', '0', '4.1k', '0', '1', '0', '1', '1', '663', '0', '0', '0', '0', '0', '273', '12.6k', '0', '0', '6', '0', '0', '0', '0', '1', '1', '0', '0', '0', '0', '0', '0', '0', '1', '17', '0', '0', '0', '3', '1.8k', '0', '0', '247', '0', '133', '14', '0', '0', '0', '0', '0', None, None, None, None, None, None, None, None, None, None, None, None, None, None, None, None, None, None, None, None, None, None, None, None, None, None, None, None, None, None, None, None, None, None, None, None, None, None, None, None, None, None, None, None, None, None, None, None, None, None, None, None, None, None, None, None, None, None, None, None, None, None, None, None, None, None, None, None, None, None, None, None, None, None, None, None, None, None, None, None, None, None, None, None, None, None, None, None, None, None, None, None, None, None, None, None, None, None, None, None, None, None, None, None, None, None, None, None, None, None, None, None, None, None, None, None, None, None, None, None, None, None, None, None, None, None, None, None, None, None, None, None, None, None, None, None, None, None, None, None, None, None, None, None, None, None, None, None, None, None, None, None, None, None, None, None, None, None, None, None, None, None, None, None, None, None, None, None, None, None, None, None, None, None, None, None, None, None, None, None, None, None, None, None, None, None, None, None, None, None, None, None, None, None, None, None, None, None, None, None, None, None, None, None, None, None, None, None, None, None, None, None, None, None, None, None, None, None, None, None, None, None, None, None, None, None, None, None, None, None, None, None, None, None, None, None, None, None, None, None, None, None, None, None, None, None, None, None, None, None, None, None, None, None, None, None, None, None, None, None, None, None, None, None, None, None, None, None, None, None, None, None, None, None, None, None, None, None, None, None, None, None, None, None, None, None, None, None, None, None, None, None, None, None, None, None, None, None, None, None, None, None, None, None, None, None, None, None, None, None, None, None, None, None, None, None, None, None, None, None, None, None, None, None, None, None, None, None, None, None, None, None, None, None, None, None, None, None, None, None, None, None, None, None, None, None, None, None, None, None, None, None, None, None, None, None, None, None, None, None, None, None, None, None, None, None, None, None, None, None, None, None, None, None, None, None, None, None, None, None, None, None, None, None, None, None, None, None, None, None, None, None, None, None, None, None, None, None, None, None, None, None, None, None, None, None, None, None, None, None, None, None, None, '1', '0', '0', '0', '645', '0', '0', '0', '0', '0', '0', '1', '36', '2', '5', '21', '0', '0', '0', '0', '0', '0', '0', '1', '0', '1', '0', '2', '0', '18', '24', '2.4k', '0', '19.5k', '0', '1', '0', '0', '0', '16', '0', '0', '0', None, '0', '0', '0', '0', '0', '0', '301', '0', '0', '0', '1', '3.2k', '0', '0', '0', '7', '1', '0', '0', '0', '0', '0', '0', '0', '0', '0', '0', '8.6k', '289', '0', '0', '1', '0', '6', '2.4k', '0', '0', '0', '0', '0', '0', '0', '0', None, None, None, None, None, None, None, None, None, None, None, None, None, None, None, None, None, None, None, None, None, None, None, None, None, None, None, None, None, None, None, None, None, None, None, None, None, None, None, None, None, None, None, None, None, None, None, None, None, None, None, None, None, None, None, None, None, None, None, None, None, None, None, None, None, None, None, None, None, None, None, None, None, None, None, None, None, None, None, None, None, None, None, None, None, None, None, None, None, None, None, None, None, None, None, None, None, None, None, None, None, None, None, None, None, None, None, None, None, None, None, None, None, None, None, None, None, None, None, None, None, None, None, None, None, None, None, None, None, None, None, None, None, None, None, None, None, None, None, None, None, None, None, None, None, None, None, None, None, None, None, None, None, None, None, None, None, None, None, None, None, None, None, None, None, None, None, None, None, None, None, None, None, None, None, None, None, None, None, None, None, None, None, None, None, None, None, None, None, None, None, None, None, None, None, None, None, None, None, None, None, None, None, None, None, None, None, None, None, None, None, None, None, None, None, None, None, None, None, None, None, None, None, None, None, None, None, None, None, None, None, None, None, None, None, None, None, None, None, None, None, None, None, None, None, None, None, None, None, None, None, None, None, None, None, None, None, None, None, None, None, None, None, None, None, None, None, None, None, None, None, None, None, None, None, None, None, None, None, None, None, None, None, None, None, None, None, None, None, None, None, None, None, None, None, None, None, None, None, None, None, None, None, None, None, None, None, None, None, None, None, None, None, None, None, None, None, None, None, None, None, None, None, None, None, None, None, None, None, None, None, None, None, None, None, None, None, None, None, None, None, None, None, None, None, None, None, None, None, None, None, None, None, None, None, None, None, None, None, None, None, None, None, None, None, None, None, None, None, None, None, None, None, None, None, None, None, None, None, None, None, None, None, None, None, None, None, None, None, None, None, None, None, None, None, None, None, None, None, None, None, None, None, None, None, None, '2', '0', '0', '0', '0', '0', '14', '3.8k', '1.4k', '124', '0', '0', '0', '1', '15', '0', '0', '4', '0', '0', '0', '0', '0', '0', '1', '0', '0', '0', '0', '0', '0', '0', '0', '0', '0', '0', '0', '1', '0', '0', '0', '0', '0', '0', '0', '111', '0', '0', '0', '0', '0', '0', '0', '0', None, '2', '0', '0', '0', '0', '0', '0', '0', '0', '0', '0', '0', '0', '0', '0', '0', '0', '1', '0', '0', '0', '0', '0', '0', '0', '0', '0', '0', '0', None, '0', '0', '0', '0', None, None, None, None, None, None, None, None, None, None, None, None, None, None, None, None, None, None, None, None, None, None, None, None, None, None, None, None, None, None, None, None, None, None, None, None, None, None, None, None, None, None, None, None, None, None, None, None, None, None, None, None, None, None, None, None, None, None, None, None, None, None, None, None, None, None, None, None, None, None, None, None, None, None, None, None, None, None, None, None, None, None, None, None, None, None, None, None, None, None, None, None, None, None, None, None, None, None, None, None, None, None, None, None, None, None, None, None, None, None, None, None, None, None, None, None, None, None, None, None, None, None, None, None, None, None, None, None, None, None, None, None, None, None, None, None, None, None, None, None, None, None, None, None, None, None, None, None, None, None, None, None, None, None, None, None, None, None, None, None, None, None, None, None, None, None, None, None, None, None, None, None, None, None, None, None, None, None, None, None, None, None, None, None, None, None, None, None, None, None, None, None, None, None, None, None, None, None, None, None, None, None, None, None, None, None, None, None, None, None, None, None, None]\n"
     ]
    }
   ],
   "source": [
    "star = []\n",
    "for slug in slugs:\n",
    "    url =f'https://github.com/{slug}/'\n",
    "    star.append(stars_count(url))\n",
    "    \n",
    "    \n",
    "#https://github.com/AlbertoMiliano/Statistics/\n",
    "#https://github.com/codez0mb1e/HomeCreditDefaultRisk\n",
    "print(star)\n",
    "#2 na's out of 7 previoursly na's"
   ]
  },
  {
   "cell_type": "code",
   "execution_count": 337,
   "metadata": {},
   "outputs": [],
   "source": [
    "df_star_na = df_star_na.drop(columns = \"stars\")\n",
    "df_star_na[\"stars\"] = star"
   ]
  },
  {
   "cell_type": "code",
   "execution_count": 351,
   "metadata": {},
   "outputs": [
    {
     "name": "stdout",
     "output_type": "stream",
     "text": [
      "(1301, 11)\n"
     ]
    }
   ],
   "source": [
    "#save repos with valid star numbers \n",
    "df_star_2 = df_star_na.dropna(subset=[\"stars\"])\n",
    "print(df_star_2.shape) "
   ]
  },
  {
   "cell_type": "code",
   "execution_count": 340,
   "metadata": {},
   "outputs": [
    {
     "name": "stdout",
     "output_type": "stream",
     "text": [
      "(6096, 11)\n",
      "0.8241178856293092\n",
      "0.6946216955332726\n"
     ]
    }
   ],
   "source": [
    "df_star_na_2 = df_star_na[df_star_na[\"stars\"].isna()]\n",
    "print(df_star_na_2.shape) \n",
    "print(6096/7397) #82 percent repos have na's on the second round of tries comparing to the first round\n",
    "print(6096/8776) #69 percent repos have na's on the second round of tries comparing to the original"
   ]
  },
  {
   "cell_type": "code",
   "execution_count": 341,
   "metadata": {},
   "outputs": [
    {
     "data": {
      "text/html": [
       "<div>\n",
       "<style scoped>\n",
       "    .dataframe tbody tr th:only-of-type {\n",
       "        vertical-align: middle;\n",
       "    }\n",
       "\n",
       "    .dataframe tbody tr th {\n",
       "        vertical-align: top;\n",
       "    }\n",
       "\n",
       "    .dataframe thead th {\n",
       "        text-align: right;\n",
       "    }\n",
       "</style>\n",
       "<table border=\"1\" class=\"dataframe\">\n",
       "  <thead>\n",
       "    <tr style=\"text-align: right;\">\n",
       "      <th></th>\n",
       "      <th>id</th>\n",
       "      <th>spdx</th>\n",
       "      <th>slug</th>\n",
       "      <th>createdat</th>\n",
       "      <th>description</th>\n",
       "      <th>primarylanguage</th>\n",
       "      <th>branch</th>\n",
       "      <th>commits</th>\n",
       "      <th>asof</th>\n",
       "      <th>status</th>\n",
       "      <th>stars</th>\n",
       "    </tr>\n",
       "  </thead>\n",
       "  <tbody>\n",
       "    <tr>\n",
       "      <th>18</th>\n",
       "      <td>MDEwOlJlcG9zaXRvcnkzMjUwNDcwOTI=</td>\n",
       "      <td>Apache-2.0</td>\n",
       "      <td>tdudzik/dotty-test</td>\n",
       "      <td>2020-12-28 15:26:23</td>\n",
       "      <td>NaN</td>\n",
       "      <td>Scala</td>\n",
       "      <td>MDM6UmVmMzI1MDQ3MDkyOnJlZnMvaGVhZHMvbWFpbg==</td>\n",
       "      <td>19971</td>\n",
       "      <td>2021-01-03 18:33:16</td>\n",
       "      <td>Init</td>\n",
       "      <td>None</td>\n",
       "    </tr>\n",
       "    <tr>\n",
       "      <th>185</th>\n",
       "      <td>MDEwOlJlcG9zaXRvcnkxMDQ3NDkwMDU=</td>\n",
       "      <td>GPL-3.0</td>\n",
       "      <td>ahmad18189/erp_test2</td>\n",
       "      <td>2017-09-25 12:47:41</td>\n",
       "      <td>test</td>\n",
       "      <td>Python</td>\n",
       "      <td>MDM6UmVmMTA0NzQ5MDA1OnJlZnMvaGVhZHMvZWRpdHM=</td>\n",
       "      <td>19603</td>\n",
       "      <td>2021-01-03 17:59:15</td>\n",
       "      <td>Init</td>\n",
       "      <td>None</td>\n",
       "    </tr>\n",
       "    <tr>\n",
       "      <th>186</th>\n",
       "      <td>MDEwOlJlcG9zaXRvcnkxNjkxNzU3NDg=</td>\n",
       "      <td>GPL-3.0</td>\n",
       "      <td>bhavikpatel7023/ERPNext_v8</td>\n",
       "      <td>2019-02-05 01:27:36</td>\n",
       "      <td>NaN</td>\n",
       "      <td>Python</td>\n",
       "      <td>MDM6UmVmMTY5MTc1NzQ4OnJlZnMvaGVhZHMvbWFzdGVy</td>\n",
       "      <td>19598</td>\n",
       "      <td>2021-01-03 14:20:51</td>\n",
       "      <td>Init</td>\n",
       "      <td>None</td>\n",
       "    </tr>\n",
       "    <tr>\n",
       "      <th>187</th>\n",
       "      <td>MDEwOlJlcG9zaXRvcnk3MjA2NDE4OQ==</td>\n",
       "      <td>Apache-2.0</td>\n",
       "      <td>shubhramittal/selenium</td>\n",
       "      <td>2016-10-27 02:40:36</td>\n",
       "      <td>NaN</td>\n",
       "      <td>JavaScript</td>\n",
       "      <td>MDM6UmVmNzIwNjQxODk6cmVmcy9oZWFkcy9tYXN0ZXI=</td>\n",
       "      <td>19597</td>\n",
       "      <td>2021-01-03 15:22:53</td>\n",
       "      <td>Init</td>\n",
       "      <td>None</td>\n",
       "    </tr>\n",
       "    <tr>\n",
       "      <th>188</th>\n",
       "      <td>MDEwOlJlcG9zaXRvcnkzMDE0NjE5NDA=</td>\n",
       "      <td>Apache-2.0</td>\n",
       "      <td>TeamChameleonDev/glitch-community</td>\n",
       "      <td>2020-10-05 15:52:48</td>\n",
       "      <td>NaN</td>\n",
       "      <td>JavaScript</td>\n",
       "      <td>MDM6UmVmMzAxNDYxOTQwOnJlZnMvaGVhZHMvbWFzdGVy</td>\n",
       "      <td>19595</td>\n",
       "      <td>2021-01-03 22:25:59</td>\n",
       "      <td>Init</td>\n",
       "      <td>None</td>\n",
       "    </tr>\n",
       "  </tbody>\n",
       "</table>\n",
       "</div>"
      ],
      "text/plain": [
       "                                   id        spdx  \\\n",
       "18   MDEwOlJlcG9zaXRvcnkzMjUwNDcwOTI=  Apache-2.0   \n",
       "185  MDEwOlJlcG9zaXRvcnkxMDQ3NDkwMDU=     GPL-3.0   \n",
       "186  MDEwOlJlcG9zaXRvcnkxNjkxNzU3NDg=     GPL-3.0   \n",
       "187  MDEwOlJlcG9zaXRvcnk3MjA2NDE4OQ==  Apache-2.0   \n",
       "188  MDEwOlJlcG9zaXRvcnkzMDE0NjE5NDA=  Apache-2.0   \n",
       "\n",
       "                                  slug            createdat description  \\\n",
       "18                  tdudzik/dotty-test  2020-12-28 15:26:23         NaN   \n",
       "185               ahmad18189/erp_test2  2017-09-25 12:47:41        test   \n",
       "186         bhavikpatel7023/ERPNext_v8  2019-02-05 01:27:36         NaN   \n",
       "187             shubhramittal/selenium  2016-10-27 02:40:36         NaN   \n",
       "188  TeamChameleonDev/glitch-community  2020-10-05 15:52:48         NaN   \n",
       "\n",
       "    primarylanguage                                        branch  commits  \\\n",
       "18            Scala  MDM6UmVmMzI1MDQ3MDkyOnJlZnMvaGVhZHMvbWFpbg==    19971   \n",
       "185          Python  MDM6UmVmMTA0NzQ5MDA1OnJlZnMvaGVhZHMvZWRpdHM=    19603   \n",
       "186          Python  MDM6UmVmMTY5MTc1NzQ4OnJlZnMvaGVhZHMvbWFzdGVy    19598   \n",
       "187      JavaScript  MDM6UmVmNzIwNjQxODk6cmVmcy9oZWFkcy9tYXN0ZXI=    19597   \n",
       "188      JavaScript  MDM6UmVmMzAxNDYxOTQwOnJlZnMvaGVhZHMvbWFzdGVy    19595   \n",
       "\n",
       "                    asof status stars  \n",
       "18   2021-01-03 18:33:16   Init  None  \n",
       "185  2021-01-03 17:59:15   Init  None  \n",
       "186  2021-01-03 14:20:51   Init  None  \n",
       "187  2021-01-03 15:22:53   Init  None  \n",
       "188  2021-01-03 22:25:59   Init  None  "
      ]
     },
     "execution_count": 341,
     "metadata": {},
     "output_type": "execute_result"
    }
   ],
   "source": [
    "df_star_na_2.head()"
   ]
  },
  {
   "cell_type": "code",
   "execution_count": 352,
   "metadata": {},
   "outputs": [
    {
     "name": "stdout",
     "output_type": "stream",
     "text": [
      "[None, '0', '0', '0', '0', '79', '0', '0', '1', '0', '0', '1', '4k', '1', '646', '0', '0', '0', '0', '0', '0', '0', '0', '0', '0', '2', '0', '0', '0', '308', '0', '0', '0', '3', '0', '8', '0', '331', '0', '0', '0', '0', '1', '0', '0', '1', '1', '0', '0', '0', '0', '0', '0', '0', '0', '0', '0', '0', '0', '0', '0', '0', '0', '0', '0', '0', '1', '0', '1', '0', '0', '1', '21.9k', '0', '0', '0', '2', '0', '0', '0', '0', '0', '1', None, None, None, None, None, None, None, None, None, None, None, None, None, None, None, None, None, None, None, None, None, None, None, None, None, None, None, None, None, None, None, None, None, None, None, None, None, None, None, None, None, None, None, None, None, None, None, None, None, None, None, None, None, None, None, None, None, None, None, None, None, None, None, None, None, None, None, None, None, None, None, None, None, None, None, None, None, None, None, None, None, None, None, None, None, None, None, None, None, None, None, None, None, None, None, None, None, None, None, None, None, None, None, None, None, None, None, None, None, None, None, None, None, None, None, None, None, None, None, None, None, None, None, None, None, None, None, None, None, None, None, None, None, None, None, None, None, None, None, None, None, None, None, None, None, None, None, None, None, None, None, None, None, None, None, None, None, None, None, None, None, None, None, None, None, None, None, None, None, None, None, None, None, None, None, None, None, None, None, None, None, None, None, None, None, None, None, None, None, None, None, None, None, None, None, None, None, None, None, None, None, None, None, None, None, None, None, None, None, None, None, None, None, None, None, None, None, None, None, None, None, None, None, None, None, None, None, None, None, None, None, None, None, None, None, None, None, None, None, None, None, None, None, None, None, None, None, None, None, None, None, None, None, None, None, None, None, None, None, None, None, None, None, None, None, None, None, None, None, None, None, None, None, None, None, None, None, None, None, None, None, None, None, None, None, None, None, None, None, None, None, None, None, None, None, None, None, None, None, None, None, None, None, None, None, None, None, None, None, None, None, None, None, None, None, None, None, None, None, None, None, None, None, None, None, None, None, None, None, None, None, None, None, None, None, None, None, None, None, None, None, None, None, None, None, None, None, None, None, None, None, None, None, None, None, None, None, None, None, None, None, None, None, None, None, None, None, None, None, None, None, None, None, None, None, None, None, None, None, None, None, None, None, None, None, None, None, None, None, None, None, None, None, None, None, None, None, None, None, None, None, None, None, None, None, None, None, None, None, None, None, None, None, None, None, None, None, None, None, None, None, None, None, None, None, None, None, None, None, None, None, None, None, None, None, None, None, None, None, None, None, None, None, None, None, None, None, None, None, None, None, None, None, None, None, None, None, None, None, None, None, None, None, '0', '0', '0', '0', '0', '0', '0', '0', '0', '115', '0', '0', '0', '0', '0', '0', '0', '45', '4.3k', '6.3k', '0', '0', '1', '0', '3', '221', '1', '0', '3', '1', '0', '0', '0', '0', '2', '0', '0', '1', '0', '0', '2', '1', '0', '0', '0', '0', '0', '1', '0', '5', '0', '0', '0', '0', '380', '0', '0', '1', '2', '93', '12', '0', '0', '0', '0', '0', '0', '0', '115', '1', '0', '0', '0', '0', '0', '0', '0', '1', '0', '0', '1', '0', '0', None, None, None, None, None, None, None, None, None, None, None, None, None, None, None, None, None, None, None, None, None, None, None, None, None, None, None, None, None, None, None, None, None, None, None, None, None, None, None, None, None, None, None, None, None, None, None, None, None, None, None, None, None, None, None, None, None, None, None, None, None, None, None, None, None, None, None, None, None, None, None, None, None, None, None, None, None, None, None, None, None, None, None, None, None, None, None, None, None, None, None, None, None, None, None, None, None, None, None, None, None, None, None, None, None, None, None, None, None, None, None, None, None, None, None, None, None, None, None, None, None, None, None, None, None, None, None, None, None, None, None, None, None, None, None, None, None, None, None, None, None, None, None, None, None, None, None, None, None, None, None, None, None, None, None, None, None, None, None, None, None, None, None, None, None, None, None, None, None, None, None, None, None, None, None, None, None, None, None, None, None, None, None, None, None, None, None, None, None, None, None, None, None, None, None, None, None, None, None, None, None, None, None, None, None, None, None, None, None, None, None, None, None, None, None, None, None, None, None, None, None, None, None, None, None, None, None, None, None, None, None, None, None, None, None, None, None, None, None, None, None, None, None, None, None, None, None, None, None, None, None, None, None, None, None, None, None, None, None, None, None, None, None, None, None, None, None, None, None, None, None, None, None, None, None, None, None, None, None, None, None, None, None, None, None, None, None, None, None, None, None, None, None, None, None, None, None, None, None, None, None, None, None, None, None, None, None, None, None, None, None, None, None, None, None, None, None, None, None, None, None, None, None, None, None, None, None, None, None, None, None, None, None, None, None, None, None, None, None, None, None, None, None, None, None, None, None, None, None, None, None, None, None, None, None, None, None, None, None, None, None, None, None, None, None, None, None, None, None, None, None, None, None, None, None, None, None, None, None, None, None, None, None, None, None, None, None, None, None, None, None, None, None, None, None, None, None, None, None, None, None, None, None, None, None, None, None, None, None, None, None, None, None, None, None, None, None, None, None, None, None, None, None, None, None, None, None, None, None, None, None, None, None, None, None, None, None, None, None, None, None, None, None, None, None, None, None, None, None, None, None, None, None, None, None, None, None, None, '0', '0', '0', '0', '0', '0', '0', '0', '0', '0', '0', '0', '0', '0', '0', '0', '0', '0', '0', '0', '0', '0', '0', '0', '0', '0', '0', '0', '1', '1', '0', '0', '0', None, '0', '0', '0', '0', '0', '0', '0', '1', '1', '0', '0', '0', '0', '0', '0', '0', '1', '0', None, '0', '0', '0', '3', '0', '0', '0', '222', None, '2', '5', '0', '0', '0', '0', None, None, '3', None, None, None, None, None, None, None, None, None, None, None, None, None, None, None, None, None, None, None, None, None, None, None, None, None, None, None, None, None, None, None, None, None, None, None, None, None, None, None, None, None, None, None, None, None, None, None, None, None, None, None, None, None, None, None, None, None, None, None, None, None, None, None, None, None, None, None, None, None, None, None, None, None, None, None, None, None, None, None, None, None, None, None, None, None, None, None, None, None, None, None, None, None, None, None, None, None, None, None, None, None, None, None, None, None, None, None, None, None, None, None, None, None, None, None, None, None, None, None, None, None, None, None, None, None, None, None, None, None, None, None, None, None, None, None, None, None, None, None, None, None, None, None, None, None, None, None, None, None, None, None, None, None, None, None, None, None, None, None, None, None, None, None, None, None, None, None, None, None, None, None, None, None, None, None, None, None, None, None, None, None, None, None, None, None, None, None, None, None, None, None, None, None, None, None, None, None, None, None, None, None, None, None, None, None, None, None, None, None, None, None, None, None, None, None, None, None, None, None, None, None, None, None, None, None, None, None, None, None, None, None, None, None, None, None, None, None, None, None, None, None, None, None, None, None, None, None, None, None, None, None, None, None, None, None, None, None, None, None, None, None, None, None, None, None, None, None, None, None, None, None, None, None, None, None, None, None, None, None, None, None, None, None, None, None, None, None, None, None, None, None, None, None, None, None, None, None, None, None, None, None, None, None, None, None, None, None, None, None, None, None, None, None, None, None, None, None, None, None, None, None, None, None, None, None, None, None, None, None, None, None, None, None, None, None, None, None, None, None, None, None, None, None, None, None, None, None, None, None, None, None, None, None, None, None, None, None, None, None, None, None, None, None, None, None, None, None, None, None, None, None, None, None, None, None, None, None, None, None, None, None, None, None, None, None, None, None, None, None, None, None, None, None, None, '1', '0', '1', '629', '0', '0', '12.1k', '0', '0', '1', '0', '0', '2k', '0', '0', '0', None, '0', '0', '0', '0', '1', '4.2k', '502', '6', '0', '0', '0', '0', '6', '0', '0', '413', '1', '0', None, '1', '0', '0', '0', '0', '0', '1', '12.2k', '0', '0', '0', '0', '1', '0', '0', '0', '0', '630', '0', '286', '0', '0', '0', '0', '0', '0', '0', '0', '3', '346', '0', '824', '1', '0', '0', '0', '0', '0', '734', '1', '9', '0', '0', None, None, None, None, None, None, None, None, None, None, None, None, None, None, None, None, None, None, None, None, None, None, None, None, None, None, None, None, None, None, None, None, None, None, None, None, None, None, None, None, None, None, None, None, None, None, None, None, None, None, None, None, None, None, None, None, None, None, None, None, None, None, None, None, None, None, None, None, None, None, None, None, None, None, None, None, None, None, None, None, None, None, None, None, None, None, None, None, None, None, None, None, None, None, None, None, None, None, None, None, None, None, None, None, None, None, None, None, None, None, None, None, None, None, None, None, None, None, None, None, None, None, None, None, None, None, None, None, None, None, None, None, None, None, None, None, None, None, None, None, None, None, None, None, None, None, None, None, None, None, None, None, None, None, None, None, None, None, None, None, None, None, None, None, None, None, None, None, None, None, None, None, None, None, None, None, None, None, None, None, None, None, None, None, None, None, None, None, None, None, None, None, None, None, None, None, None, None, None, None, None, None, None, None, None, None, None, None, None, None, None, None, None, None, None, None, None, None, None, None, None, None, None, None, None, None, None, None, None, None, None, None, None, None, None, None, None, None, None, None, None, None, None, None, None, None, None, None, None, None, None, None, None, None, None, None, None, None, None, None, None, None, None, None, None, None, None, None, None, None, None, None, None, None, None, None, None, None, None, None, None, None, None, None, None, None, None, None, None, None, None, None, None, None, None, None, None, None, None, None, None, None, None, None, None, None, None, None, None, None, None, None, None, None, None, None, None, None, None, None, None, None, None, None, None, None, None, None, None, None, None, None, None, None, None, None, None, None, None, None, None, None, None, None, None, None, None, None, None, None, None, None, None, None, None, None, None, None, None, None, None, None, None, None, None, None, None, None, None, None, None, None, None, None, None, None, None, None, None, None, None, None, None, None, None, None, None, None, None, None, None, None, None, None, None, None, None, None, None, None, None, None, None, None, None, None, None, None, None, None, None, None, None, None, None, None, None, None, None, None, None, None, None, None, None, None, None, None, None, None, None, None, None, None, None, None, None, None, None, None, None, None, None, None, None, None, None, None, None, None, None, None, None, None, None, '0', '1', '0', '0', '3', '0', '0', '0', '1', '0', '1.3k', '0', '0', '457', '0', '0', '0', '10.6k', '0', '0', '0', '0', '0', '0', '0', '0', '0', '0', '0', '0', '0', '0', '0', '7', '0', '2', '0', '0', '3', '0', '4.5k', '0', '1.2k', '11', '152', '0', '0', '0', '0', '0', '0', '0', '371', '1', '0', '0', '0', '9', '1', '0', '819', '0', '0', '11', '0', '0', '0', '0', '1', '222', '901', '0', '0', '0', '0', '0', '0', '0', '1', '159', '3', '1', '0', '0', '0', '0', '0', '0', '0', None, None, '0', '0', '0', '42', None, None, None, None, None, None, None, None, None, None, None, None, None, None, None, None, None, None, None, None, None, None, None, None, None, None, None, None, None, None, None, None, None, None, None, None, None, None, None, None, None, None, None, None, None, None, None, None, None, None, None, None, None, None, None, None, None, None, None, None, None, None, None, None, None, None, None, None, None, None, None, None, None, None, None, None, None, None, None, None, None, None, None, None, None, None, None, None, None, None, None, None, None, None, None, None, None, None, None, None, None, None, None, None, None, None, None, None, None, None, None, None, None, None, None, None, None, None, None, None, None, None, None, None, None, None, None, None, None, None, None, None, None, None, None, None, None, None, None, None, None, None, None, None, None, None, None, None, None, None, None, None, None, None, None, None, None, None, None, None, None, None, None, None, None, None, None, None, None, None, None, None, None, None, None, None, None, None, None, None, None, None, None, None, None, None, None, None, None, None, None, None, None, None, None, None, None, None, None, None, None, None, None, None, None, None, None, None, None, None, None, None, None, None, None, None, None, None, None, None, None, None, None, None, None, None, None, None, None, None, None, None, None, None, None, None, None, None, None, None, None, None, None, None, None, None, None, None, None, None, None, None, None, None, None, None, None, None, None, None, None, None, None, None, None, None, None, None, None, None, None, None, None, None, None, None, None, None, None, None, None, None, None, None, None, None, None, None, None, None, None, None, None, None, None, None, None, None, None, None, None, None, None, None, None, None, None, None, None, None, None, None, None, None, None, None, None, None, None, None, None, None, None, None, None, None, None, None, None, None, None, None, None, None, None, None, None, None, None, None, None, None, None, None, None, None, None, None, None, None, None, None, None, None, None, None, None, None, None, None, None, None, None, None, None, None, None, None, None, None, None, None, None, None, None, None, None, None, None, None, None, None, None, None, None, None, None, None, None, None, None, None, None, None, None, None, None, None, None, '5', '0', '2', '0', '0', '0', '0', '7', '0', '0', '0', '0', '1', '0', '0', '0', '1', '0', '0', '0', '1', '0', None, None, '0', '5', '1', '0', '0', '0', '0', '2', '0', '0', '0', '1', '0', '0', '0', '0', '0', '0', '0', '0', '0', '0', '0', '0', '0', '0', '0', '0', '0', '0', '0', '0', '0', '60', '1', '0', '0', '0', '0', '0', '0', '6', '5', '4', '2', '0', '1', '1', '0', '291', '0', '0', '3', '1', '1', '9', '0', None, '0', '0', '0', '0', None, None, None, None, None, None, None, None, None, None, None, None, None, None, None, None, None, None, None, None, None, None, None, None, None, None, None, None, None, None, None, None, None, None, None, None, None, None, None, None, None, None, None, None, None, None, None, None, None, None, None, None, None, None, None, None, None, None, None, None, None, None, None, None, None, None, None, None, None, None, None, None, None, None, None, None, None, None, None, None, None, None, None, None, None, None, None, None, None, None, None, None, None, None, None, None, None, None, None, None, None, None, None, None, None, None, None, None, None, None, None, None, None, None, None, None, None, None, None, None, None, None, None, None, None, None, None, None, None, None, None, None, None, None, None, None, None, None, None, None, None, None, None, None, None, None, None, None, None, None, None, None, None, None, None, None, None, None, None, None, None, None, None, None, None, None, None, None, None, None, None, None, None, None, None, None, None, None, None, None, None, None, None, None, None, None, None, None, None, None, None, None, None, None, None, None, None, None, None, None, None, None, None, None, None, None, None, None, None, None, None, None, None, None, None, None, None, None, None, None, None, None, None, None, None, None, None, None, None, None, None, None, None, None, None, None, None, None, None, None, None, None, None, None, None, None, None, None, None, None, None, None, None, None, None, None, None, None, None, None, None, None, None, None, None, None, None, None, None, None, None, None, None, None, None, None, None, None, None, None, None, None, None, None, None, None, None, None, None, None, None, None, None, None, None, None, None, None, None, None, None, None, None, None, None, None, None, None, None, None, None, None, None, None, None, None, None, None, None, None, None, None, None, None, None, None, None, None, None, None, None, None, None, None, None, None, None, None, None, None, None, None, None, None, None, None, None, None, None, None, None, None, None, None, None, None, None, None, None, None, None, None, None, None, None, None, None, None, None, None, None, None, None, None, None, None, None, None, None, None, None, None, None, None, None, None, None, None, None, None, None, None, None, None, None, None, None, None, None, None, None, None, None, None, None, None, None, None, None, None, None, None, None, None, None, None, None, None, None, None, None, None, None, None, None, None, None, None, None, None, None, None, None, None, None, None, None, None, None, None, None, None, None, None, None, None, None, None, None, None, None, None, None, None, None, None, None, None, None, None, None, '0', '0', '1', '0', '0', '0', '0', '8', '2', '1', '0', '0', '0', '92', '1', '0', '1', '0', '0', '0', '0', '0', '2', '0', '0', '0', '0', '1', '1', '0', '0', '0', '0', '0', '0', '0', '0', '0', '0', '0', '0', '0', '0', '0', '0', '0', '0', '0', '0', '0', '0', '0', '17', '0', '6', '0', '3', '1', '0', '0', '0', '0', '0', '0', '13', '0', '0', '0', '5', '1', '0', '0', '0', '0', '0', '0', '0', '0', '0', None, None, None, None, None, None, None, None, None, None, None, None, None, None, None, None, None, None, None, None, None, None, None, None, None, None, None, None, None, None, None, None, None, None, None, None, None, None, None, None, None, None, None, None, None, None, None, None, None, None, None, None, None, None, None, None, None, None, None, None, None, None, None, None, None, None, None, None, None, None, None, None, None, None, None, None, None, None, None, None, None, None, None, None, None, None, None, None, None, None, None, None, None, None, None, None, None, None, None, None, None, None, None, None, None, None, None, None, None, None, None, None, None, None, None, None, None, None, None, None, None, None, None, None, None, None, None, None, None, None, None, None, None, None, None, None, None, None, None, None, None, None, None, None, None, None, None, None, None, None, None, None, None, None, None, None, None, None, None, None, None, None, None, None, None, None, None, None, None, None, None, None, None, None, None, None, None, None, None, None, None, None, None, None, None, None, None, None, None, None, None, None, None, None, None, None, None, None, None, None, None, None, None, None, None, None, None, None, None, None, None, None, None, None, None, None, None, None, None, None, None, None, None, None, None, None, None, None, None, None, None, None, None, None, None, None, None, None, None, None, None, None, None, None, None, None, None, None, None, None, None, None, None, None, None, None, None, None, None, None, None, None, None, None, None, None, None, None, None, None, None, None, None, None, None, None, None, None, None, None, None, None, None, None, None, None, None, None, None, None, None, None, None, None, None, None, None, None, None, None, None, None, None, None, None, None, None, None, None, None, None, None, None, None, None, None, None, None, None, None, None, None, None, None, None, None, None, None, None, None, None, None, None, None, None, None, None, None, None, None, None, None, None, None, None, None, None, None, None, None, None, None, None, None, None, None, None, None, None, None, None, None, None, None, None, None, None, None, None, None, None, None, None, None, None, None, None, None, None, None, None, None, None, None, None, None, None, None, None, None, None, None, None, None, None, None, None, None, None, None, None, None, None, None, None, None, None, None, None, None, None, None, None, None, None, None, None, None, None, None, None, None, None, None, None, None, None, None, None, None, None, None, None, None, None, None, None, None, None, None, None, None, None, None, None, None, None, None, None, None, None, None, None, None, None, None, None, None, None, None, None, None, None, None, None, None, None, None, None, None, None, None, None, None, None, None, '0', '0', None, '0', '0', '0', '1', '0', '0', '3.4k', '0', '0', '0', '25', '43', '0', '0', '3', '1', '0', '0', '0', '0', '0', '1', '0', '0', '24', '0', '0', '484', '0', '0', '0', '2', '3', '0', '0', '0', '1', '1', '0', '0', '0', '1', '2.3k', '0', '0', '0', '0', '0', '0', '0', '0', '1.1k', '0', '1', '0', '1', '0', '104', '0', '1k', '1', '2', '5.7k', '0', '0', '1', None, '0', '0', '0', '0', '0', '0', '1', '0', '0', '0', '12', '0', '0', '0', '0', '0', '0', '0', None, None, None, None, None, None, None, None, None, None, None, None, None, None, None, None, None, None, None, None, None, None, None, None, None, None, None, None, None, None, None, None, None, None, None, None, None, None, None, None, None, None, None, None, None, None, None, None, None, None, None, None, None, None, None, None, None, None, None, None, None, None, None, None, None, None, None, None, None, None, None, None, None, None, None, None, None, None, None, None, None, None, None, None, None, None, None, None, None, None, None, None, None, None, None, None, None, None, None, None, None, None, None, None, None, None, None, None, None, None, None, None, None, None, None, None, None, None, None, None, None, None, None, None, None, None, None, None, None, None, None, None, None, None, None, None, None, None, None, None, None, None, None, None, None, None, None, None, None, None, None, None, None, None, None, None, None, None, None, None, None, None, None, None, None, None, None, None, None, None, None, None, None, None, None, None, None, None, None, None, None, None, None, None, None, None, None, None, None, None, None, None, None, None, None, None, None, None, None, None, None, None, None, None, None, None, None, None, None, None, None, None, None, None, None, None, None, None, None, None, None, None, None, None, None, None, None, None, None, None, None, None, None, None, None, None, None, None, None, None, None, None, None, None, None, None, None, None, None, None, None, None, None, None, None, None, None, None, None, None, None, None, None, None, None, None, None, None, None, None, None, None, None, None, None, None, None, None, None, None, None, None, None, None, None, None, None, None, None, None, None, None, None, None, None, None, None, None, None, None, None, None, None, None, None, None, None, None, None, None, None, None, None, None, None, None, None, None, None, None, None, None, None, None, None, None, None, None, None, None, None, None, None, None, None, None, None, None, None, None, None, None, None, None, None, None, None, None, None, None, None, None, None, None, None, None, None, None, None, None, None, None, None, None, None, None, None, None, None, None, None, None, None, None, None, None, None, None, None, None, None, None, None, None, None, None, None, None, None, None, None, None, None, None, None, None, None, None, None, None, None, None, None, None, None, None, None, None, None, None, None, None, None, None, None, None, None, None, None, None, None, None, None, None, None, None, None, None, None, None, None, None, None, None, None, None, None, None, None, None, None, None, None, None, '1', '0', '35.1k', '49', '0', '0', '0', '0', '0', '1.4k', '0', '0', '0', '0', '16.5k', '0', '0', '0', '1', '0', '1', None, '0', '0', '0', '0', '0', '1.1k', '0', '0', '5k', '0', '1', '0', '0', '0', '116', '24', '0', '0', '0', '0', '0', '70', '26', '0', '0', '27', '0', '0', '0', '0', '0', '89', '2', '0', '0', '13.1k', '2', '41', '0', '0', '9.1k', '0', '0', '0', '0', '0', '0', '0', '0', '0', '0', '0', '0', '141', '0', '449', '0', '5', '1', '1', '0', '0', '9', '0', '0', '0', '0', '0', '1', '0', '0', '0', '0', '0', '0', '0', '0', '0', None, None, None, None, None, None, None, None, None, None, None, None, None, None, None, None, None, None, None, None, None, None, None, None, None, None, None, None, None, None, None, None, None, None, None, None, None, None, None, None, None, None, None, None, None, None, None, None, None, None, None, None, None, None, None, None, None, None, None, None, None, None, None, None, None, None, None, None, None, None, None, None, None, None, None, None, None, None, None, None, None, None, None, None, None, None, None, None, None, None, None, None, None, None, None, None, None, None, None, None, None, None, None, None, None, None, None, None, None, None, None, None, None, None, None, None, None, None, None, None, None, None, None, None, None, None, None, None, None, None, None, None, None, None, None, None, None, None, None, None, None, None, None, None, None, None, None, None, None, None, None, None, None, None, None, None, None, None, None, None, None, None, None, None, None, None, None, None, None, None, None, None, None, None, None, None, None, None, None, None, None, None, None, None, None, None, None, None, None, None, None, None, None, None, None, None, None, None, None, None, None, None, None, None, None, None, None, None, None, None, None, None, None, None, None, None, None, None, None, None, None, None, None, None, None, None, None, None, None, None, None, None, None, None, None, None, None, None, None, None, None, None, None, None, None, None, None, None, None, None, None, None, None, None, None, None, None, None, None, None, None, None, None, None, None, None, None, None, None, None, None, None, None, None, None, None, None, None, None, None, None, None, None, None, None, None, None, None, None, None, None, None, None, None, None, None, None, None, None, None, None, None, None, None, None, None, None, None, None, None, None, None, None, None, None, None, None, None, None, None, None, None, None, None, None, None, None, None, None, None, None, None, None, None, None, None, None, None, None, None, None, None, None, None, None, None, None, None, None, None, None, None, None, None, None, None, None, None, None, None, None, None, None, None, None, None, None, None, None, None, None, None, None, None, None, None, None, None, None, None, None, None, None, None, None, None, None, None, None, None, None, None, None, None, None, None, None, None, None, None, None, None, None, None, None, None, None, None, None, None, None, None, None, None, None, None, None, None, None, None, None, None, None, None, None, None, None, None, None, None, None, None, None, '0', '1', '0', '3', '1', '69', '5', '0', '0', '7', '0', '1', '0', '0', '0', '0', '0', '0', '0', '0', '0', '0', '0', '0', '0', '2', '0', '0', '0', '0', '0', '0', '0', '0', '513', '0', '1', '3', '0', '0', '0', '1', '0', '36', '0', '30.9k', '138', '0', '1', '3', '13', '0', '4', '1.2k', '1', '1', '0', '0', '0', '0', '0', '0', '11', '0', '36', '0', '0', None, None, None, None, None, None, None, None, None, None, None, None, None, None, None, None, None, None, None, None, None, None, None, None, None, None, None, None, None, None, None, None, None, None, None, None, None, None, None, None, None, None, None, None, None, None, None, None, None, None, None, None, None, None, None, None, None, None, None, None, None, None, None, None, None, None, None, None, None, None, None, None, None, None, None, None, None, None, None, None, None, None, None, None, None, None, None, None, None, None, None, None, None, None, None, None, None, None, None, None, None, None, None, None, None, None, None, None, None, None, None, None, None, None, None, None, None, None, None, None, None, None, None, None, None, None, None, None, None, None, None, None, None, None, None, None, None, None, None, None, None, None, None, None, None, None, None, None, None, None, None, None, None, None, None, None, None, None, None, None, None, None, None, None, None, None, None, None, None, None, None, None, None, None, None, None, None, None, None, None, None, None, None, None, None, None, None, None, None, None, None, None, None, None, None, None, None, None, None, None, None, None, None, None, None, None, None, None, None, None, None, None, None, None, None, None, None, None, None, None, None, None, None, None, None, None, None, None, None, None, None, None, None, None, None, None, None, None, None, None, None, None, None, None, None, None, None, None, None, None, None, None, None, None, None, None, None, None, None, None, None, None, None, None, '0', '32', '10', '992', '0', '0', '0', '0', '0', '0', '0', '0', '0', '1', '0', '0', '6.1k', '0', '13.2k', '0', '0', '0', '0', None, None, None, None, None, None, None, None, None, None, None, None, None, None, None, None, None, None, None, None, None, None, None, None, None, None, None, None, None, None, None, None, None, None, None, None, None, None, None, None, None, None, None, None, None, None, None, None, None, None, None, None, None, None, None, None, None, None, None, None, None, None, None, None, None, None, None, None, None, None, None, None, None, None, None, None, None, None, None, None, None, None, None, None, None, None, None, None, None, None, None, None, None, None, None, None, None, None, None, None, None, None, None, None, None, None, None, None, None, None, None, None, None, None, None, None, None, None, None, None, None, None, None, None, None, None, None, None, None, None, None, None, None, None, None, None, None, None, '0', '0', '1', '0', '0', '4', '1', '0', '0', '0', '0', '0', '0', '0', '0', '0', '0', '0', '0', '1', '0', '0', '0', '44', '2', '0', '3', '0', '0', '0', '1', '0', '0', '1', '2', '2', '0', '4', '0', '24', '0', '5.1k', '40', '0', '0', '0', '1', '3', None, '0', '0', '2', '61', '2', '0', '14', '430', '0', '0', '0', '0', '0', '657', '2', '1', '0', '2', '3', '0', '2', '0', '0', '0', '0', '0', '0', '0', '0', '0', '0', '0', '5', '27.2k', '55', '22.3k', '0', '0', '0', '440', '0', None, None, None, None, None, None, None, None, None, None, None, None, None, None, None, None, None, None, None, None, None, None, None, None, None, None, None, None, None, None, None, None, None, None, None, None, None, None, None, None, None, None, None, None, None, None, None, None, None, None, None, None, None, None, None, None, None, None, None, None, None, None, None, None, None, None, None, None, None, None, None, None, None, None, None, None, None, None, None, None, None, None, None, None, None, None, None, None, None, None, None, None, None, None, None, None, None, None, None, None, None, None, None, None, None, None, None, None, None, None, None, None, None, None, None, None, None, None, None, None, None, None, None, None, None, None, None, None, None, None, None, None, None, None, None, None, None, None, None, None, None, None, None, None, None, None, None, None, None, None, None, None, None, None, None, None, None, None, None, None, None, None, None, None, None, None, None, None, None, None, None, None, None, None, None, None, None, None, None, None, None, None, None, None, None, None, None, None, None, None, None, None, None, None, None, None, None, None, None, None, None, None, None, None, None, None, None, None, None, None, None, None, None, None, None, None, None, None, None, None, None, None, None, None, None, None, None, None, None, None, None, None, None, None, None, None, None, None, None, None, None, None, None, None, None, None, None, None, None, None, None, None, None, None, None, None, None, None, None, None, None, None, None, None, None, None, None, None, None, None, None, None, None, None, None, None, None, None, None, None, None, None, None, None, None, None, None, None, None, None, None, None, None, None, None, None, None, None, None, None, None, None, None, None, None, None, None, None, None, None, None, None, None, None, None, None, None, None, None, None, None, None, None, None, None, None, None, None, None, None, None, None, None, None, None, None, None, None, None, None, None, None, None, None, None, None, None, None, None, None, None, None, None, None, None, None, None, None, None, None, None, None, None, None, None, None, None, None, None, None, None, None, None, None, None, None, None, None, None, None, None, None, None, None, None, None, None, None, None, None, None, None, None, None, None, None, None, None, None, None, None, None, None, None, None, None, None, None, None, None, None, None, None, None, None, None, None, None, None, None, None, None, None, None, None, None, None, None, None, None, None, None, None, '1', '0', '0', '0', '0', '0', '0', '0', '0', '2.2k', '56', '0', '0', '0', '0', '0', '0', '0', '0', '0', '11', '5', '0', '0', '0', '0', '0', '0', '0', '19', '1', '0', '0', '1', '0', '216', '0', '15', '0', '0', '0', '0', '25', '0', '0', '0', '0', '0', '2', '0', '0', '0', '1', '0', '0', '0', '0', '58.4k', '0', '0', '0', '0', '0', '0', '0', '0', '0', '0', '391', '0', '1', '0', '0', '0', '1.5k', '1', None, None, None, None, None, None, None, None, None, None, None, None, None, None, None, None, None, None, None, None, None, None, None, None, None, None, None, None, None, None, None, None, None, None, None, None, None, None, None, None, None, None, None, None, None, None, None, None, None, None, None, None, None, None, None, None, None, None, None, None, None, None, None, None, None, None, None, None, None, None, None, None, None, None, None, None, None, None, None, None, None, None, None, None, None, None, None, None, None, None, None, None, None, None, None, None, None, None, None, None, None, None, None, None, None, None, None, None, None, None, None, None, None, None, None, None, None, None, None, None, None, None, None, None, None, None, None, None, None, None, None, None, None, None, '0', '0', '0', '1', '0', '0', '0', '0', '0', '0', None, None, None, None, None, None, None, None, None, None, None, None, None, None, None, None, None, None, None, None, None, None, None, None, None, None, None, None, None, None, None, None, None, None, None, None, None, None, None, None, None, None, None, None, None, None, None, None, None, None, None, None, None, None, None, None, None, None, None, None, None, None, None, None, None, None, None, None, None, None, None, None, None, None, None, None, None, None, None, None, None, None, None, None, None, None, None, None, None, None, None, None, None, None, None, None, None, None, None, None, None, None, None, None, None, None, None, None, None, None, None, None, None, None]\n"
     ]
    }
   ],
   "source": [
    "#3rd try\n",
    "slugs = df_star_na_2[\"slug\"]\n",
    "star = []\n",
    "for slug in slugs:\n",
    "    url =f'https://github.com/{slug}/'\n",
    "    star.append(stars_count(url))\n",
    "print(star)"
   ]
  },
  {
   "cell_type": "code",
   "execution_count": 353,
   "metadata": {},
   "outputs": [],
   "source": [
    "#fill in na's with newly scrapped data\n",
    "df_star_na_2 = df_star_na_2.drop(columns = \"stars\")\n",
    "df_star_na_2[\"stars\"] = star\n"
   ]
  },
  {
   "cell_type": "code",
   "execution_count": 354,
   "metadata": {},
   "outputs": [
    {
     "name": "stdout",
     "output_type": "stream",
     "text": [
      "(1013, 11)\n"
     ]
    }
   ],
   "source": [
    "#save repos with valid star numbers \n",
    "df_star_3 = df_star_na_2.dropna(subset=[\"stars\"])\n",
    "print(df_star_3.shape) "
   ]
  },
  {
   "cell_type": "code",
   "execution_count": null,
   "metadata": {},
   "outputs": [],
   "source": [
    "\n",
    "#df_star_na_2 = df_star_na[df_star_na[\"stars\"].isna()]\n",
    "#print(df_star_na_2.shape) \n",
    "#print(6096/7397) #82 percent repos have na's on the second round of tries comparing to the first round\n",
    "#print(6096/8776) #69 percent repos have na's on the second round of tries comparing to the original\n"
   ]
  },
  {
   "cell_type": "code",
   "execution_count": 357,
   "metadata": {},
   "outputs": [
    {
     "data": {
      "text/plain": [
       "(8776, 11)"
      ]
     },
     "execution_count": 357,
     "metadata": {},
     "output_type": "execute_result"
    }
   ],
   "source": [
    "frames = [df_star, df_star_2, df_star_na_2]\n",
    "df_final = pd.concat(frames)\n",
    "df_final.shape"
   ]
  },
  {
   "cell_type": "code",
   "execution_count": 358,
   "metadata": {},
   "outputs": [],
   "source": [
    "df_final.to_csv(r'/home/zz3hs/git/dspg21oss/output/repo_slugs_stars_commits_bt_10000_20000_clean.csv', index = False)"
   ]
  },
  {
   "cell_type": "code",
   "execution_count": 360,
   "metadata": {},
   "outputs": [
    {
     "name": "stdout",
     "output_type": "stream",
     "text": [
      "                                 id        spdx  \\\n",
      "0  MDEwOlJlcG9zaXRvcnkxODA1NjY0NzE=  Apache-2.0   \n",
      "1  MDEwOlJlcG9zaXRvcnkxMzQyMzY5NTk=  Apache-2.0   \n",
      "2  MDEwOlJlcG9zaXRvcnk1OTc5OTQxOQ==  Apache-2.0   \n",
      "3  MDEwOlJlcG9zaXRvcnkzMDkxNTc1MDI=  Apache-2.0   \n",
      "4  MDEwOlJlcG9zaXRvcnkxOTYwNTU3Nw==  Apache-2.0   \n",
      "\n",
      "                            slug            createdat  \\\n",
      "0  kderme/spark-memory-simulator  2019-04-10 11:22:43   \n",
      "1     zhangyineng/pentaho_kettle  2018-05-21 07:55:12   \n",
      "2          zorba-processor/zorba  2016-05-27 02:56:03   \n",
      "3                  jsoniq/jsoniq  2020-11-01 18:08:05   \n",
      "4                   28msec/zorba  2014-05-09 09:13:04   \n",
      "\n",
      "                       description primarylanguage  \\\n",
      "0                              NaN           Scala   \n",
      "1                              NaN            Java   \n",
      "2      Zorba - the NoSQL processor             C++   \n",
      "3  JSONiq: The JSON Query Language             C++   \n",
      "4  JSONiq & XQuery Query Processor             C++   \n",
      "\n",
      "                                             branch  commits  \\\n",
      "0  MDM6UmVmMTgwNTY2NDcxOnJlZnMvaGVhZHMvU2ltdWxhdG9y    19996   \n",
      "1      MDM6UmVmMTM0MjM2OTU5OnJlZnMvaGVhZHMvbWFzdGVy    19995   \n",
      "2      MDM6UmVmNTk3OTk0MTk6cmVmcy9oZWFkcy9tYXN0ZXI=    19995   \n",
      "3      MDM6UmVmMzA5MTU3NTAyOnJlZnMvaGVhZHMvbWFzdGVy    19994   \n",
      "4      MDM6UmVmMTk2MDU1Nzc6cmVmcy9oZWFkcy9tYXN0ZXI=    19994   \n",
      "\n",
      "                  asof status stars  \n",
      "0  2021-01-03 21:47:19   Init     0  \n",
      "1  2021-01-03 20:15:13   Init     0  \n",
      "2  2021-01-03 14:36:17   Init    29  \n",
      "3  2021-01-03 18:40:48   Init     0  \n",
      "4  2021-01-03 15:58:09   Init   113  \n",
      "(3693, 11)\n"
     ]
    }
   ],
   "source": [
    "print(df_final.head())\n",
    "#save repos with valid star numbers \n",
    "check = df_final.dropna(subset=[\"stars\"])\n",
    "print(check.shape) "
   ]
  },
  {
   "cell_type": "code",
   "execution_count": null,
   "metadata": {},
   "outputs": [],
   "source": []
  }
 ],
 "metadata": {
  "kernelspec": {
   "display_name": "Python [conda env:.conda-crystal]",
   "language": "python",
   "name": "conda-env-.conda-crystal-py"
  },
  "language_info": {
   "codemirror_mode": {
    "name": "ipython",
    "version": 3
   },
   "file_extension": ".py",
   "mimetype": "text/x-python",
   "name": "python",
   "nbconvert_exporter": "python",
   "pygments_lexer": "ipython3",
   "version": "3.7.9"
  }
 },
 "nbformat": 4,
 "nbformat_minor": 4
}
