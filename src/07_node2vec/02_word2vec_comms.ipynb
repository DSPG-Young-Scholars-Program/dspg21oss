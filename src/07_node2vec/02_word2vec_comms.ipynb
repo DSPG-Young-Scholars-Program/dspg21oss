{
 "cells": [
  {
   "cell_type": "code",
   "execution_count": null,
   "metadata": {},
   "outputs": [],
   "source": [
    "# import packages \n",
    "\n",
    "\n",
    "# import data \n",
    "\n",
    "\n"
   ]
  },
  {
   "cell_type": "code",
   "execution_count": null,
   "metadata": {},
   "outputs": [],
   "source": [
    "df \n",
    "df.groupby('a')['b'].apply(list)\n",
    "df1 = df.groupby('a')['b'].apply(list).reset_index(name='new')\n",
    "df1 "
   ]
  },
  {
   "cell_type": "markdown",
   "metadata": {},
   "source": [
    "# https://stackoverflow.com/questions/22219004/how-to-group-dataframe-rows-into-list-in-pandas-groupby\n",
    "\n",
    "take pandas df and convert second column to lists \n",
    "then combine all of the lists \n",
    "and feed that to the word2vec model \n",
    "\n",
    "word2vec for communinity embeddings (https://machinelearningmastery.com/develop-word-embeddings-python-gensim/) \n",
    "-- https://github.com/CSSLab/Political-Subreddit-Embedding / http://csslab.cs.toronto.edu/gs/actdiv-www2019.pdf / http://csslab.cs.toronto.edu/gs/#\n",
    "\n",
    "\n",
    "\n",
    "Is it possible (or even interesting) to do analogies for GitHub?\n",
    "For example, is dplyr - R + Python = pandas? \n",
    "http://csslab.cs.toronto.edu/gs/actdiv-www2019.pdf\n",
    "\n"
   ]
  },
  {
   "cell_type": "code",
   "execution_count": null,
   "metadata": {},
   "outputs": [],
   "source": []
  }
 ],
 "metadata": {
  "kernelspec": {
   "display_name": "brandon_env",
   "language": "python",
   "name": "brandon_env"
  },
  "language_info": {
   "codemirror_mode": {
    "name": "ipython",
    "version": 3
   },
   "file_extension": ".py",
   "mimetype": "text/x-python",
   "name": "python",
   "nbconvert_exporter": "python",
   "pygments_lexer": "ipython3",
   "version": "3.9.2"
  }
 },
 "nbformat": 4,
 "nbformat_minor": 4
}
